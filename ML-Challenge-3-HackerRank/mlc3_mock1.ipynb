{
 "cells": [
  {
   "cell_type": "markdown",
   "metadata": {},
   "source": [
    "# Desrciption"
   ]
  },
  {
   "cell_type": "markdown",
   "metadata": {},
   "source": [
    "A leading affiliate network company from Europe wants to leverage machine learning to improve (optimise) their conversion rates and eventually their topline. Their network is spread across multiple countries in europe such as Portugal, Germany, France, Austria, Switzerland etc.\n",
    "\n",
    "Affiliate network is a form of online marketing channel where an intermediary promotes products / services and earns commission based on conversions (click or sign up). The benefit companies sees in using such affiliate channels is that, they are able to reach to audience which doesn’t exist in their marketing reach.\n",
    "\n",
    "The company wants to improve their CPC (cost per click) performance. A future insight about an ad performance will give them enough headstart to make changes (if necessary) in their upcoming CPC campaigns.\n",
    "\n",
    "In this challenge, you have to predict the probability whether an ad will get clicked or not.\n",
    "\n",
    "    Variable-----Description\n",
    "          ID-----Unique  ID\n",
    "    datetime-----timestamp\n",
    "    siteid-------website id\n",
    "    offerid------offer id (commission based offers)\n",
    "    category-----offer category\n",
    "    merchant-----seller ID\n",
    "    countrycode--country where affiliates reach is present\n",
    "    browserid----browser used\n",
    "        devid----device used\n",
    "        click----target variable"
   ]
  },
  {
   "cell_type": "markdown",
   "metadata": {},
   "source": [
    "## -----------------------------------------Data preprocessing--------------------------------------------------------"
   ]
  },
  {
   "cell_type": "code",
   "execution_count": 27,
   "metadata": {
    "collapsed": true
   },
   "outputs": [],
   "source": [
    "graphlab.canvas.set_target('ipynb')"
   ]
  },
  {
   "cell_type": "code",
   "execution_count": 10,
   "metadata": {
    "collapsed": true
   },
   "outputs": [],
   "source": [
    "#remove columns with empty or null values\n",
    "\n",
    "import pandas as pd\n",
    "from pandas import read_csv\n",
    "dataset = read_csv('train.csv', header=None)\n",
    "dataset = dataset.dropna(axis=0,subset=[7])\n",
    "dataset = dataset.dropna(axis=0,subset=[8])"
   ]
  },
  {
   "cell_type": "code",
   "execution_count": 22,
   "metadata": {
    "collapsed": true
   },
   "outputs": [],
   "source": [
    "#export the file without null values\n",
    "dataset.to_csv('train_wnull.csv', index = False, header = False)"
   ]
  },
  {
   "cell_type": "code",
   "execution_count": 23,
   "metadata": {},
   "outputs": [
    {
     "data": {
      "text/html": [
       "<pre>Finished parsing file C:\\Users\\Mukesh\\MLC3\\train_wnull.csv</pre>"
      ],
      "text/plain": [
       "Finished parsing file C:\\Users\\Mukesh\\MLC3\\train_wnull.csv"
      ]
     },
     "metadata": {},
     "output_type": "display_data"
    },
    {
     "data": {
      "text/html": [
       "<pre>Parsing completed. Parsed 100 lines in 0.884458 secs.</pre>"
      ],
      "text/plain": [
       "Parsing completed. Parsed 100 lines in 0.884458 secs."
      ]
     },
     "metadata": {},
     "output_type": "display_data"
    },
    {
     "name": "stdout",
     "output_type": "stream",
     "text": [
      "------------------------------------------------------\n",
      "Inferred types from first 100 line(s) of file as \n",
      "column_type_hints=[str,str,long,long,long,long,str,str,str,long]\n",
      "If parsing fails due to incorrect types, you can correct\n",
      "the inferred type list above and pass it to read_csv in\n",
      "the column_type_hints argument\n",
      "------------------------------------------------------\n"
     ]
    },
    {
     "data": {
      "text/html": [
       "<pre>Read 644084 lines. Lines per second: 748217</pre>"
      ],
      "text/plain": [
       "Read 644084 lines. Lines per second: 748217"
      ]
     },
     "metadata": {},
     "output_type": "display_data"
    },
    {
     "data": {
      "text/html": [
       "<pre>Read 7073594 lines. Lines per second: 1.13165e+006</pre>"
      ],
      "text/plain": [
       "Read 7073594 lines. Lines per second: 1.13165e+006"
      ]
     },
     "metadata": {},
     "output_type": "display_data"
    },
    {
     "data": {
      "text/html": [
       "<pre>Finished parsing file C:\\Users\\Mukesh\\MLC3\\train_wnull.csv</pre>"
      ],
      "text/plain": [
       "Finished parsing file C:\\Users\\Mukesh\\MLC3\\train_wnull.csv"
      ]
     },
     "metadata": {},
     "output_type": "display_data"
    },
    {
     "data": {
      "text/html": [
       "<pre>Parsing completed. Parsed 9800581 lines in 8.49972 secs.</pre>"
      ],
      "text/plain": [
       "Parsing completed. Parsed 9800581 lines in 8.49972 secs."
      ]
     },
     "metadata": {},
     "output_type": "display_data"
    }
   ],
   "source": [
    "#read the file without null values in sframe\n",
    "import graphlab\n",
    "dataset_train = graphlab.SFrame('train_wnull.csv')"
   ]
  },
  {
   "cell_type": "code",
   "execution_count": 25,
   "metadata": {},
   "outputs": [
    {
     "data": {
      "text/html": [
       "<div style=\"max-height:1000px;max-width:1500px;overflow:auto;\"><table frame=\"box\" rules=\"cols\">\n",
       "    <tr>\n",
       "        <th style=\"padding-left: 1em; padding-right: 1em; text-align: center\">ID</th>\n",
       "        <th style=\"padding-left: 1em; padding-right: 1em; text-align: center\">datetime</th>\n",
       "        <th style=\"padding-left: 1em; padding-right: 1em; text-align: center\">siteid</th>\n",
       "        <th style=\"padding-left: 1em; padding-right: 1em; text-align: center\">offerid</th>\n",
       "        <th style=\"padding-left: 1em; padding-right: 1em; text-align: center\">category</th>\n",
       "        <th style=\"padding-left: 1em; padding-right: 1em; text-align: center\">merchant</th>\n",
       "        <th style=\"padding-left: 1em; padding-right: 1em; text-align: center\">countrycode</th>\n",
       "        <th style=\"padding-left: 1em; padding-right: 1em; text-align: center\">browserid</th>\n",
       "        <th style=\"padding-left: 1em; padding-right: 1em; text-align: center\">devid</th>\n",
       "    </tr>\n",
       "    <tr>\n",
       "        <td style=\"padding-left: 1em; padding-right: 1em; text-align: center; vertical-align: top\">IDmMSxHur</td>\n",
       "        <td style=\"padding-left: 1em; padding-right: 1em; text-align: center; vertical-align: top\">2017-01-18 17:50:53</td>\n",
       "        <td style=\"padding-left: 1em; padding-right: 1em; text-align: center; vertical-align: top\">5189467</td>\n",
       "        <td style=\"padding-left: 1em; padding-right: 1em; text-align: center; vertical-align: top\">178235</td>\n",
       "        <td style=\"padding-left: 1em; padding-right: 1em; text-align: center; vertical-align: top\">21407</td>\n",
       "        <td style=\"padding-left: 1em; padding-right: 1em; text-align: center; vertical-align: top\">9434818</td>\n",
       "        <td style=\"padding-left: 1em; padding-right: 1em; text-align: center; vertical-align: top\">b</td>\n",
       "        <td style=\"padding-left: 1em; padding-right: 1em; text-align: center; vertical-align: top\">Mozilla Firefox</td>\n",
       "        <td style=\"padding-left: 1em; padding-right: 1em; text-align: center; vertical-align: top\">Desktop</td>\n",
       "    </tr>\n",
       "    <tr>\n",
       "        <td style=\"padding-left: 1em; padding-right: 1em; text-align: center; vertical-align: top\">ID32T6wwQ</td>\n",
       "        <td style=\"padding-left: 1em; padding-right: 1em; text-align: center; vertical-align: top\">2017-01-17 10:18:43</td>\n",
       "        <td style=\"padding-left: 1em; padding-right: 1em; text-align: center; vertical-align: top\">8896401</td>\n",
       "        <td style=\"padding-left: 1em; padding-right: 1em; text-align: center; vertical-align: top\">390352</td>\n",
       "        <td style=\"padding-left: 1em; padding-right: 1em; text-align: center; vertical-align: top\">40339</td>\n",
       "        <td style=\"padding-left: 1em; padding-right: 1em; text-align: center; vertical-align: top\">72089744</td>\n",
       "        <td style=\"padding-left: 1em; padding-right: 1em; text-align: center; vertical-align: top\">c</td>\n",
       "        <td style=\"padding-left: 1em; padding-right: 1em; text-align: center; vertical-align: top\">Firefox</td>\n",
       "        <td style=\"padding-left: 1em; padding-right: 1em; text-align: center; vertical-align: top\">Mobile</td>\n",
       "    </tr>\n",
       "    <tr>\n",
       "        <td style=\"padding-left: 1em; padding-right: 1em; text-align: center; vertical-align: top\">IDqUShzMg</td>\n",
       "        <td style=\"padding-left: 1em; padding-right: 1em; text-align: center; vertical-align: top\">2017-01-14 16:02:33</td>\n",
       "        <td style=\"padding-left: 1em; padding-right: 1em; text-align: center; vertical-align: top\">5635120</td>\n",
       "        <td style=\"padding-left: 1em; padding-right: 1em; text-align: center; vertical-align: top\">472937</td>\n",
       "        <td style=\"padding-left: 1em; padding-right: 1em; text-align: center; vertical-align: top\">12052</td>\n",
       "        <td style=\"padding-left: 1em; padding-right: 1em; text-align: center; vertical-align: top\">39507200</td>\n",
       "        <td style=\"padding-left: 1em; padding-right: 1em; text-align: center; vertical-align: top\">d</td>\n",
       "        <td style=\"padding-left: 1em; padding-right: 1em; text-align: center; vertical-align: top\">Mozilla Firefox</td>\n",
       "        <td style=\"padding-left: 1em; padding-right: 1em; text-align: center; vertical-align: top\">Desktop</td>\n",
       "    </tr>\n",
       "    <tr>\n",
       "        <td style=\"padding-left: 1em; padding-right: 1em; text-align: center; vertical-align: top\">IDjO9XQ1Z</td>\n",
       "        <td style=\"padding-left: 1em; padding-right: 1em; text-align: center; vertical-align: top\">2017-01-14 12:08:49</td>\n",
       "        <td style=\"padding-left: 1em; padding-right: 1em; text-align: center; vertical-align: top\">2729292</td>\n",
       "        <td style=\"padding-left: 1em; padding-right: 1em; text-align: center; vertical-align: top\">961176</td>\n",
       "        <td style=\"padding-left: 1em; padding-right: 1em; text-align: center; vertical-align: top\">33638</td>\n",
       "        <td style=\"padding-left: 1em; padding-right: 1em; text-align: center; vertical-align: top\">47079934</td>\n",
       "        <td style=\"padding-left: 1em; padding-right: 1em; text-align: center; vertical-align: top\">e</td>\n",
       "        <td style=\"padding-left: 1em; padding-right: 1em; text-align: center; vertical-align: top\">Google Chrome</td>\n",
       "        <td style=\"padding-left: 1em; padding-right: 1em; text-align: center; vertical-align: top\">Mobile</td>\n",
       "    </tr>\n",
       "    <tr>\n",
       "        <td style=\"padding-left: 1em; padding-right: 1em; text-align: center; vertical-align: top\">IDFnmhUgG</td>\n",
       "        <td style=\"padding-left: 1em; padding-right: 1em; text-align: center; vertical-align: top\">2017-01-13 05:58:13</td>\n",
       "        <td style=\"padding-left: 1em; padding-right: 1em; text-align: center; vertical-align: top\">7295565</td>\n",
       "        <td style=\"padding-left: 1em; padding-right: 1em; text-align: center; vertical-align: top\">144797</td>\n",
       "        <td style=\"padding-left: 1em; padding-right: 1em; text-align: center; vertical-align: top\">33638</td>\n",
       "        <td style=\"padding-left: 1em; padding-right: 1em; text-align: center; vertical-align: top\">23981625</td>\n",
       "        <td style=\"padding-left: 1em; padding-right: 1em; text-align: center; vertical-align: top\">b</td>\n",
       "        <td style=\"padding-left: 1em; padding-right: 1em; text-align: center; vertical-align: top\">Firefox</td>\n",
       "        <td style=\"padding-left: 1em; padding-right: 1em; text-align: center; vertical-align: top\">Mobile</td>\n",
       "    </tr>\n",
       "</table>\n",
       "<table frame=\"box\" rules=\"cols\">\n",
       "    <tr>\n",
       "        <th style=\"padding-left: 1em; padding-right: 1em; text-align: center\">click</th>\n",
       "    </tr>\n",
       "    <tr>\n",
       "        <td style=\"padding-left: 1em; padding-right: 1em; text-align: center; vertical-align: top\">0</td>\n",
       "    </tr>\n",
       "    <tr>\n",
       "        <td style=\"padding-left: 1em; padding-right: 1em; text-align: center; vertical-align: top\">0</td>\n",
       "    </tr>\n",
       "    <tr>\n",
       "        <td style=\"padding-left: 1em; padding-right: 1em; text-align: center; vertical-align: top\">0</td>\n",
       "    </tr>\n",
       "    <tr>\n",
       "        <td style=\"padding-left: 1em; padding-right: 1em; text-align: center; vertical-align: top\">0</td>\n",
       "    </tr>\n",
       "    <tr>\n",
       "        <td style=\"padding-left: 1em; padding-right: 1em; text-align: center; vertical-align: top\">0</td>\n",
       "    </tr>\n",
       "</table>\n",
       "[5 rows x 10 columns]<br/>\n",
       "</div>"
      ],
      "text/plain": [
       "Columns:\n",
       "\tID\tstr\n",
       "\tdatetime\tstr\n",
       "\tsiteid\tint\n",
       "\tofferid\tint\n",
       "\tcategory\tint\n",
       "\tmerchant\tint\n",
       "\tcountrycode\tstr\n",
       "\tbrowserid\tstr\n",
       "\tdevid\tstr\n",
       "\tclick\tint\n",
       "\n",
       "Rows: 5\n",
       "\n",
       "Data:\n",
       "+-----------+---------------------+---------+---------+----------+----------+-------------+\n",
       "|     ID    |       datetime      |  siteid | offerid | category | merchant | countrycode |\n",
       "+-----------+---------------------+---------+---------+----------+----------+-------------+\n",
       "| IDmMSxHur | 2017-01-18 17:50:53 | 5189467 |  178235 |  21407   | 9434818  |      b      |\n",
       "| ID32T6wwQ | 2017-01-17 10:18:43 | 8896401 |  390352 |  40339   | 72089744 |      c      |\n",
       "| IDqUShzMg | 2017-01-14 16:02:33 | 5635120 |  472937 |  12052   | 39507200 |      d      |\n",
       "| IDjO9XQ1Z | 2017-01-14 12:08:49 | 2729292 |  961176 |  33638   | 47079934 |      e      |\n",
       "| IDFnmhUgG | 2017-01-13 05:58:13 | 7295565 |  144797 |  33638   | 23981625 |      b      |\n",
       "+-----------+---------------------+---------+---------+----------+----------+-------------+\n",
       "+-----------------+---------+-------+\n",
       "|    browserid    |  devid  | click |\n",
       "+-----------------+---------+-------+\n",
       "| Mozilla Firefox | Desktop |   0   |\n",
       "|     Firefox     |  Mobile |   0   |\n",
       "| Mozilla Firefox | Desktop |   0   |\n",
       "|  Google Chrome  |  Mobile |   0   |\n",
       "|     Firefox     |  Mobile |   0   |\n",
       "+-----------------+---------+-------+\n",
       "[5 rows x 10 columns]"
      ]
     },
     "execution_count": 25,
     "metadata": {},
     "output_type": "execute_result"
    }
   ],
   "source": [
    "dataset_train.head(5)"
   ]
  },
  {
   "cell_type": "code",
   "execution_count": 28,
   "metadata": {},
   "outputs": [
    {
     "data": {
      "application/javascript": [
       "$(\"head\").append($(\"<link/>\").attr({\n",
       "  rel:  \"stylesheet\",\n",
       "  type: \"text/css\",\n",
       "  href: \"//cdnjs.cloudflare.com/ajax/libs/font-awesome/4.1.0/css/font-awesome.min.css\"\n",
       "}));\n",
       "$(\"head\").append($(\"<link/>\").attr({\n",
       "  rel:  \"stylesheet\",\n",
       "  type: \"text/css\",\n",
       "  href: \"https://static.turi.com/products/graphlab-create/2.1/canvas/css/canvas.css\"\n",
       "}));\n",
       "\n",
       "            (function(){\n",
       "\n",
       "                var e = null;\n",
       "                if (typeof element == 'undefined') {\n",
       "                    var scripts = document.getElementsByTagName('script');\n",
       "                    var thisScriptTag = scripts[scripts.length-1];\n",
       "                    var parentDiv = thisScriptTag.parentNode;\n",
       "                    e = document.createElement('div');\n",
       "                    parentDiv.appendChild(e);\n",
       "                } else {\n",
       "                    e = element[0];\n",
       "                }\n",
       "\n",
       "                if (typeof requirejs !== 'undefined') {\n",
       "                    // disable load timeout; ipython_app.js is large and can take a while to load.\n",
       "                    requirejs.config({waitSeconds: 0});\n",
       "                }\n",
       "\n",
       "                require(['https://static.turi.com/products/graphlab-create/2.1/canvas/js/ipython_app.js'], function(IPythonApp){\n",
       "                    var app = new IPythonApp();\n",
       "                    app.attachView('sarray','Categorical', {\"ipython\": true, \"sketch\": {\"std\": 0.1862730892896649, \"complete\": true, \"min\": 0.0, \"max\": 1.0, \"quantile\": [0.0, 0.0, 0.0, 0.0, 0.0, 0.0, 0.0, 0.0, 0.0, 0.0, 0.0, 0.0, 0.0, 0.0, 0.0, 0.0, 0.0, 0.0, 0.0, 0.0, 0.0, 0.0, 0.0, 0.0, 0.0, 0.0, 0.0, 0.0, 0.0, 0.0, 0.0, 0.0, 0.0, 0.0, 0.0, 0.0, 0.0, 0.0, 0.0, 0.0, 0.0, 0.0, 0.0, 0.0, 0.0, 0.0, 0.0, 0.0, 0.0, 0.0, 0.0, 0.0, 0.0, 0.0, 0.0, 0.0, 0.0, 0.0, 0.0, 0.0, 0.0, 0.0, 0.0, 0.0, 0.0, 0.0, 0.0, 0.0, 0.0, 0.0, 0.0, 0.0, 0.0, 0.0, 0.0, 0.0, 0.0, 0.0, 0.0, 0.0, 0.0, 0.0, 0.0, 0.0, 0.0, 0.0, 0.0, 0.0, 0.0, 0.0, 0.0, 0.0, 0.0, 0.0, 0.0, 0.0, 0.0, 1.0, 1.0, 1.0, 1.0], \"median\": 0.0, \"numeric\": true, \"num_unique\": 2, \"num_undefined\": 0, \"var\": 0.03469766379351547, \"progress\": 1.0, \"size\": 9800581, \"frequent_items\": {\"0\": {\"frequency\": 9447827, \"value\": 0}, \"1\": {\"frequency\": 352754, \"value\": 1}}, \"mean\": 0.035993172241523305}, \"selected_variable\": {\"name\": [\"<SArray>\"], \"dtype\": \"int\", \"view_component\": \"Categorical\", \"view_file\": \"sarray\", \"descriptives\": {\"rows\": 9800581}, \"type\": \"SArray\", \"view_components\": [\"Numeric\", \"Categorical\"]}, \"histogram\": {\"progress\": 1.0, \"histogram\": {\"max\": 1.0085200000000003, \"bins\": [9447827, 0, 0, 0, 0, 0, 0, 0, 0, 0, 0, 352754], \"min\": -0.005239999999999911}, \"min\": 0, \"complete\": 1, \"max\": 1}}, e);\n",
       "                });\n",
       "            })();\n",
       "        "
      ]
     },
     "metadata": {},
     "output_type": "display_data"
    }
   ],
   "source": [
    "dataset_train['click'].show(view = 'Categorical')"
   ]
  },
  {
   "cell_type": "code",
   "execution_count": 29,
   "metadata": {
    "collapsed": true
   },
   "outputs": [],
   "source": [
    "# assigning -1 to zero clicks and +1 to 1 click\n",
    "dataset_train[\"click_val\"]  = dataset_train[\"click\"].apply(lambda click:+1 if click ==1 else -1)\n",
    "dataset_train = dataset_train.remove_column('click')\n",
    "#one way to to combat class imbalance is to undersample the larger class \n",
    "#until the class distribution is approximately half and half.\n",
    "# Here we will undersample the larger class(no clicks)\n",
    "\n",
    "#find the ratio of sizes and use that percentage to undersample no clicks\n",
    "clicks_raw = dataset_train[dataset_train[\"click_val\"]==+1]\n",
    "no_clicks_raw = dataset_train[dataset_train[\"click_val\"]==-1]\n",
    "percentage = len(clicks_raw)/float(len(no_clicks_raw))\n",
    "clicks = clicks_raw\n",
    "no_clicks = no_clicks_raw.sample(percentage)\n",
    "\n",
    "ads_data_sampled = clicks.append(no_clicks)"
   ]
  },
  {
   "cell_type": "code",
   "execution_count": 30,
   "metadata": {},
   "outputs": [
    {
     "data": {
      "application/javascript": [
       "$(\"head\").append($(\"<link/>\").attr({\n",
       "  rel:  \"stylesheet\",\n",
       "  type: \"text/css\",\n",
       "  href: \"//cdnjs.cloudflare.com/ajax/libs/font-awesome/4.1.0/css/font-awesome.min.css\"\n",
       "}));\n",
       "$(\"head\").append($(\"<link/>\").attr({\n",
       "  rel:  \"stylesheet\",\n",
       "  type: \"text/css\",\n",
       "  href: \"https://static.turi.com/products/graphlab-create/2.1/canvas/css/canvas.css\"\n",
       "}));\n",
       "\n",
       "            (function(){\n",
       "\n",
       "                var e = null;\n",
       "                if (typeof element == 'undefined') {\n",
       "                    var scripts = document.getElementsByTagName('script');\n",
       "                    var thisScriptTag = scripts[scripts.length-1];\n",
       "                    var parentDiv = thisScriptTag.parentNode;\n",
       "                    e = document.createElement('div');\n",
       "                    parentDiv.appendChild(e);\n",
       "                } else {\n",
       "                    e = element[0];\n",
       "                }\n",
       "\n",
       "                if (typeof requirejs !== 'undefined') {\n",
       "                    // disable load timeout; ipython_app.js is large and can take a while to load.\n",
       "                    requirejs.config({waitSeconds: 0});\n",
       "                }\n",
       "\n",
       "                require(['https://static.turi.com/products/graphlab-create/2.1/canvas/js/ipython_app.js'], function(IPythonApp){\n",
       "                    var app = new IPythonApp();\n",
       "                    app.attachView('sarray','Categorical', {\"ipython\": true, \"sketch\": {\"std\": 0.9999999994686344, \"complete\": true, \"min\": -1.0, \"max\": 1.0, \"quantile\": [-1.0, -1.0, -1.0, -1.0, -1.0, -1.0, -1.0, -1.0, -1.0, -1.0, -1.0, -1.0, -1.0, -1.0, -1.0, -1.0, -1.0, -1.0, -1.0, -1.0, -1.0, -1.0, -1.0, -1.0, -1.0, -1.0, -1.0, -1.0, -1.0, -1.0, -1.0, -1.0, -1.0, -1.0, -1.0, -1.0, -1.0, -1.0, -1.0, -1.0, -1.0, -1.0, -1.0, -1.0, -1.0, -1.0, -1.0, -1.0, -1.0, -1.0, 1.0, 1.0, 1.0, 1.0, 1.0, 1.0, 1.0, 1.0, 1.0, 1.0, 1.0, 1.0, 1.0, 1.0, 1.0, 1.0, 1.0, 1.0, 1.0, 1.0, 1.0, 1.0, 1.0, 1.0, 1.0, 1.0, 1.0, 1.0, 1.0, 1.0, 1.0, 1.0, 1.0, 1.0, 1.0, 1.0, 1.0, 1.0, 1.0, 1.0, 1.0, 1.0, 1.0, 1.0, 1.0, 1.0, 1.0, 1.0, 1.0, 1.0, 1.0], \"median\": 1.0, \"numeric\": true, \"num_unique\": 2, \"num_undefined\": 0, \"var\": 0.9999999989372689, \"progress\": 1.0, \"size\": 705531, \"frequent_items\": {\"1\": {\"frequency\": 352754, \"value\": 1}, \"-1\": {\"frequency\": 352777, \"value\": -1}}, \"mean\": -3.259955976411821e-05}, \"selected_variable\": {\"name\": [\"<SArray>\"], \"dtype\": \"int\", \"view_component\": \"Categorical\", \"view_file\": \"sarray\", \"descriptives\": {\"rows\": 705531}, \"type\": \"SArray\", \"view_components\": [\"Numeric\", \"Categorical\"]}, \"histogram\": {\"progress\": 1.0, \"histogram\": {\"max\": 1.0152400000000004, \"bins\": [352777, 0, 0, 0, 0, 0, 0, 0, 0, 0, 0, 352754], \"min\": -1.0122800000000165}, \"min\": -1, \"complete\": 1, \"max\": 1}}, e);\n",
       "                });\n",
       "            })();\n",
       "        "
      ]
     },
     "metadata": {},
     "output_type": "display_data"
    },
    {
     "name": "stdout",
     "output_type": "stream",
     "text": [
      "Percentage of clicks                 : 0.49998370022\n",
      "Percentage of no clicks                : 0.50001629978\n",
      "Total number of clicks in our new dataset : 705531\n"
     ]
    }
   ],
   "source": [
    "#check the number of data in our new undersampled set\n",
    "ads_data_sampled['click_val'].show(view = 'Categorical')\n",
    "\n",
    "print \"Percentage of clicks                 :\", len(clicks) / float(len(ads_data_sampled))\n",
    "print \"Percentage of no clicks                :\", len(no_clicks) / float(len(ads_data_sampled))\n",
    "print \"Total number of clicks in our new dataset :\", len(ads_data_sampled)"
   ]
  },
  {
   "cell_type": "code",
   "execution_count": 31,
   "metadata": {},
   "outputs": [
    {
     "data": {
      "text/html": [
       "<div style=\"max-height:1000px;max-width:1500px;overflow:auto;\"><table frame=\"box\" rules=\"cols\">\n",
       "    <tr>\n",
       "        <th style=\"padding-left: 1em; padding-right: 1em; text-align: center\">ID</th>\n",
       "        <th style=\"padding-left: 1em; padding-right: 1em; text-align: center\">datetime</th>\n",
       "        <th style=\"padding-left: 1em; padding-right: 1em; text-align: center\">siteid</th>\n",
       "        <th style=\"padding-left: 1em; padding-right: 1em; text-align: center\">offerid</th>\n",
       "        <th style=\"padding-left: 1em; padding-right: 1em; text-align: center\">category</th>\n",
       "        <th style=\"padding-left: 1em; padding-right: 1em; text-align: center\">merchant</th>\n",
       "        <th style=\"padding-left: 1em; padding-right: 1em; text-align: center\">countrycode</th>\n",
       "        <th style=\"padding-left: 1em; padding-right: 1em; text-align: center\">browserid</th>\n",
       "        <th style=\"padding-left: 1em; padding-right: 1em; text-align: center\">devid</th>\n",
       "    </tr>\n",
       "    <tr>\n",
       "        <td style=\"padding-left: 1em; padding-right: 1em; text-align: center; vertical-align: top\">IDU8ukCsv</td>\n",
       "        <td style=\"padding-left: 1em; padding-right: 1em; text-align: center; vertical-align: top\">2017-01-10 15:28:24</td>\n",
       "        <td style=\"padding-left: 1em; padding-right: 1em; text-align: center; vertical-align: top\">469603</td>\n",
       "        <td style=\"padding-left: 1em; padding-right: 1em; text-align: center; vertical-align: top\">385750</td>\n",
       "        <td style=\"padding-left: 1em; padding-right: 1em; text-align: center; vertical-align: top\">93286</td>\n",
       "        <td style=\"padding-left: 1em; padding-right: 1em; text-align: center; vertical-align: top\">7122654</td>\n",
       "        <td style=\"padding-left: 1em; padding-right: 1em; text-align: center; vertical-align: top\">a</td>\n",
       "        <td style=\"padding-left: 1em; padding-right: 1em; text-align: center; vertical-align: top\">Google Chrome</td>\n",
       "        <td style=\"padding-left: 1em; padding-right: 1em; text-align: center; vertical-align: top\">Mobile</td>\n",
       "    </tr>\n",
       "    <tr>\n",
       "        <td style=\"padding-left: 1em; padding-right: 1em; text-align: center; vertical-align: top\">IDfEQxvi3</td>\n",
       "        <td style=\"padding-left: 1em; padding-right: 1em; text-align: center; vertical-align: top\">2017-01-14 19:01:18</td>\n",
       "        <td style=\"padding-left: 1em; padding-right: 1em; text-align: center; vertical-align: top\">5369414</td>\n",
       "        <td style=\"padding-left: 1em; padding-right: 1em; text-align: center; vertical-align: top\">513860</td>\n",
       "        <td style=\"padding-left: 1em; padding-right: 1em; text-align: center; vertical-align: top\">27655</td>\n",
       "        <td style=\"padding-left: 1em; padding-right: 1em; text-align: center; vertical-align: top\">92826840</td>\n",
       "        <td style=\"padding-left: 1em; padding-right: 1em; text-align: center; vertical-align: top\">f</td>\n",
       "        <td style=\"padding-left: 1em; padding-right: 1em; text-align: center; vertical-align: top\">Google Chrome</td>\n",
       "        <td style=\"padding-left: 1em; padding-right: 1em; text-align: center; vertical-align: top\">Mobile</td>\n",
       "    </tr>\n",
       "    <tr>\n",
       "        <td style=\"padding-left: 1em; padding-right: 1em; text-align: center; vertical-align: top\">IDbF2aKjs</td>\n",
       "        <td style=\"padding-left: 1em; padding-right: 1em; text-align: center; vertical-align: top\">2017-01-11 19:21:58</td>\n",
       "        <td style=\"padding-left: 1em; padding-right: 1em; text-align: center; vertical-align: top\">6005717</td>\n",
       "        <td style=\"padding-left: 1em; padding-right: 1em; text-align: center; vertical-align: top\">956737</td>\n",
       "        <td style=\"padding-left: 1em; padding-right: 1em; text-align: center; vertical-align: top\">1678</td>\n",
       "        <td style=\"padding-left: 1em; padding-right: 1em; text-align: center; vertical-align: top\">60293830</td>\n",
       "        <td style=\"padding-left: 1em; padding-right: 1em; text-align: center; vertical-align: top\">f</td>\n",
       "        <td style=\"padding-left: 1em; padding-right: 1em; text-align: center; vertical-align: top\">InternetExplorer</td>\n",
       "        <td style=\"padding-left: 1em; padding-right: 1em; text-align: center; vertical-align: top\">Desktop</td>\n",
       "    </tr>\n",
       "    <tr>\n",
       "        <td style=\"padding-left: 1em; padding-right: 1em; text-align: center; vertical-align: top\">IDEgpeME8</td>\n",
       "        <td style=\"padding-left: 1em; padding-right: 1em; text-align: center; vertical-align: top\">2017-01-16 14:29:36</td>\n",
       "        <td style=\"padding-left: 1em; padding-right: 1em; text-align: center; vertical-align: top\">7979331</td>\n",
       "        <td style=\"padding-left: 1em; padding-right: 1em; text-align: center; vertical-align: top\">501647</td>\n",
       "        <td style=\"padding-left: 1em; padding-right: 1em; text-align: center; vertical-align: top\">68947</td>\n",
       "        <td style=\"padding-left: 1em; padding-right: 1em; text-align: center; vertical-align: top\">58321067</td>\n",
       "        <td style=\"padding-left: 1em; padding-right: 1em; text-align: center; vertical-align: top\">f</td>\n",
       "        <td style=\"padding-left: 1em; padding-right: 1em; text-align: center; vertical-align: top\">Mozilla</td>\n",
       "        <td style=\"padding-left: 1em; padding-right: 1em; text-align: center; vertical-align: top\">Desktop</td>\n",
       "    </tr>\n",
       "    <tr>\n",
       "        <td style=\"padding-left: 1em; padding-right: 1em; text-align: center; vertical-align: top\">ID0SqwVVC</td>\n",
       "        <td style=\"padding-left: 1em; padding-right: 1em; text-align: center; vertical-align: top\">2017-01-17 00:04:53</td>\n",
       "        <td style=\"padding-left: 1em; padding-right: 1em; text-align: center; vertical-align: top\">2092870</td>\n",
       "        <td style=\"padding-left: 1em; padding-right: 1em; text-align: center; vertical-align: top\">400635</td>\n",
       "        <td style=\"padding-left: 1em; padding-right: 1em; text-align: center; vertical-align: top\">43897</td>\n",
       "        <td style=\"padding-left: 1em; padding-right: 1em; text-align: center; vertical-align: top\">46512126</td>\n",
       "        <td style=\"padding-left: 1em; padding-right: 1em; text-align: center; vertical-align: top\">c</td>\n",
       "        <td style=\"padding-left: 1em; padding-right: 1em; text-align: center; vertical-align: top\">Firefox</td>\n",
       "        <td style=\"padding-left: 1em; padding-right: 1em; text-align: center; vertical-align: top\">Mobile</td>\n",
       "    </tr>\n",
       "</table>\n",
       "<table frame=\"box\" rules=\"cols\">\n",
       "    <tr>\n",
       "        <th style=\"padding-left: 1em; padding-right: 1em; text-align: center\">click_val</th>\n",
       "    </tr>\n",
       "    <tr>\n",
       "        <td style=\"padding-left: 1em; padding-right: 1em; text-align: center; vertical-align: top\">1</td>\n",
       "    </tr>\n",
       "    <tr>\n",
       "        <td style=\"padding-left: 1em; padding-right: 1em; text-align: center; vertical-align: top\">1</td>\n",
       "    </tr>\n",
       "    <tr>\n",
       "        <td style=\"padding-left: 1em; padding-right: 1em; text-align: center; vertical-align: top\">1</td>\n",
       "    </tr>\n",
       "    <tr>\n",
       "        <td style=\"padding-left: 1em; padding-right: 1em; text-align: center; vertical-align: top\">1</td>\n",
       "    </tr>\n",
       "    <tr>\n",
       "        <td style=\"padding-left: 1em; padding-right: 1em; text-align: center; vertical-align: top\">1</td>\n",
       "    </tr>\n",
       "</table>\n",
       "[5 rows x 10 columns]<br/>\n",
       "</div>"
      ],
      "text/plain": [
       "Columns:\n",
       "\tID\tstr\n",
       "\tdatetime\tstr\n",
       "\tsiteid\tint\n",
       "\tofferid\tint\n",
       "\tcategory\tint\n",
       "\tmerchant\tint\n",
       "\tcountrycode\tstr\n",
       "\tbrowserid\tstr\n",
       "\tdevid\tstr\n",
       "\tclick_val\tint\n",
       "\n",
       "Rows: 5\n",
       "\n",
       "Data:\n",
       "+-----------+---------------------+---------+---------+----------+----------+-------------+\n",
       "|     ID    |       datetime      |  siteid | offerid | category | merchant | countrycode |\n",
       "+-----------+---------------------+---------+---------+----------+----------+-------------+\n",
       "| IDU8ukCsv | 2017-01-10 15:28:24 |  469603 |  385750 |  93286   | 7122654  |      a      |\n",
       "| IDfEQxvi3 | 2017-01-14 19:01:18 | 5369414 |  513860 |  27655   | 92826840 |      f      |\n",
       "| IDbF2aKjs | 2017-01-11 19:21:58 | 6005717 |  956737 |   1678   | 60293830 |      f      |\n",
       "| IDEgpeME8 | 2017-01-16 14:29:36 | 7979331 |  501647 |  68947   | 58321067 |      f      |\n",
       "| ID0SqwVVC | 2017-01-17 00:04:53 | 2092870 |  400635 |  43897   | 46512126 |      c      |\n",
       "+-----------+---------------------+---------+---------+----------+----------+-------------+\n",
       "+------------------+---------+-----------+\n",
       "|    browserid     |  devid  | click_val |\n",
       "+------------------+---------+-----------+\n",
       "|  Google Chrome   |  Mobile |     1     |\n",
       "|  Google Chrome   |  Mobile |     1     |\n",
       "| InternetExplorer | Desktop |     1     |\n",
       "|     Mozilla      | Desktop |     1     |\n",
       "|     Firefox      |  Mobile |     1     |\n",
       "+------------------+---------+-----------+\n",
       "[5 rows x 10 columns]"
      ]
     },
     "execution_count": 31,
     "metadata": {},
     "output_type": "execute_result"
    }
   ],
   "source": [
    "ads_data_sampled.head(5)"
   ]
  },
  {
   "cell_type": "code",
   "execution_count": 32,
   "metadata": {
    "collapsed": true
   },
   "outputs": [],
   "source": [
    "# export the file after undersampling\n",
    "ads_data_sampled.export_csv('train_preprocessed.csv')"
   ]
  },
  {
   "cell_type": "markdown",
   "metadata": {},
   "source": [
    "## -------------------------------------------------Training------------------------------------------------------------------"
   ]
  },
  {
   "cell_type": "code",
   "execution_count": 33,
   "metadata": {},
   "outputs": [
    {
     "data": {
      "text/html": [
       "<pre>Finished parsing file C:\\Users\\Mukesh\\MLC3\\train_preprocessed.csv</pre>"
      ],
      "text/plain": [
       "Finished parsing file C:\\Users\\Mukesh\\MLC3\\train_preprocessed.csv"
      ]
     },
     "metadata": {},
     "output_type": "display_data"
    },
    {
     "data": {
      "text/html": [
       "<pre>Parsing completed. Parsed 100 lines in 0.88736 secs.</pre>"
      ],
      "text/plain": [
       "Parsing completed. Parsed 100 lines in 0.88736 secs."
      ]
     },
     "metadata": {},
     "output_type": "display_data"
    },
    {
     "name": "stdout",
     "output_type": "stream",
     "text": [
      "------------------------------------------------------\n",
      "Inferred types from first 100 line(s) of file as \n",
      "column_type_hints=[str,str,long,long,long,long,str,str,str,long]\n",
      "If parsing fails due to incorrect types, you can correct\n",
      "the inferred type list above and pass it to read_csv in\n",
      "the column_type_hints argument\n",
      "------------------------------------------------------\n"
     ]
    },
    {
     "data": {
      "text/html": [
       "<pre>Read 637421 lines. Lines per second: 794163</pre>"
      ],
      "text/plain": [
       "Read 637421 lines. Lines per second: 794163"
      ]
     },
     "metadata": {},
     "output_type": "display_data"
    },
    {
     "data": {
      "text/html": [
       "<pre>Finished parsing file C:\\Users\\Mukesh\\MLC3\\train_preprocessed.csv</pre>"
      ],
      "text/plain": [
       "Finished parsing file C:\\Users\\Mukesh\\MLC3\\train_preprocessed.csv"
      ]
     },
     "metadata": {},
     "output_type": "display_data"
    },
    {
     "data": {
      "text/html": [
       "<pre>Parsing completed. Parsed 705531 lines in 0.854774 secs.</pre>"
      ],
      "text/plain": [
       "Parsing completed. Parsed 705531 lines in 0.854774 secs."
      ]
     },
     "metadata": {},
     "output_type": "display_data"
    }
   ],
   "source": [
    "ads_training_data = graphlab.SFrame('train_preprocessed.csv')"
   ]
  },
  {
   "cell_type": "code",
   "execution_count": 34,
   "metadata": {},
   "outputs": [
    {
     "data": {
      "text/html": [
       "<div style=\"max-height:1000px;max-width:1500px;overflow:auto;\"><table frame=\"box\" rules=\"cols\">\n",
       "    <tr>\n",
       "        <th style=\"padding-left: 1em; padding-right: 1em; text-align: center\">ID</th>\n",
       "        <th style=\"padding-left: 1em; padding-right: 1em; text-align: center\">datetime</th>\n",
       "        <th style=\"padding-left: 1em; padding-right: 1em; text-align: center\">siteid</th>\n",
       "        <th style=\"padding-left: 1em; padding-right: 1em; text-align: center\">offerid</th>\n",
       "        <th style=\"padding-left: 1em; padding-right: 1em; text-align: center\">category</th>\n",
       "        <th style=\"padding-left: 1em; padding-right: 1em; text-align: center\">merchant</th>\n",
       "        <th style=\"padding-left: 1em; padding-right: 1em; text-align: center\">countrycode</th>\n",
       "        <th style=\"padding-left: 1em; padding-right: 1em; text-align: center\">browserid</th>\n",
       "        <th style=\"padding-left: 1em; padding-right: 1em; text-align: center\">devid</th>\n",
       "    </tr>\n",
       "    <tr>\n",
       "        <td style=\"padding-left: 1em; padding-right: 1em; text-align: center; vertical-align: top\">IDU8ukCsv</td>\n",
       "        <td style=\"padding-left: 1em; padding-right: 1em; text-align: center; vertical-align: top\">2017-01-10 15:28:24</td>\n",
       "        <td style=\"padding-left: 1em; padding-right: 1em; text-align: center; vertical-align: top\">469603</td>\n",
       "        <td style=\"padding-left: 1em; padding-right: 1em; text-align: center; vertical-align: top\">385750</td>\n",
       "        <td style=\"padding-left: 1em; padding-right: 1em; text-align: center; vertical-align: top\">93286</td>\n",
       "        <td style=\"padding-left: 1em; padding-right: 1em; text-align: center; vertical-align: top\">7122654</td>\n",
       "        <td style=\"padding-left: 1em; padding-right: 1em; text-align: center; vertical-align: top\">a</td>\n",
       "        <td style=\"padding-left: 1em; padding-right: 1em; text-align: center; vertical-align: top\">Google Chrome</td>\n",
       "        <td style=\"padding-left: 1em; padding-right: 1em; text-align: center; vertical-align: top\">Mobile</td>\n",
       "    </tr>\n",
       "    <tr>\n",
       "        <td style=\"padding-left: 1em; padding-right: 1em; text-align: center; vertical-align: top\">IDfEQxvi3</td>\n",
       "        <td style=\"padding-left: 1em; padding-right: 1em; text-align: center; vertical-align: top\">2017-01-14 19:01:18</td>\n",
       "        <td style=\"padding-left: 1em; padding-right: 1em; text-align: center; vertical-align: top\">5369414</td>\n",
       "        <td style=\"padding-left: 1em; padding-right: 1em; text-align: center; vertical-align: top\">513860</td>\n",
       "        <td style=\"padding-left: 1em; padding-right: 1em; text-align: center; vertical-align: top\">27655</td>\n",
       "        <td style=\"padding-left: 1em; padding-right: 1em; text-align: center; vertical-align: top\">92826840</td>\n",
       "        <td style=\"padding-left: 1em; padding-right: 1em; text-align: center; vertical-align: top\">f</td>\n",
       "        <td style=\"padding-left: 1em; padding-right: 1em; text-align: center; vertical-align: top\">Google Chrome</td>\n",
       "        <td style=\"padding-left: 1em; padding-right: 1em; text-align: center; vertical-align: top\">Mobile</td>\n",
       "    </tr>\n",
       "    <tr>\n",
       "        <td style=\"padding-left: 1em; padding-right: 1em; text-align: center; vertical-align: top\">IDbF2aKjs</td>\n",
       "        <td style=\"padding-left: 1em; padding-right: 1em; text-align: center; vertical-align: top\">2017-01-11 19:21:58</td>\n",
       "        <td style=\"padding-left: 1em; padding-right: 1em; text-align: center; vertical-align: top\">6005717</td>\n",
       "        <td style=\"padding-left: 1em; padding-right: 1em; text-align: center; vertical-align: top\">956737</td>\n",
       "        <td style=\"padding-left: 1em; padding-right: 1em; text-align: center; vertical-align: top\">1678</td>\n",
       "        <td style=\"padding-left: 1em; padding-right: 1em; text-align: center; vertical-align: top\">60293830</td>\n",
       "        <td style=\"padding-left: 1em; padding-right: 1em; text-align: center; vertical-align: top\">f</td>\n",
       "        <td style=\"padding-left: 1em; padding-right: 1em; text-align: center; vertical-align: top\">InternetExplorer</td>\n",
       "        <td style=\"padding-left: 1em; padding-right: 1em; text-align: center; vertical-align: top\">Desktop</td>\n",
       "    </tr>\n",
       "    <tr>\n",
       "        <td style=\"padding-left: 1em; padding-right: 1em; text-align: center; vertical-align: top\">IDEgpeME8</td>\n",
       "        <td style=\"padding-left: 1em; padding-right: 1em; text-align: center; vertical-align: top\">2017-01-16 14:29:36</td>\n",
       "        <td style=\"padding-left: 1em; padding-right: 1em; text-align: center; vertical-align: top\">7979331</td>\n",
       "        <td style=\"padding-left: 1em; padding-right: 1em; text-align: center; vertical-align: top\">501647</td>\n",
       "        <td style=\"padding-left: 1em; padding-right: 1em; text-align: center; vertical-align: top\">68947</td>\n",
       "        <td style=\"padding-left: 1em; padding-right: 1em; text-align: center; vertical-align: top\">58321067</td>\n",
       "        <td style=\"padding-left: 1em; padding-right: 1em; text-align: center; vertical-align: top\">f</td>\n",
       "        <td style=\"padding-left: 1em; padding-right: 1em; text-align: center; vertical-align: top\">Mozilla</td>\n",
       "        <td style=\"padding-left: 1em; padding-right: 1em; text-align: center; vertical-align: top\">Desktop</td>\n",
       "    </tr>\n",
       "    <tr>\n",
       "        <td style=\"padding-left: 1em; padding-right: 1em; text-align: center; vertical-align: top\">ID0SqwVVC</td>\n",
       "        <td style=\"padding-left: 1em; padding-right: 1em; text-align: center; vertical-align: top\">2017-01-17 00:04:53</td>\n",
       "        <td style=\"padding-left: 1em; padding-right: 1em; text-align: center; vertical-align: top\">2092870</td>\n",
       "        <td style=\"padding-left: 1em; padding-right: 1em; text-align: center; vertical-align: top\">400635</td>\n",
       "        <td style=\"padding-left: 1em; padding-right: 1em; text-align: center; vertical-align: top\">43897</td>\n",
       "        <td style=\"padding-left: 1em; padding-right: 1em; text-align: center; vertical-align: top\">46512126</td>\n",
       "        <td style=\"padding-left: 1em; padding-right: 1em; text-align: center; vertical-align: top\">c</td>\n",
       "        <td style=\"padding-left: 1em; padding-right: 1em; text-align: center; vertical-align: top\">Firefox</td>\n",
       "        <td style=\"padding-left: 1em; padding-right: 1em; text-align: center; vertical-align: top\">Mobile</td>\n",
       "    </tr>\n",
       "</table>\n",
       "<table frame=\"box\" rules=\"cols\">\n",
       "    <tr>\n",
       "        <th style=\"padding-left: 1em; padding-right: 1em; text-align: center\">click_val</th>\n",
       "    </tr>\n",
       "    <tr>\n",
       "        <td style=\"padding-left: 1em; padding-right: 1em; text-align: center; vertical-align: top\">1</td>\n",
       "    </tr>\n",
       "    <tr>\n",
       "        <td style=\"padding-left: 1em; padding-right: 1em; text-align: center; vertical-align: top\">1</td>\n",
       "    </tr>\n",
       "    <tr>\n",
       "        <td style=\"padding-left: 1em; padding-right: 1em; text-align: center; vertical-align: top\">1</td>\n",
       "    </tr>\n",
       "    <tr>\n",
       "        <td style=\"padding-left: 1em; padding-right: 1em; text-align: center; vertical-align: top\">1</td>\n",
       "    </tr>\n",
       "    <tr>\n",
       "        <td style=\"padding-left: 1em; padding-right: 1em; text-align: center; vertical-align: top\">1</td>\n",
       "    </tr>\n",
       "</table>\n",
       "[5 rows x 10 columns]<br/>\n",
       "</div>"
      ],
      "text/plain": [
       "Columns:\n",
       "\tID\tstr\n",
       "\tdatetime\tstr\n",
       "\tsiteid\tint\n",
       "\tofferid\tint\n",
       "\tcategory\tint\n",
       "\tmerchant\tint\n",
       "\tcountrycode\tstr\n",
       "\tbrowserid\tstr\n",
       "\tdevid\tstr\n",
       "\tclick_val\tint\n",
       "\n",
       "Rows: 5\n",
       "\n",
       "Data:\n",
       "+-----------+---------------------+---------+---------+----------+----------+-------------+\n",
       "|     ID    |       datetime      |  siteid | offerid | category | merchant | countrycode |\n",
       "+-----------+---------------------+---------+---------+----------+----------+-------------+\n",
       "| IDU8ukCsv | 2017-01-10 15:28:24 |  469603 |  385750 |  93286   | 7122654  |      a      |\n",
       "| IDfEQxvi3 | 2017-01-14 19:01:18 | 5369414 |  513860 |  27655   | 92826840 |      f      |\n",
       "| IDbF2aKjs | 2017-01-11 19:21:58 | 6005717 |  956737 |   1678   | 60293830 |      f      |\n",
       "| IDEgpeME8 | 2017-01-16 14:29:36 | 7979331 |  501647 |  68947   | 58321067 |      f      |\n",
       "| ID0SqwVVC | 2017-01-17 00:04:53 | 2092870 |  400635 |  43897   | 46512126 |      c      |\n",
       "+-----------+---------------------+---------+---------+----------+----------+-------------+\n",
       "+------------------+---------+-----------+\n",
       "|    browserid     |  devid  | click_val |\n",
       "+------------------+---------+-----------+\n",
       "|  Google Chrome   |  Mobile |     1     |\n",
       "|  Google Chrome   |  Mobile |     1     |\n",
       "| InternetExplorer | Desktop |     1     |\n",
       "|     Mozilla      | Desktop |     1     |\n",
       "|     Firefox      |  Mobile |     1     |\n",
       "+------------------+---------+-----------+\n",
       "[5 rows x 10 columns]"
      ]
     },
     "execution_count": 34,
     "metadata": {},
     "output_type": "execute_result"
    }
   ],
   "source": [
    "ads_training_data.head(5)"
   ]
  },
  {
   "cell_type": "code",
   "execution_count": 35,
   "metadata": {},
   "outputs": [
    {
     "data": {
      "application/javascript": [
       "$(\"head\").append($(\"<link/>\").attr({\n",
       "  rel:  \"stylesheet\",\n",
       "  type: \"text/css\",\n",
       "  href: \"//cdnjs.cloudflare.com/ajax/libs/font-awesome/4.1.0/css/font-awesome.min.css\"\n",
       "}));\n",
       "$(\"head\").append($(\"<link/>\").attr({\n",
       "  rel:  \"stylesheet\",\n",
       "  type: \"text/css\",\n",
       "  href: \"https://static.turi.com/products/graphlab-create/2.1/canvas/css/canvas.css\"\n",
       "}));\n",
       "\n",
       "            (function(){\n",
       "\n",
       "                var e = null;\n",
       "                if (typeof element == 'undefined') {\n",
       "                    var scripts = document.getElementsByTagName('script');\n",
       "                    var thisScriptTag = scripts[scripts.length-1];\n",
       "                    var parentDiv = thisScriptTag.parentNode;\n",
       "                    e = document.createElement('div');\n",
       "                    parentDiv.appendChild(e);\n",
       "                } else {\n",
       "                    e = element[0];\n",
       "                }\n",
       "\n",
       "                if (typeof requirejs !== 'undefined') {\n",
       "                    // disable load timeout; ipython_app.js is large and can take a while to load.\n",
       "                    requirejs.config({waitSeconds: 0});\n",
       "                }\n",
       "\n",
       "                require(['https://static.turi.com/products/graphlab-create/2.1/canvas/js/ipython_app.js'], function(IPythonApp){\n",
       "                    var app = new IPythonApp();\n",
       "                    app.attachView('sarray','Categorical', {\"ipython\": true, \"sketch\": {\"std\": 0.9999999994686344, \"complete\": true, \"min\": -1.0, \"max\": 1.0, \"quantile\": [-1.0, -1.0, -1.0, -1.0, -1.0, -1.0, -1.0, -1.0, -1.0, -1.0, -1.0, -1.0, -1.0, -1.0, -1.0, -1.0, -1.0, -1.0, -1.0, -1.0, -1.0, -1.0, -1.0, -1.0, -1.0, -1.0, -1.0, -1.0, -1.0, -1.0, -1.0, -1.0, -1.0, -1.0, -1.0, -1.0, -1.0, -1.0, -1.0, -1.0, -1.0, -1.0, -1.0, -1.0, -1.0, -1.0, -1.0, -1.0, -1.0, -1.0, 1.0, 1.0, 1.0, 1.0, 1.0, 1.0, 1.0, 1.0, 1.0, 1.0, 1.0, 1.0, 1.0, 1.0, 1.0, 1.0, 1.0, 1.0, 1.0, 1.0, 1.0, 1.0, 1.0, 1.0, 1.0, 1.0, 1.0, 1.0, 1.0, 1.0, 1.0, 1.0, 1.0, 1.0, 1.0, 1.0, 1.0, 1.0, 1.0, 1.0, 1.0, 1.0, 1.0, 1.0, 1.0, 1.0, 1.0, 1.0, 1.0, 1.0, 1.0], \"median\": 1.0, \"numeric\": true, \"num_unique\": 2, \"num_undefined\": 0, \"var\": 0.9999999989372689, \"progress\": 1.0, \"size\": 705531, \"frequent_items\": {\"1\": {\"frequency\": 352754, \"value\": 1}, \"-1\": {\"frequency\": 352777, \"value\": -1}}, \"mean\": -3.259955976411821e-05}, \"selected_variable\": {\"name\": [\"<SArray>\"], \"dtype\": \"int\", \"view_component\": \"Categorical\", \"view_file\": \"sarray\", \"descriptives\": {\"rows\": 705531}, \"type\": \"SArray\", \"view_components\": [\"Numeric\", \"Categorical\"]}, \"histogram\": {\"progress\": 1.0, \"histogram\": {\"max\": 1.0152400000000004, \"bins\": [352777, 0, 0, 0, 0, 0, 0, 0, 0, 0, 0, 352754], \"min\": -1.0122800000000165}, \"min\": -1, \"complete\": 1, \"max\": 1}}, e);\n",
       "                });\n",
       "            })();\n",
       "        "
      ]
     },
     "metadata": {},
     "output_type": "display_data"
    }
   ],
   "source": [
    "ads_training_data['click_val'].show(view = 'Categorical')"
   ]
  },
  {
   "cell_type": "code",
   "execution_count": 36,
   "metadata": {},
   "outputs": [
    {
     "data": {
      "application/javascript": [
       "$(\"head\").append($(\"<link/>\").attr({\n",
       "  rel:  \"stylesheet\",\n",
       "  type: \"text/css\",\n",
       "  href: \"//cdnjs.cloudflare.com/ajax/libs/font-awesome/4.1.0/css/font-awesome.min.css\"\n",
       "}));\n",
       "$(\"head\").append($(\"<link/>\").attr({\n",
       "  rel:  \"stylesheet\",\n",
       "  type: \"text/css\",\n",
       "  href: \"https://static.turi.com/products/graphlab-create/2.1/canvas/css/canvas.css\"\n",
       "}));\n",
       "\n",
       "            (function(){\n",
       "\n",
       "                var e = null;\n",
       "                if (typeof element == 'undefined') {\n",
       "                    var scripts = document.getElementsByTagName('script');\n",
       "                    var thisScriptTag = scripts[scripts.length-1];\n",
       "                    var parentDiv = thisScriptTag.parentNode;\n",
       "                    e = document.createElement('div');\n",
       "                    parentDiv.appendChild(e);\n",
       "                } else {\n",
       "                    e = element[0];\n",
       "                }\n",
       "\n",
       "                if (typeof requirejs !== 'undefined') {\n",
       "                    // disable load timeout; ipython_app.js is large and can take a while to load.\n",
       "                    requirejs.config({waitSeconds: 0});\n",
       "                }\n",
       "\n",
       "                require(['https://static.turi.com/products/graphlab-create/2.1/canvas/js/ipython_app.js'], function(IPythonApp){\n",
       "                    var app = new IPythonApp();\n",
       "                    app.attachView('sarray','Categorical', {\"ipython\": true, \"sketch\": {\"complete\": true, \"numeric\": false, \"num_unique\": 11, \"num_undefined\": 0, \"progress\": 1.0, \"frequent_items\": {\"Mozilla Firefox\": {\"frequency\": 38803, \"value\": \"Mozilla Firefox\"}, \"Firefox\": {\"frequency\": 120027, \"value\": \"Firefox\"}, \"InternetExplorer\": {\"frequency\": 176644, \"value\": \"InternetExplorer\"}, \"Chrome\": {\"frequency\": 21125, \"value\": \"Chrome\"}, \"Mozilla\": {\"frequency\": 41890, \"value\": \"Mozilla\"}, \"Opera\": {\"frequency\": 7019, \"value\": \"Opera\"}, \"Edge\": {\"frequency\": 116590, \"value\": \"Edge\"}, \"Google Chrome\": {\"frequency\": 141089, \"value\": \"Google Chrome\"}, \"Safari\": {\"frequency\": 7063, \"value\": \"Safari\"}, \"Internet Explorer\": {\"frequency\": 13960, \"value\": \"Internet Explorer\"}, \"IE\": {\"frequency\": 21321, \"value\": \"IE\"}}, \"size\": 705531}, \"selected_variable\": {\"name\": [\"<SArray>\"], \"dtype\": \"str\", \"view_component\": \"Categorical\", \"view_file\": \"sarray\", \"descriptives\": {\"rows\": 705531}, \"type\": \"SArray\", \"view_components\": [\"Categorical\"]}, \"histogram\": null}, e);\n",
       "                });\n",
       "            })();\n",
       "        "
      ]
     },
     "metadata": {},
     "output_type": "display_data"
    }
   ],
   "source": [
    "ads_training_data['browserid'].show(view = 'Categorical')"
   ]
  },
  {
   "cell_type": "code",
   "execution_count": 37,
   "metadata": {
    "collapsed": true
   },
   "outputs": [],
   "source": [
    "#renaming column values into a uniform value\n",
    "def transform_browser(browser):\n",
    "    if browser == 'InternetExplorer':\n",
    "        return 'Internet Explorer'\n",
    "    elif browser == 'IE':\n",
    "        return 'Internet Explorer'\n",
    "    elif browser == 'Mozilla':\n",
    "        return 'Firefox'\n",
    "    elif browser == 'Mozilla Firefox':\n",
    "        return 'Firefox'\n",
    "    elif browser == 'Chrome':\n",
    "        return 'Google Chrome'\n",
    "    else:\n",
    "        return browser"
   ]
  },
  {
   "cell_type": "code",
   "execution_count": 38,
   "metadata": {
    "collapsed": true
   },
   "outputs": [],
   "source": [
    "browser_list = ['InternetExplorer', 'IE', 'Mozilla', 'Mozilla Firefox', 'Chrome','Google Chrome', 'Firefox', 'Edge',\n",
    "                'Internet Explorer','Opera', 'Safari']\n",
    "\n",
    "for names in browser_list:\n",
    "    transform_browser(names)\n",
    "ads_training_data['browserid'] = ads_training_data['browserid'].apply(transform_browser)"
   ]
  },
  {
   "cell_type": "code",
   "execution_count": 39,
   "metadata": {},
   "outputs": [
    {
     "data": {
      "application/javascript": [
       "$(\"head\").append($(\"<link/>\").attr({\n",
       "  rel:  \"stylesheet\",\n",
       "  type: \"text/css\",\n",
       "  href: \"//cdnjs.cloudflare.com/ajax/libs/font-awesome/4.1.0/css/font-awesome.min.css\"\n",
       "}));\n",
       "$(\"head\").append($(\"<link/>\").attr({\n",
       "  rel:  \"stylesheet\",\n",
       "  type: \"text/css\",\n",
       "  href: \"https://static.turi.com/products/graphlab-create/2.1/canvas/css/canvas.css\"\n",
       "}));\n",
       "\n",
       "            (function(){\n",
       "\n",
       "                var e = null;\n",
       "                if (typeof element == 'undefined') {\n",
       "                    var scripts = document.getElementsByTagName('script');\n",
       "                    var thisScriptTag = scripts[scripts.length-1];\n",
       "                    var parentDiv = thisScriptTag.parentNode;\n",
       "                    e = document.createElement('div');\n",
       "                    parentDiv.appendChild(e);\n",
       "                } else {\n",
       "                    e = element[0];\n",
       "                }\n",
       "\n",
       "                if (typeof requirejs !== 'undefined') {\n",
       "                    // disable load timeout; ipython_app.js is large and can take a while to load.\n",
       "                    requirejs.config({waitSeconds: 0});\n",
       "                }\n",
       "\n",
       "                require(['https://static.turi.com/products/graphlab-create/2.1/canvas/js/ipython_app.js'], function(IPythonApp){\n",
       "                    var app = new IPythonApp();\n",
       "                    app.attachView('sarray','Categorical', {\"ipython\": true, \"sketch\": {\"complete\": true, \"numeric\": false, \"num_unique\": 6, \"num_undefined\": 0, \"progress\": 1.0, \"frequent_items\": {\"Firefox\": {\"frequency\": 200720, \"value\": \"Firefox\"}, \"Opera\": {\"frequency\": 7019, \"value\": \"Opera\"}, \"Edge\": {\"frequency\": 116590, \"value\": \"Edge\"}, \"Google Chrome\": {\"frequency\": 162214, \"value\": \"Google Chrome\"}, \"Safari\": {\"frequency\": 7063, \"value\": \"Safari\"}, \"Internet Explorer\": {\"frequency\": 211925, \"value\": \"Internet Explorer\"}}, \"size\": 705531}, \"selected_variable\": {\"name\": [\"<SArray>\"], \"dtype\": \"str\", \"view_component\": \"Categorical\", \"view_file\": \"sarray\", \"descriptives\": {\"rows\": 705531}, \"type\": \"SArray\", \"view_components\": [\"Categorical\"]}, \"histogram\": null}, e);\n",
       "                });\n",
       "            })();\n",
       "        "
      ]
     },
     "metadata": {},
     "output_type": "display_data"
    }
   ],
   "source": [
    "ads_training_data['browserid'].show(view = 'Categorical')"
   ]
  },
  {
   "cell_type": "code",
   "execution_count": 40,
   "metadata": {},
   "outputs": [
    {
     "data": {
      "text/plain": [
       "705531"
      ]
     },
     "execution_count": 40,
     "metadata": {},
     "output_type": "execute_result"
    }
   ],
   "source": [
    "len(ads_training_data)"
   ]
  },
  {
   "cell_type": "code",
   "execution_count": 41,
   "metadata": {},
   "outputs": [
    {
     "data": {
      "application/javascript": [
       "$(\"head\").append($(\"<link/>\").attr({\n",
       "  rel:  \"stylesheet\",\n",
       "  type: \"text/css\",\n",
       "  href: \"//cdnjs.cloudflare.com/ajax/libs/font-awesome/4.1.0/css/font-awesome.min.css\"\n",
       "}));\n",
       "$(\"head\").append($(\"<link/>\").attr({\n",
       "  rel:  \"stylesheet\",\n",
       "  type: \"text/css\",\n",
       "  href: \"https://static.turi.com/products/graphlab-create/2.1/canvas/css/canvas.css\"\n",
       "}));\n",
       "\n",
       "            (function(){\n",
       "\n",
       "                var e = null;\n",
       "                if (typeof element == 'undefined') {\n",
       "                    var scripts = document.getElementsByTagName('script');\n",
       "                    var thisScriptTag = scripts[scripts.length-1];\n",
       "                    var parentDiv = thisScriptTag.parentNode;\n",
       "                    e = document.createElement('div');\n",
       "                    parentDiv.appendChild(e);\n",
       "                } else {\n",
       "                    e = element[0];\n",
       "                }\n",
       "\n",
       "                if (typeof requirejs !== 'undefined') {\n",
       "                    // disable load timeout; ipython_app.js is large and can take a while to load.\n",
       "                    requirejs.config({waitSeconds: 0});\n",
       "                }\n",
       "\n",
       "                require(['https://static.turi.com/products/graphlab-create/2.1/canvas/js/ipython_app.js'], function(IPythonApp){\n",
       "                    var app = new IPythonApp();\n",
       "                    app.attachView('sarray','Categorical', {\"ipython\": true, \"sketch\": {\"complete\": true, \"numeric\": false, \"num_unique\": 3, \"num_undefined\": 0, \"progress\": 1.0, \"frequent_items\": {\"Mobile\": {\"frequency\": 289456, \"value\": \"Mobile\"}, \"Tablet\": {\"frequency\": 137613, \"value\": \"Tablet\"}, \"Desktop\": {\"frequency\": 278462, \"value\": \"Desktop\"}}, \"size\": 705531}, \"selected_variable\": {\"name\": [\"<SArray>\"], \"dtype\": \"str\", \"view_component\": \"Categorical\", \"view_file\": \"sarray\", \"descriptives\": {\"rows\": 705531}, \"type\": \"SArray\", \"view_components\": [\"Categorical\"]}, \"histogram\": null}, e);\n",
       "                });\n",
       "            })();\n",
       "        "
      ]
     },
     "metadata": {},
     "output_type": "display_data"
    }
   ],
   "source": [
    "ads_training_data['devid'].show(view = 'Categorical')"
   ]
  },
  {
   "cell_type": "code",
   "execution_count": 42,
   "metadata": {},
   "outputs": [
    {
     "data": {
      "text/html": [
       "<div style=\"max-height:1000px;max-width:1500px;overflow:auto;\"><table frame=\"box\" rules=\"cols\">\n",
       "    <tr>\n",
       "        <th style=\"padding-left: 1em; padding-right: 1em; text-align: center\">ID</th>\n",
       "        <th style=\"padding-left: 1em; padding-right: 1em; text-align: center\">datetime</th>\n",
       "        <th style=\"padding-left: 1em; padding-right: 1em; text-align: center\">siteid</th>\n",
       "        <th style=\"padding-left: 1em; padding-right: 1em; text-align: center\">offerid</th>\n",
       "        <th style=\"padding-left: 1em; padding-right: 1em; text-align: center\">category</th>\n",
       "        <th style=\"padding-left: 1em; padding-right: 1em; text-align: center\">merchant</th>\n",
       "        <th style=\"padding-left: 1em; padding-right: 1em; text-align: center\">countrycode</th>\n",
       "        <th style=\"padding-left: 1em; padding-right: 1em; text-align: center\">browserid</th>\n",
       "        <th style=\"padding-left: 1em; padding-right: 1em; text-align: center\">devid</th>\n",
       "    </tr>\n",
       "    <tr>\n",
       "        <td style=\"padding-left: 1em; padding-right: 1em; text-align: center; vertical-align: top\">IDU8ukCsv</td>\n",
       "        <td style=\"padding-left: 1em; padding-right: 1em; text-align: center; vertical-align: top\">2017-01-10 15:28:24</td>\n",
       "        <td style=\"padding-left: 1em; padding-right: 1em; text-align: center; vertical-align: top\">469603</td>\n",
       "        <td style=\"padding-left: 1em; padding-right: 1em; text-align: center; vertical-align: top\">385750</td>\n",
       "        <td style=\"padding-left: 1em; padding-right: 1em; text-align: center; vertical-align: top\">93286</td>\n",
       "        <td style=\"padding-left: 1em; padding-right: 1em; text-align: center; vertical-align: top\">7122654</td>\n",
       "        <td style=\"padding-left: 1em; padding-right: 1em; text-align: center; vertical-align: top\">a</td>\n",
       "        <td style=\"padding-left: 1em; padding-right: 1em; text-align: center; vertical-align: top\">Google Chrome</td>\n",
       "        <td style=\"padding-left: 1em; padding-right: 1em; text-align: center; vertical-align: top\">Mobile</td>\n",
       "    </tr>\n",
       "    <tr>\n",
       "        <td style=\"padding-left: 1em; padding-right: 1em; text-align: center; vertical-align: top\">IDfEQxvi3</td>\n",
       "        <td style=\"padding-left: 1em; padding-right: 1em; text-align: center; vertical-align: top\">2017-01-14 19:01:18</td>\n",
       "        <td style=\"padding-left: 1em; padding-right: 1em; text-align: center; vertical-align: top\">5369414</td>\n",
       "        <td style=\"padding-left: 1em; padding-right: 1em; text-align: center; vertical-align: top\">513860</td>\n",
       "        <td style=\"padding-left: 1em; padding-right: 1em; text-align: center; vertical-align: top\">27655</td>\n",
       "        <td style=\"padding-left: 1em; padding-right: 1em; text-align: center; vertical-align: top\">92826840</td>\n",
       "        <td style=\"padding-left: 1em; padding-right: 1em; text-align: center; vertical-align: top\">f</td>\n",
       "        <td style=\"padding-left: 1em; padding-right: 1em; text-align: center; vertical-align: top\">Google Chrome</td>\n",
       "        <td style=\"padding-left: 1em; padding-right: 1em; text-align: center; vertical-align: top\">Mobile</td>\n",
       "    </tr>\n",
       "    <tr>\n",
       "        <td style=\"padding-left: 1em; padding-right: 1em; text-align: center; vertical-align: top\">IDbF2aKjs</td>\n",
       "        <td style=\"padding-left: 1em; padding-right: 1em; text-align: center; vertical-align: top\">2017-01-11 19:21:58</td>\n",
       "        <td style=\"padding-left: 1em; padding-right: 1em; text-align: center; vertical-align: top\">6005717</td>\n",
       "        <td style=\"padding-left: 1em; padding-right: 1em; text-align: center; vertical-align: top\">956737</td>\n",
       "        <td style=\"padding-left: 1em; padding-right: 1em; text-align: center; vertical-align: top\">1678</td>\n",
       "        <td style=\"padding-left: 1em; padding-right: 1em; text-align: center; vertical-align: top\">60293830</td>\n",
       "        <td style=\"padding-left: 1em; padding-right: 1em; text-align: center; vertical-align: top\">f</td>\n",
       "        <td style=\"padding-left: 1em; padding-right: 1em; text-align: center; vertical-align: top\">Internet Explorer</td>\n",
       "        <td style=\"padding-left: 1em; padding-right: 1em; text-align: center; vertical-align: top\">Desktop</td>\n",
       "    </tr>\n",
       "    <tr>\n",
       "        <td style=\"padding-left: 1em; padding-right: 1em; text-align: center; vertical-align: top\">IDEgpeME8</td>\n",
       "        <td style=\"padding-left: 1em; padding-right: 1em; text-align: center; vertical-align: top\">2017-01-16 14:29:36</td>\n",
       "        <td style=\"padding-left: 1em; padding-right: 1em; text-align: center; vertical-align: top\">7979331</td>\n",
       "        <td style=\"padding-left: 1em; padding-right: 1em; text-align: center; vertical-align: top\">501647</td>\n",
       "        <td style=\"padding-left: 1em; padding-right: 1em; text-align: center; vertical-align: top\">68947</td>\n",
       "        <td style=\"padding-left: 1em; padding-right: 1em; text-align: center; vertical-align: top\">58321067</td>\n",
       "        <td style=\"padding-left: 1em; padding-right: 1em; text-align: center; vertical-align: top\">f</td>\n",
       "        <td style=\"padding-left: 1em; padding-right: 1em; text-align: center; vertical-align: top\">Firefox</td>\n",
       "        <td style=\"padding-left: 1em; padding-right: 1em; text-align: center; vertical-align: top\">Desktop</td>\n",
       "    </tr>\n",
       "    <tr>\n",
       "        <td style=\"padding-left: 1em; padding-right: 1em; text-align: center; vertical-align: top\">ID0SqwVVC</td>\n",
       "        <td style=\"padding-left: 1em; padding-right: 1em; text-align: center; vertical-align: top\">2017-01-17 00:04:53</td>\n",
       "        <td style=\"padding-left: 1em; padding-right: 1em; text-align: center; vertical-align: top\">2092870</td>\n",
       "        <td style=\"padding-left: 1em; padding-right: 1em; text-align: center; vertical-align: top\">400635</td>\n",
       "        <td style=\"padding-left: 1em; padding-right: 1em; text-align: center; vertical-align: top\">43897</td>\n",
       "        <td style=\"padding-left: 1em; padding-right: 1em; text-align: center; vertical-align: top\">46512126</td>\n",
       "        <td style=\"padding-left: 1em; padding-right: 1em; text-align: center; vertical-align: top\">c</td>\n",
       "        <td style=\"padding-left: 1em; padding-right: 1em; text-align: center; vertical-align: top\">Firefox</td>\n",
       "        <td style=\"padding-left: 1em; padding-right: 1em; text-align: center; vertical-align: top\">Mobile</td>\n",
       "    </tr>\n",
       "    <tr>\n",
       "        <td style=\"padding-left: 1em; padding-right: 1em; text-align: center; vertical-align: top\">IDN439rpK</td>\n",
       "        <td style=\"padding-left: 1em; padding-right: 1em; text-align: center; vertical-align: top\">2017-01-20 12:49:37</td>\n",
       "        <td style=\"padding-left: 1em; padding-right: 1em; text-align: center; vertical-align: top\">94250</td>\n",
       "        <td style=\"padding-left: 1em; padding-right: 1em; text-align: center; vertical-align: top\">527842</td>\n",
       "        <td style=\"padding-left: 1em; padding-right: 1em; text-align: center; vertical-align: top\">23576</td>\n",
       "        <td style=\"padding-left: 1em; padding-right: 1em; text-align: center; vertical-align: top\">16150900</td>\n",
       "        <td style=\"padding-left: 1em; padding-right: 1em; text-align: center; vertical-align: top\">c</td>\n",
       "        <td style=\"padding-left: 1em; padding-right: 1em; text-align: center; vertical-align: top\">Safari</td>\n",
       "        <td style=\"padding-left: 1em; padding-right: 1em; text-align: center; vertical-align: top\">Tablet</td>\n",
       "    </tr>\n",
       "    <tr>\n",
       "        <td style=\"padding-left: 1em; padding-right: 1em; text-align: center; vertical-align: top\">IDd9dRKG1</td>\n",
       "        <td style=\"padding-left: 1em; padding-right: 1em; text-align: center; vertical-align: top\">2017-01-15 01:00:05</td>\n",
       "        <td style=\"padding-left: 1em; padding-right: 1em; text-align: center; vertical-align: top\">7885100</td>\n",
       "        <td style=\"padding-left: 1em; padding-right: 1em; text-align: center; vertical-align: top\">913591</td>\n",
       "        <td style=\"padding-left: 1em; padding-right: 1em; text-align: center; vertical-align: top\">15912</td>\n",
       "        <td style=\"padding-left: 1em; padding-right: 1em; text-align: center; vertical-align: top\">7181598</td>\n",
       "        <td style=\"padding-left: 1em; padding-right: 1em; text-align: center; vertical-align: top\">d</td>\n",
       "        <td style=\"padding-left: 1em; padding-right: 1em; text-align: center; vertical-align: top\">Firefox</td>\n",
       "        <td style=\"padding-left: 1em; padding-right: 1em; text-align: center; vertical-align: top\">Mobile</td>\n",
       "    </tr>\n",
       "    <tr>\n",
       "        <td style=\"padding-left: 1em; padding-right: 1em; text-align: center; vertical-align: top\">IDLM0u0QM</td>\n",
       "        <td style=\"padding-left: 1em; padding-right: 1em; text-align: center; vertical-align: top\">2017-01-16 02:56:27</td>\n",
       "        <td style=\"padding-left: 1em; padding-right: 1em; text-align: center; vertical-align: top\">5571806</td>\n",
       "        <td style=\"padding-left: 1em; padding-right: 1em; text-align: center; vertical-align: top\">103249</td>\n",
       "        <td style=\"padding-left: 1em; padding-right: 1em; text-align: center; vertical-align: top\">40339</td>\n",
       "        <td style=\"padding-left: 1em; padding-right: 1em; text-align: center; vertical-align: top\">43452411</td>\n",
       "        <td style=\"padding-left: 1em; padding-right: 1em; text-align: center; vertical-align: top\">a</td>\n",
       "        <td style=\"padding-left: 1em; padding-right: 1em; text-align: center; vertical-align: top\">Internet Explorer</td>\n",
       "        <td style=\"padding-left: 1em; padding-right: 1em; text-align: center; vertical-align: top\">Desktop</td>\n",
       "    </tr>\n",
       "    <tr>\n",
       "        <td style=\"padding-left: 1em; padding-right: 1em; text-align: center; vertical-align: top\">IDY7aCYRs</td>\n",
       "        <td style=\"padding-left: 1em; padding-right: 1em; text-align: center; vertical-align: top\">2017-01-13 13:25:22</td>\n",
       "        <td style=\"padding-left: 1em; padding-right: 1em; text-align: center; vertical-align: top\">8476528</td>\n",
       "        <td style=\"padding-left: 1em; padding-right: 1em; text-align: center; vertical-align: top\">945081</td>\n",
       "        <td style=\"padding-left: 1em; padding-right: 1em; text-align: center; vertical-align: top\">41706</td>\n",
       "        <td style=\"padding-left: 1em; padding-right: 1em; text-align: center; vertical-align: top\">4000296</td>\n",
       "        <td style=\"padding-left: 1em; padding-right: 1em; text-align: center; vertical-align: top\">c</td>\n",
       "        <td style=\"padding-left: 1em; padding-right: 1em; text-align: center; vertical-align: top\">Firefox</td>\n",
       "        <td style=\"padding-left: 1em; padding-right: 1em; text-align: center; vertical-align: top\">Desktop</td>\n",
       "    </tr>\n",
       "    <tr>\n",
       "        <td style=\"padding-left: 1em; padding-right: 1em; text-align: center; vertical-align: top\">IDLBtW0hS</td>\n",
       "        <td style=\"padding-left: 1em; padding-right: 1em; text-align: center; vertical-align: top\">2017-01-13 20:05:13</td>\n",
       "        <td style=\"padding-left: 1em; padding-right: 1em; text-align: center; vertical-align: top\">2148269</td>\n",
       "        <td style=\"padding-left: 1em; padding-right: 1em; text-align: center; vertical-align: top\">995962</td>\n",
       "        <td style=\"padding-left: 1em; padding-right: 1em; text-align: center; vertical-align: top\">80554</td>\n",
       "        <td style=\"padding-left: 1em; padding-right: 1em; text-align: center; vertical-align: top\">7122654</td>\n",
       "        <td style=\"padding-left: 1em; padding-right: 1em; text-align: center; vertical-align: top\">c</td>\n",
       "        <td style=\"padding-left: 1em; padding-right: 1em; text-align: center; vertical-align: top\">Internet Explorer</td>\n",
       "        <td style=\"padding-left: 1em; padding-right: 1em; text-align: center; vertical-align: top\">Desktop</td>\n",
       "    </tr>\n",
       "</table>\n",
       "<table frame=\"box\" rules=\"cols\">\n",
       "    <tr>\n",
       "        <th style=\"padding-left: 1em; padding-right: 1em; text-align: center\">click_val</th>\n",
       "    </tr>\n",
       "    <tr>\n",
       "        <td style=\"padding-left: 1em; padding-right: 1em; text-align: center; vertical-align: top\">1</td>\n",
       "    </tr>\n",
       "    <tr>\n",
       "        <td style=\"padding-left: 1em; padding-right: 1em; text-align: center; vertical-align: top\">1</td>\n",
       "    </tr>\n",
       "    <tr>\n",
       "        <td style=\"padding-left: 1em; padding-right: 1em; text-align: center; vertical-align: top\">1</td>\n",
       "    </tr>\n",
       "    <tr>\n",
       "        <td style=\"padding-left: 1em; padding-right: 1em; text-align: center; vertical-align: top\">1</td>\n",
       "    </tr>\n",
       "    <tr>\n",
       "        <td style=\"padding-left: 1em; padding-right: 1em; text-align: center; vertical-align: top\">1</td>\n",
       "    </tr>\n",
       "    <tr>\n",
       "        <td style=\"padding-left: 1em; padding-right: 1em; text-align: center; vertical-align: top\">1</td>\n",
       "    </tr>\n",
       "    <tr>\n",
       "        <td style=\"padding-left: 1em; padding-right: 1em; text-align: center; vertical-align: top\">1</td>\n",
       "    </tr>\n",
       "    <tr>\n",
       "        <td style=\"padding-left: 1em; padding-right: 1em; text-align: center; vertical-align: top\">1</td>\n",
       "    </tr>\n",
       "    <tr>\n",
       "        <td style=\"padding-left: 1em; padding-right: 1em; text-align: center; vertical-align: top\">1</td>\n",
       "    </tr>\n",
       "    <tr>\n",
       "        <td style=\"padding-left: 1em; padding-right: 1em; text-align: center; vertical-align: top\">1</td>\n",
       "    </tr>\n",
       "</table>\n",
       "[705531 rows x 10 columns]<br/>Note: Only the head of the SFrame is printed.<br/>You can use print_rows(num_rows=m, num_columns=n) to print more rows and columns.\n",
       "</div>"
      ],
      "text/plain": [
       "Columns:\n",
       "\tID\tstr\n",
       "\tdatetime\tstr\n",
       "\tsiteid\tint\n",
       "\tofferid\tint\n",
       "\tcategory\tint\n",
       "\tmerchant\tint\n",
       "\tcountrycode\tstr\n",
       "\tbrowserid\tstr\n",
       "\tdevid\tstr\n",
       "\tclick_val\tint\n",
       "\n",
       "Rows: 705531\n",
       "\n",
       "Data:\n",
       "+-----------+---------------------+---------+---------+----------+----------+-------------+\n",
       "|     ID    |       datetime      |  siteid | offerid | category | merchant | countrycode |\n",
       "+-----------+---------------------+---------+---------+----------+----------+-------------+\n",
       "| IDU8ukCsv | 2017-01-10 15:28:24 |  469603 |  385750 |  93286   | 7122654  |      a      |\n",
       "| IDfEQxvi3 | 2017-01-14 19:01:18 | 5369414 |  513860 |  27655   | 92826840 |      f      |\n",
       "| IDbF2aKjs | 2017-01-11 19:21:58 | 6005717 |  956737 |   1678   | 60293830 |      f      |\n",
       "| IDEgpeME8 | 2017-01-16 14:29:36 | 7979331 |  501647 |  68947   | 58321067 |      f      |\n",
       "| ID0SqwVVC | 2017-01-17 00:04:53 | 2092870 |  400635 |  43897   | 46512126 |      c      |\n",
       "| IDN439rpK | 2017-01-20 12:49:37 |  94250  |  527842 |  23576   | 16150900 |      c      |\n",
       "| IDd9dRKG1 | 2017-01-15 01:00:05 | 7885100 |  913591 |  15912   | 7181598  |      d      |\n",
       "| IDLM0u0QM | 2017-01-16 02:56:27 | 5571806 |  103249 |  40339   | 43452411 |      a      |\n",
       "| IDY7aCYRs | 2017-01-13 13:25:22 | 8476528 |  945081 |  41706   | 4000296  |      c      |\n",
       "| IDLBtW0hS | 2017-01-13 20:05:13 | 2148269 |  995962 |  80554   | 7122654  |      c      |\n",
       "+-----------+---------------------+---------+---------+----------+----------+-------------+\n",
       "+-------------------+---------+-----------+\n",
       "|     browserid     |  devid  | click_val |\n",
       "+-------------------+---------+-----------+\n",
       "|   Google Chrome   |  Mobile |     1     |\n",
       "|   Google Chrome   |  Mobile |     1     |\n",
       "| Internet Explorer | Desktop |     1     |\n",
       "|      Firefox      | Desktop |     1     |\n",
       "|      Firefox      |  Mobile |     1     |\n",
       "|       Safari      |  Tablet |     1     |\n",
       "|      Firefox      |  Mobile |     1     |\n",
       "| Internet Explorer | Desktop |     1     |\n",
       "|      Firefox      | Desktop |     1     |\n",
       "| Internet Explorer | Desktop |     1     |\n",
       "+-------------------+---------+-----------+\n",
       "[705531 rows x 10 columns]\n",
       "Note: Only the head of the SFrame is printed.\n",
       "You can use print_rows(num_rows=m, num_columns=n) to print more rows and columns."
      ]
     },
     "execution_count": 42,
     "metadata": {},
     "output_type": "execute_result"
    }
   ],
   "source": [
    "ads_training_data"
   ]
  },
  {
   "cell_type": "code",
   "execution_count": 43,
   "metadata": {},
   "outputs": [
    {
     "data": {
      "application/javascript": [
       "$(\"head\").append($(\"<link/>\").attr({\n",
       "  rel:  \"stylesheet\",\n",
       "  type: \"text/css\",\n",
       "  href: \"//cdnjs.cloudflare.com/ajax/libs/font-awesome/4.1.0/css/font-awesome.min.css\"\n",
       "}));\n",
       "$(\"head\").append($(\"<link/>\").attr({\n",
       "  rel:  \"stylesheet\",\n",
       "  type: \"text/css\",\n",
       "  href: \"https://static.turi.com/products/graphlab-create/2.1/canvas/css/canvas.css\"\n",
       "}));\n",
       "\n",
       "            (function(){\n",
       "\n",
       "                var e = null;\n",
       "                if (typeof element == 'undefined') {\n",
       "                    var scripts = document.getElementsByTagName('script');\n",
       "                    var thisScriptTag = scripts[scripts.length-1];\n",
       "                    var parentDiv = thisScriptTag.parentNode;\n",
       "                    e = document.createElement('div');\n",
       "                    parentDiv.appendChild(e);\n",
       "                } else {\n",
       "                    e = element[0];\n",
       "                }\n",
       "\n",
       "                if (typeof requirejs !== 'undefined') {\n",
       "                    // disable load timeout; ipython_app.js is large and can take a while to load.\n",
       "                    requirejs.config({waitSeconds: 0});\n",
       "                }\n",
       "\n",
       "                require(['https://static.turi.com/products/graphlab-create/2.1/canvas/js/ipython_app.js'], function(IPythonApp){\n",
       "                    var app = new IPythonApp();\n",
       "                    app.attachView('sarray','Categorical', {\"ipython\": true, \"sketch\": {\"complete\": true, \"numeric\": false, \"num_unique\": 367003, \"num_undefined\": 0, \"progress\": 1.0, \"frequent_items\": {}, \"size\": 705531}, \"selected_variable\": {\"name\": [\"<SArray>\"], \"dtype\": \"str\", \"view_component\": \"Categorical\", \"view_file\": \"sarray\", \"descriptives\": {\"rows\": 705531}, \"type\": \"SArray\", \"view_components\": [\"Categorical\"]}, \"histogram\": null}, e);\n",
       "                });\n",
       "            })();\n",
       "        "
      ]
     },
     "metadata": {},
     "output_type": "display_data"
    },
    {
     "name": "stdout",
     "output_type": "stream",
     "text": [
      "None\n"
     ]
    }
   ],
   "source": [
    "print ads_training_data['datetime'].show(view = 'Categorical')\n",
    "# Note- round time into nearest hour and check"
   ]
  },
  {
   "cell_type": "code",
   "execution_count": 44,
   "metadata": {},
   "outputs": [
    {
     "data": {
      "application/javascript": [
       "$(\"head\").append($(\"<link/>\").attr({\n",
       "  rel:  \"stylesheet\",\n",
       "  type: \"text/css\",\n",
       "  href: \"//cdnjs.cloudflare.com/ajax/libs/font-awesome/4.1.0/css/font-awesome.min.css\"\n",
       "}));\n",
       "$(\"head\").append($(\"<link/>\").attr({\n",
       "  rel:  \"stylesheet\",\n",
       "  type: \"text/css\",\n",
       "  href: \"https://static.turi.com/products/graphlab-create/2.1/canvas/css/canvas.css\"\n",
       "}));\n",
       "\n",
       "            (function(){\n",
       "\n",
       "                var e = null;\n",
       "                if (typeof element == 'undefined') {\n",
       "                    var scripts = document.getElementsByTagName('script');\n",
       "                    var thisScriptTag = scripts[scripts.length-1];\n",
       "                    var parentDiv = thisScriptTag.parentNode;\n",
       "                    e = document.createElement('div');\n",
       "                    parentDiv.appendChild(e);\n",
       "                } else {\n",
       "                    e = element[0];\n",
       "                }\n",
       "\n",
       "                if (typeof requirejs !== 'undefined') {\n",
       "                    // disable load timeout; ipython_app.js is large and can take a while to load.\n",
       "                    requirejs.config({waitSeconds: 0});\n",
       "                }\n",
       "\n",
       "                require(['https://static.turi.com/products/graphlab-create/2.1/canvas/js/ipython_app.js'], function(IPythonApp){\n",
       "                    var app = new IPythonApp();\n",
       "                    app.attachView('sarray','Categorical', {\"ipython\": true, \"sketch\": {\"std\": 2900812.685976599, \"complete\": true, \"min\": 71.0, \"max\": 9999996.0, \"quantile\": [71.0, 107190.0, 197591.0, 285069.0, 393432.0, 502882.0, 605334.0, 699797.0, 820067.0, 931453.0, 1027678.0, 1123432.0, 1223569.0, 1324662.0, 1431338.0, 1507811.0, 1594968.0, 1695067.0, 1807051.0, 1903813.0, 2001334.0, 2090539.0, 2194013.0, 2301027.0, 2410403.0, 2521258.0, 2625687.0, 2714937.0, 2817379.0, 2903470.0, 3007705.0, 3087445.0, 3182729.0, 3285330.0, 3386921.0, 3498729.0, 3606246.0, 3696590.0, 3793060.0, 3901672.0, 3999608.0, 4093300.0, 4192859.0, 4305164.0, 4409551.0, 4506490.0, 4606668.0, 4714191.0, 4808449.0, 4904187.0, 5007460.0, 5124920.0, 5249079.0, 5330973.0, 5440069.0, 5540392.0, 5635746.0, 5738934.0, 5844468.0, 5950912.0, 6059062.0, 6173296.0, 6269110.0, 6357104.0, 6447363.0, 6561752.0, 6663177.0, 6772617.0, 6880856.0, 6973113.0, 7061411.0, 7164537.0, 7278259.0, 7392481.0, 7480550.0, 7575413.0, 7670232.0, 7767425.0, 7872324.0, 7954797.0, 8061693.0, 8159207.0, 8265004.0, 8357297.0, 8450934.0, 8553282.0, 8649316.0, 8746406.0, 8851772.0, 8937280.0, 9027546.0, 9114369.0, 9221438.0, 9312457.0, 9408410.0, 9500550.0, 9597060.0, 9702562.0, 9792509.0, 9888060.0, 9999996.0], \"median\": 5007460.0, \"numeric\": true, \"num_unique\": 184842, \"num_undefined\": 70455, \"var\": 8414714239122.77, \"progress\": 1.0, \"size\": 705531, \"frequent_items\": {\"8314882\": {\"frequency\": 73, \"value\": 8314882}, \"2209797\": {\"frequency\": 164, \"value\": 2209797}, \"6313991\": {\"frequency\": 302, \"value\": 6313991}, \"3762187\": {\"frequency\": 93, \"value\": 3762187}, \"3069969\": {\"frequency\": 78, \"value\": 3069969}, \"1249298\": {\"frequency\": 106, \"value\": 1249298}, \"286740\": {\"frequency\": 56, \"value\": 286740}, \"3908270\": {\"frequency\": 129, \"value\": 3908270}, \"2500598\": {\"frequency\": 73, \"value\": 2500598}, \"7860250\": {\"frequency\": 391, \"value\": 7860250}, \"8964125\": {\"frequency\": 85, \"value\": 8964125}, \"3291168\": {\"frequency\": 104, \"value\": 3291168}, \"7467355\": {\"frequency\": 71, \"value\": 7467355}, \"1026084\": {\"frequency\": 96, \"value\": 1026084}, \"7700519\": {\"frequency\": 106, \"value\": 7700519}, \"8202280\": {\"frequency\": 97, \"value\": 8202280}, \"9355271\": {\"frequency\": 72, \"value\": 9355271}, \"2025518\": {\"frequency\": 155, \"value\": 2025518}, \"196957\": {\"frequency\": 79, \"value\": 196957}, \"4499273\": {\"frequency\": 184, \"value\": 4499273}, \"8446984\": {\"frequency\": 134, \"value\": 8446984}, \"2328626\": {\"frequency\": 114, \"value\": 2328626}, \"8956254\": {\"frequency\": 352, \"value\": 8956254}, \"522294\": {\"frequency\": 62, \"value\": 522294}, \"3254334\": {\"frequency\": 86, \"value\": 3254334}, \"6185028\": {\"frequency\": 106, \"value\": 6185028}, \"2474053\": {\"frequency\": 86, \"value\": 2474053}, \"3844166\": {\"frequency\": 90, \"value\": 3844166}, \"5179463\": {\"frequency\": 61, \"value\": 5179463}, \"2052170\": {\"frequency\": 70, \"value\": 2052170}, \"2379852\": {\"frequency\": 79, \"value\": 2379852}, \"7039056\": {\"frequency\": 105, \"value\": 7039056}, \"8067155\": {\"frequency\": 97, \"value\": 8067155}, \"802900\": {\"frequency\": 103, \"value\": 802900}, \"3807321\": {\"frequency\": 62, \"value\": 3807321}, \"7175116\": {\"frequency\": 120, \"value\": 7175116}, \"1230944\": {\"frequency\": 108, \"value\": 1230944}, \"2642017\": {\"frequency\": 68, \"value\": 2642017}, \"3072099\": {\"frequency\": 56, \"value\": 3072099}, \"7172113\": {\"frequency\": 78, \"value\": 7172113}, \"4796521\": {\"frequency\": 71, \"value\": 4796521}, \"9732114\": {\"frequency\": 451, \"value\": 9732114}, \"9984110\": {\"frequency\": 77, \"value\": 9984110}, \"2437231\": {\"frequency\": 76, \"value\": 2437231}, \"6357104\": {\"frequency\": 764, \"value\": 6357104}, \"8658757\": {\"frequency\": 96, \"value\": 8658757}, \"9922680\": {\"frequency\": 67, \"value\": 9922680}, \"2107515\": {\"frequency\": 125, \"value\": 2107515}, \"2207868\": {\"frequency\": 84, \"value\": 2207868}, \"5783679\": {\"frequency\": 173, \"value\": 5783679}, \"227691\": {\"frequency\": 72, \"value\": 227691}, \"8376453\": {\"frequency\": 104, \"value\": 8376453}, \"9080966\": {\"frequency\": 136, \"value\": 9080966}, \"3182729\": {\"frequency\": 106, \"value\": 3182729}, \"7968906\": {\"frequency\": 154, \"value\": 7968906}, \"6680720\": {\"frequency\": 89, \"value\": 6680720}, \"5691538\": {\"frequency\": 72, \"value\": 5691538}, \"442517\": {\"frequency\": 82, \"value\": 442517}, \"5828758\": {\"frequency\": 141, \"value\": 5828758}, \"7439044\": {\"frequency\": 68, \"value\": 7439044}, \"7512218\": {\"frequency\": 85, \"value\": 7512218}, \"7133340\": {\"frequency\": 68, \"value\": 7133340}, \"1597597\": {\"frequency\": 84, \"value\": 1597597}, \"9285790\": {\"frequency\": 84, \"value\": 9285790}, \"1317027\": {\"frequency\": 119, \"value\": 1317027}, \"3793060\": {\"frequency\": 111, \"value\": 3793060}, \"9248934\": {\"frequency\": 81, \"value\": 9248934}, \"5685617\": {\"frequency\": 72, \"value\": 5685617}, \"1540267\": {\"frequency\": 96, \"value\": 1540267}, \"9574574\": {\"frequency\": 67, \"value\": 9574574}, \"3983536\": {\"frequency\": 78, \"value\": 3983536}, \"5011633\": {\"frequency\": 97, \"value\": 5011633}, \"5900479\": {\"frequency\": 87, \"value\": 5900479}, \"7555264\": {\"frequency\": 74, \"value\": 7555264}, \"1814725\": {\"frequency\": 90, \"value\": 1814725}, \"9138375\": {\"frequency\": 112, \"value\": 9138375}, \"7067848\": {\"frequency\": 57, \"value\": 7067848}, \"9312457\": {\"frequency\": 184, \"value\": 9312457}, \"6224079\": {\"frequency\": 90, \"value\": 6224079}, \"2005202\": {\"frequency\": 64, \"value\": 2005202}, \"5630163\": {\"frequency\": 86, \"value\": 5630163}, \"2447573\": {\"frequency\": 59, \"value\": 2447573}, \"2115800\": {\"frequency\": 138, \"value\": 2115800}, \"9492858\": {\"frequency\": 69, \"value\": 9492858}, \"4260062\": {\"frequency\": 131, \"value\": 4260062}, \"1337569\": {\"frequency\": 84, \"value\": 1337569}, \"1321186\": {\"frequency\": 135, \"value\": 1321186}, \"5056740\": {\"frequency\": 57, \"value\": 5056740}, \"1878248\": {\"frequency\": 89, \"value\": 1878248}, \"4081703\": {\"frequency\": 118, \"value\": 4081703}, \"1876205\": {\"frequency\": 95, \"value\": 1876205}, \"4448494\": {\"frequency\": 192, \"value\": 4448494}, \"9154801\": {\"frequency\": 422, \"value\": 9154801}, \"7094515\": {\"frequency\": 186, \"value\": 7094515}, \"6201590\": {\"frequency\": 88, \"value\": 6201590}, \"7629865\": {\"frequency\": 105, \"value\": 7629865}, \"5763323\": {\"frequency\": 65, \"value\": 5763323}, \"9832701\": {\"frequency\": 78, \"value\": 9832701}, \"2627839\": {\"frequency\": 980, \"value\": 2627839}, \"246017\": {\"frequency\": 62, \"value\": 246017}, \"6717698\": {\"frequency\": 74, \"value\": 6717698}, \"6328579\": {\"frequency\": 109, \"value\": 6328579}, \"8646918\": {\"frequency\": 77, \"value\": 8646918}, \"5996807\": {\"frequency\": 85, \"value\": 5996807}, \"8048904\": {\"frequency\": 117, \"value\": 8048904}, \"3485962\": {\"frequency\": 81, \"value\": 3485962}, \"3428619\": {\"frequency\": 153, \"value\": 3428619}, \"1124620\": {\"frequency\": 71, \"value\": 1124620}, \"1749261\": {\"frequency\": 93, \"value\": 1749261}, \"1981485\": {\"frequency\": 70, \"value\": 1981485}, \"8175889\": {\"frequency\": 113, \"value\": 8175889}, \"7051540\": {\"frequency\": 104, \"value\": 7051540}, \"5752878\": {\"frequency\": 70, \"value\": 5752878}, \"8272150\": {\"frequency\": 81, \"value\": 8272150}, \"8077591\": {\"frequency\": 76, \"value\": 8077591}, \"9564440\": {\"frequency\": 85, \"value\": 9564440}, \"5708064\": {\"frequency\": 88, \"value\": 5708064}, \"8737840\": {\"frequency\": 257, \"value\": 8737840}, \"3432742\": {\"frequency\": 96, \"value\": 3432742}, \"3977511\": {\"frequency\": 60, \"value\": 3977511}, \"6158632\": {\"frequency\": 96, \"value\": 6158632}, \"5389362\": {\"frequency\": 91, \"value\": 5389362}, \"8769838\": {\"frequency\": 102, \"value\": 8769838}, \"4720945\": {\"frequency\": 298, \"value\": 4720945}, \"1423667\": {\"frequency\": 80, \"value\": 1423667}, \"9533752\": {\"frequency\": 146, \"value\": 9533752}, \"7043385\": {\"frequency\": 153, \"value\": 7043385}, \"8851772\": {\"frequency\": 68, \"value\": 8851772}, \"1439115\": {\"frequency\": 513, \"value\": 1439115}, \"4364613\": {\"frequency\": 59, \"value\": 4364613}, \"2596577\": {\"frequency\": 74, \"value\": 2596577}, \"6649228\": {\"frequency\": 138, \"value\": 6649228}, \"2242890\": {\"frequency\": 79, \"value\": 2242890}, \"7117879\": {\"frequency\": 80, \"value\": 7117879}, \"225614\": {\"frequency\": 102, \"value\": 225614}, \"1890019\": {\"frequency\": 188, \"value\": 1890019}, \"7594327\": {\"frequency\": 79, \"value\": 7594327}, \"5488987\": {\"frequency\": 89, \"value\": 5488987}, \"6510239\": {\"frequency\": 167, \"value\": 6510239}, \"2576733\": {\"frequency\": 148, \"value\": 2576733}, \"5947742\": {\"frequency\": 77, \"value\": 5947742}, \"3297631\": {\"frequency\": 88, \"value\": 3297631}, \"6340961\": {\"frequency\": 165, \"value\": 6340961}, \"6951266\": {\"frequency\": 76, \"value\": 6951266}, \"4370788\": {\"frequency\": 241, \"value\": 4370788}, \"6365542\": {\"frequency\": 68, \"value\": 6365542}, \"5872883\": {\"frequency\": 169, \"value\": 5872883}, \"5287560\": {\"frequency\": 116, \"value\": 5287560}, \"3477867\": {\"frequency\": 72, \"value\": 3477867}, \"5640557\": {\"frequency\": 65, \"value\": 5640557}, \"9492849\": {\"frequency\": 262, \"value\": 9492849}, \"1249650\": {\"frequency\": 181, \"value\": 1249650}, \"6895988\": {\"frequency\": 72, \"value\": 6895988}, \"6252919\": {\"frequency\": 167, \"value\": 6252919}, \"5306746\": {\"frequency\": 126, \"value\": 5306746}, \"4606338\": {\"frequency\": 81, \"value\": 4606338}, \"3639687\": {\"frequency\": 71, \"value\": 3639687}, \"5542282\": {\"frequency\": 91, \"value\": 5542282}, \"3207564\": {\"frequency\": 107, \"value\": 3207564}, \"5040527\": {\"frequency\": 85, \"value\": 5040527}, \"132504\": {\"frequency\": 84, \"value\": 132504}, \"9093522\": {\"frequency\": 63, \"value\": 9093522}, \"4098454\": {\"frequency\": 67, \"value\": 4098454}, \"7907735\": {\"frequency\": 91, \"value\": 7907735}, \"6298008\": {\"frequency\": 65, \"value\": 6298008}, \"3954756\": {\"frequency\": 71, \"value\": 3954756}, \"9378206\": {\"frequency\": 59, \"value\": 9378206}, \"7209029\": {\"frequency\": 84, \"value\": 7209029}, \"1036704\": {\"frequency\": 106, \"value\": 1036704}, \"428449\": {\"frequency\": 60, \"value\": 428449}, \"6099363\": {\"frequency\": 80, \"value\": 6099363}, \"2937253\": {\"frequency\": 93, \"value\": 2937253}, \"991656\": {\"frequency\": 71, \"value\": 991656}, \"2855337\": {\"frequency\": 66, \"value\": 2855337}, \"7838124\": {\"frequency\": 65, \"value\": 7838124}, \"4385197\": {\"frequency\": 108, \"value\": 4385197}, \"9830830\": {\"frequency\": 90, \"value\": 9830830}, \"6838703\": {\"frequency\": 61, \"value\": 6838703}, \"8888752\": {\"frequency\": 221, \"value\": 8888752}, \"3559858\": {\"frequency\": 70, \"value\": 3559858}, \"7614195\": {\"frequency\": 161, \"value\": 7614195}, \"7238068\": {\"frequency\": 281, \"value\": 7238068}, \"2681270\": {\"frequency\": 218, \"value\": 2681270}, \"7008697\": {\"frequency\": 138, \"value\": 7008697}, \"7186875\": {\"frequency\": 88, \"value\": 7186875}, \"4024765\": {\"frequency\": 82, \"value\": 4024765}, \"1690046\": {\"frequency\": 86, \"value\": 1690046}, \"9228736\": {\"frequency\": 94, \"value\": 9228736}, \"5941697\": {\"frequency\": 89, \"value\": 5941697}, \"3121607\": {\"frequency\": 89, \"value\": 3121607}, \"7704277\": {\"frequency\": 126, \"value\": 7704277}, \"457161\": {\"frequency\": 68, \"value\": 457161}, \"5507531\": {\"frequency\": 91, \"value\": 5507531}, \"5915087\": {\"frequency\": 90, \"value\": 5915087}, \"7858641\": {\"frequency\": 79, \"value\": 7858641}, \"8317395\": {\"frequency\": 95, \"value\": 8317395}, \"4432342\": {\"frequency\": 180, \"value\": 4432342}, \"5211897\": {\"frequency\": 96, \"value\": 5211897}, \"7670232\": {\"frequency\": 274, \"value\": 7670232}, \"4800985\": {\"frequency\": 366, \"value\": 4800985}, \"9421275\": {\"frequency\": 110, \"value\": 9421275}, \"6896094\": {\"frequency\": 118, \"value\": 6896094}, \"706981\": {\"frequency\": 62, \"value\": 706981}, \"2166864\": {\"frequency\": 85, \"value\": 2166864}, \"3076578\": {\"frequency\": 66, \"value\": 3076578}, \"3967459\": {\"frequency\": 100, \"value\": 3967459}, \"2611684\": {\"frequency\": 125, \"value\": 2611684}, \"362982\": {\"frequency\": 103, \"value\": 362982}, \"1882600\": {\"frequency\": 416, \"value\": 1882600}, \"993769\": {\"frequency\": 155, \"value\": 993769}, \"7875055\": {\"frequency\": 61, \"value\": 7875055}, \"2169331\": {\"frequency\": 101, \"value\": 2169331}, \"3488246\": {\"frequency\": 66, \"value\": 3488246}, \"7383543\": {\"frequency\": 135, \"value\": 7383543}, \"9904633\": {\"frequency\": 68, \"value\": 9904633}, \"2275131\": {\"frequency\": 65, \"value\": 2275131}, \"9492988\": {\"frequency\": 159, \"value\": 9492988}, \"8759268\": {\"frequency\": 64, \"value\": 8759268}, \"596479\": {\"frequency\": 68, \"value\": 596479}, \"4841984\": {\"frequency\": 45, \"value\": 4841984}, \"5800449\": {\"frequency\": 111, \"value\": 5800449}, \"3363331\": {\"frequency\": 65, \"value\": 3363331}, \"6072837\": {\"frequency\": 95, \"value\": 6072837}, \"4858374\": {\"frequency\": 128, \"value\": 4858374}, \"2648492\": {\"frequency\": 243, \"value\": 2648492}, \"9478667\": {\"frequency\": 70, \"value\": 9478667}, \"7637520\": {\"frequency\": 73, \"value\": 7637520}, \"9753688\": {\"frequency\": 114, \"value\": 9753688}, \"9706003\": {\"frequency\": 60, \"value\": 9706003}, \"555542\": {\"frequency\": 85, \"value\": 555542}, \"6634009\": {\"frequency\": 62, \"value\": 6634009}, \"4403738\": {\"frequency\": 186, \"value\": 4403738}, \"2984475\": {\"frequency\": 96, \"value\": 2984475}, \"4653829\": {\"frequency\": 161, \"value\": 4653829}, \"3549616\": {\"frequency\": 184, \"value\": 3549616}, \"3273250\": {\"frequency\": 133, \"value\": 3273250}, \"8374821\": {\"frequency\": 387, \"value\": 8374821}, \"9390079\": {\"frequency\": 67, \"value\": 9390079}, \"6564392\": {\"frequency\": 98, \"value\": 6564392}, \"6562346\": {\"frequency\": 142, \"value\": 6562346}, \"6930993\": {\"frequency\": 81, \"value\": 6930993}, \"5796404\": {\"frequency\": 232, \"value\": 5796404}, \"7412279\": {\"frequency\": 130, \"value\": 7412279}, \"6128186\": {\"frequency\": 180, \"value\": 6128186}, \"3502651\": {\"frequency\": 145, \"value\": 3502651}, \"6224445\": {\"frequency\": 92, \"value\": 6224445}, \"5993022\": {\"frequency\": 74, \"value\": 5993022}, \"122976\": {\"frequency\": 67, \"value\": 122976}, \"1950274\": {\"frequency\": 103, \"value\": 1950274}, \"9638468\": {\"frequency\": 82, \"value\": 9638468}, \"7930294\": {\"frequency\": 687, \"value\": 7930294}, \"1499719\": {\"frequency\": 135, \"value\": 1499719}, \"3138763\": {\"frequency\": 142, \"value\": 3138763}, \"9513546\": {\"frequency\": 75, \"value\": 9513546}, \"3646029\": {\"frequency\": 77, \"value\": 3646029}, \"6240846\": {\"frequency\": 152, \"value\": 6240846}, \"1950289\": {\"frequency\": 132, \"value\": 1950289}, \"8966741\": {\"frequency\": 71, \"value\": 8966741}, \"7872455\": {\"frequency\": 90, \"value\": 7872455}, \"9964121\": {\"frequency\": 93, \"value\": 9964121}, \"4192859\": {\"frequency\": 69, \"value\": 4192859}, \"8602205\": {\"frequency\": 76, \"value\": 8602205}, \"8194662\": {\"frequency\": 86, \"value\": 8194662}, \"2952977\": {\"frequency\": 114, \"value\": 2952977}, \"7119464\": {\"frequency\": 318, \"value\": 7119464}, \"9534058\": {\"frequency\": 58, \"value\": 9534058}, \"5370478\": {\"frequency\": 129, \"value\": 5370478}, \"9470397\": {\"frequency\": 66, \"value\": 9470397}, \"5462641\": {\"frequency\": 66, \"value\": 5462641}, \"9310835\": {\"frequency\": 189, \"value\": 9310835}, \"5228990\": {\"frequency\": 81, \"value\": 5228990}, \"2856463\": {\"frequency\": 120, \"value\": 2856463}, \"7522937\": {\"frequency\": 103, \"value\": 7522937}, \"9835131\": {\"frequency\": 188, \"value\": 9835131}, \"8538748\": {\"frequency\": 55, \"value\": 8538748}, \"7455357\": {\"frequency\": 193, \"value\": 7455357}, \"9376382\": {\"frequency\": 63, \"value\": 9376382}, \"9990785\": {\"frequency\": 69, \"value\": 9990785}, \"6707844\": {\"frequency\": 124, \"value\": 6707844}, \"3897992\": {\"frequency\": 219, \"value\": 3897992}, \"7434891\": {\"frequency\": 140, \"value\": 7434891}, \"6351501\": {\"frequency\": 68, \"value\": 6351501}, \"9482895\": {\"frequency\": 79, \"value\": 9482895}, \"8422035\": {\"frequency\": 49, \"value\": 8422035}, \"1706645\": {\"frequency\": 68, \"value\": 1706645}, \"424598\": {\"frequency\": 174, \"value\": 424598}, \"6941335\": {\"frequency\": 97, \"value\": 6941335}, \"1873348\": {\"frequency\": 74, \"value\": 1873348}, \"9005724\": {\"frequency\": 88, \"value\": 9005724}, \"3564191\": {\"frequency\": 110, \"value\": 3564191}, \"676513\": {\"frequency\": 96, \"value\": 676513}, \"4782754\": {\"frequency\": 338, \"value\": 4782754}, \"4235940\": {\"frequency\": 56, \"value\": 4235940}, \"7643818\": {\"frequency\": 128, \"value\": 7643818}, \"1804974\": {\"frequency\": 54, \"value\": 1804974}, \"1086129\": {\"frequency\": 91, \"value\": 1086129}, \"2335410\": {\"frequency\": 77, \"value\": 2335410}, \"1247926\": {\"frequency\": 96, \"value\": 1247926}, \"4580024\": {\"frequency\": 70, \"value\": 4580024}, \"8344253\": {\"frequency\": 64, \"value\": 8344253}, \"7719618\": {\"frequency\": 329, \"value\": 7719618}, \"9855684\": {\"frequency\": 169, \"value\": 9855684}, \"7893702\": {\"frequency\": 107, \"value\": 7893702}, \"1993415\": {\"frequency\": 148, \"value\": 1993415}, \"8422088\": {\"frequency\": 141, \"value\": 8422088}, \"4389577\": {\"frequency\": 66, \"value\": 4389577}, \"6728394\": {\"frequency\": 88, \"value\": 6728394}, \"8538828\": {\"frequency\": 172, \"value\": 8538828}, \"2065101\": {\"frequency\": 89, \"value\": 2065101}, \"9008871\": {\"frequency\": 73, \"value\": 9008871}, \"3828893\": {\"frequency\": 64, \"value\": 3828893}, \"8524500\": {\"frequency\": 86, \"value\": 8524500}, \"5264088\": {\"frequency\": 168, \"value\": 5264088}, \"4457181\": {\"frequency\": 106, \"value\": 4457181}, \"3709667\": {\"frequency\": 90, \"value\": 3709667}, \"7006948\": {\"frequency\": 91, \"value\": 7006948}, \"365285\": {\"frequency\": 67, \"value\": 365285}, \"4930279\": {\"frequency\": 94, \"value\": 4930279}, \"8751852\": {\"frequency\": 78, \"value\": 8751852}, \"2673391\": {\"frequency\": 118, \"value\": 2673391}, \"3665704\": {\"frequency\": 637, \"value\": 3665704}, \"1137394\": {\"frequency\": 64, \"value\": 1137394}, \"2058996\": {\"frequency\": 56, \"value\": 2058996}, \"8936182\": {\"frequency\": 86, \"value\": 8936182}, \"3998456\": {\"frequency\": 237, \"value\": 3998456}, \"6859515\": {\"frequency\": 66, \"value\": 6859515}, \"8061693\": {\"frequency\": 738, \"value\": 8061693}, \"87022\": {\"frequency\": 170, \"value\": 87022}, \"9708292\": {\"frequency\": 79, \"value\": 9708292}, \"9222917\": {\"frequency\": 117, \"value\": 9222917}, \"4866826\": {\"frequency\": 81, \"value\": 4866826}, \"6236939\": {\"frequency\": 73, \"value\": 6236939}, \"8203023\": {\"frequency\": 73, \"value\": 8203023}, \"2816784\": {\"frequency\": 73, \"value\": 2816784}, \"7277330\": {\"frequency\": 99, \"value\": 7277330}, \"9081620\": {\"frequency\": 90, \"value\": 9081620}, \"8848174\": {\"frequency\": 74, \"value\": 8848174}, \"7400214\": {\"frequency\": 87, \"value\": 7400214}, \"1901017\": {\"frequency\": 99, \"value\": 1901017}, \"7488281\": {\"frequency\": 105, \"value\": 7488281}, \"6859554\": {\"frequency\": 84, \"value\": 6859554}, \"6867752\": {\"frequency\": 137, \"value\": 6867752}, \"5671724\": {\"frequency\": 125, \"value\": 5671724}, \"7844654\": {\"frequency\": 96, \"value\": 7844654}, \"2220850\": {\"frequency\": 89, \"value\": 2220850}, \"1764148\": {\"frequency\": 57, \"value\": 1764148}, \"4989750\": {\"frequency\": 174, \"value\": 4989750}, \"420663\": {\"frequency\": 57, \"value\": 420663}, \"9024312\": {\"frequency\": 96, \"value\": 9024312}, \"8407860\": {\"frequency\": 110, \"value\": 8407860}, \"8174394\": {\"frequency\": 150, \"value\": 8174394}, \"4676412\": {\"frequency\": 69, \"value\": 4676412}, \"3832640\": {\"frequency\": 78, \"value\": 3832640}, \"3949384\": {\"frequency\": 64, \"value\": 3949384}, \"8635209\": {\"frequency\": 161, \"value\": 8635209}, \"4068173\": {\"frequency\": 435, \"value\": 4068173}, \"6345552\": {\"frequency\": 66, \"value\": 6345552}, \"5325283\": {\"frequency\": 168, \"value\": 5325283}, \"8397653\": {\"frequency\": 102, \"value\": 8397653}, \"5352278\": {\"frequency\": 46, \"value\": 5352278}, \"8038884\": {\"frequency\": 72, \"value\": 8038884}, \"8140602\": {\"frequency\": 87, \"value\": 8140602}, \"3468432\": {\"frequency\": 67, \"value\": 3468432}, \"6230882\": {\"frequency\": 189, \"value\": 6230882}, \"7769915\": {\"frequency\": 62, \"value\": 7769915}, \"3727846\": {\"frequency\": 95, \"value\": 3727846}, \"6398825\": {\"frequency\": 105, \"value\": 6398825}, \"9303527\": {\"frequency\": 303, \"value\": 9303527}, \"6857580\": {\"frequency\": 102, \"value\": 6857580}, \"7957357\": {\"frequency\": 111, \"value\": 7957357}, \"8465266\": {\"frequency\": 64, \"value\": 8465266}, \"5041012\": {\"frequency\": 66, \"value\": 5041012}, \"8450934\": {\"frequency\": 323, \"value\": 8450934}, \"811895\": {\"frequency\": 67, \"value\": 811895}, \"4113273\": {\"frequency\": 69, \"value\": 4113273}, \"3505018\": {\"frequency\": 69, \"value\": 3505018}, \"141740\": {\"frequency\": 319, \"value\": 141740}, \"9110397\": {\"frequency\": 263, \"value\": 9110397}, \"2022208\": {\"frequency\": 136, \"value\": 2022208}, \"5454722\": {\"frequency\": 82, \"value\": 5454722}, \"1713030\": {\"frequency\": 107, \"value\": 1713030}, \"1446796\": {\"frequency\": 74, \"value\": 1446796}, \"5053327\": {\"frequency\": 72, \"value\": 5053327}, \"1686418\": {\"frequency\": 153, \"value\": 1686418}, \"9900947\": {\"frequency\": 65, \"value\": 9900947}, \"9368047\": {\"frequency\": 332, \"value\": 9368047}, \"99229\": {\"frequency\": 55, \"value\": 99229}, \"4594591\": {\"frequency\": 88, \"value\": 4594591}, \"1475489\": {\"frequency\": 69, \"value\": 1475489}, \"667666\": {\"frequency\": 98, \"value\": 667666}, \"265125\": {\"frequency\": 864, \"value\": 265125}, \"4395942\": {\"frequency\": 85, \"value\": 4395942}, \"7464179\": {\"frequency\": 78, \"value\": 7464179}, \"7078044\": {\"frequency\": 74, \"value\": 7078044}, \"3339178\": {\"frequency\": 56, \"value\": 3339178}, \"1936300\": {\"frequency\": 96, \"value\": 1936300}, \"8645551\": {\"frequency\": 74, \"value\": 8645551}, \"2845616\": {\"frequency\": 61, \"value\": 2845616}, \"694088\": {\"frequency\": 70, \"value\": 694088}, \"8657842\": {\"frequency\": 65, \"value\": 8657842}, \"7157918\": {\"frequency\": 70, \"value\": 7157918}, \"2818889\": {\"frequency\": 128, \"value\": 2818889}, \"4928442\": {\"frequency\": 69, \"value\": 4928442}, \"275388\": {\"frequency\": 61, \"value\": 275388}, \"6511551\": {\"frequency\": 107, \"value\": 6511551}, \"3763135\": {\"frequency\": 70, \"value\": 3763135}, \"2757575\": {\"frequency\": 78, \"value\": 2757575}, \"3521481\": {\"frequency\": 63, \"value\": 3521481}, \"9688010\": {\"frequency\": 450, \"value\": 9688010}, \"3730380\": {\"frequency\": 102, \"value\": 3730380}, \"1498062\": {\"frequency\": 104, \"value\": 1498062}, \"5825487\": {\"frequency\": 71, \"value\": 5825487}, \"6431698\": {\"frequency\": 75, \"value\": 6431698}, \"4621268\": {\"frequency\": 146, \"value\": 4621268}, \"4413262\": {\"frequency\": 98, \"value\": 4413262}, \"1049559\": {\"frequency\": 90, \"value\": 1049559}, \"4018340\": {\"frequency\": 250, \"value\": 4018340}, \"5374938\": {\"frequency\": 89, \"value\": 5374938}, \"7666651\": {\"frequency\": 77, \"value\": 7666651}, \"8698845\": {\"frequency\": 81, \"value\": 8698845}, \"1276895\": {\"frequency\": 108, \"value\": 1276895}, \"7244768\": {\"frequency\": 64, \"value\": 7244768}, \"670690\": {\"frequency\": 117, \"value\": 670690}, \"5536739\": {\"frequency\": 132, \"value\": 5536739}, \"1512420\": {\"frequency\": 571, \"value\": 1512420}, \"4594509\": {\"frequency\": 131, \"value\": 4594509}, \"6677480\": {\"frequency\": 63, \"value\": 6677480}, \"1774569\": {\"frequency\": 274, \"value\": 1774569}, \"3032043\": {\"frequency\": 341, \"value\": 3032043}, \"9020397\": {\"frequency\": 117, \"value\": 9020397}, \"7641490\": {\"frequency\": 68, \"value\": 7641490}, \"338927\": {\"frequency\": 56, \"value\": 338927}, \"7433207\": {\"frequency\": 72, \"value\": 7433207}, \"5280763\": {\"frequency\": 90, \"value\": 5280763}, \"9430013\": {\"frequency\": 73, \"value\": 9430013}, \"983552\": {\"frequency\": 109, \"value\": 983552}, \"437252\": {\"frequency\": 64, \"value\": 437252}, \"3277829\": {\"frequency\": 73, \"value\": 3277829}, \"8520710\": {\"frequency\": 142, \"value\": 8520710}, \"1580040\": {\"frequency\": 134, \"value\": 1580040}, \"5506562\": {\"frequency\": 73, \"value\": 5506562}, \"2199206\": {\"frequency\": 64, \"value\": 2199206}, \"3671056\": {\"frequency\": 75, \"value\": 3671056}, \"6248280\": {\"frequency\": 66, \"value\": 6248280}, \"9262098\": {\"frequency\": 110, \"value\": 9262098}, \"7830019\": {\"frequency\": 79, \"value\": 7830019}, \"1575956\": {\"frequency\": 179, \"value\": 1575956}, \"7656473\": {\"frequency\": 303, \"value\": 7656473}, \"6278170\": {\"frequency\": 178, \"value\": 6278170}, \"2395165\": {\"frequency\": 168, \"value\": 2395165}, \"4225541\": {\"frequency\": 70, \"value\": 4225541}, \"3752992\": {\"frequency\": 67, \"value\": 3752992}, \"98480\": {\"frequency\": 860, \"value\": 98480}, \"5925925\": {\"frequency\": 70, \"value\": 5925925}, \"4326438\": {\"frequency\": 64, \"value\": 4326438}, \"7040039\": {\"frequency\": 110, \"value\": 7040039}, \"3474473\": {\"frequency\": 122, \"value\": 3474473}, \"9417770\": {\"frequency\": 71, \"value\": 9417770}, \"8657963\": {\"frequency\": 75, \"value\": 8657963}, \"2964525\": {\"frequency\": 129, \"value\": 2964525}, \"7537710\": {\"frequency\": 87, \"value\": 7537710}, \"513071\": {\"frequency\": 90, \"value\": 513071}, \"9194544\": {\"frequency\": 77, \"value\": 9194544}, \"4250674\": {\"frequency\": 204, \"value\": 4250674}, \"7646259\": {\"frequency\": 62, \"value\": 7646259}, \"1958964\": {\"frequency\": 95, \"value\": 1958964}, \"2753590\": {\"frequency\": 71, \"value\": 2753590}, \"5485623\": {\"frequency\": 73, \"value\": 5485623}, \"1186872\": {\"frequency\": 157, \"value\": 1186872}, \"6337716\": {\"frequency\": 97, \"value\": 6337716}, \"3300410\": {\"frequency\": 71, \"value\": 3300410}, \"9272379\": {\"frequency\": 90, \"value\": 9272379}, \"48650\": {\"frequency\": 79, \"value\": 48650}, \"224318\": {\"frequency\": 104, \"value\": 224318}, \"2962045\": {\"frequency\": 110, \"value\": 2962045}, \"5735488\": {\"frequency\": 69, \"value\": 5735488}, \"3423300\": {\"frequency\": 58, \"value\": 3423300}, \"5686455\": {\"frequency\": 106, \"value\": 5686455}, \"7371854\": {\"frequency\": 141, \"value\": 7371854}, \"7720018\": {\"frequency\": 110, \"value\": 7720018}, \"3806291\": {\"frequency\": 86, \"value\": 3806291}, \"7138389\": {\"frequency\": 58, \"value\": 7138389}, \"2946135\": {\"frequency\": 83, \"value\": 2946135}, \"7724120\": {\"frequency\": 153, \"value\": 7724120}, \"6909017\": {\"frequency\": 88, \"value\": 6909017}, \"4553818\": {\"frequency\": 113, \"value\": 4553818}, \"1078363\": {\"frequency\": 99, \"value\": 1078363}, \"3258015\": {\"frequency\": 101, \"value\": 3258015}, \"6030431\": {\"frequency\": 98, \"value\": 6030431}, \"7672928\": {\"frequency\": 74, \"value\": 7672928}, \"8322145\": {\"frequency\": 93, \"value\": 8322145}, \"2905187\": {\"frequency\": 62, \"value\": 2905187}, \"8268901\": {\"frequency\": 91, \"value\": 8268901}, \"3118182\": {\"frequency\": 137, \"value\": 3118182}, \"6276200\": {\"frequency\": 76, \"value\": 6276200}, \"1131626\": {\"frequency\": 129, \"value\": 1131626}, \"8262763\": {\"frequency\": 65, \"value\": 8262763}, \"4686957\": {\"frequency\": 85, \"value\": 4686957}, \"7040110\": {\"frequency\": 86, \"value\": 7040110}, \"3204627\": {\"frequency\": 121, \"value\": 3204627}, \"2553896\": {\"frequency\": 89, \"value\": 2553896}, \"8088698\": {\"frequency\": 122, \"value\": 8088698}, \"4882623\": {\"frequency\": 323, \"value\": 4882623}, \"6274172\": {\"frequency\": 94, \"value\": 6274172}, \"5164158\": {\"frequency\": 85, \"value\": 5164158}, \"2745471\": {\"frequency\": 129, \"value\": 2745471}, \"4983938\": {\"frequency\": 70, \"value\": 4983938}, \"898184\": {\"frequency\": 97, \"value\": 898184}, \"9372810\": {\"frequency\": 85, \"value\": 9372810}, \"8281623\": {\"frequency\": 157, \"value\": 8281623}, \"7069675\": {\"frequency\": 124, \"value\": 7069675}, \"3097744\": {\"frequency\": 89, \"value\": 3097744}, \"1043601\": {\"frequency\": 273, \"value\": 1043601}, \"9940117\": {\"frequency\": 84, \"value\": 9940117}, \"6357529\": {\"frequency\": 70, \"value\": 6357529}, \"8460007\": {\"frequency\": 88, \"value\": 8460007}, \"5551261\": {\"frequency\": 67, \"value\": 5551261}, \"9503902\": {\"frequency\": 133, \"value\": 9503902}, \"221040\": {\"frequency\": 112, \"value\": 221040}, \"3298470\": {\"frequency\": 337, \"value\": 3298470}, \"6945965\": {\"frequency\": 184, \"value\": 6945965}, \"8672432\": {\"frequency\": 56, \"value\": 8672432}, \"9834696\": {\"frequency\": 75, \"value\": 9834696}, \"2983090\": {\"frequency\": 64, \"value\": 2983090}, \"1512628\": {\"frequency\": 93, \"value\": 1512628}, \"2792630\": {\"frequency\": 54, \"value\": 2792630}, \"2606263\": {\"frequency\": 64, \"value\": 2606263}, \"1227961\": {\"frequency\": 119, \"value\": 1227961}, \"8324286\": {\"frequency\": 93, \"value\": 8324286}, \"4580544\": {\"frequency\": 78, \"value\": 4580544}, \"5534915\": {\"frequency\": 83, \"value\": 5534915}, \"4097220\": {\"frequency\": 581, \"value\": 4097220}, \"6358215\": {\"frequency\": 57, \"value\": 6358215}, \"9925832\": {\"frequency\": 83, \"value\": 9925832}, \"2747255\": {\"frequency\": 127, \"value\": 2747255}, \"7750860\": {\"frequency\": 76, \"value\": 7750860}, \"8728945\": {\"frequency\": 301, \"value\": 8728945}, \"6446289\": {\"frequency\": 75, \"value\": 6446289}, \"3278036\": {\"frequency\": 74, \"value\": 3278036}, \"775716\": {\"frequency\": 160, \"value\": 775716}, \"4409551\": {\"frequency\": 68, \"value\": 4409551}, \"568520\": {\"frequency\": 92, \"value\": 568520}, \"1760122\": {\"frequency\": 85, \"value\": 1760122}, \"5571806\": {\"frequency\": 120, \"value\": 5571806}, \"6395103\": {\"frequency\": 70, \"value\": 6395103}, \"7693537\": {\"frequency\": 89, \"value\": 7693537}, \"1297635\": {\"frequency\": 60, \"value\": 1297635}, \"8189156\": {\"frequency\": 68, \"value\": 8189156}, \"9108710\": {\"frequency\": 68, \"value\": 9108710}, \"9800939\": {\"frequency\": 323, \"value\": 9800939}, \"6563054\": {\"frequency\": 332, \"value\": 6563054}, \"1598704\": {\"frequency\": 132, \"value\": 1598704}, \"6877395\": {\"frequency\": 155, \"value\": 6877395}, \"6225790\": {\"frequency\": 88, \"value\": 6225790}, \"9706746\": {\"frequency\": 103, \"value\": 9706746}, \"4812028\": {\"frequency\": 88, \"value\": 4812028}, \"2278655\": {\"frequency\": 146, \"value\": 2278655}, \"351787\": {\"frequency\": 93, \"value\": 351787}, \"6545696\": {\"frequency\": 85, \"value\": 6545696}, \"9735429\": {\"frequency\": 83, \"value\": 9735429}, \"7476486\": {\"frequency\": 111, \"value\": 7476486}, \"9501960\": {\"frequency\": 76, \"value\": 9501960}, \"140844\": {\"frequency\": 73, \"value\": 140844}, \"7033740\": {\"frequency\": 84, \"value\": 7033740}, \"7814921\": {\"frequency\": 86, \"value\": 7814921}, \"5719310\": {\"frequency\": 85, \"value\": 5719310}, \"2376977\": {\"frequency\": 98, \"value\": 2376977}, \"3058965\": {\"frequency\": 121, \"value\": 3058965}, \"7802137\": {\"frequency\": 84, \"value\": 7802137}, \"1535258\": {\"frequency\": 67, \"value\": 1535258}, \"4758817\": {\"frequency\": 123, \"value\": 4758817}, \"2293027\": {\"frequency\": 199, \"value\": 2293027}, \"1199396\": {\"frequency\": 241, \"value\": 1199396}, \"8557446\": {\"frequency\": 80, \"value\": 8557446}, \"7779623\": {\"frequency\": 213, \"value\": 7779623}, \"5387560\": {\"frequency\": 105, \"value\": 5387560}, \"6700252\": {\"frequency\": 77, \"value\": 6700252}, \"8609066\": {\"frequency\": 109, \"value\": 8609066}, \"9239851\": {\"frequency\": 196, \"value\": 9239851}, \"230700\": {\"frequency\": 85, \"value\": 230700}, \"1852637\": {\"frequency\": 76, \"value\": 1852637}, \"5098801\": {\"frequency\": 75, \"value\": 5098801}, \"623838\": {\"frequency\": 210, \"value\": 623838}, \"6772617\": {\"frequency\": 123, \"value\": 6772617}, \"5633336\": {\"frequency\": 79, \"value\": 5633336}, \"4836001\": {\"frequency\": 226, \"value\": 4836001}, \"3542332\": {\"frequency\": 187, \"value\": 3542332}, \"3673405\": {\"frequency\": 56, \"value\": 3673405}, \"3474751\": {\"frequency\": 120, \"value\": 3474751}, \"3571010\": {\"frequency\": 82, \"value\": 3571010}, \"5266757\": {\"frequency\": 54, \"value\": 5266757}, \"4150598\": {\"frequency\": 67, \"value\": 4150598}, \"2560908\": {\"frequency\": 75, \"value\": 2560908}, \"8946231\": {\"frequency\": 476, \"value\": 8946231}, \"275788\": {\"frequency\": 66, \"value\": 275788}, \"9610573\": {\"frequency\": 106, \"value\": 9610573}, \"2361387\": {\"frequency\": 63, \"value\": 2361387}, \"5979476\": {\"frequency\": 96, \"value\": 5979476}, \"7298389\": {\"frequency\": 75, \"value\": 7298389}, \"9882973\": {\"frequency\": 65, \"value\": 9882973}, \"6034784\": {\"frequency\": 100, \"value\": 6034784}, \"8456403\": {\"frequency\": 63, \"value\": 8456403}, \"2817379\": {\"frequency\": 1616, \"value\": 2817379}, \"7110545\": {\"frequency\": 58, \"value\": 7110545}, \"3063147\": {\"frequency\": 101, \"value\": 3063147}, \"9610604\": {\"frequency\": 70, \"value\": 9610604}, \"5417874\": {\"frequency\": 350, \"value\": 5417874}, \"7447918\": {\"frequency\": 156, \"value\": 7447918}, \"1072495\": {\"frequency\": 83, \"value\": 1072495}, \"9092465\": {\"frequency\": 335, \"value\": 9092465}, \"6927730\": {\"frequency\": 88, \"value\": 6927730}, \"9401715\": {\"frequency\": 72, \"value\": 9401715}, \"2868597\": {\"frequency\": 137, \"value\": 2868597}, \"421244\": {\"frequency\": 75, \"value\": 421244}, \"4240766\": {\"frequency\": 137, \"value\": 4240766}, \"5977473\": {\"frequency\": 133, \"value\": 5977473}, \"9991556\": {\"frequency\": 72, \"value\": 9991556}, \"8963885\": {\"frequency\": 81, \"value\": 8963885}, \"7449153\": {\"frequency\": 72, \"value\": 7449153}, \"128392\": {\"frequency\": 78, \"value\": 128392}, \"4681097\": {\"frequency\": 60, \"value\": 4681097}, \"6630795\": {\"frequency\": 125, \"value\": 6630795}, \"3540364\": {\"frequency\": 95, \"value\": 3540364}, \"3196302\": {\"frequency\": 66, \"value\": 3196302}, \"2325904\": {\"frequency\": 123, \"value\": 2325904}, \"2659732\": {\"frequency\": 71, \"value\": 2659732}, \"9409544\": {\"frequency\": 67, \"value\": 9409544}, \"1578392\": {\"frequency\": 115, \"value\": 1578392}, \"6679966\": {\"frequency\": 77, \"value\": 6679966}, \"9141663\": {\"frequency\": 73, \"value\": 9141663}, \"5866913\": {\"frequency\": 285, \"value\": 5866913}, \"1276827\": {\"frequency\": 86, \"value\": 1276827}, \"2215332\": {\"frequency\": 227, \"value\": 2215332}, \"2303397\": {\"frequency\": 94, \"value\": 2303397}, \"8698439\": {\"frequency\": 123, \"value\": 8698439}, \"1932716\": {\"frequency\": 283, \"value\": 1932716}, \"5735325\": {\"frequency\": 53, \"value\": 5735325}, \"5045682\": {\"frequency\": 72, \"value\": 5045682}, \"7294387\": {\"frequency\": 107, \"value\": 7294387}, \"8195511\": {\"frequency\": 131, \"value\": 8195511}, \"5172664\": {\"frequency\": 128, \"value\": 5172664}, \"2803129\": {\"frequency\": 102, \"value\": 2803129}, \"9321555\": {\"frequency\": 87, \"value\": 9321555}, \"7456189\": {\"frequency\": 73, \"value\": 7456189}, \"3427780\": {\"frequency\": 66, \"value\": 3427780}, \"140741\": {\"frequency\": 57, \"value\": 140741}, \"2764231\": {\"frequency\": 92, \"value\": 2764231}, \"4603336\": {\"frequency\": 65, \"value\": 4603336}, \"8672716\": {\"frequency\": 188, \"value\": 8672716}, \"3380688\": {\"frequency\": 59, \"value\": 3380688}, \"1481054\": {\"frequency\": 81, \"value\": 1481054}, \"4488235\": {\"frequency\": 118, \"value\": 4488235}, \"3347929\": {\"frequency\": 93, \"value\": 3347929}, \"2174195\": {\"frequency\": 233, \"value\": 2174195}, \"7986664\": {\"frequency\": 110, \"value\": 7986664}, \"1168636\": {\"frequency\": 77, \"value\": 1168636}, \"3032554\": {\"frequency\": 627, \"value\": 3032554}, \"8465899\": {\"frequency\": 84, \"value\": 8465899}, \"5477868\": {\"frequency\": 103, \"value\": 5477868}, \"4004907\": {\"frequency\": 252, \"value\": 4004907}, \"6095717\": {\"frequency\": 67, \"value\": 6095717}, \"790013\": {\"frequency\": 84, \"value\": 790013}, \"3228245\": {\"frequency\": 80, \"value\": 3228245}, \"5901824\": {\"frequency\": 70, \"value\": 5901824}, \"4118417\": {\"frequency\": 73, \"value\": 4118417}, \"9039362\": {\"frequency\": 400, \"value\": 9039362}, \"1466152\": {\"frequency\": 1601, \"value\": 1466152}, \"8084996\": {\"frequency\": 125, \"value\": 8084996}, \"2176519\": {\"frequency\": 124, \"value\": 2176519}, \"3767246\": {\"frequency\": 154, \"value\": 3767246}, \"2788874\": {\"frequency\": 157, \"value\": 2788874}, \"6323723\": {\"frequency\": 130, \"value\": 6323723}, \"8291855\": {\"frequency\": 228, \"value\": 8291855}, \"3154179\": {\"frequency\": 210, \"value\": 3154179}, \"8236564\": {\"frequency\": 121, \"value\": 8236564}, \"9266710\": {\"frequency\": 78, \"value\": 9266710}, \"7769623\": {\"frequency\": 86, \"value\": 7769623}, \"1621533\": {\"frequency\": 72, \"value\": 1621533}, \"1402398\": {\"frequency\": 128, \"value\": 1402398}, \"8861215\": {\"frequency\": 67, \"value\": 8861215}, \"318384\": {\"frequency\": 99, \"value\": 318384}, \"9737763\": {\"frequency\": 103, \"value\": 9737763}, \"5434916\": {\"frequency\": 160, \"value\": 5434916}, \"3747369\": {\"frequency\": 71, \"value\": 3747369}, \"5176875\": {\"frequency\": 64, \"value\": 5176875}, \"2209324\": {\"frequency\": 132, \"value\": 2209324}, \"2036658\": {\"frequency\": 78, \"value\": 2036658}, \"36398\": {\"frequency\": 78, \"value\": 36398}, \"9253128\": {\"frequency\": 96, \"value\": 9253128}, \"1455668\": {\"frequency\": 100, \"value\": 1455668}, \"1080886\": {\"frequency\": 85, \"value\": 1080886}, \"2997815\": {\"frequency\": 133, \"value\": 2997815}, \"226872\": {\"frequency\": 143, \"value\": 226872}, \"4529721\": {\"frequency\": 59, \"value\": 4529721}, \"499258\": {\"frequency\": 43, \"value\": 499258}, \"9948734\": {\"frequency\": 76, \"value\": 9948734}, \"2024373\": {\"frequency\": 377, \"value\": 2024373}, \"2086464\": {\"frequency\": 87, \"value\": 2086464}, \"5254049\": {\"frequency\": 78, \"value\": 5254049}, \"4606668\": {\"frequency\": 97, \"value\": 4606668}, \"2342470\": {\"frequency\": 209, \"value\": 2342470}, \"9545287\": {\"frequency\": 103, \"value\": 9545287}, \"6966857\": {\"frequency\": 65, \"value\": 6966857}, \"5719626\": {\"frequency\": 163, \"value\": 5719626}, \"2031183\": {\"frequency\": 77, \"value\": 2031183}, \"2709072\": {\"frequency\": 68, \"value\": 2709072}, \"1218130\": {\"frequency\": 100, \"value\": 1218130}, \"3690068\": {\"frequency\": 84, \"value\": 3690068}, \"6737496\": {\"frequency\": 64, \"value\": 6737496}, \"6917721\": {\"frequency\": 69, \"value\": 6917721}, \"5363290\": {\"frequency\": 84, \"value\": 5363290}, \"4462174\": {\"frequency\": 74, \"value\": 4462174}, \"6610527\": {\"frequency\": 98, \"value\": 6610527}, \"6964832\": {\"frequency\": 92, \"value\": 6964832}, \"2901601\": {\"frequency\": 77, \"value\": 2901601}, \"278114\": {\"frequency\": 109, \"value\": 278114}, \"220363\": {\"frequency\": 86, \"value\": 220363}, \"5287185\": {\"frequency\": 66, \"value\": 5287185}, \"9107050\": {\"frequency\": 137, \"value\": 9107050}, \"4513383\": {\"frequency\": 95, \"value\": 4513383}, \"3029509\": {\"frequency\": 101, \"value\": 3029509}, \"2082413\": {\"frequency\": 88, \"value\": 2082413}, \"6452847\": {\"frequency\": 86, \"value\": 6452847}, \"4527733\": {\"frequency\": 202, \"value\": 4527733}, \"1980023\": {\"frequency\": 148, \"value\": 1980023}, \"3690104\": {\"frequency\": 107, \"value\": 3690104}, \"120442\": {\"frequency\": 84, \"value\": 120442}, \"690604\": {\"frequency\": 98, \"value\": 690604}, \"931453\": {\"frequency\": 46, \"value\": 931453}, \"4347518\": {\"frequency\": 78, \"value\": 4347518}, \"8277269\": {\"frequency\": 87, \"value\": 8277269}, \"5023360\": {\"frequency\": 75, \"value\": 5023360}, \"7741057\": {\"frequency\": 73, \"value\": 7741057}, \"6334082\": {\"frequency\": 141, \"value\": 6334082}, \"8726149\": {\"frequency\": 99, \"value\": 8726149}, \"2320006\": {\"frequency\": 75, \"value\": 2320006}, \"7431265\": {\"frequency\": 185, \"value\": 7431265}, \"9538510\": {\"frequency\": 126, \"value\": 9538510}, \"4449900\": {\"frequency\": 508, \"value\": 4449900}, \"5000844\": {\"frequency\": 61, \"value\": 5000844}, \"941783\": {\"frequency\": 76, \"value\": 941783}, \"7716500\": {\"frequency\": 128, \"value\": 7716500}, \"9467544\": {\"frequency\": 75, \"value\": 9467544}, \"7688132\": {\"frequency\": 123, \"value\": 7688132}, \"9528989\": {\"frequency\": 87, \"value\": 9528989}, \"7894686\": {\"frequency\": 102, \"value\": 7894686}, \"679583\": {\"frequency\": 249, \"value\": 679583}, \"8842913\": {\"frequency\": 78, \"value\": 8842913}, \"7950015\": {\"frequency\": 215, \"value\": 7950015}, \"9588390\": {\"frequency\": 56, \"value\": 9588390}, \"1552041\": {\"frequency\": 118, \"value\": 1552041}, \"9746090\": {\"frequency\": 68, \"value\": 9746090}, \"6130631\": {\"frequency\": 73, \"value\": 6130631}, \"749228\": {\"frequency\": 103, \"value\": 749228}, \"7722669\": {\"frequency\": 53, \"value\": 7722669}, \"2782897\": {\"frequency\": 127, \"value\": 2782897}, \"5447349\": {\"frequency\": 86, \"value\": 5447349}, \"3625929\": {\"frequency\": 91, \"value\": 3625929}, \"5258936\": {\"frequency\": 230, \"value\": 5258936}, \"6973113\": {\"frequency\": 324, \"value\": 6973113}, \"5260991\": {\"frequency\": 110, \"value\": 5260991}, \"5327136\": {\"frequency\": 118, \"value\": 5327136}, \"4863685\": {\"frequency\": 146, \"value\": 4863685}, \"6577441\": {\"frequency\": 90, \"value\": 6577441}, \"4847304\": {\"frequency\": 84, \"value\": 4847304}, \"3653321\": {\"frequency\": 151, \"value\": 3653321}, \"2541259\": {\"frequency\": 71, \"value\": 2541259}, \"9124633\": {\"frequency\": 69, \"value\": 9124633}, \"984782\": {\"frequency\": 68, \"value\": 984782}, \"4714191\": {\"frequency\": 318, \"value\": 4714191}, \"8822480\": {\"frequency\": 90, \"value\": 8822480}, \"4824787\": {\"frequency\": 82, \"value\": 4824787}, \"1044181\": {\"frequency\": 184, \"value\": 1044181}, \"8381049\": {\"frequency\": 75, \"value\": 8381049}, \"6500057\": {\"frequency\": 115, \"value\": 6500057}, \"964005\": {\"frequency\": 69, \"value\": 964005}, \"7020154\": {\"frequency\": 105, \"value\": 7020154}, \"7763681\": {\"frequency\": 69, \"value\": 7763681}, \"6235874\": {\"frequency\": 84, \"value\": 6235874}, \"7916155\": {\"frequency\": 144, \"value\": 7916155}, \"2158311\": {\"frequency\": 80, \"value\": 2158311}, \"1233532\": {\"frequency\": 110, \"value\": 1233532}, \"4008914\": {\"frequency\": 83, \"value\": 4008914}, \"5795566\": {\"frequency\": 65, \"value\": 5795566}, \"4502141\": {\"frequency\": 62, \"value\": 4502141}, \"6180592\": {\"frequency\": 110, \"value\": 6180592}, \"3133171\": {\"frequency\": 92, \"value\": 3133171}, \"7372534\": {\"frequency\": 80, \"value\": 7372534}, \"2258681\": {\"frequency\": 82, \"value\": 2258681}, \"1531644\": {\"frequency\": 89, \"value\": 1531644}, \"3270397\": {\"frequency\": 293, \"value\": 3270397}, \"7661311\": {\"frequency\": 96, \"value\": 7661311}, \"423680\": {\"frequency\": 78, \"value\": 423680}, \"4808449\": {\"frequency\": 121, \"value\": 4808449}, \"7036675\": {\"frequency\": 91, \"value\": 7036675}, \"1329329\": {\"frequency\": 95, \"value\": 1329329}, \"7023255\": {\"frequency\": 183, \"value\": 7023255}, \"7264122\": {\"frequency\": 103, \"value\": 7264122}, \"8257235\": {\"frequency\": 90, \"value\": 8257235}, \"1279759\": {\"frequency\": 71, \"value\": 1279759}, \"6639377\": {\"frequency\": 183, \"value\": 6639377}, \"7602478\": {\"frequency\": 67, \"value\": 7602478}, \"4073238\": {\"frequency\": 49, \"value\": 4073238}, \"7483326\": {\"frequency\": 619, \"value\": 7483326}, \"3033732\": {\"frequency\": 91, \"value\": 3033732}, \"6696840\": {\"frequency\": 67, \"value\": 6696840}, \"9027546\": {\"frequency\": 200, \"value\": 9027546}, \"89886\": {\"frequency\": 81, \"value\": 89886}, \"6887045\": {\"frequency\": 76, \"value\": 6887045}, \"4056132\": {\"frequency\": 74, \"value\": 4056132}, \"7509796\": {\"frequency\": 209, \"value\": 7509796}, \"8625457\": {\"frequency\": 64, \"value\": 8625457}, \"6889256\": {\"frequency\": 83, \"value\": 6889256}, \"591657\": {\"frequency\": 74, \"value\": 591657}, \"4228743\": {\"frequency\": 75, \"value\": 4228743}, \"3780397\": {\"frequency\": 74, \"value\": 3780397}, \"3891243\": {\"frequency\": 101, \"value\": 3891243}, \"5035823\": {\"frequency\": 69, \"value\": 5035823}, \"3473032\": {\"frequency\": 67, \"value\": 3473032}, \"7831346\": {\"frequency\": 124, \"value\": 7831346}, \"1109812\": {\"frequency\": 48, \"value\": 1109812}, \"7173941\": {\"frequency\": 73, \"value\": 7173941}, \"3155768\": {\"frequency\": 82, \"value\": 3155768}, \"3333946\": {\"frequency\": 122, \"value\": 3333946}, \"9021243\": {\"frequency\": 67, \"value\": 9021243}, \"7173952\": {\"frequency\": 115, \"value\": 7173952}, \"9366936\": {\"frequency\": 80, \"value\": 9366936}, \"8963909\": {\"frequency\": 81, \"value\": 8963909}, \"9060168\": {\"frequency\": 61, \"value\": 9060168}, \"5766985\": {\"frequency\": 65, \"value\": 5766985}, \"9219361\": {\"frequency\": 64, \"value\": 9219361}, \"2899790\": {\"frequency\": 123, \"value\": 2899790}, \"8494927\": {\"frequency\": 66, \"value\": 8494927}, \"8734545\": {\"frequency\": 99, \"value\": 8734545}, \"7031086\": {\"frequency\": 57, \"value\": 7031086}, \"1950009\": {\"frequency\": 294, \"value\": 1950009}, \"3186435\": {\"frequency\": 97, \"value\": 3186435}, \"2761700\": {\"frequency\": 78, \"value\": 2761700}, \"5189467\": {\"frequency\": 74, \"value\": 5189467}, \"4984805\": {\"frequency\": 109, \"value\": 4984805}, \"9437029\": {\"frequency\": 441, \"value\": 9437029}, \"1185640\": {\"frequency\": 79, \"value\": 1185640}, \"1402501\": {\"frequency\": 371, \"value\": 1402501}, \"9541485\": {\"frequency\": 110, \"value\": 9541485}, \"5603183\": {\"frequency\": 98, \"value\": 5603183}, \"1021808\": {\"frequency\": 170, \"value\": 1021808}, \"7268210\": {\"frequency\": 143, \"value\": 7268210}, \"9723764\": {\"frequency\": 81, \"value\": 9723764}, \"4783989\": {\"frequency\": 94, \"value\": 4783989}, \"4829050\": {\"frequency\": 89, \"value\": 4829050}, \"6982975\": {\"frequency\": 58, \"value\": 6982975}, \"6205309\": {\"frequency\": 100, \"value\": 6205309}, \"8358802\": {\"frequency\": 81, \"value\": 8358802}, \"9385856\": {\"frequency\": 75, \"value\": 9385856}, \"4990851\": {\"frequency\": 57, \"value\": 4990851}, \"8436374\": {\"frequency\": 100, \"value\": 8436374}, \"1830791\": {\"frequency\": 113, \"value\": 1830791}, \"437198\": {\"frequency\": 56, \"value\": 437198}, \"5324681\": {\"frequency\": 61, \"value\": 5324681}, \"4034442\": {\"frequency\": 54, \"value\": 4034442}, \"1890187\": {\"frequency\": 81, \"value\": 1890187}, \"4695950\": {\"frequency\": 132, \"value\": 4695950}, \"8340584\": {\"frequency\": 81, \"value\": 8340584}, \"8896401\": {\"frequency\": 1663, \"value\": 8896401}, \"984981\": {\"frequency\": 145, \"value\": 984981}, \"2017174\": {\"frequency\": 80, \"value\": 2017174}, \"3068911\": {\"frequency\": 98, \"value\": 3068911}, \"2480790\": {\"frequency\": 81, \"value\": 2480790}, \"9963005\": {\"frequency\": 69, \"value\": 9963005}, \"3149680\": {\"frequency\": 217, \"value\": 3149680}, \"5232557\": {\"frequency\": 97, \"value\": 5232557}, \"7215022\": {\"frequency\": 92, \"value\": 7215022}, \"2922415\": {\"frequency\": 87, \"value\": 2922415}, \"5875528\": {\"frequency\": 159, \"value\": 5875528}, \"6549428\": {\"frequency\": 119, \"value\": 6549428}, \"5195736\": {\"frequency\": 71, \"value\": 5195736}, \"2430907\": {\"frequency\": 433, \"value\": 2430907}, \"9723836\": {\"frequency\": 111, \"value\": 9723836}, \"3723198\": {\"frequency\": 51, \"value\": 3723198}, \"4100031\": {\"frequency\": 82, \"value\": 4100031}, \"3039169\": {\"frequency\": 364, \"value\": 3039169}, \"5357507\": {\"frequency\": 154, \"value\": 5357507}, \"6680516\": {\"frequency\": 65, \"value\": 6680516}, \"4407286\": {\"frequency\": 120, \"value\": 4407286}, \"3310241\": {\"frequency\": 260, \"value\": 3310241}, \"5677000\": {\"frequency\": 120, \"value\": 5677000}, \"5805833\": {\"frequency\": 82, \"value\": 5805833}, \"3696590\": {\"frequency\": 524, \"value\": 3696590}, \"5289524\": {\"frequency\": 84, \"value\": 5289524}, \"8613841\": {\"frequency\": 71, \"value\": 8613841}, \"4605906\": {\"frequency\": 152, \"value\": 4605906}, \"7346510\": {\"frequency\": 71, \"value\": 7346510}, \"4939736\": {\"frequency\": 96, \"value\": 4939736}, \"378824\": {\"frequency\": 182, \"value\": 378824}, \"4481679\": {\"frequency\": 68, \"value\": 4481679}, \"3378721\": {\"frequency\": 66, \"value\": 3378721}, \"3010529\": {\"frequency\": 97, \"value\": 3010529}, \"9237474\": {\"frequency\": 114, \"value\": 9237474}, \"3636407\": {\"frequency\": 77, \"value\": 3636407}, \"7896742\": {\"frequency\": 116, \"value\": 7896742}, \"7880678\": {\"frequency\": 82, \"value\": 7880678}, \"4115793\": {\"frequency\": 85, \"value\": 4115793}, \"6809579\": {\"frequency\": 71, \"value\": 6809579}, \"9641964\": {\"frequency\": 74, \"value\": 9641964}, \"1028086\": {\"frequency\": 54, \"value\": 1028086}, \"3669673\": {\"frequency\": 68, \"value\": 3669673}, \"9488377\": {\"frequency\": 85, \"value\": 9488377}, \"9082875\": {\"frequency\": 78, \"value\": 9082875}, \"1179644\": {\"frequency\": 62, \"value\": 1179644}, \"9795582\": {\"frequency\": 69, \"value\": 9795582}, \"3945813\": {\"frequency\": 99, \"value\": 3945813}}, \"mean\": 5024797.290058185}, \"selected_variable\": {\"name\": [\"<SArray>\"], \"dtype\": \"int\", \"view_component\": \"Categorical\", \"view_file\": \"sarray\", \"descriptives\": {\"rows\": 705531}, \"type\": \"SArray\", \"view_components\": [\"Numeric\", \"Categorical\"]}, \"histogram\": {\"progress\": 1.0, \"histogram\": {\"max\": 10073232.559999999, \"bins\": [50003, 54960, 52503, 55126, 53186, 52325, 51201, 52180, 53023, 54858, 55643, 50068], \"min\": -39977.34400000051}, \"min\": 71, \"complete\": 1, \"max\": 9999996}}, e);\n",
       "                });\n",
       "            })();\n",
       "        "
      ]
     },
     "metadata": {},
     "output_type": "display_data"
    },
    {
     "name": "stdout",
     "output_type": "stream",
     "text": [
      "None\n"
     ]
    }
   ],
   "source": [
    "print ads_training_data['siteid'].show(view = 'Categorical')"
   ]
  },
  {
   "cell_type": "code",
   "execution_count": 45,
   "metadata": {},
   "outputs": [
    {
     "data": {
      "application/javascript": [
       "$(\"head\").append($(\"<link/>\").attr({\n",
       "  rel:  \"stylesheet\",\n",
       "  type: \"text/css\",\n",
       "  href: \"//cdnjs.cloudflare.com/ajax/libs/font-awesome/4.1.0/css/font-awesome.min.css\"\n",
       "}));\n",
       "$(\"head\").append($(\"<link/>\").attr({\n",
       "  rel:  \"stylesheet\",\n",
       "  type: \"text/css\",\n",
       "  href: \"https://static.turi.com/products/graphlab-create/2.1/canvas/css/canvas.css\"\n",
       "}));\n",
       "\n",
       "            (function(){\n",
       "\n",
       "                var e = null;\n",
       "                if (typeof element == 'undefined') {\n",
       "                    var scripts = document.getElementsByTagName('script');\n",
       "                    var thisScriptTag = scripts[scripts.length-1];\n",
       "                    var parentDiv = thisScriptTag.parentNode;\n",
       "                    e = document.createElement('div');\n",
       "                    parentDiv.appendChild(e);\n",
       "                } else {\n",
       "                    e = element[0];\n",
       "                }\n",
       "\n",
       "                if (typeof requirejs !== 'undefined') {\n",
       "                    // disable load timeout; ipython_app.js is large and can take a while to load.\n",
       "                    requirejs.config({waitSeconds: 0});\n",
       "                }\n",
       "\n",
       "                require(['https://static.turi.com/products/graphlab-create/2.1/canvas/js/ipython_app.js'], function(IPythonApp){\n",
       "                    var app = new IPythonApp();\n",
       "                    app.attachView('sarray','Categorical', {\"ipython\": true, \"sketch\": {\"std\": 289254.8105789307, \"complete\": true, \"min\": 4.0, \"max\": 999996.0, \"quantile\": [4.0, 8597.0, 19429.0, 29055.0, 37610.0, 48397.0, 58641.0, 68119.0, 77835.0, 87828.0, 98945.0, 106676.0, 114784.0, 124637.0, 133542.0, 143642.0, 154699.0, 164521.0, 174525.0, 185344.0, 195185.0, 206173.0, 215009.0, 226375.0, 235867.0, 246420.0, 257473.0, 266987.0, 277430.0, 288277.0, 298860.0, 308437.0, 318986.0, 328284.0, 335420.0, 347187.0, 357449.0, 365947.0, 374800.0, 383954.0, 394602.0, 405276.0, 415823.0, 426758.0, 437059.0, 446001.0, 455783.0, 466477.0, 476989.0, 485135.0, 496476.0, 506410.0, 515902.0, 525877.0, 537036.0, 547813.0, 555819.0, 564974.0, 575887.0, 586890.0, 596963.0, 606257.0, 617234.0, 627072.0, 636115.0, 647139.0, 657396.0, 667551.0, 678509.0, 688378.0, 697886.0, 709000.0, 717898.0, 726166.0, 736570.0, 746886.0, 756780.0, 767472.0, 778402.0, 789565.0, 800057.0, 810210.0, 821003.0, 830752.0, 841822.0, 850486.0, 860816.0, 869423.0, 878643.0, 887058.0, 897789.0, 908484.0, 916260.0, 925675.0, 936964.0, 947613.0, 957224.0, 967618.0, 978354.0, 989115.0, 999996.0], \"median\": 496476.0, \"numeric\": true, \"num_unique\": 292363, \"num_undefined\": 0, \"var\": 83668345443.05309, \"progress\": 1.0, \"size\": 705531, \"frequent_items\": {\"475137\": {\"frequency\": 265, \"value\": 475137}, \"935938\": {\"frequency\": 77, \"value\": 935938}, \"4\": {\"frequency\": 220, \"value\": 4}, \"598017\": {\"frequency\": 182, \"value\": 598017}, \"11\": {\"frequency\": 132, \"value\": 11}, \"876556\": {\"frequency\": 341, \"value\": 876556}, \"845837\": {\"frequency\": 278, \"value\": 845837}, \"444441\": {\"frequency\": 211, \"value\": 444441}, \"550575\": {\"frequency\": 1481, \"value\": 550575}, \"696350\": {\"frequency\": 82, \"value\": 696350}, \"798043\": {\"frequency\": 74, \"value\": 798043}, \"452659\": {\"frequency\": 106, \"value\": 452659}, \"233528\": {\"frequency\": 270, \"value\": 233528}, \"309307\": {\"frequency\": 165, \"value\": 309307}, \"194633\": {\"frequency\": 184, \"value\": 194633}, \"174154\": {\"frequency\": 101, \"value\": 174154}, \"223309\": {\"frequency\": 72, \"value\": 223309}, \"507987\": {\"frequency\": 103, \"value\": 507987}, \"475229\": {\"frequency\": 63, \"value\": 475229}, \"208992\": {\"frequency\": 329, \"value\": 208992}, \"335971\": {\"frequency\": 77, \"value\": 335971}, \"735333\": {\"frequency\": 77, \"value\": 735333}, \"551014\": {\"frequency\": 117, \"value\": 551014}, \"49258\": {\"frequency\": 88, \"value\": 49258}, \"458087\": {\"frequency\": 80, \"value\": 458087}, \"628853\": {\"frequency\": 186, \"value\": 628853}, \"864375\": {\"frequency\": 186, \"value\": 864375}, \"358522\": {\"frequency\": 242, \"value\": 358522}, \"481403\": {\"frequency\": 179, \"value\": 481403}, \"100478\": {\"frequency\": 72, \"value\": 100478}, \"698824\": {\"frequency\": 99, \"value\": 698824}, \"495755\": {\"frequency\": 91, \"value\": 495755}, \"843918\": {\"frequency\": 283, \"value\": 843918}, \"553106\": {\"frequency\": 194, \"value\": 553106}, \"501908\": {\"frequency\": 77, \"value\": 501908}, \"399509\": {\"frequency\": 102, \"value\": 399509}, \"755869\": {\"frequency\": 79, \"value\": 755869}, \"422046\": {\"frequency\": 86, \"value\": 422046}, \"100514\": {\"frequency\": 128, \"value\": 100514}, \"964773\": {\"frequency\": 107, \"value\": 964773}, \"254120\": {\"frequency\": 72, \"value\": 254120}, \"690348\": {\"frequency\": 206, \"value\": 690348}, \"315567\": {\"frequency\": 81, \"value\": 315567}, \"51382\": {\"frequency\": 249, \"value\": 51382}, \"893112\": {\"frequency\": 114, \"value\": 893112}, \"725182\": {\"frequency\": 104, \"value\": 725182}, \"854209\": {\"frequency\": 45, \"value\": 854209}, \"721090\": {\"frequency\": 275, \"value\": 721090}, \"665796\": {\"frequency\": 67, \"value\": 665796}, \"643270\": {\"frequency\": 95, \"value\": 643270}, \"327903\": {\"frequency\": 211, \"value\": 327903}, \"644475\": {\"frequency\": 136, \"value\": 644475}, \"524668\": {\"frequency\": 83, \"value\": 524668}, \"940270\": {\"frequency\": 106, \"value\": 940270}, \"633071\": {\"frequency\": 218, \"value\": 633071}, \"241910\": {\"frequency\": 78, \"value\": 241910}, \"741624\": {\"frequency\": 100, \"value\": 741624}, \"622848\": {\"frequency\": 253, \"value\": 622848}, \"715010\": {\"frequency\": 127, \"value\": 715010}, \"721156\": {\"frequency\": 214, \"value\": 721156}, \"755981\": {\"frequency\": 92, \"value\": 755981}, \"63759\": {\"frequency\": 221, \"value\": 63759}, \"577812\": {\"frequency\": 85, \"value\": 577812}, \"358697\": {\"frequency\": 81, \"value\": 358697}, \"432428\": {\"frequency\": 166, \"value\": 432428}, \"751917\": {\"frequency\": 90, \"value\": 751917}, \"96575\": {\"frequency\": 173, \"value\": 96575}, \"430401\": {\"frequency\": 163, \"value\": 430401}, \"876871\": {\"frequency\": 824, \"value\": 876871}, \"231756\": {\"frequency\": 73, \"value\": 231756}, \"565603\": {\"frequency\": 114, \"value\": 565603}, \"108913\": {\"frequency\": 222, \"value\": 108913}, \"960886\": {\"frequency\": 87, \"value\": 960886}, \"868732\": {\"frequency\": 71, \"value\": 868732}, \"645503\": {\"frequency\": 135, \"value\": 645503}, \"247532\": {\"frequency\": 309, \"value\": 247532}, \"166283\": {\"frequency\": 220, \"value\": 166283}, \"561549\": {\"frequency\": 176, \"value\": 561549}, \"577942\": {\"frequency\": 138, \"value\": 577942}, \"901537\": {\"frequency\": 80, \"value\": 901537}, \"727460\": {\"frequency\": 100, \"value\": 727460}, \"324966\": {\"frequency\": 149, \"value\": 324966}, \"135614\": {\"frequency\": 81, \"value\": 135614}, \"905664\": {\"frequency\": 66, \"value\": 905664}, \"324342\": {\"frequency\": 97, \"value\": 324342}, \"51656\": {\"frequency\": 147, \"value\": 51656}, \"145867\": {\"frequency\": 102, \"value\": 145867}, \"514509\": {\"frequency\": 216, \"value\": 514509}, \"332242\": {\"frequency\": 950, \"value\": 332242}, \"174550\": {\"frequency\": 84, \"value\": 174550}, \"741866\": {\"frequency\": 248, \"value\": 741866}, \"299501\": {\"frequency\": 129, \"value\": 299501}, \"420344\": {\"frequency\": 161, \"value\": 420344}, \"352773\": {\"frequency\": 102, \"value\": 352773}, \"451078\": {\"frequency\": 262, \"value\": 451078}, \"238337\": {\"frequency\": 191, \"value\": 238337}, \"126039\": {\"frequency\": 227, \"value\": 126039}, \"109069\": {\"frequency\": 90, \"value\": 109069}, \"43541\": {\"frequency\": 87, \"value\": 43541}, \"418331\": {\"frequency\": 269, \"value\": 418331}, \"621084\": {\"frequency\": 92, \"value\": 621084}, \"59934\": {\"frequency\": 190, \"value\": 59934}, \"170531\": {\"frequency\": 120, \"value\": 170531}, \"805980\": {\"frequency\": 112, \"value\": 805980}, \"449067\": {\"frequency\": 145, \"value\": 449067}, \"449070\": {\"frequency\": 148, \"value\": 449070}, \"534621\": {\"frequency\": 206, \"value\": 534621}, \"490052\": {\"frequency\": 77, \"value\": 490052}, \"96840\": {\"frequency\": 138, \"value\": 96840}, \"32183\": {\"frequency\": 1018, \"value\": 32183}, \"631376\": {\"frequency\": 972, \"value\": 631376}, \"178775\": {\"frequency\": 97, \"value\": 178775}, \"625242\": {\"frequency\": 73, \"value\": 625242}, \"328284\": {\"frequency\": 1168, \"value\": 328284}, \"193120\": {\"frequency\": 130, \"value\": 193120}, \"359012\": {\"frequency\": 178, \"value\": 359012}, \"328298\": {\"frequency\": 224, \"value\": 328298}, \"965240\": {\"frequency\": 105, \"value\": 965240}, \"592505\": {\"frequency\": 497, \"value\": 592505}, \"848506\": {\"frequency\": 104, \"value\": 848506}, \"447103\": {\"frequency\": 97, \"value\": 447103}, \"201348\": {\"frequency\": 66, \"value\": 201348}, \"844435\": {\"frequency\": 191, \"value\": 844435}, \"948886\": {\"frequency\": 257, \"value\": 948886}, \"58008\": {\"frequency\": 116, \"value\": 58008}, \"573820\": {\"frequency\": 132, \"value\": 573820}, \"242330\": {\"frequency\": 168, \"value\": 242330}, \"29347\": {\"frequency\": 238, \"value\": 29347}, \"359084\": {\"frequency\": 147, \"value\": 359084}, \"901805\": {\"frequency\": 141, \"value\": 901805}, \"658094\": {\"frequency\": 257, \"value\": 658094}, \"711112\": {\"frequency\": 111, \"value\": 711112}, \"334519\": {\"frequency\": 136, \"value\": 334519}, \"322232\": {\"frequency\": 234, \"value\": 322232}, \"197307\": {\"frequency\": 139, \"value\": 197307}, \"647876\": {\"frequency\": 74, \"value\": 647876}, \"133831\": {\"frequency\": 127, \"value\": 133831}, \"707275\": {\"frequency\": 92, \"value\": 707275}, \"484046\": {\"frequency\": 240, \"value\": 484046}, \"477904\": {\"frequency\": 173, \"value\": 477904}, \"826083\": {\"frequency\": 111, \"value\": 826083}, \"221938\": {\"frequency\": 84, \"value\": 221938}, \"455412\": {\"frequency\": 81, \"value\": 455412}, \"10998\": {\"frequency\": 123, \"value\": 10998}, \"673237\": {\"frequency\": 218, \"value\": 673237}, \"584449\": {\"frequency\": 75, \"value\": 584449}, \"365314\": {\"frequency\": 214, \"value\": 365314}, \"924419\": {\"frequency\": 81, \"value\": 924419}, \"883466\": {\"frequency\": 1506, \"value\": 883466}, \"477972\": {\"frequency\": 244, \"value\": 477972}, \"979747\": {\"frequency\": 76, \"value\": 979747}, \"787236\": {\"frequency\": 146, \"value\": 787236}, \"305973\": {\"frequency\": 203, \"value\": 305973}, \"131900\": {\"frequency\": 252, \"value\": 131900}, \"426818\": {\"frequency\": 57, \"value\": 426818}, \"103249\": {\"frequency\": 1229, \"value\": 103249}, \"910164\": {\"frequency\": 1136, \"value\": 910164}, \"865123\": {\"frequency\": 284, \"value\": 865123}, \"310127\": {\"frequency\": 88, \"value\": 310127}, \"119666\": {\"frequency\": 226, \"value\": 119666}, \"7029\": {\"frequency\": 845, \"value\": 7029}, \"992118\": {\"frequency\": 87, \"value\": 992118}, \"498556\": {\"frequency\": 58, \"value\": 498556}, \"829933\": {\"frequency\": 106, \"value\": 829933}, \"867225\": {\"frequency\": 125, \"value\": 867225}, \"957342\": {\"frequency\": 116, \"value\": 957342}, \"502689\": {\"frequency\": 157, \"value\": 502689}, \"166818\": {\"frequency\": 272, \"value\": 166818}, \"271269\": {\"frequency\": 69, \"value\": 271269}, \"504743\": {\"frequency\": 236, \"value\": 504743}, \"136106\": {\"frequency\": 374, \"value\": 136106}, \"64449\": {\"frequency\": 134, \"value\": 64449}, \"687042\": {\"frequency\": 98, \"value\": 687042}, \"756676\": {\"frequency\": 82, \"value\": 756676}, \"185285\": {\"frequency\": 67, \"value\": 185285}, \"261066\": {\"frequency\": 266, \"value\": 261066}, \"68770\": {\"frequency\": 754, \"value\": 68770}, \"670670\": {\"frequency\": 124, \"value\": 670670}, \"441298\": {\"frequency\": 73, \"value\": 441298}, \"996309\": {\"frequency\": 127, \"value\": 996309}, \"359388\": {\"frequency\": 96, \"value\": 359388}, \"381093\": {\"frequency\": 119, \"value\": 381093}, \"265186\": {\"frequency\": 173, \"value\": 265186}, \"564195\": {\"frequency\": 112, \"value\": 564195}, \"76776\": {\"frequency\": 48, \"value\": 76776}, \"549865\": {\"frequency\": 121, \"value\": 549865}, \"185344\": {\"frequency\": 70, \"value\": 185344}, \"564229\": {\"frequency\": 662, \"value\": 564229}, \"441351\": {\"frequency\": 103, \"value\": 441351}, \"783370\": {\"frequency\": 61, \"value\": 783370}, \"295954\": {\"frequency\": 155, \"value\": 295954}, \"752661\": {\"frequency\": 158, \"value\": 752661}, \"60443\": {\"frequency\": 233, \"value\": 60443}, \"300074\": {\"frequency\": 70, \"value\": 300074}, \"109612\": {\"frequency\": 1600, \"value\": 109612}, \"482349\": {\"frequency\": 80, \"value\": 482349}, \"406578\": {\"frequency\": 65, \"value\": 406578}, \"889921\": {\"frequency\": 75, \"value\": 889921}, \"675001\": {\"frequency\": 71, \"value\": 675001}, \"160860\": {\"frequency\": 98, \"value\": 160860}, \"367712\": {\"frequency\": 211, \"value\": 367712}, \"896098\": {\"frequency\": 118, \"value\": 896098}, \"918630\": {\"frequency\": 105, \"value\": 918630}, \"560234\": {\"frequency\": 72, \"value\": 560234}, \"754806\": {\"frequency\": 87, \"value\": 754806}, \"709754\": {\"frequency\": 151, \"value\": 709754}, \"437372\": {\"frequency\": 299, \"value\": 437372}, \"722047\": {\"frequency\": 100, \"value\": 722047}, \"40073\": {\"frequency\": 97, \"value\": 40073}, \"726166\": {\"frequency\": 470, \"value\": 726166}, \"326807\": {\"frequency\": 262, \"value\": 326807}, \"619672\": {\"frequency\": 142, \"value\": 619672}, \"392349\": {\"frequency\": 107, \"value\": 392349}, \"103586\": {\"frequency\": 146, \"value\": 103586}, \"359588\": {\"frequency\": 451, \"value\": 359588}, \"772638\": {\"frequency\": 78, \"value\": 772638}, \"615606\": {\"frequency\": 260, \"value\": 615606}, \"885945\": {\"frequency\": 263, \"value\": 885945}, \"116255\": {\"frequency\": 235, \"value\": 116255}, \"175309\": {\"frequency\": 173, \"value\": 175309}, \"126157\": {\"frequency\": 428, \"value\": 126157}, \"808145\": {\"frequency\": 188, \"value\": 808145}, \"900312\": {\"frequency\": 63, \"value\": 900312}, \"206044\": {\"frequency\": 93, \"value\": 206044}, \"160989\": {\"frequency\": 225, \"value\": 160989}, \"517344\": {\"frequency\": 114, \"value\": 517344}, \"179409\": {\"frequency\": 77, \"value\": 179409}, \"509166\": {\"frequency\": 160, \"value\": 509166}, \"107759\": {\"frequency\": 62, \"value\": 107759}, \"578804\": {\"frequency\": 185, \"value\": 578804}, \"572665\": {\"frequency\": 94, \"value\": 572665}, \"25853\": {\"frequency\": 221, \"value\": 25853}, \"503038\": {\"frequency\": 74, \"value\": 503038}, \"898306\": {\"frequency\": 89, \"value\": 898306}, \"972040\": {\"frequency\": 154, \"value\": 972040}, \"552209\": {\"frequency\": 139, \"value\": 552209}, \"523538\": {\"frequency\": 209, \"value\": 523538}, \"654619\": {\"frequency\": 118, \"value\": 654619}, \"159006\": {\"frequency\": 89, \"value\": 159006}, \"754986\": {\"frequency\": 133, \"value\": 754986}, \"902445\": {\"frequency\": 103, \"value\": 902445}, \"230712\": {\"frequency\": 161, \"value\": 230712}, \"564540\": {\"frequency\": 75, \"value\": 564540}, \"517437\": {\"frequency\": 75, \"value\": 517437}, \"992603\": {\"frequency\": 73, \"value\": 992603}, \"591206\": {\"frequency\": 79, \"value\": 591206}, \"834919\": {\"frequency\": 87, \"value\": 834919}, \"845162\": {\"frequency\": 80, \"value\": 845162}, \"277877\": {\"frequency\": 59, \"value\": 277877}, \"507254\": {\"frequency\": 85, \"value\": 507254}, \"1402\": {\"frequency\": 152, \"value\": 1402}, \"365947\": {\"frequency\": 128, \"value\": 365947}, \"282517\": {\"frequency\": 84, \"value\": 282517}, \"28045\": {\"frequency\": 171, \"value\": 28045}, \"263575\": {\"frequency\": 119, \"value\": 263575}, \"755096\": {\"frequency\": 90, \"value\": 755096}, \"281839\": {\"frequency\": 121, \"value\": 281839}, \"79262\": {\"frequency\": 170, \"value\": 79262}, \"357793\": {\"frequency\": 79, \"value\": 357793}, \"5552\": {\"frequency\": 518, \"value\": 5552}, \"204215\": {\"frequency\": 115, \"value\": 204215}, \"302526\": {\"frequency\": 80, \"value\": 302526}, \"406978\": {\"frequency\": 80, \"value\": 406978}, \"388555\": {\"frequency\": 179, \"value\": 388555}, \"953813\": {\"frequency\": 157, \"value\": 953813}, \"640479\": {\"frequency\": 107, \"value\": 640479}, \"60899\": {\"frequency\": 91, \"value\": 60899}, \"486886\": {\"frequency\": 160, \"value\": 486886}, \"888296\": {\"frequency\": 62, \"value\": 888296}, \"3569\": {\"frequency\": 80, \"value\": 3569}, \"757234\": {\"frequency\": 95, \"value\": 757234}, \"173555\": {\"frequency\": 83, \"value\": 173555}, \"591349\": {\"frequency\": 95, \"value\": 591349}, \"392696\": {\"frequency\": 82, \"value\": 392696}, \"24066\": {\"frequency\": 89, \"value\": 24066}, \"177669\": {\"frequency\": 81, \"value\": 177669}, \"560649\": {\"frequency\": 103, \"value\": 560649}, \"318986\": {\"frequency\": 140, \"value\": 318986}, \"503312\": {\"frequency\": 227, \"value\": 503312}, \"921107\": {\"frequency\": 188, \"value\": 921107}, \"106007\": {\"frequency\": 92, \"value\": 106007}, \"823556\": {\"frequency\": 277, \"value\": 823556}, \"908826\": {\"frequency\": 185, \"value\": 908826}, \"198174\": {\"frequency\": 59, \"value\": 198174}, \"716319\": {\"frequency\": 76, \"value\": 716319}, \"99874\": {\"frequency\": 65, \"value\": 99874}, \"95794\": {\"frequency\": 76, \"value\": 95794}, \"863795\": {\"frequency\": 207, \"value\": 863795}, \"525877\": {\"frequency\": 468, \"value\": 525877}, \"497206\": {\"frequency\": 92, \"value\": 497206}, \"679483\": {\"frequency\": 229, \"value\": 679483}, \"355937\": {\"frequency\": 155, \"value\": 355937}, \"845397\": {\"frequency\": 300, \"value\": 845397}, \"34395\": {\"frequency\": 231, \"value\": 34395}, \"609885\": {\"frequency\": 67, \"value\": 609885}, \"820833\": {\"frequency\": 121, \"value\": 820833}, \"921202\": {\"frequency\": 121, \"value\": 921202}, \"79475\": {\"frequency\": 137, \"value\": 79475}, \"825620\": {\"frequency\": 60, \"value\": 825620}, \"729706\": {\"frequency\": 150, \"value\": 729706}, \"454276\": {\"frequency\": 166, \"value\": 454276}, \"724613\": {\"frequency\": 272, \"value\": 724613}, \"369601\": {\"frequency\": 986, \"value\": 369601}, \"759439\": {\"frequency\": 99, \"value\": 759439}, \"913046\": {\"frequency\": 273, \"value\": 913046}, \"415384\": {\"frequency\": 68, \"value\": 415384}, \"824993\": {\"frequency\": 92, \"value\": 824993}, \"204450\": {\"frequency\": 178, \"value\": 204450}, \"710307\": {\"frequency\": 972, \"value\": 710307}, \"892581\": {\"frequency\": 75, \"value\": 892581}, \"917158\": {\"frequency\": 117, \"value\": 917158}, \"28328\": {\"frequency\": 270, \"value\": 28328}, \"482986\": {\"frequency\": 85, \"value\": 482986}, \"573103\": {\"frequency\": 169, \"value\": 573103}, \"908976\": {\"frequency\": 170, \"value\": 908976}, \"951923\": {\"frequency\": 74, \"value\": 951923}, \"880317\": {\"frequency\": 105, \"value\": 880317}, \"253634\": {\"frequency\": 216, \"value\": 253634}, \"509635\": {\"frequency\": 137, \"value\": 509635}, \"759492\": {\"frequency\": 71, \"value\": 759492}, \"478920\": {\"frequency\": 951, \"value\": 478920}, \"921290\": {\"frequency\": 67, \"value\": 921290}, \"806604\": {\"frequency\": 110, \"value\": 806604}, \"71374\": {\"frequency\": 92, \"value\": 71374}, \"603871\": {\"frequency\": 216, \"value\": 603871}, \"347875\": {\"frequency\": 263, \"value\": 347875}, \"638700\": {\"frequency\": 243, \"value\": 638700}, \"915183\": {\"frequency\": 248, \"value\": 915183}, \"65270\": {\"frequency\": 82, \"value\": 65270}, \"642817\": {\"frequency\": 81, \"value\": 642817}, \"681733\": {\"frequency\": 154, \"value\": 681733}, \"134918\": {\"frequency\": 80, \"value\": 134918}, \"874797\": {\"frequency\": 119, \"value\": 874797}, \"155409\": {\"frequency\": 79, \"value\": 155409}, \"734994\": {\"frequency\": 80, \"value\": 734994}, \"718617\": {\"frequency\": 196, \"value\": 718617}, \"812834\": {\"frequency\": 192, \"value\": 812834}, \"702255\": {\"frequency\": 99, \"value\": 702255}, \"882494\": {\"frequency\": 166, \"value\": 882494}, \"417600\": {\"frequency\": 90, \"value\": 417600}, \"745283\": {\"frequency\": 123, \"value\": 745283}, \"28492\": {\"frequency\": 181, \"value\": 28492}, \"767822\": {\"frequency\": 178, \"value\": 767822}, \"847695\": {\"frequency\": 95, \"value\": 847695}, \"442202\": {\"frequency\": 87, \"value\": 442202}, \"690011\": {\"frequency\": 110, \"value\": 690011}, \"833382\": {\"frequency\": 230, \"value\": 833382}, \"493418\": {\"frequency\": 87, \"value\": 493418}, \"935792\": {\"frequency\": 168, \"value\": 935792}, \"866176\": {\"frequency\": 241, \"value\": 866176}, \"894849\": {\"frequency\": 75, \"value\": 894849}, \"296844\": {\"frequency\": 147, \"value\": 296844}, \"102040\": {\"frequency\": 293, \"value\": 102040}, \"382869\": {\"frequency\": 1469, \"value\": 382869}, \"442263\": {\"frequency\": 218, \"value\": 442263}, \"206746\": {\"frequency\": 169, \"value\": 206746}, \"950174\": {\"frequency\": 95, \"value\": 950174}, \"449883\": {\"frequency\": 74, \"value\": 449883}, \"217019\": {\"frequency\": 83, \"value\": 217019}, \"366241\": {\"frequency\": 62, \"value\": 366241}, \"466894\": {\"frequency\": 102, \"value\": 466894}, \"165850\": {\"frequency\": 79, \"value\": 165850}, \"106462\": {\"frequency\": 233, \"value\": 106462}, \"215009\": {\"frequency\": 170, \"value\": 215009}, \"923624\": {\"frequency\": 166, \"value\": 923624}, \"598002\": {\"frequency\": 215, \"value\": 598002}, \"301045\": {\"frequency\": 597, \"value\": 301045}, \"133114\": {\"frequency\": 133, \"value\": 133114}}, \"mean\": 497077.85179673246}, \"selected_variable\": {\"name\": [\"<SArray>\"], \"dtype\": \"int\", \"view_component\": \"Categorical\", \"view_file\": \"sarray\", \"descriptives\": {\"rows\": 705531}, \"type\": \"SArray\", \"view_components\": [\"Numeric\", \"Categorical\"]}, \"histogram\": {\"progress\": 1.0, \"histogram\": {\"max\": 1005289.96, \"bins\": [58732, 61357, 57877, 59967, 58913, 59139, 59464, 58476, 59587, 56499, 62759, 52761], \"min\": -3191.9599999999627}, \"min\": 4, \"complete\": 1, \"max\": 999996}}, e);\n",
       "                });\n",
       "            })();\n",
       "        "
      ]
     },
     "metadata": {},
     "output_type": "display_data"
    },
    {
     "name": "stdout",
     "output_type": "stream",
     "text": [
      "None\n"
     ]
    }
   ],
   "source": [
    "print ads_training_data['offerid'].show(view = 'Categorical')"
   ]
  },
  {
   "cell_type": "code",
   "execution_count": 155,
   "metadata": {},
   "outputs": [
    {
     "data": {
      "application/javascript": [
       "$(\"head\").append($(\"<link/>\").attr({\n",
       "  rel:  \"stylesheet\",\n",
       "  type: \"text/css\",\n",
       "  href: \"//cdnjs.cloudflare.com/ajax/libs/font-awesome/4.1.0/css/font-awesome.min.css\"\n",
       "}));\n",
       "$(\"head\").append($(\"<link/>\").attr({\n",
       "  rel:  \"stylesheet\",\n",
       "  type: \"text/css\",\n",
       "  href: \"https://static.turi.com/products/graphlab-create/2.1/canvas/css/canvas.css\"\n",
       "}));\n",
       "\n",
       "            (function(){\n",
       "\n",
       "                var e = null;\n",
       "                if (typeof element == 'undefined') {\n",
       "                    var scripts = document.getElementsByTagName('script');\n",
       "                    var thisScriptTag = scripts[scripts.length-1];\n",
       "                    var parentDiv = thisScriptTag.parentNode;\n",
       "                    e = document.createElement('div');\n",
       "                    parentDiv.appendChild(e);\n",
       "                } else {\n",
       "                    e = element[0];\n",
       "                }\n",
       "\n",
       "                if (typeof requirejs !== 'undefined') {\n",
       "                    // disable load timeout; ipython_app.js is large and can take a while to load.\n",
       "                    requirejs.config({waitSeconds: 0});\n",
       "                }\n",
       "\n",
       "                require(['https://static.turi.com/products/graphlab-create/2.1/canvas/js/ipython_app.js'], function(IPythonApp){\n",
       "                    var app = new IPythonApp();\n",
       "                    app.attachView('sarray','Categorical', {\"ipython\": true, \"sketch\": {\"std\": 30125.33241402517, \"complete\": true, \"min\": 97.0, \"max\": 99914.0, \"quantile\": [97.0, 904.0, 904.0, 904.0, 1678.0, 1678.0, 2053.0, 3643.0, 5602.0, 5602.0, 6906.0, 6906.0, 6906.0, 6906.0, 6906.0, 6906.0, 6906.0, 6906.0, 8414.0, 8675.0, 9764.0, 10345.0, 11837.0, 11837.0, 12052.0, 12211.0, 13412.0, 14960.0, 15124.0, 17118.0, 17714.0, 17714.0, 17714.0, 21380.0, 21407.0, 23576.0, 25491.0, 26162.0, 26966.0, 29727.0, 31158.0, 33287.0, 33638.0, 33638.0, 34670.0, 35046.0, 36610.0, 37815.0, 40339.0, 40339.0, 40339.0, 40339.0, 41640.0, 41706.0, 42227.0, 42227.0, 42227.0, 42227.0, 42227.0, 43897.0, 45620.0, 45620.0, 46450.0, 48430.0, 48498.0, 48498.0, 50088.0, 53956.0, 54336.0, 54916.0, 55541.0, 57860.0, 62416.0, 63392.0, 65251.0, 68847.0, 70409.0, 71441.0, 72160.0, 73248.0, 73362.0, 74802.0, 80319.0, 80554.0, 80554.0, 82396.0, 82877.0, 82877.0, 82877.0, 84974.0, 87732.0, 89680.0, 92704.0, 93188.0, 93286.0, 95113.0, 96184.0, 97103.0, 97863.0, 97863.0, 99914.0], \"median\": 40339.0, \"numeric\": true, \"num_unique\": 270, \"num_undefined\": 0, \"var\": 907535653.0555158, \"progress\": 1.0, \"size\": 61173, \"frequent_items\": {\"7169\": {\"frequency\": 100, \"value\": 7169}, \"28075\": {\"frequency\": 49, \"value\": 28075}, \"93188\": {\"frequency\": 233, \"value\": 93188}, \"2053\": {\"frequency\": 400, \"value\": 2053}, \"27655\": {\"frequency\": 70, \"value\": 27655}, \"14345\": {\"frequency\": 438, \"value\": 14345}, \"52747\": {\"frequency\": 11, \"value\": 52747}, \"97807\": {\"frequency\": 68, \"value\": 97807}, \"49168\": {\"frequency\": 44, \"value\": 49168}, \"74263\": {\"frequency\": 303, \"value\": 74263}, \"94232\": {\"frequency\": 10, \"value\": 94232}, \"57860\": {\"frequency\": 58, \"value\": 57860}, \"61982\": {\"frequency\": 61, \"value\": 61982}, \"29727\": {\"frequency\": 15, \"value\": 29727}, \"92704\": {\"frequency\": 782, \"value\": 92704}, \"9764\": {\"frequency\": 587, \"value\": 9764}, \"15912\": {\"frequency\": 362, \"value\": 15912}, \"54313\": {\"frequency\": 24, \"value\": 54313}, \"33287\": {\"frequency\": 567, \"value\": 33287}, \"1069\": {\"frequency\": 23, \"value\": 1069}, \"70191\": {\"frequency\": 35, \"value\": 70191}, \"26162\": {\"frequency\": 213, \"value\": 26162}, \"45620\": {\"frequency\": 942, \"value\": 45620}, \"33033\": {\"frequency\": 238, \"value\": 33033}, \"96313\": {\"frequency\": 170, \"value\": 96313}, \"3643\": {\"frequency\": 357, \"value\": 3643}, \"97852\": {\"frequency\": 50, \"value\": 97852}, \"11837\": {\"frequency\": 900, \"value\": 11837}, \"54336\": {\"frequency\": 44, \"value\": 54336}, \"36768\": {\"frequency\": 328, \"value\": 36768}, \"19010\": {\"frequency\": 2, \"value\": 19010}, \"70724\": {\"frequency\": 34, \"value\": 70724}, \"97863\": {\"frequency\": 1113, \"value\": 97863}, \"99914\": {\"frequency\": 44, \"value\": 99914}, \"53835\": {\"frequency\": 70, \"value\": 53835}, \"13388\": {\"frequency\": 40, \"value\": 13388}, \"37718\": {\"frequency\": 79, \"value\": 37718}, \"89680\": {\"frequency\": 44, \"value\": 89680}, \"24658\": {\"frequency\": 23, \"value\": 24658}, \"72276\": {\"frequency\": 195, \"value\": 72276}, \"47190\": {\"frequency\": 9, \"value\": 47190}, \"52409\": {\"frequency\": 17, \"value\": 52409}, \"85860\": {\"frequency\": 36, \"value\": 85860}, \"6747\": {\"frequency\": 129, \"value\": 6747}, \"43612\": {\"frequency\": 281, \"value\": 43612}, \"79456\": {\"frequency\": 30, \"value\": 79456}, \"97\": {\"frequency\": 9, \"value\": 97}, \"91234\": {\"frequency\": 53, \"value\": 91234}, \"13412\": {\"frequency\": 241, \"value\": 13412}, \"93286\": {\"frequency\": 516, \"value\": 93286}, \"5393\": {\"frequency\": 14, \"value\": 5393}, \"10345\": {\"frequency\": 1038, \"value\": 10345}, \"88170\": {\"frequency\": 1, \"value\": 88170}, \"34489\": {\"frequency\": 62, \"value\": 34489}, \"28270\": {\"frequency\": 43, \"value\": 28270}, \"14960\": {\"frequency\": 387, \"value\": 14960}, \"40050\": {\"frequency\": 128, \"value\": 40050}, \"88179\": {\"frequency\": 17, \"value\": 88179}, \"76409\": {\"frequency\": 11, \"value\": 76409}, \"86652\": {\"frequency\": 73, \"value\": 86652}, \"43133\": {\"frequency\": 9, \"value\": 43133}, \"277\": {\"frequency\": 11, \"value\": 277}, \"63146\": {\"frequency\": 15, \"value\": 63146}, \"71531\": {\"frequency\": 157, \"value\": 71531}, \"54916\": {\"frequency\": 758, \"value\": 54916}, \"31365\": {\"frequency\": 48, \"value\": 31365}, \"22151\": {\"frequency\": 19, \"value\": 22151}, \"19082\": {\"frequency\": 10, \"value\": 19082}, \"80524\": {\"frequency\": 159, \"value\": 80524}, \"1678\": {\"frequency\": 1389, \"value\": 1678}, \"20111\": {\"frequency\": 1, \"value\": 20111}, \"23576\": {\"frequency\": 541, \"value\": 23576}, \"73362\": {\"frequency\": 396, \"value\": 73362}, \"83091\": {\"frequency\": 90, \"value\": 83091}, \"34670\": {\"frequency\": 822, \"value\": 34670}, \"71833\": {\"frequency\": 11, \"value\": 71833}, \"33949\": {\"frequency\": 244, \"value\": 33949}, \"78021\": {\"frequency\": 13, \"value\": 78021}, \"5194\": {\"frequency\": 17, \"value\": 5194}, \"60582\": {\"frequency\": 12, \"value\": 60582}, \"41640\": {\"frequency\": 257, \"value\": 41640}, \"80554\": {\"frequency\": 1074, \"value\": 80554}, \"77767\": {\"frequency\": 15, \"value\": 77767}, \"46450\": {\"frequency\": 475, \"value\": 46450}, \"29870\": {\"frequency\": 21, \"value\": 29870}, \"84144\": {\"frequency\": 81, \"value\": 84144}, \"25015\": {\"frequency\": 72, \"value\": 25015}, \"69811\": {\"frequency\": 14, \"value\": 69811}, \"87732\": {\"frequency\": 288, \"value\": 87732}, \"7353\": {\"frequency\": 7, \"value\": 7353}, \"37055\": {\"frequency\": 65, \"value\": 37055}, \"73248\": {\"frequency\": 758, \"value\": 73248}, \"9163\": {\"frequency\": 24, \"value\": 9163}, \"53956\": {\"frequency\": 548, \"value\": 53956}, \"57029\": {\"frequency\": 48, \"value\": 57029}, \"84228\": {\"frequency\": 85, \"value\": 84228}, \"39112\": {\"frequency\": 8, \"value\": 39112}, \"23283\": {\"frequency\": 49, \"value\": 23283}, \"39628\": {\"frequency\": 16, \"value\": 39628}, \"96973\": {\"frequency\": 88, \"value\": 96973}, \"77521\": {\"frequency\": 53, \"value\": 77521}, \"11987\": {\"frequency\": 129, \"value\": 11987}, \"38104\": {\"frequency\": 17, \"value\": 38104}, \"84987\": {\"frequency\": 214, \"value\": 84987}, \"9946\": {\"frequency\": 17, \"value\": 9946}, \"56027\": {\"frequency\": 109, \"value\": 56027}, \"91868\": {\"frequency\": 13, \"value\": 91868}, \"35549\": {\"frequency\": 15, \"value\": 35549}, \"17118\": {\"frequency\": 218, \"value\": 17118}, \"47327\": {\"frequency\": 92, \"value\": 47327}, \"26849\": {\"frequency\": 194, \"value\": 26849}, \"66786\": {\"frequency\": 74, \"value\": 66786}, \"65251\": {\"frequency\": 166, \"value\": 65251}, \"62180\": {\"frequency\": 16, \"value\": 62180}, \"52453\": {\"frequency\": 5, \"value\": 52453}, \"35046\": {\"frequency\": 298, \"value\": 35046}, \"45287\": {\"frequency\": 90, \"value\": 45287}, \"25321\": {\"frequency\": 29, \"value\": 25321}, \"41706\": {\"frequency\": 967, \"value\": 41706}, \"36077\": {\"frequency\": 14, \"value\": 36077}, \"68847\": {\"frequency\": 154, \"value\": 68847}, \"70384\": {\"frequency\": 69, \"value\": 70384}, \"35368\": {\"frequency\": 305, \"value\": 35368}, \"87895\": {\"frequency\": 121, \"value\": 87895}, \"12019\": {\"frequency\": 1, \"value\": 12019}, \"56150\": {\"frequency\": 16, \"value\": 56150}, \"55541\": {\"frequency\": 54, \"value\": 55541}, \"98552\": {\"frequency\": 401, \"value\": 98552}, \"6906\": {\"frequency\": 4596, \"value\": 6906}, \"26867\": {\"frequency\": 34, \"value\": 26867}, \"28416\": {\"frequency\": 49, \"value\": 28416}, \"36610\": {\"frequency\": 91, \"value\": 36610}, \"82129\": {\"frequency\": 45, \"value\": 82129}, \"2308\": {\"frequency\": 12, \"value\": 2308}, \"83717\": {\"frequency\": 35, \"value\": 83717}, \"84742\": {\"frequency\": 19, \"value\": 84742}, \"70409\": {\"frequency\": 375, \"value\": 70409}, \"93146\": {\"frequency\": 33, \"value\": 93146}, \"71441\": {\"frequency\": 298, \"value\": 71441}, \"8467\": {\"frequency\": 456, \"value\": 8467}, \"15124\": {\"frequency\": 411, \"value\": 15124}, \"43285\": {\"frequency\": 41, \"value\": 43285}, \"61208\": {\"frequency\": 169, \"value\": 61208}, \"92548\": {\"frequency\": 19, \"value\": 92548}, \"75547\": {\"frequency\": 13, \"value\": 75547}, \"59164\": {\"frequency\": 48, \"value\": 59164}, \"46365\": {\"frequency\": 99, \"value\": 46365}, \"81385\": {\"frequency\": 20, \"value\": 81385}, \"74017\": {\"frequency\": 33, \"value\": 74017}, \"10327\": {\"frequency\": 33, \"value\": 10327}, \"6436\": {\"frequency\": 31, \"value\": 6436}, \"66438\": {\"frequency\": 11, \"value\": 66438}, \"5363\": {\"frequency\": 15, \"value\": 5363}, \"28971\": {\"frequency\": 13, \"value\": 28971}, \"74802\": {\"frequency\": 89, \"value\": 74802}, \"48430\": {\"frequency\": 490, \"value\": 48430}, \"989\": {\"frequency\": 69, \"value\": 989}, \"17714\": {\"frequency\": 1666, \"value\": 17714}, \"79668\": {\"frequency\": 65, \"value\": 79668}, \"8414\": {\"frequency\": 153, \"value\": 8414}, \"49810\": {\"frequency\": 148, \"value\": 49810}, \"17801\": {\"frequency\": 10, \"value\": 17801}, \"24888\": {\"frequency\": 73, \"value\": 24888}, \"35380\": {\"frequency\": 18, \"value\": 35380}, \"2757\": {\"frequency\": 9, \"value\": 2757}, \"18243\": {\"frequency\": 8, \"value\": 18243}, \"5445\": {\"frequency\": 23, \"value\": 5445}, \"85985\": {\"frequency\": 43, \"value\": 85985}, \"51532\": {\"frequency\": 1, \"value\": 51532}, \"81229\": {\"frequency\": 179, \"value\": 81229}, \"97103\": {\"frequency\": 207, \"value\": 97103}, \"26962\": {\"frequency\": 242, \"value\": 26962}, \"68947\": {\"frequency\": 436, \"value\": 68947}, \"74580\": {\"frequency\": 11, \"value\": 74580}, \"26966\": {\"frequency\": 145, \"value\": 26966}, \"15191\": {\"frequency\": 22, \"value\": 15191}, \"62809\": {\"frequency\": 155, \"value\": 62809}, \"71514\": {\"frequency\": 10, \"value\": 71514}, \"67419\": {\"frequency\": 36, \"value\": 67419}, \"25436\": {\"frequency\": 67, \"value\": 25436}, \"78685\": {\"frequency\": 43, \"value\": 78685}, \"76126\": {\"frequency\": 10, \"value\": 76126}, \"20322\": {\"frequency\": 256, \"value\": 20322}, \"44388\": {\"frequency\": 175, \"value\": 44388}, \"92902\": {\"frequency\": 292, \"value\": 92902}, \"33638\": {\"frequency\": 943, \"value\": 33638}, \"25959\": {\"frequency\": 10, \"value\": 25959}, \"29711\": {\"frequency\": 17, \"value\": 29711}, \"99178\": {\"frequency\": 163, \"value\": 99178}, \"64363\": {\"frequency\": 18, \"value\": 64363}, \"54125\": {\"frequency\": 362, \"value\": 54125}, \"70424\": {\"frequency\": 105, \"value\": 70424}, \"29183\": {\"frequency\": 262, \"value\": 29183}, \"48498\": {\"frequency\": 1055, \"value\": 48498}, \"25491\": {\"frequency\": 372, \"value\": 25491}, \"30580\": {\"frequency\": 573, \"value\": 30580}, \"61302\": {\"frequency\": 68, \"value\": 61302}, \"67817\": {\"frequency\": 149, \"value\": 67817}, \"43897\": {\"frequency\": 374, \"value\": 43897}, \"54343\": {\"frequency\": 400, \"value\": 54343}, \"45290\": {\"frequency\": 14, \"value\": 45290}, \"41210\": {\"frequency\": 18, \"value\": 41210}, \"21380\": {\"frequency\": 301, \"value\": 21380}, \"55686\": {\"frequency\": 121, \"value\": 55686}, \"904\": {\"frequency\": 1790, \"value\": 904}, \"95113\": {\"frequency\": 949, \"value\": 95113}, \"47156\": {\"frequency\": 16, \"value\": 47156}, \"17804\": {\"frequency\": 37, \"value\": 17804}, \"34810\": {\"frequency\": 25, \"value\": 34810}, \"40339\": {\"frequency\": 2676, \"value\": 40339}, \"50584\": {\"frequency\": 86, \"value\": 50584}, \"60316\": {\"frequency\": 157, \"value\": 60316}, \"61341\": {\"frequency\": 64, \"value\": 61341}, \"21407\": {\"frequency\": 502, \"value\": 21407}, \"63392\": {\"frequency\": 85, \"value\": 63392}, \"46955\": {\"frequency\": 190, \"value\": 46955}, \"55206\": {\"frequency\": 8, \"value\": 55206}, \"42227\": {\"frequency\": 2739, \"value\": 42227}, \"50088\": {\"frequency\": 228, \"value\": 50088}, \"70443\": {\"frequency\": 16, \"value\": 70443}, \"77227\": {\"frequency\": 7, \"value\": 77227}, \"25516\": {\"frequency\": 79, \"value\": 25516}, \"46510\": {\"frequency\": 36, \"value\": 46510}, \"48797\": {\"frequency\": 7, \"value\": 48797}, \"89522\": {\"frequency\": 286, \"value\": 89522}, \"12211\": {\"frequency\": 712, \"value\": 12211}, \"31158\": {\"frequency\": 23, \"value\": 31158}, \"37815\": {\"frequency\": 101, \"value\": 37815}, \"96184\": {\"frequency\": 287, \"value\": 96184}, \"1907\": {\"frequency\": 38, \"value\": 1907}, \"19388\": {\"frequency\": 49, \"value\": 19388}, \"82877\": {\"frequency\": 1410, \"value\": 82877}, \"22023\": {\"frequency\": 109, \"value\": 22023}, \"80319\": {\"frequency\": 137, \"value\": 80319}, \"80800\": {\"frequency\": 47, \"value\": 80800}, \"7107\": {\"frequency\": 33, \"value\": 7107}, \"64452\": {\"frequency\": 569, \"value\": 64452}, \"84407\": {\"frequency\": 10, \"value\": 84407}, \"13255\": {\"frequency\": 64, \"value\": 13255}, \"63435\": {\"frequency\": 18, \"value\": 63435}, \"76239\": {\"frequency\": 224, \"value\": 76239}, \"62416\": {\"frequency\": 181, \"value\": 62416}, \"25259\": {\"frequency\": 7, \"value\": 25259}, \"12052\": {\"frequency\": 527, \"value\": 12052}, \"74711\": {\"frequency\": 61, \"value\": 74711}, \"66063\": {\"frequency\": 20, \"value\": 66063}, \"71642\": {\"frequency\": 202, \"value\": 71642}, \"31195\": {\"frequency\": 33, \"value\": 31195}, \"82396\": {\"frequency\": 615, \"value\": 82396}, \"3037\": {\"frequency\": 222, \"value\": 3037}, \"68575\": {\"frequency\": 39, \"value\": 68575}, \"72160\": {\"frequency\": 77, \"value\": 72160}, \"38881\": {\"frequency\": 18, \"value\": 38881}, \"5602\": {\"frequency\": 1300, \"value\": 5602}, \"8675\": {\"frequency\": 150, \"value\": 8675}, \"62949\": {\"frequency\": 183, \"value\": 62949}, \"14822\": {\"frequency\": 40, \"value\": 14822}, \"91624\": {\"frequency\": 15, \"value\": 91624}, \"27113\": {\"frequency\": 36, \"value\": 27113}, \"56811\": {\"frequency\": 232, \"value\": 56811}, \"84974\": {\"frequency\": 330, \"value\": 84974}, \"43347\": {\"frequency\": 51, \"value\": 43347}, \"22518\": {\"frequency\": 41, \"value\": 22518}, \"80692\": {\"frequency\": 101, \"value\": 80692}, \"7126\": {\"frequency\": 171, \"value\": 7126}, \"835\": {\"frequency\": 221, \"value\": 835}, \"20665\": {\"frequency\": 167, \"value\": 20665}, \"25085\": {\"frequency\": 41, \"value\": 25085}, \"86014\": {\"frequency\": 12, \"value\": 86014}, \"21503\": {\"frequency\": 4, \"value\": 21503}}, \"mean\": 41807.017115394076}, \"selected_variable\": {\"name\": [\"<SArray>\"], \"dtype\": \"int\", \"view_component\": \"Categorical\", \"view_file\": \"sarray\", \"descriptives\": {\"rows\": 61173}, \"type\": \"SArray\", \"view_components\": [\"Numeric\", \"Categorical\"]}, \"histogram\": {\"progress\": 1.0, \"histogram\": {\"max\": 100505.41, \"bins\": [10986, 6732, 4086, 3562, 6548, 8572, 2972, 2090, 4063, 4361, 1776, 5425], \"min\": -303.8060000000005}, \"min\": 97, \"complete\": 1, \"max\": 99914}}, e);\n",
       "                });\n",
       "            })();\n",
       "        "
      ]
     },
     "metadata": {},
     "output_type": "display_data"
    },
    {
     "name": "stdout",
     "output_type": "stream",
     "text": [
      "None\n"
     ]
    }
   ],
   "source": [
    "print ads_training_data['category'].show(view = 'Categorical')"
   ]
  },
  {
   "cell_type": "code",
   "execution_count": 156,
   "metadata": {},
   "outputs": [
    {
     "data": {
      "application/javascript": [
       "$(\"head\").append($(\"<link/>\").attr({\n",
       "  rel:  \"stylesheet\",\n",
       "  type: \"text/css\",\n",
       "  href: \"//cdnjs.cloudflare.com/ajax/libs/font-awesome/4.1.0/css/font-awesome.min.css\"\n",
       "}));\n",
       "$(\"head\").append($(\"<link/>\").attr({\n",
       "  rel:  \"stylesheet\",\n",
       "  type: \"text/css\",\n",
       "  href: \"https://static.turi.com/products/graphlab-create/2.1/canvas/css/canvas.css\"\n",
       "}));\n",
       "\n",
       "            (function(){\n",
       "\n",
       "                var e = null;\n",
       "                if (typeof element == 'undefined') {\n",
       "                    var scripts = document.getElementsByTagName('script');\n",
       "                    var thisScriptTag = scripts[scripts.length-1];\n",
       "                    var parentDiv = thisScriptTag.parentNode;\n",
       "                    e = document.createElement('div');\n",
       "                    parentDiv.appendChild(e);\n",
       "                } else {\n",
       "                    e = element[0];\n",
       "                }\n",
       "\n",
       "                if (typeof requirejs !== 'undefined') {\n",
       "                    // disable load timeout; ipython_app.js is large and can take a while to load.\n",
       "                    requirejs.config({waitSeconds: 0});\n",
       "                }\n",
       "\n",
       "                require(['https://static.turi.com/products/graphlab-create/2.1/canvas/js/ipython_app.js'], function(IPythonApp){\n",
       "                    var app = new IPythonApp();\n",
       "                    app.attachView('sarray','Categorical', {\"ipython\": true, \"sketch\": {\"std\": 30071804.77329152, \"complete\": true, \"min\": 260443.0, \"max\": 99770433.0, \"quantile\": [260443.0, 555603.0, 555603.0, 1189152.0, 2050923.0, 3151081.0, 4000296.0, 4025337.0, 7122654.0, 7122654.0, 7181598.0, 7864011.0, 9434818.0, 12817537.0, 14334527.0, 15961717.0, 16340250.0, 17488931.0, 17777318.0, 18243870.0, 20301556.0, 20301556.0, 22339104.0, 25497095.0, 26391770.0, 26391770.0, 26461535.0, 27578501.0, 27723861.0, 29624796.0, 29916445.0, 30432082.0, 30860214.0, 31388981.0, 31388981.0, 33247409.0, 35819606.0, 36994522.0, 37135965.0, 38492160.0, 39772159.0, 42296429.0, 43452411.0, 43452411.0, 43770446.0, 43770446.0, 46997962.0, 47079934.0, 47079934.0, 48615529.0, 49384126.0, 49384126.0, 50706198.0, 52437512.0, 54526992.0, 54630329.0, 55358028.0, 55420443.0, 56546102.0, 57977218.0, 57977218.0, 58604466.0, 60774669.0, 61940782.0, 62201833.0, 64511164.0, 65017662.0, 66240359.0, 67274540.0, 67860104.0, 71040875.0, 71193712.0, 72780377.0, 74363610.0, 74363610.0, 74868704.0, 74868704.0, 76522512.0, 77318092.0, 78406516.0, 79474990.0, 80963339.0, 82291592.0, 84522677.0, 87726715.0, 87903766.0, 90093962.0, 91553313.0, 91808273.0, 93157824.0, 94350426.0, 95302954.0, 96823930.0, 98830533.0, 98830533.0, 99510044.0, 99510044.0, 99510044.0, 99510044.0, 99558603.0, 99770433.0], \"median\": 49384126.0, \"numeric\": true, \"num_unique\": 658, \"num_undefined\": 0, \"var\": 904313442322958.6, \"progress\": 1.0, \"size\": 61173, \"frequent_items\": {\"38492160\": {\"frequency\": 466, \"value\": 38492160}, \"76464134\": {\"frequency\": 123, \"value\": 76464134}, \"53958316\": {\"frequency\": 9, \"value\": 53958316}, \"94344196\": {\"frequency\": 22, \"value\": 94344196}, \"44210205\": {\"frequency\": 12, \"value\": 44210205}, \"40464414\": {\"frequency\": 35, \"value\": 40464414}, \"10518559\": {\"frequency\": 16, \"value\": 10518559}, \"82022442\": {\"frequency\": 30, \"value\": 82022442}, \"46635051\": {\"frequency\": 4, \"value\": 46635051}, \"50595884\": {\"frequency\": 180, \"value\": 50595884}, \"2750514\": {\"frequency\": 27, \"value\": 2750514}, \"45860916\": {\"frequency\": 16, \"value\": 45860916}, \"1185845\": {\"frequency\": 50, \"value\": 1185845}, \"87807327\": {\"frequency\": 537, \"value\": 87807327}, \"41441342\": {\"frequency\": 81, \"value\": 41441342}, \"84522677\": {\"frequency\": 69, \"value\": 84522677}, \"99770433\": {\"frequency\": 18, \"value\": 99770433}, \"13518921\": {\"frequency\": 12, \"value\": 13518921}, \"38674513\": {\"frequency\": 5, \"value\": 38674513}, \"27723861\": {\"frequency\": 884, \"value\": 27723861}, \"35819606\": {\"frequency\": 31, \"value\": 35819606}, \"34742359\": {\"frequency\": 1, \"value\": 34742359}, \"86198367\": {\"frequency\": 5, \"value\": 86198367}, \"26050656\": {\"frequency\": 13, \"value\": 26050656}, \"76522512\": {\"frequency\": 129, \"value\": 76522512}, \"2402404\": {\"frequency\": 3, \"value\": 2402404}, \"69521510\": {\"frequency\": 2, \"value\": 69521510}, \"98752616\": {\"frequency\": 13, \"value\": 98752616}, \"48615529\": {\"frequency\": 201, \"value\": 48615529}, \"80418924\": {\"frequency\": 15, \"value\": 80418924}, \"90249330\": {\"frequency\": 9, \"value\": 90249330}, \"79473342\": {\"frequency\": 4, \"value\": 79473342}, \"32102521\": {\"frequency\": 20, \"value\": 32102521}, \"18380926\": {\"frequency\": 1, \"value\": 18380926}, \"41520149\": {\"frequency\": 1, \"value\": 41520149}, \"27578501\": {\"frequency\": 85, \"value\": 27578501}, \"78733447\": {\"frequency\": 2, \"value\": 78733447}, \"33683592\": {\"frequency\": 209, \"value\": 33683592}, \"28553354\": {\"frequency\": 26, \"value\": 28553354}, \"9434818\": {\"frequency\": 164, \"value\": 9434818}, \"76234896\": {\"frequency\": 41, \"value\": 76234896}, \"6965393\": {\"frequency\": 21, \"value\": 6965393}, \"48949394\": {\"frequency\": 2, \"value\": 48949394}, \"89663643\": {\"frequency\": 170, \"value\": 89663643}, \"14065822\": {\"frequency\": 21, \"value\": 14065822}, \"38839664\": {\"frequency\": 4, \"value\": 38839664}, \"30310568\": {\"frequency\": 3, \"value\": 30310568}, \"51884201\": {\"frequency\": 7, \"value\": 51884201}, \"58321067\": {\"frequency\": 122, \"value\": 58321067}, \"26929326\": {\"frequency\": 56, \"value\": 26929326}, \"53065903\": {\"frequency\": 1, \"value\": 53065903}, \"33247409\": {\"frequency\": 68, \"value\": 33247409}, \"72161006\": {\"frequency\": 124, \"value\": 72161006}, \"22577334\": {\"frequency\": 7, \"value\": 22577334}, \"13742268\": {\"frequency\": 225, \"value\": 13742268}, \"34816189\": {\"frequency\": 7, \"value\": 34816189}, \"52474047\": {\"frequency\": 6, \"value\": 52474047}, \"98830533\": {\"frequency\": 1072, \"value\": 98830533}, \"86534346\": {\"frequency\": 11, \"value\": 86534346}, \"11053265\": {\"frequency\": 36, \"value\": 11053265}, \"66902230\": {\"frequency\": 4, \"value\": 66902230}, \"8210647\": {\"frequency\": 9, \"value\": 8210647}, \"9947353\": {\"frequency\": 3, \"value\": 9947353}, \"83437790\": {\"frequency\": 4, \"value\": 83437790}, \"2316522\": {\"frequency\": 45, \"value\": 2316522}, \"44933356\": {\"frequency\": 37, \"value\": 44933356}, \"35909873\": {\"frequency\": 7, \"value\": 35909873}, \"31463671\": {\"frequency\": 42, \"value\": 31463671}, \"26120440\": {\"frequency\": 32, \"value\": 26120440}, \"1143033\": {\"frequency\": 31, \"value\": 1143033}, \"43106556\": {\"frequency\": 7, \"value\": 43106556}, \"55277834\": {\"frequency\": 40, \"value\": 55277834}, \"50518283\": {\"frequency\": 25, \"value\": 50518283}, \"23341324\": {\"frequency\": 18, \"value\": 23341324}, \"60774669\": {\"frequency\": 374, \"value\": 60774669}, \"17670416\": {\"frequency\": 35, \"value\": 17670416}, \"18243870\": {\"frequency\": 363, \"value\": 18243870}, \"54794527\": {\"frequency\": 31, \"value\": 54794527}, \"20803874\": {\"frequency\": 22, \"value\": 20803874}, \"54692138\": {\"frequency\": 157, \"value\": 54692138}, \"61204530\": {\"frequency\": 7, \"value\": 61204530}, \"79474990\": {\"frequency\": 293, \"value\": 79474990}, \"66201904\": {\"frequency\": 16, \"value\": 66201904}, \"76367582\": {\"frequency\": 16, \"value\": 76367582}, \"45646134\": {\"frequency\": 18, \"value\": 45646134}, \"55421240\": {\"frequency\": 19, \"value\": 55421240}, \"38904121\": {\"frequency\": 8, \"value\": 38904121}, \"31709498\": {\"frequency\": 2, \"value\": 31709498}, \"36341471\": {\"frequency\": 1, \"value\": 36341471}, \"60425188\": {\"frequency\": 17, \"value\": 60425188}, \"38685003\": {\"frequency\": 1, \"value\": 38685003}, \"62040399\": {\"frequency\": 6, \"value\": 62040399}, \"44415312\": {\"frequency\": 24, \"value\": 44415312}, \"97087827\": {\"frequency\": 4, \"value\": 97087827}, \"96248153\": {\"frequency\": 10, \"value\": 96248153}, \"58163546\": {\"frequency\": 253, \"value\": 58163546}, \"260443\": {\"frequency\": 34, \"value\": 260443}, \"18481500\": {\"frequency\": 91, \"value\": 18481500}, \"65927519\": {\"frequency\": 47, \"value\": 65927519}, \"69159265\": {\"frequency\": 1, \"value\": 69159265}, \"42819945\": {\"frequency\": 18, \"value\": 42819945}, \"75166058\": {\"frequency\": 5, \"value\": 75166058}, \"71165566\": {\"frequency\": 520, \"value\": 71165566}, \"50725229\": {\"frequency\": 5, \"value\": 50725229}, \"70496622\": {\"frequency\": 20, \"value\": 70496622}, \"81758577\": {\"frequency\": 201, \"value\": 81758577}, \"16150900\": {\"frequency\": 273, \"value\": 16150900}, \"25354302\": {\"frequency\": 44, \"value\": 25354302}, \"58542454\": {\"frequency\": 12, \"value\": 58542454}, \"17912183\": {\"frequency\": 12, \"value\": 17912183}, \"5656954\": {\"frequency\": 3, \"value\": 5656954}, \"57977218\": {\"frequency\": 1032, \"value\": 57977218}, \"40325509\": {\"frequency\": 10, \"value\": 40325509}, \"90093962\": {\"frequency\": 99, \"value\": 90093962}, \"83960204\": {\"frequency\": 149, \"value\": 83960204}, \"95400336\": {\"frequency\": 13, \"value\": 95400336}, \"11108754\": {\"frequency\": 31, \"value\": 11108754}, \"78629268\": {\"frequency\": 1, \"value\": 78629268}, \"1396462\": {\"frequency\": 29, \"value\": 1396462}, \"82629862\": {\"frequency\": 5, \"value\": 82629862}, \"23703974\": {\"frequency\": 96, \"value\": 23703974}, \"15464873\": {\"frequency\": 14, \"value\": 15464873}, \"16943535\": {\"frequency\": 122, \"value\": 16943535}, \"96414128\": {\"frequency\": 8, \"value\": 96414128}, \"4268466\": {\"frequency\": 4, \"value\": 4268466}, \"95185333\": {\"frequency\": 15, \"value\": 95185333}, \"57517812\": {\"frequency\": 33, \"value\": 57517812}, \"48626108\": {\"frequency\": 99, \"value\": 48626108}, \"93157824\": {\"frequency\": 523, \"value\": 93157824}, \"22419907\": {\"frequency\": 23, \"value\": 22419907}, \"70257095\": {\"frequency\": 4, \"value\": 70257095}, \"32664008\": {\"frequency\": 5, \"value\": 32664008}, \"46997962\": {\"frequency\": 247, \"value\": 46997962}, \"8837581\": {\"frequency\": 143, \"value\": 8837581}, \"48644561\": {\"frequency\": 197, \"value\": 48644561}, \"3402198\": {\"frequency\": 89, \"value\": 3402198}, \"58163674\": {\"frequency\": 1, \"value\": 58163674}, \"78299611\": {\"frequency\": 1, \"value\": 78299611}, \"29624796\": {\"frequency\": 235, \"value\": 29624796}, \"77896159\": {\"frequency\": 148, \"value\": 77896159}, \"4571619\": {\"frequency\": 3, \"value\": 4571619}, \"15251947\": {\"frequency\": 3, \"value\": 15251947}, \"77068781\": {\"frequency\": 14, \"value\": 77068781}, \"4237811\": {\"frequency\": 66, \"value\": 4237811}, \"19098100\": {\"frequency\": 37, \"value\": 19098100}, \"51689974\": {\"frequency\": 8, \"value\": 51689974}, \"95013373\": {\"frequency\": 90, \"value\": 95013373}, \"26255868\": {\"frequency\": 2, \"value\": 26255868}, \"21117437\": {\"frequency\": 14, \"value\": 21117437}, \"47241726\": {\"frequency\": 28, \"value\": 47241726}, \"78365183\": {\"frequency\": 51, \"value\": 78365183}, \"6171136\": {\"frequency\": 128, \"value\": 6171136}, \"52437512\": {\"frequency\": 284, \"value\": 52437512}, \"38179337\": {\"frequency\": 28, \"value\": 38179337}, \"46907917\": {\"frequency\": 10, \"value\": 46907917}, \"12835344\": {\"frequency\": 1, \"value\": 12835344}, \"33505809\": {\"frequency\": 132, \"value\": 33505809}, \"64776523\": {\"frequency\": 9, \"value\": 64776523}, \"16622107\": {\"frequency\": 50, \"value\": 16622107}, \"4000296\": {\"frequency\": 771, \"value\": 4000296}, \"4684331\": {\"frequency\": 21, \"value\": 4684331}, \"91324974\": {\"frequency\": 4, \"value\": 91324974}, \"1569330\": {\"frequency\": 142, \"value\": 1569330}, \"5675575\": {\"frequency\": 26, \"value\": 5675575}, \"69642811\": {\"frequency\": 4, \"value\": 69642811}, \"64481853\": {\"frequency\": 14, \"value\": 64481853}, \"14334527\": {\"frequency\": 113, \"value\": 14334527}, \"87218752\": {\"frequency\": 7, \"value\": 87218752}, \"72297026\": {\"frequency\": 46, \"value\": 72297026}, \"96190219\": {\"frequency\": 4, \"value\": 96190219}, \"48454212\": {\"frequency\": 19, \"value\": 48454212}, \"15323720\": {\"frequency\": 26, \"value\": 15323720}, \"55358028\": {\"frequency\": 532, \"value\": 55358028}, \"64778829\": {\"frequency\": 4, \"value\": 64778829}, \"43770446\": {\"frequency\": 678, \"value\": 43770446}, \"555603\": {\"frequency\": 1380, \"value\": 555603}, \"8958548\": {\"frequency\": 26, \"value\": 8958548}, \"71321358\": {\"frequency\": 2, \"value\": 71321358}, \"72780377\": {\"frequency\": 27, \"value\": 72780377}, \"95441506\": {\"frequency\": 176, \"value\": 95441506}, \"96498275\": {\"frequency\": 11, \"value\": 96498275}, \"71365220\": {\"frequency\": 9, \"value\": 71365220}, \"50344552\": {\"frequency\": 3, \"value\": 50344552}, \"36901485\": {\"frequency\": 5, \"value\": 36901485}, \"48913006\": {\"frequency\": 89, \"value\": 48913006}, \"51368560\": {\"frequency\": 124, \"value\": 51368560}, \"19722865\": {\"frequency\": 5, \"value\": 19722865}, \"31261303\": {\"frequency\": 102, \"value\": 31261303}, \"74822265\": {\"frequency\": 3, \"value\": 74822265}, \"96823930\": {\"frequency\": 206, \"value\": 96823930}, \"12726907\": {\"frequency\": 7, \"value\": 12726907}, \"75936383\": {\"frequency\": 4, \"value\": 75936383}, \"43526789\": {\"frequency\": 172, \"value\": 43526789}, \"82365062\": {\"frequency\": 38, \"value\": 82365062}, \"92977802\": {\"frequency\": 10, \"value\": 92977802}, \"7752337\": {\"frequency\": 4, \"value\": 7752337}, \"96631444\": {\"frequency\": 11, \"value\": 96631444}, \"40189380\": {\"frequency\": 33, \"value\": 40189380}, \"63492765\": {\"frequency\": 45, \"value\": 63492765}, \"89629342\": {\"frequency\": 7, \"value\": 89629342}, \"85119648\": {\"frequency\": 3, \"value\": 85119648}, \"35959458\": {\"frequency\": 11, \"value\": 35959458}, \"11223716\": {\"frequency\": 1, \"value\": 11223716}, \"17777318\": {\"frequency\": 252, \"value\": 17777318}, \"23020204\": {\"frequency\": 2, \"value\": 23020204}, \"35930802\": {\"frequency\": 11, \"value\": 35930802}, \"89420477\": {\"frequency\": 11, \"value\": 89420477}, \"49384126\": {\"frequency\": 869, \"value\": 49384126}, \"81621696\": {\"frequency\": 46, \"value\": 81621696}, \"31533763\": {\"frequency\": 18, \"value\": 31533763}, \"60293830\": {\"frequency\": 12, \"value\": 60293830}, \"84486855\": {\"frequency\": 14, \"value\": 84486855}, \"21873352\": {\"frequency\": 64, \"value\": 21873352}, \"80466634\": {\"frequency\": 4, \"value\": 80466634}, \"3156697\": {\"frequency\": 229, \"value\": 3156697}, \"74363610\": {\"frequency\": 1430, \"value\": 74363610}, \"62755552\": {\"frequency\": 6, \"value\": 62755552}, \"89318183\": {\"frequency\": 2, \"value\": 89318183}, \"89520876\": {\"frequency\": 2, \"value\": 89520876}, \"32912111\": {\"frequency\": 59, \"value\": 32912111}, \"81826544\": {\"frequency\": 47, \"value\": 81826544}, \"29106929\": {\"frequency\": 6, \"value\": 29106929}, \"4377339\": {\"frequency\": 18, \"value\": 4377339}, \"38558461\": {\"frequency\": 2, \"value\": 38558461}, \"73900798\": {\"frequency\": 52, \"value\": 73900798}, \"21930752\": {\"frequency\": 4, \"value\": 21930752}, \"61326081\": {\"frequency\": 3, \"value\": 61326081}, \"79141675\": {\"frequency\": 1, \"value\": 79141675}, \"49365764\": {\"frequency\": 6, \"value\": 49365764}, \"32738053\": {\"frequency\": 76, \"value\": 32738053}, \"24584966\": {\"frequency\": 4, \"value\": 24584966}, \"1821447\": {\"frequency\": 8, \"value\": 1821447}, \"86362896\": {\"frequency\": 4, \"value\": 86362896}, \"7760657\": {\"frequency\": 2, \"value\": 7760657}, \"94931731\": {\"frequency\": 17, \"value\": 94931731}, \"89557780\": {\"frequency\": 9, \"value\": 89557780}, \"44110614\": {\"frequency\": 63, \"value\": 44110614}, \"96277272\": {\"frequency\": 9, \"value\": 96277272}, \"47276827\": {\"frequency\": 34, \"value\": 47276827}, \"19602207\": {\"frequency\": 3, \"value\": 19602207}, \"78625569\": {\"frequency\": 3, \"value\": 78625569}, \"63767331\": {\"frequency\": 69, \"value\": 63767331}, \"40643365\": {\"frequency\": 19, \"value\": 40643365}, \"44598055\": {\"frequency\": 16, \"value\": 44598055}, \"19184424\": {\"frequency\": 2, \"value\": 19184424}, \"49554217\": {\"frequency\": 77, \"value\": 49554217}, \"13789995\": {\"frequency\": 38, \"value\": 13789995}, \"83172146\": {\"frequency\": 117, \"value\": 83172146}, \"29590325\": {\"frequency\": 6, \"value\": 29590325}, \"91374390\": {\"frequency\": 9, \"value\": 91374390}, \"6751032\": {\"frequency\": 2, \"value\": 6751032}, \"23704379\": {\"frequency\": 33, \"value\": 23704379}, \"47921980\": {\"frequency\": 2, \"value\": 47921980}, \"56546102\": {\"frequency\": 247, \"value\": 56546102}, \"87876422\": {\"frequency\": 18, \"value\": 87876422}, \"90174279\": {\"frequency\": 32, \"value\": 90174279}, \"64095048\": {\"frequency\": 2, \"value\": 64095048}, \"42158923\": {\"frequency\": 11, \"value\": 42158923}, \"29352781\": {\"frequency\": 120, \"value\": 29352781}, \"79055697\": {\"frequency\": 98, \"value\": 79055697}, \"30432082\": {\"frequency\": 100, \"value\": 30432082}, \"81918803\": {\"frequency\": 2, \"value\": 81918803}, \"90276693\": {\"frequency\": 209, \"value\": 90276693}, \"24051531\": {\"frequency\": 2, \"value\": 24051531}, \"37405530\": {\"frequency\": 3, \"value\": 37405530}, \"89496414\": {\"frequency\": 6, \"value\": 89496414}, \"92771167\": {\"frequency\": 31, \"value\": 92771167}, \"55315296\": {\"frequency\": 19, \"value\": 55315296}, \"72089744\": {\"frequency\": 54, \"value\": 72089744}, \"56525667\": {\"frequency\": 3, \"value\": 56525667}, \"2050923\": {\"frequency\": 436, \"value\": 2050923}, \"42914671\": {\"frequency\": 174, \"value\": 42914671}, \"98659187\": {\"frequency\": 13, \"value\": 98659187}, \"78406516\": {\"frequency\": 408, \"value\": 78406516}, \"82074487\": {\"frequency\": 17, \"value\": 82074487}, \"34444153\": {\"frequency\": 9, \"value\": 34444153}, \"86084476\": {\"frequency\": 112, \"value\": 86084476}, \"96260990\": {\"frequency\": 4, \"value\": 96260990}, \"45967851\": {\"frequency\": 2, \"value\": 45967851}, \"33417866\": {\"frequency\": 5, \"value\": 33417866}, \"82291592\": {\"frequency\": 168, \"value\": 82291592}, \"89408393\": {\"frequency\": 6, \"value\": 89408393}, \"76811147\": {\"frequency\": 27, \"value\": 76811147}, \"63773581\": {\"frequency\": 6, \"value\": 63773581}, \"60863375\": {\"frequency\": 5, \"value\": 60863375}, \"12096405\": {\"frequency\": 3, \"value\": 12096405}, \"2450342\": {\"frequency\": 2, \"value\": 2450342}, \"12247975\": {\"frequency\": 26, \"value\": 12247975}, \"17212328\": {\"frequency\": 3, \"value\": 17212328}, \"76532649\": {\"frequency\": 94, \"value\": 76532649}, \"24374189\": {\"frequency\": 46, \"value\": 24374189}, \"78674864\": {\"frequency\": 30, \"value\": 78674864}, \"58604466\": {\"frequency\": 478, \"value\": 58604466}, \"9556126\": {\"frequency\": 159, \"value\": 9556126}, \"30860214\": {\"frequency\": 824, \"value\": 30860214}, \"56986551\": {\"frequency\": 7, \"value\": 56986551}, \"77046603\": {\"frequency\": 158, \"value\": 77046603}, \"46148550\": {\"frequency\": 23, \"value\": 46148550}, \"36416461\": {\"frequency\": 18, \"value\": 36416461}, \"30677837\": {\"frequency\": 6, \"value\": 30677837}, \"11224961\": {\"frequency\": 4, \"value\": 11224961}, \"8414165\": {\"frequency\": 9, \"value\": 8414165}, \"86389721\": {\"frequency\": 2, \"value\": 86389721}, \"20116446\": {\"frequency\": 123, \"value\": 20116446}, \"30397410\": {\"frequency\": 2, \"value\": 30397410}, \"26895331\": {\"frequency\": 5, \"value\": 26895331}, \"49302500\": {\"frequency\": 7, \"value\": 49302500}, \"99273711\": {\"frequency\": 9, \"value\": 99273711}, \"47079934\": {\"frequency\": 1068, \"value\": 47079934}, \"90962935\": {\"frequency\": 13, \"value\": 90962935}, \"4025337\": {\"frequency\": 105, \"value\": 4025337}, \"47811578\": {\"frequency\": 16, \"value\": 47811578}, \"3638268\": {\"frequency\": 35, \"value\": 3638268}, \"48935934\": {\"frequency\": 33, \"value\": 48935934}, \"57500672\": {\"frequency\": 45, \"value\": 57500672}, \"21444096\": {\"frequency\": 17, \"value\": 21444096}, \"46017540\": {\"frequency\": 5, \"value\": 46017540}, \"33532943\": {\"frequency\": 15, \"value\": 33532943}, \"54526992\": {\"frequency\": 359, \"value\": 54526992}, \"38167569\": {\"frequency\": 50, \"value\": 38167569}, \"10341397\": {\"frequency\": 4, \"value\": 10341397}, \"80720921\": {\"frequency\": 32, \"value\": 80720921}, \"58841946\": {\"frequency\": 8, \"value\": 58841946}, \"17488931\": {\"frequency\": 436, \"value\": 17488931}, \"74599462\": {\"frequency\": 1, \"value\": 74599462}, \"26724529\": {\"frequency\": 3, \"value\": 26724529}, \"98166279\": {\"frequency\": 53, \"value\": 98166279}, \"61940782\": {\"frequency\": 511, \"value\": 61940782}, \"66540594\": {\"frequency\": 5, \"value\": 66540594}, \"92640312\": {\"frequency\": 247, \"value\": 92640312}, \"24853566\": {\"frequency\": 23, \"value\": 24853566}, \"36623432\": {\"frequency\": 3, \"value\": 36623432}, \"26989642\": {\"frequency\": 57, \"value\": 26989642}, \"27145291\": {\"frequency\": 4, \"value\": 27145291}, \"79436876\": {\"frequency\": 16, \"value\": 79436876}, \"41923085\": {\"frequency\": 7, \"value\": 41923085}, \"15946833\": {\"frequency\": 1, \"value\": 15946833}, \"42925139\": {\"frequency\": 1, \"value\": 42925139}, \"68150360\": {\"frequency\": 4, \"value\": 68150360}, \"94350426\": {\"frequency\": 498, \"value\": 94350426}, \"17687647\": {\"frequency\": 99, \"value\": 17687647}, \"17415162\": {\"frequency\": 5, \"value\": 17415162}, \"11945063\": {\"frequency\": 76, \"value\": 11945063}, \"83909736\": {\"frequency\": 70, \"value\": 83909736}, \"25113706\": {\"frequency\": 47, \"value\": 25113706}, \"42296429\": {\"frequency\": 66, \"value\": 42296429}, \"28223890\": {\"frequency\": 14, \"value\": 28223890}, \"37616751\": {\"frequency\": 5, \"value\": 37616751}, \"71193712\": {\"frequency\": 127, \"value\": 71193712}, \"94930037\": {\"frequency\": 28, \"value\": 94930037}, \"56464503\": {\"frequency\": 91, \"value\": 56464503}, \"12817537\": {\"frequency\": 188, \"value\": 12817537}, \"39249030\": {\"frequency\": 1, \"value\": 39249030}, \"88843407\": {\"frequency\": 76, \"value\": 88843407}, \"8148112\": {\"frequency\": 1, \"value\": 8148112}, \"4705469\": {\"frequency\": 4, \"value\": 4705469}, \"63837330\": {\"frequency\": 20, \"value\": 63837330}, \"44067987\": {\"frequency\": 2, \"value\": 44067987}, \"49228948\": {\"frequency\": 15, \"value\": 49228948}, \"82947221\": {\"frequency\": 14, \"value\": 82947221}, \"79649944\": {\"frequency\": 1, \"value\": 79649944}, \"60761242\": {\"frequency\": 8, \"value\": 60761242}, \"76485796\": {\"frequency\": 13, \"value\": 76485796}, \"98763943\": {\"frequency\": 2, \"value\": 98763943}, \"7165127\": {\"frequency\": 7, \"value\": 7165127}, \"17050796\": {\"frequency\": 2, \"value\": 17050796}, \"73725102\": {\"frequency\": 33, \"value\": 73725102}, \"5016754\": {\"frequency\": 22, \"value\": 5016754}, \"35374261\": {\"frequency\": 12, \"value\": 35374261}, \"35187897\": {\"frequency\": 3, \"value\": 35187897}, \"17990842\": {\"frequency\": 365, \"value\": 17990842}, \"64511164\": {\"frequency\": 147, \"value\": 64511164}, \"26551485\": {\"frequency\": 37, \"value\": 26551485}, \"33930430\": {\"frequency\": 4, \"value\": 33930430}, \"89365695\": {\"frequency\": 7, \"value\": 89365695}, \"1434817\": {\"frequency\": 45, \"value\": 1434817}, \"54484162\": {\"frequency\": 14, \"value\": 54484162}, \"95601860\": {\"frequency\": 19, \"value\": 95601860}, \"21267655\": {\"frequency\": 11, \"value\": 21267655}, \"49777864\": {\"frequency\": 57, \"value\": 49777864}, \"2835657\": {\"frequency\": 194, \"value\": 2835657}, \"99558603\": {\"frequency\": 422, \"value\": 99558603}, \"99251404\": {\"frequency\": 2, \"value\": 99251404}, \"51399891\": {\"frequency\": 23, \"value\": 51399891}, \"92826840\": {\"frequency\": 17, \"value\": 92826840}, \"26391770\": {\"frequency\": 1589, \"value\": 26391770}, \"62665948\": {\"frequency\": 8, \"value\": 62665948}, \"73166045\": {\"frequency\": 11, \"value\": 73166045}, \"80653536\": {\"frequency\": 57, \"value\": 80653536}, \"45446370\": {\"frequency\": 153, \"value\": 45446370}, \"53732582\": {\"frequency\": 42, \"value\": 53732582}, \"46959847\": {\"frequency\": 1, \"value\": 46959847}, \"1436904\": {\"frequency\": 147, \"value\": 1436904}, \"3151081\": {\"frequency\": 90, \"value\": 3151081}, \"5716520\": {\"frequency\": 54, \"value\": 5716520}, \"41657856\": {\"frequency\": 12, \"value\": 41657856}, \"95079673\": {\"frequency\": 12, \"value\": 95079673}, \"29891834\": {\"frequency\": 15, \"value\": 29891834}, \"33832190\": {\"frequency\": 93, \"value\": 33832190}, \"39507200\": {\"frequency\": 120, \"value\": 39507200}, \"34211073\": {\"frequency\": 16, \"value\": 34211073}, \"72451969\": {\"frequency\": 185, \"value\": 72451969}, \"90293513\": {\"frequency\": 4, \"value\": 90293513}, \"44147978\": {\"frequency\": 37, \"value\": 44147978}, \"61857025\": {\"frequency\": 11, \"value\": 61857025}, \"47262990\": {\"frequency\": 51, \"value\": 47262990}, \"43328787\": {\"frequency\": 65, \"value\": 43328787}, \"91808273\": {\"frequency\": 183, \"value\": 91808273}, \"1084693\": {\"frequency\": 38, \"value\": 1084693}, \"49163542\": {\"frequency\": 2, \"value\": 49163542}, \"35339894\": {\"frequency\": 5, \"value\": 35339894}, \"16340250\": {\"frequency\": 131, \"value\": 16340250}, \"43179292\": {\"frequency\": 163, \"value\": 43179292}, \"29998365\": {\"frequency\": 1, \"value\": 29998365}, \"7181598\": {\"frequency\": 146, \"value\": 7181598}, \"1189152\": {\"frequency\": 258, \"value\": 1189152}, \"47924513\": {\"frequency\": 7, \"value\": 47924513}, \"16370981\": {\"frequency\": 31, \"value\": 16370981}, \"95302954\": {\"frequency\": 215, \"value\": 95302954}, \"40441133\": {\"frequency\": 11, \"value\": 40441133}, \"39603421\": {\"frequency\": 68, \"value\": 39603421}, \"10404744\": {\"frequency\": 9, \"value\": 10404744}, \"91436340\": {\"frequency\": 22, \"value\": 91436340}, \"31388981\": {\"frequency\": 1163, \"value\": 31388981}, \"2518327\": {\"frequency\": 82, \"value\": 2518327}, \"34956607\": {\"frequency\": 14, \"value\": 34956607}, \"46371368\": {\"frequency\": 3, \"value\": 46371368}, \"37229898\": {\"frequency\": 20, \"value\": 37229898}, \"28017207\": {\"frequency\": 5, \"value\": 28017207}, \"37236044\": {\"frequency\": 151, \"value\": 37236044}, \"49130839\": {\"frequency\": 4, \"value\": 49130839}, \"26461535\": {\"frequency\": 484, \"value\": 26461535}, \"2913632\": {\"frequency\": 1, \"value\": 2913632}, \"23588197\": {\"frequency\": 67, \"value\": 23588197}, \"76631398\": {\"frequency\": 8, \"value\": 76631398}, \"60101863\": {\"frequency\": 2, \"value\": 60101863}, \"98322322\": {\"frequency\": 2, \"value\": 98322322}, \"23185981\": {\"frequency\": 2, \"value\": 23185981}, \"56008048\": {\"frequency\": 279, \"value\": 56008048}, \"41848177\": {\"frequency\": 13, \"value\": 41848177}, \"17581428\": {\"frequency\": 141, \"value\": 17581428}, \"76797301\": {\"frequency\": 7, \"value\": 76797301}, \"57777528\": {\"frequency\": 8, \"value\": 57777528}, \"85519739\": {\"frequency\": 3, \"value\": 85519739}, \"81968512\": {\"frequency\": 162, \"value\": 81968512}, \"36951426\": {\"frequency\": 23, \"value\": 36951426}, \"73846149\": {\"frequency\": 2, \"value\": 73846149}, \"66266506\": {\"frequency\": 21, \"value\": 66266506}, \"41631117\": {\"frequency\": 99, \"value\": 41631117}, \"15328654\": {\"frequency\": 29, \"value\": 15328654}, \"57337231\": {\"frequency\": 4, \"value\": 57337231}, \"22435216\": {\"frequency\": 73, \"value\": 22435216}, \"61392274\": {\"frequency\": 80, \"value\": 61392274}, \"19723676\": {\"frequency\": 6, \"value\": 19723676}, \"72749645\": {\"frequency\": 22, \"value\": 72749645}, \"52403615\": {\"frequency\": 12, \"value\": 52403615}, \"60188064\": {\"frequency\": 8, \"value\": 60188064}, \"9389473\": {\"frequency\": 21, \"value\": 9389473}, \"51854755\": {\"frequency\": 65, \"value\": 51854755}, \"3818917\": {\"frequency\": 5, \"value\": 3818917}, \"28300713\": {\"frequency\": 3, \"value\": 28300713}, \"64615852\": {\"frequency\": 75, \"value\": 64615852}, \"37017006\": {\"frequency\": 74, \"value\": 37017006}, \"96206255\": {\"frequency\": 57, \"value\": 96206255}, \"7490999\": {\"frequency\": 4, \"value\": 7490999}, \"24253882\": {\"frequency\": 9, \"value\": 24253882}, \"72867829\": {\"frequency\": 4, \"value\": 72867829}, \"36529598\": {\"frequency\": 38, \"value\": 36529598}, \"68558271\": {\"frequency\": 4, \"value\": 68558271}, \"22400450\": {\"frequency\": 4, \"value\": 22400450}, \"99595716\": {\"frequency\": 77, \"value\": 99595716}, \"41948620\": {\"frequency\": 2, \"value\": 41948620}, \"92202445\": {\"frequency\": 14, \"value\": 92202445}, \"94884429\": {\"frequency\": 2, \"value\": 94884429}, \"29681104\": {\"frequency\": 3, \"value\": 29681104}, \"61682792\": {\"frequency\": 133, \"value\": 61682792}, \"36994522\": {\"frequency\": 284, \"value\": 36994522}, \"38512091\": {\"frequency\": 32, \"value\": 38512091}, \"86289887\": {\"frequency\": 92, \"value\": 86289887}, \"93083104\": {\"frequency\": 9, \"value\": 93083104}, \"9254372\": {\"frequency\": 14, \"value\": 9254372}, \"51637733\": {\"frequency\": 36, \"value\": 51637733}, \"39429607\": {\"frequency\": 1, \"value\": 39429607}, \"42581480\": {\"frequency\": 21, \"value\": 42581480}, \"12964926\": {\"frequency\": 25, \"value\": 12964926}, \"36082259\": {\"frequency\": 42, \"value\": 36082259}, \"14999030\": {\"frequency\": 69, \"value\": 14999030}, \"72904276\": {\"frequency\": 4, \"value\": 72904276}, \"26439163\": {\"frequency\": 33, \"value\": 26439163}, \"22889981\": {\"frequency\": 10, \"value\": 22889981}, \"99096064\": {\"frequency\": 22, \"value\": 99096064}, \"56214784\": {\"frequency\": 10, \"value\": 56214784}, \"26832387\": {\"frequency\": 27, \"value\": 26832387}, \"25497095\": {\"frequency\": 45, \"value\": 25497095}, \"94357502\": {\"frequency\": 9, \"value\": 94357502}, \"68646414\": {\"frequency\": 95, \"value\": 68646414}, \"27436161\": {\"frequency\": 1, \"value\": 27436161}, \"87903766\": {\"frequency\": 210, \"value\": 87903766}, \"65947161\": {\"frequency\": 9, \"value\": 65947161}, \"55420443\": {\"frequency\": 348, \"value\": 55420443}, \"41039388\": {\"frequency\": 6, \"value\": 41039388}, \"61926944\": {\"frequency\": 30, \"value\": 61926944}, \"91553313\": {\"frequency\": 791, \"value\": 91553313}, \"83471179\": {\"frequency\": 16, \"value\": 83471179}, \"1873447\": {\"frequency\": 4, \"value\": 1873447}, \"60460584\": {\"frequency\": 12, \"value\": 60460584}, \"42073648\": {\"frequency\": 21, \"value\": 42073648}, \"93326897\": {\"frequency\": 6, \"value\": 93326897}, \"69514806\": {\"frequency\": 98, \"value\": 69514806}, \"69049912\": {\"frequency\": 4, \"value\": 69049912}, \"23981625\": {\"frequency\": 46, \"value\": 23981625}, \"56528449\": {\"frequency\": 5, \"value\": 56528449}, \"78683718\": {\"frequency\": 102, \"value\": 78683718}, \"4687433\": {\"frequency\": 9, \"value\": 4687433}, \"96142930\": {\"frequency\": 20, \"value\": 96142930}, \"9248340\": {\"frequency\": 8, \"value\": 9248340}, \"87213653\": {\"frequency\": 25, \"value\": 87213653}, \"77188696\": {\"frequency\": 8, \"value\": 77188696}, \"48425572\": {\"frequency\": 139, \"value\": 48425572}, \"51330651\": {\"frequency\": 52, \"value\": 51330651}, \"37135965\": {\"frequency\": 603, \"value\": 37135965}, \"85112421\": {\"frequency\": 8, \"value\": 85112421}, \"8730209\": {\"frequency\": 64, \"value\": 8730209}, \"63970917\": {\"frequency\": 10, \"value\": 63970917}, \"68490856\": {\"frequency\": 16, \"value\": 68490856}, \"29425259\": {\"frequency\": 8, \"value\": 29425259}, \"47703662\": {\"frequency\": 9, \"value\": 47703662}, \"62834288\": {\"frequency\": 88, \"value\": 62834288}, \"17874195\": {\"frequency\": 2, \"value\": 17874195}, \"15961717\": {\"frequency\": 707, \"value\": 15961717}, \"59428470\": {\"frequency\": 1, \"value\": 59428470}, \"35888759\": {\"frequency\": 240, \"value\": 35888759}, \"62380234\": {\"frequency\": 5, \"value\": 62380234}, \"52258430\": {\"frequency\": 1, \"value\": 52258430}, \"57031957\": {\"frequency\": 6, \"value\": 57031957}, \"24515862\": {\"frequency\": 28, \"value\": 24515862}, \"67860104\": {\"frequency\": 61, \"value\": 67860104}, \"30454381\": {\"frequency\": 3, \"value\": 30454381}, \"70184594\": {\"frequency\": 58, \"value\": 70184594}, \"45753283\": {\"frequency\": 14, \"value\": 45753283}, \"71063188\": {\"frequency\": 63, \"value\": 71063188}, \"32223854\": {\"frequency\": 8, \"value\": 32223854}, \"79171222\": {\"frequency\": 7, \"value\": 79171222}, \"84552986\": {\"frequency\": 1, \"value\": 84552986}, \"21416560\": {\"frequency\": 28, \"value\": 21416560}, \"9936546\": {\"frequency\": 4, \"value\": 9936546}, \"85661351\": {\"frequency\": 49, \"value\": 85661351}, \"51545768\": {\"frequency\": 117, \"value\": 51545768}, \"40965804\": {\"frequency\": 22, \"value\": 40965804}, \"29916445\": {\"frequency\": 992, \"value\": 29916445}, \"70239921\": {\"frequency\": 105, \"value\": 70239921}, \"59842226\": {\"frequency\": 39, \"value\": 59842226}, \"67344053\": {\"frequency\": 2, \"value\": 67344053}, \"22050486\": {\"frequency\": 35, \"value\": 22050486}, \"22339104\": {\"frequency\": 85, \"value\": 22339104}, \"31908042\": {\"frequency\": 22, \"value\": 31908042}, \"15322811\": {\"frequency\": 15, \"value\": 15322811}, \"53586255\": {\"frequency\": 5, \"value\": 53586255}, \"81055422\": {\"frequency\": 16, \"value\": 81055422}, \"65307936\": {\"frequency\": 12, \"value\": 65307936}, \"59651778\": {\"frequency\": 41, \"value\": 59651778}, \"9426550\": {\"frequency\": 2, \"value\": 9426550}, \"94926534\": {\"frequency\": 6, \"value\": 94926534}, \"628001\": {\"frequency\": 1, \"value\": 628001}, \"75386570\": {\"frequency\": 4, \"value\": 75386570}, \"7864011\": {\"frequency\": 732, \"value\": 7864011}, \"96986382\": {\"frequency\": 4, \"value\": 96986382}, \"7122654\": {\"frequency\": 1284, \"value\": 7122654}, \"64322853\": {\"frequency\": 96, \"value\": 64322853}, \"87726715\": {\"frequency\": 126, \"value\": 87726715}, \"94555413\": {\"frequency\": 59, \"value\": 94555413}, \"71018214\": {\"frequency\": 5, \"value\": 71018214}, \"67290861\": {\"frequency\": 519, \"value\": 67290861}, \"90664686\": {\"frequency\": 3, \"value\": 90664686}, \"83175152\": {\"frequency\": 21, \"value\": 83175152}, \"20301556\": {\"frequency\": 929, \"value\": 20301556}, \"28501630\": {\"frequency\": 6, \"value\": 28501630}, \"33664760\": {\"frequency\": 1, \"value\": 33664760}, \"27610874\": {\"frequency\": 2, \"value\": 27610874}, \"73017084\": {\"frequency\": 19, \"value\": 73017084}, \"80963339\": {\"frequency\": 63, \"value\": 80963339}, \"75222797\": {\"frequency\": 35, \"value\": 75222797}, \"75622158\": {\"frequency\": 15, \"value\": 75622158}, \"37150479\": {\"frequency\": 12, \"value\": 37150479}, \"89082158\": {\"frequency\": 3, \"value\": 89082158}, \"50706198\": {\"frequency\": 205, \"value\": 50706198}, \"97636121\": {\"frequency\": 4, \"value\": 97636121}, \"99510044\": {\"frequency\": 3004, \"value\": 99510044}, \"1064733\": {\"frequency\": 121, \"value\": 1064733}, \"64577157\": {\"frequency\": 3, \"value\": 64577157}, \"44370224\": {\"frequency\": 1, \"value\": 44370224}, \"46683942\": {\"frequency\": 16, \"value\": 46683942}, \"67274540\": {\"frequency\": 113, \"value\": 67274540}, \"14954287\": {\"frequency\": 7, \"value\": 14954287}, \"91584307\": {\"frequency\": 2, \"value\": 91584307}, \"4783924\": {\"frequency\": 21, \"value\": 4783924}, \"80170805\": {\"frequency\": 9, \"value\": 80170805}, \"48996157\": {\"frequency\": 8, \"value\": 48996157}, \"65017662\": {\"frequency\": 950, \"value\": 65017662}, \"86409024\": {\"frequency\": 32, \"value\": 86409024}, \"74699062\": {\"frequency\": 20, \"value\": 74699062}, \"93343563\": {\"frequency\": 9, \"value\": 93343563}, \"46780241\": {\"frequency\": 7, \"value\": 46780241}, \"14032724\": {\"frequency\": 56, \"value\": 14032724}, \"74213209\": {\"frequency\": 5, \"value\": 74213209}, \"80645978\": {\"frequency\": 119, \"value\": 80645978}, \"4519772\": {\"frequency\": 34, \"value\": 4519772}, \"47941469\": {\"frequency\": 142, \"value\": 47941469}, \"38256486\": {\"frequency\": 7, \"value\": 38256486}, \"66240359\": {\"frequency\": 74, \"value\": 66240359}, \"32964456\": {\"frequency\": 12, \"value\": 32964456}, \"71040875\": {\"frequency\": 63, \"value\": 71040875}, \"83644272\": {\"frequency\": 45, \"value\": 83644272}, \"30349169\": {\"frequency\": 50, \"value\": 30349169}, \"55732083\": {\"frequency\": 3, \"value\": 55732083}, \"87470165\": {\"frequency\": 29, \"value\": 87470165}, \"12799637\": {\"frequency\": 52, \"value\": 12799637}, \"86048641\": {\"frequency\": 15, \"value\": 86048641}, \"41475976\": {\"frequency\": 83, \"value\": 41475976}, \"30500749\": {\"frequency\": 2, \"value\": 30500749}, \"70821774\": {\"frequency\": 81, \"value\": 70821774}, \"86335378\": {\"frequency\": 23, \"value\": 86335378}, \"89912524\": {\"frequency\": 54, \"value\": 89912524}, \"28048367\": {\"frequency\": 12, \"value\": 28048367}, \"36110244\": {\"frequency\": 42, \"value\": 36110244}, \"76683174\": {\"frequency\": 68, \"value\": 76683174}, \"59584425\": {\"frequency\": 58, \"value\": 59584425}, \"38593863\": {\"frequency\": 2, \"value\": 38593863}, \"79906734\": {\"frequency\": 312, \"value\": 79906734}, \"1042419\": {\"frequency\": 1, \"value\": 1042419}, \"67147700\": {\"frequency\": 494, \"value\": 67147700}, \"54630329\": {\"frequency\": 571, \"value\": 54630329}, \"98332604\": {\"frequency\": 5, \"value\": 98332604}, \"40193354\": {\"frequency\": 13, \"value\": 40193354}, \"76595135\": {\"frequency\": 3, \"value\": 76595135}, \"10280896\": {\"frequency\": 25, \"value\": 10280896}, \"62689217\": {\"frequency\": 157, \"value\": 62689217}, \"99684291\": {\"frequency\": 136, \"value\": 99684291}, \"76900293\": {\"frequency\": 8, \"value\": 76900293}, \"21153737\": {\"frequency\": 146, \"value\": 21153737}, \"77318092\": {\"frequency\": 241, \"value\": 77318092}, \"28452818\": {\"frequency\": 47, \"value\": 28452818}, \"73715675\": {\"frequency\": 11, \"value\": 73715675}, \"91873245\": {\"frequency\": 45, \"value\": 91873245}, \"6750175\": {\"frequency\": 1, \"value\": 6750175}, \"74868704\": {\"frequency\": 1114, \"value\": 74868704}, \"53807073\": {\"frequency\": 99, \"value\": 53807073}, \"43452411\": {\"frequency\": 1130, \"value\": 43452411}, \"10713063\": {\"frequency\": 22, \"value\": 10713063}, \"62201833\": {\"frequency\": 202, \"value\": 62201833}, \"96598003\": {\"frequency\": 3, \"value\": 96598003}, \"37767166\": {\"frequency\": 26, \"value\": 37767166}, \"71716856\": {\"frequency\": 59, \"value\": 71716856}, \"86126586\": {\"frequency\": 13, \"value\": 86126586}, \"46540795\": {\"frequency\": 44, \"value\": 46540795}, \"46512126\": {\"frequency\": 56, \"value\": 46512126}, \"39772159\": {\"frequency\": 142, \"value\": 39772159}}, \"mean\": 50172756.678927004}, \"selected_variable\": {\"name\": [\"<SArray>\"], \"dtype\": \"int\", \"view_component\": \"Categorical\", \"view_file\": \"sarray\", \"descriptives\": {\"rows\": 61173}, \"type\": \"SArray\", \"view_components\": [\"Numeric\", \"Categorical\"]}, \"histogram\": {\"progress\": 1.0, \"histogram\": {\"max\": 100368808.368, \"bins\": [7019, 2924, 3980, 7491, 3495, 6652, 5548, 3956, 5709, 3697, 3450, 7252], \"min\": -419314.3680000007}, \"min\": 260443, \"complete\": 1, \"max\": 99770433}}, e);\n",
       "                });\n",
       "            })();\n",
       "        "
      ]
     },
     "metadata": {},
     "output_type": "display_data"
    },
    {
     "name": "stdout",
     "output_type": "stream",
     "text": [
      "None\n"
     ]
    }
   ],
   "source": [
    "print ads_training_data['merchant'].show(view = 'Categorical')"
   ]
  },
  {
   "cell_type": "code",
   "execution_count": 157,
   "metadata": {},
   "outputs": [
    {
     "data": {
      "application/javascript": [
       "$(\"head\").append($(\"<link/>\").attr({\n",
       "  rel:  \"stylesheet\",\n",
       "  type: \"text/css\",\n",
       "  href: \"//cdnjs.cloudflare.com/ajax/libs/font-awesome/4.1.0/css/font-awesome.min.css\"\n",
       "}));\n",
       "$(\"head\").append($(\"<link/>\").attr({\n",
       "  rel:  \"stylesheet\",\n",
       "  type: \"text/css\",\n",
       "  href: \"https://static.turi.com/products/graphlab-create/2.1/canvas/css/canvas.css\"\n",
       "}));\n",
       "\n",
       "            (function(){\n",
       "\n",
       "                var e = null;\n",
       "                if (typeof element == 'undefined') {\n",
       "                    var scripts = document.getElementsByTagName('script');\n",
       "                    var thisScriptTag = scripts[scripts.length-1];\n",
       "                    var parentDiv = thisScriptTag.parentNode;\n",
       "                    e = document.createElement('div');\n",
       "                    parentDiv.appendChild(e);\n",
       "                } else {\n",
       "                    e = element[0];\n",
       "                }\n",
       "\n",
       "                if (typeof requirejs !== 'undefined') {\n",
       "                    // disable load timeout; ipython_app.js is large and can take a while to load.\n",
       "                    requirejs.config({waitSeconds: 0});\n",
       "                }\n",
       "\n",
       "                require(['https://static.turi.com/products/graphlab-create/2.1/canvas/js/ipython_app.js'], function(IPythonApp){\n",
       "                    var app = new IPythonApp();\n",
       "                    app.attachView('sarray','Categorical', {\"ipython\": true, \"sketch\": {\"complete\": true, \"numeric\": false, \"num_unique\": 6, \"num_undefined\": 0, \"progress\": 1.0, \"frequent_items\": {\"a\": {\"frequency\": 9164, \"value\": \"a\"}, \"c\": {\"frequency\": 16835, \"value\": \"c\"}, \"b\": {\"frequency\": 15264, \"value\": \"b\"}, \"e\": {\"frequency\": 4664, \"value\": \"e\"}, \"d\": {\"frequency\": 10562, \"value\": \"d\"}, \"f\": {\"frequency\": 4684, \"value\": \"f\"}}, \"size\": 61173}, \"selected_variable\": {\"name\": [\"<SArray>\"], \"dtype\": \"str\", \"view_component\": \"Categorical\", \"view_file\": \"sarray\", \"descriptives\": {\"rows\": 61173}, \"type\": \"SArray\", \"view_components\": [\"Categorical\"]}, \"histogram\": null}, e);\n",
       "                });\n",
       "            })();\n",
       "        "
      ]
     },
     "metadata": {},
     "output_type": "display_data"
    },
    {
     "name": "stdout",
     "output_type": "stream",
     "text": [
      "None\n"
     ]
    }
   ],
   "source": [
    "print ads_training_data['countrycode'].show(view = 'Categorical')"
   ]
  },
  {
   "cell_type": "code",
   "execution_count": 46,
   "metadata": {
    "collapsed": true
   },
   "outputs": [],
   "source": [
    "#split data into training vs validation(75 25 would be good)\n",
    "train_data, validation_data = ads_training_data.random_split(.75)"
   ]
  },
  {
   "cell_type": "markdown",
   "metadata": {},
   "source": [
    "## --------------------------------------------------Model-------------------------------------------------------------------"
   ]
  },
  {
   "cell_type": "code",
   "execution_count": 47,
   "metadata": {},
   "outputs": [
    {
     "data": {
      "text/html": [
       "<pre>Decision tree classifier:</pre>"
      ],
      "text/plain": [
       "Decision tree classifier:"
      ]
     },
     "metadata": {},
     "output_type": "display_data"
    },
    {
     "data": {
      "text/html": [
       "<pre>--------------------------------------------------------</pre>"
      ],
      "text/plain": [
       "--------------------------------------------------------"
      ]
     },
     "metadata": {},
     "output_type": "display_data"
    },
    {
     "data": {
      "text/html": [
       "<pre>Number of examples          : 528919</pre>"
      ],
      "text/plain": [
       "Number of examples          : 528919"
      ]
     },
     "metadata": {},
     "output_type": "display_data"
    },
    {
     "data": {
      "text/html": [
       "<pre>Number of classes           : 2</pre>"
      ],
      "text/plain": [
       "Number of classes           : 2"
      ]
     },
     "metadata": {},
     "output_type": "display_data"
    },
    {
     "data": {
      "text/html": [
       "<pre>Number of feature columns   : 5</pre>"
      ],
      "text/plain": [
       "Number of feature columns   : 5"
      ]
     },
     "metadata": {},
     "output_type": "display_data"
    },
    {
     "data": {
      "text/html": [
       "<pre>Number of unpacked features : 5</pre>"
      ],
      "text/plain": [
       "Number of unpacked features : 5"
      ]
     },
     "metadata": {},
     "output_type": "display_data"
    },
    {
     "data": {
      "text/html": [
       "<pre>+-----------+--------------+-------------------+-------------------+</pre>"
      ],
      "text/plain": [
       "+-----------+--------------+-------------------+-------------------+"
      ]
     },
     "metadata": {},
     "output_type": "display_data"
    },
    {
     "data": {
      "text/html": [
       "<pre>| Iteration | Elapsed Time | Training-accuracy | Training-log_loss |</pre>"
      ],
      "text/plain": [
       "| Iteration | Elapsed Time | Training-accuracy | Training-log_loss |"
      ]
     },
     "metadata": {},
     "output_type": "display_data"
    },
    {
     "data": {
      "text/html": [
       "<pre>+-----------+--------------+-------------------+-------------------+</pre>"
      ],
      "text/plain": [
       "+-----------+--------------+-------------------+-------------------+"
      ]
     },
     "metadata": {},
     "output_type": "display_data"
    },
    {
     "data": {
      "text/html": [
       "<pre>| 1         | 0.282126     | 0.896954          | 0.511451          |</pre>"
      ],
      "text/plain": [
       "| 1         | 0.282126     | 0.896954          | 0.511451          |"
      ]
     },
     "metadata": {},
     "output_type": "display_data"
    },
    {
     "data": {
      "text/html": [
       "<pre>+-----------+--------------+-------------------+-------------------+</pre>"
      ],
      "text/plain": [
       "+-----------+--------------+-------------------+-------------------+"
      ]
     },
     "metadata": {},
     "output_type": "display_data"
    }
   ],
   "source": [
    "features = ['countrycode', 'merchant', 'category', 'browserid', 'devid']\n",
    "target = 'click_val'\n",
    "\n",
    "decision_tree_model_1 = graphlab.decision_tree_classifier.create(train_data,\n",
    "                                                                 validation_set=None,\n",
    "                                                                 target = target,\n",
    "                                                                 features = features)"
   ]
  },
  {
   "cell_type": "code",
   "execution_count": 1,
   "metadata": {
    "collapsed": true
   },
   "outputs": [],
   "source": [
    "# am i gonna use graphlabs built in classifier or write my own classifier???"
   ]
  },
  {
   "cell_type": "code",
   "execution_count": null,
   "metadata": {
    "collapsed": true
   },
   "outputs": [],
   "source": [
    "#function to pick the best feature to split\n",
    "\n"
   ]
  },
  {
   "cell_type": "code",
   "execution_count": 14,
   "metadata": {
    "collapsed": true
   },
   "outputs": [],
   "source": [
    "#use decision tree to build a classifier \n"
   ]
  },
  {
   "cell_type": "markdown",
   "metadata": {},
   "source": [
    "## --------------------------------------------------Testing-------------------------------------------------------------------"
   ]
  },
  {
   "cell_type": "code",
   "execution_count": 48,
   "metadata": {},
   "outputs": [
    {
     "name": "stdout",
     "output_type": "stream",
     "text": [
      "decision_tree_model_1 on the train data:  {'auc': 0.9592555025722249}\n"
     ]
    }
   ],
   "source": [
    "#decision_tree_model_1 accuracy\n",
    "print \"decision_tree_model_1 on the train data: \", decision_tree_model_1.evaluate(train_data, 'auc')"
   ]
  },
  {
   "cell_type": "code",
   "execution_count": null,
   "metadata": {
    "collapsed": true
   },
   "outputs": [],
   "source": []
  },
  {
   "cell_type": "code",
   "execution_count": null,
   "metadata": {
    "collapsed": true
   },
   "outputs": [],
   "source": [
    "#predict using the test samples data subs\n",
    "\n"
   ]
  },
  {
   "cell_type": "markdown",
   "metadata": {},
   "source": [
    "## ------------------------------------------------Validation----------------------------------------------------------------"
   ]
  },
  {
   "cell_type": "code",
   "execution_count": 49,
   "metadata": {},
   "outputs": [
    {
     "name": "stdout",
     "output_type": "stream",
     "text": [
      "decision_tree_model_1 on the validation data:  {'auc': 0.9594192578066286}\n"
     ]
    }
   ],
   "source": [
    "#decision_tree_model_1 accuracy\n",
    "print \"decision_tree_model_1 on the validation data: \", decision_tree_model_1.evaluate(validation_data, 'auc')"
   ]
  },
  {
   "cell_type": "code",
   "execution_count": null,
   "metadata": {
    "collapsed": true
   },
   "outputs": [],
   "source": []
  },
  {
   "cell_type": "code",
   "execution_count": null,
   "metadata": {
    "collapsed": true
   },
   "outputs": [],
   "source": []
  },
  {
   "cell_type": "code",
   "execution_count": null,
   "metadata": {
    "collapsed": true
   },
   "outputs": [],
   "source": [
    "#evaluate the accuracy of the model\n",
    "\n"
   ]
  },
  {
   "cell_type": "markdown",
   "metadata": {},
   "source": [
    "## ------------------------------------------------Preditcion----------------------------------------------------------------"
   ]
  },
  {
   "cell_type": "code",
   "execution_count": 50,
   "metadata": {},
   "outputs": [
    {
     "data": {
      "text/html": [
       "<pre>Finished parsing file C:\\Users\\Mukesh\\MLC3\\test.csv</pre>"
      ],
      "text/plain": [
       "Finished parsing file C:\\Users\\Mukesh\\MLC3\\test.csv"
      ]
     },
     "metadata": {},
     "output_type": "display_data"
    },
    {
     "data": {
      "text/html": [
       "<pre>Parsing completed. Parsed 100 lines in 0.953594 secs.</pre>"
      ],
      "text/plain": [
       "Parsing completed. Parsed 100 lines in 0.953594 secs."
      ]
     },
     "metadata": {},
     "output_type": "display_data"
    },
    {
     "name": "stdout",
     "output_type": "stream",
     "text": [
      "------------------------------------------------------\n",
      "Inferred types from first 100 line(s) of file as \n",
      "column_type_hints=[str,str,long,long,long,long,str,str,str]\n",
      "If parsing fails due to incorrect types, you can correct\n",
      "the inferred type list above and pass it to read_csv in\n",
      "the column_type_hints argument\n",
      "------------------------------------------------------\n"
     ]
    },
    {
     "data": {
      "text/html": [
       "<pre>Read 715904 lines. Lines per second: 783230</pre>"
      ],
      "text/plain": [
       "Read 715904 lines. Lines per second: 783230"
      ]
     },
     "metadata": {},
     "output_type": "display_data"
    },
    {
     "data": {
      "text/html": [
       "<pre>Finished parsing file C:\\Users\\Mukesh\\MLC3\\test.csv</pre>"
      ],
      "text/plain": [
       "Finished parsing file C:\\Users\\Mukesh\\MLC3\\test.csv"
      ]
     },
     "metadata": {},
     "output_type": "display_data"
    },
    {
     "data": {
      "text/html": [
       "<pre>Parsing completed. Parsed 3706907 lines in 3.34368 secs.</pre>"
      ],
      "text/plain": [
       "Parsing completed. Parsed 3706907 lines in 3.34368 secs."
      ]
     },
     "metadata": {},
     "output_type": "display_data"
    }
   ],
   "source": [
    "# load test data 1\n",
    "ads_test_data = graphlab.SFrame('test.csv')"
   ]
  },
  {
   "cell_type": "code",
   "execution_count": 51,
   "metadata": {},
   "outputs": [
    {
     "data": {
      "text/html": [
       "<div style=\"max-height:1000px;max-width:1500px;overflow:auto;\"><table frame=\"box\" rules=\"cols\">\n",
       "    <tr>\n",
       "        <th style=\"padding-left: 1em; padding-right: 1em; text-align: center\">ID</th>\n",
       "        <th style=\"padding-left: 1em; padding-right: 1em; text-align: center\">datetime</th>\n",
       "        <th style=\"padding-left: 1em; padding-right: 1em; text-align: center\">siteid</th>\n",
       "        <th style=\"padding-left: 1em; padding-right: 1em; text-align: center\">offerid</th>\n",
       "        <th style=\"padding-left: 1em; padding-right: 1em; text-align: center\">category</th>\n",
       "        <th style=\"padding-left: 1em; padding-right: 1em; text-align: center\">merchant</th>\n",
       "        <th style=\"padding-left: 1em; padding-right: 1em; text-align: center\">countrycode</th>\n",
       "        <th style=\"padding-left: 1em; padding-right: 1em; text-align: center\">browserid</th>\n",
       "        <th style=\"padding-left: 1em; padding-right: 1em; text-align: center\">devid</th>\n",
       "    </tr>\n",
       "    <tr>\n",
       "        <td style=\"padding-left: 1em; padding-right: 1em; text-align: center; vertical-align: top\">IDFDJVI</td>\n",
       "        <td style=\"padding-left: 1em; padding-right: 1em; text-align: center; vertical-align: top\">2017-01-22 09:55:48</td>\n",
       "        <td style=\"padding-left: 1em; padding-right: 1em; text-align: center; vertical-align: top\">755610</td>\n",
       "        <td style=\"padding-left: 1em; padding-right: 1em; text-align: center; vertical-align: top\">808980</td>\n",
       "        <td style=\"padding-left: 1em; padding-right: 1em; text-align: center; vertical-align: top\">17714</td>\n",
       "        <td style=\"padding-left: 1em; padding-right: 1em; text-align: center; vertical-align: top\">26391770</td>\n",
       "        <td style=\"padding-left: 1em; padding-right: 1em; text-align: center; vertical-align: top\">b</td>\n",
       "        <td style=\"padding-left: 1em; padding-right: 1em; text-align: center; vertical-align: top\">Mozilla Firefox</td>\n",
       "        <td style=\"padding-left: 1em; padding-right: 1em; text-align: center; vertical-align: top\">Desktop</td>\n",
       "    </tr>\n",
       "</table>\n",
       "[1 rows x 9 columns]<br/>\n",
       "</div>"
      ],
      "text/plain": [
       "Columns:\n",
       "\tID\tstr\n",
       "\tdatetime\tstr\n",
       "\tsiteid\tint\n",
       "\tofferid\tint\n",
       "\tcategory\tint\n",
       "\tmerchant\tint\n",
       "\tcountrycode\tstr\n",
       "\tbrowserid\tstr\n",
       "\tdevid\tstr\n",
       "\n",
       "Rows: 1\n",
       "\n",
       "Data:\n",
       "+---------+---------------------+--------+---------+----------+----------+-------------+\n",
       "|    ID   |       datetime      | siteid | offerid | category | merchant | countrycode |\n",
       "+---------+---------------------+--------+---------+----------+----------+-------------+\n",
       "| IDFDJVI | 2017-01-22 09:55:48 | 755610 |  808980 |  17714   | 26391770 |      b      |\n",
       "+---------+---------------------+--------+---------+----------+----------+-------------+\n",
       "+-----------------+---------+\n",
       "|    browserid    |  devid  |\n",
       "+-----------------+---------+\n",
       "| Mozilla Firefox | Desktop |\n",
       "+-----------------+---------+\n",
       "[1 rows x 9 columns]"
      ]
     },
     "execution_count": 51,
     "metadata": {},
     "output_type": "execute_result"
    }
   ],
   "source": [
    "ads_test_data.head(1)"
   ]
  },
  {
   "cell_type": "code",
   "execution_count": 52,
   "metadata": {
    "collapsed": true
   },
   "outputs": [],
   "source": [
    "browser_list = ['InternetExplorer', 'IE', 'Mozilla', 'Mozilla Firefox', 'Chrome','Google Chrome', 'Firefox', 'Edge',\n",
    "                'Internet Explorer','Opera', 'Safari']\n",
    "\n",
    "for names in browser_list:\n",
    "    transform_browser(names)\n",
    "ads_test_data['browserid'] = ads_test_data['browserid'].apply(transform_browser)"
   ]
  },
  {
   "cell_type": "code",
   "execution_count": 53,
   "metadata": {
    "collapsed": true
   },
   "outputs": [],
   "source": [
    "# make predictions for test data 1\n",
    "predict_1 = decision_tree_model_1.predict(ads_test_data, output_type='probability')"
   ]
  },
  {
   "cell_type": "code",
   "execution_count": 55,
   "metadata": {
    "collapsed": true
   },
   "outputs": [],
   "source": [
    "#export predictions for test data 1\n",
    "sub = pd.DataFrame({'ID':ads_test_data['ID'],'click':predict_1})\n",
    "sub.to_csv('prediction_file_1.csv',index=False)"
   ]
  },
  {
   "cell_type": "markdown",
   "metadata": {
    "collapsed": true
   },
   "source": [
    "## -------------------------------------------------Explore----------------------------------------------------------------"
   ]
  },
  {
   "cell_type": "code",
   "execution_count": null,
   "metadata": {
    "collapsed": true
   },
   "outputs": [],
   "source": [
    "from sklearn.metrics import roc_auc_score\n",
    "#scikit learn doesn't work with missing data\n",
    "\n",
    "model = LinearRegression()\n",
    "model.fit(X_train, y_train)\n",
    "\n",
    "\n",
    "def describe_categorical(x):\n",
    "    #returns the results for categorical variables\n",
    "    from IPython.display import disply, HTML\n",
    "    display(HTML(X[X.columns[X.dtypes== \"object\"]].describe().to_html))"
   ]
  },
  {
   "cell_type": "code",
   "execution_count": null,
   "metadata": {
    "collapsed": true
   },
   "outputs": [],
   "source": [
    "#gives descriptive statistics like how many unique variables are there in a category\n",
    "describe_categorical(x)"
   ]
  },
  {
   "cell_type": "code",
   "execution_count": null,
   "metadata": {
    "collapsed": true
   },
   "outputs": [],
   "source": [
    "#change the variable to only have the first lettter or none\n",
    "def clean(x):\n",
    "    try:\n",
    "        return x[0]\n",
    "    except TypeError:\n",
    "        return \"None\"\n",
    "X[\"browserid\"] = X.browserid.apply(clean)"
   ]
  },
  {
   "cell_type": "code",
   "execution_count": null,
   "metadata": {
    "collapsed": true
   },
   "outputs": [],
   "source": [
    "categorical_variables = ['browserid', 'merchant_id']\n",
    "for variable in categorical_variables:\n",
    "    #fill missing data with word \"Missing\n",
    "    X[variable].fillna(\"Missing\", inplace = True)\n",
    "    #create array of dummie\n",
    "    dummies = pd.get_dummies(X[variable], prefix= variable)\n",
    "    #update X to include the dummies and drop the main variable\n",
    "    X = pd.concat([X, dummies], axis = 1)\n",
    "    X.drop([variable], axis =1, inplace = True)"
   ]
  },
  {
   "cell_type": "code",
   "execution_count": null,
   "metadata": {
    "collapsed": true
   },
   "outputs": [],
   "source": [
    "#simple feature that shows all the variables and their importance in isolation\n",
    "feature_importances = pd.Series(model.feature_importances_, index = x.columns)\n",
    "feature_importances.sort()\n",
    "feature_importances.plot(kind = 'barh', figsize=(7,6))"
   ]
  },
  {
   "cell_type": "code",
   "execution_count": null,
   "metadata": {
    "collapsed": true
   },
   "outputs": [],
   "source": [
    "# Complex version that shows the summary view\n",
    "\n",
    "def graph_feature_importances(model, feature_names, autoscale=True, headroom=0.05, width=10, summarized_columns=None):\n",
    "    \"\"\"\n",
    "    By Mike Bernico\n",
    "    \n",
    "    Graphs the feature importances of a random decision forest using a horizontal bar chart. \n",
    "    Probably works but untested on other sklearn.ensembles.\n",
    "    \n",
    "    Parameters\n",
    "    ----------\n",
    "    ensemble = Name of the ensemble whose features you would like graphed.\n",
    "    feature_names = A list of the names of those featurs, displayed on the Y axis.\n",
    "    autoscale = True (Automatically adjust the X axis size to the largest feature +.headroom) / False = scale from 0 to 1\n",
    "    headroom = used with autoscale, .05 default\n",
    "    width=figure width in inches\n",
    "    summarized_columns = a list of column prefixes to summarize on, for dummy variables\n",
    "    (e.g. [\"day_\"] would summarize all day_ vars\n",
    "    \"\"\"\n",
    "    \n",
    "    if autoscale:\n",
    "        x_scale = model.feature_importances_.max()+ headroom\n",
    "    else:\n",
    "        x_scale = 1\n",
    "    \n",
    "    feature_dict=dict(zip(feature_names, model.feature_importances_))\n",
    "    \n",
    "    if summarized_columns: \n",
    "        #some dummy columns need to be summarized\n",
    "        for col_name in summarized_columns: \n",
    "            #sum all the features that contain col_name, store in temp sum_value\n",
    "            sum_value = sum(x for i, x in feature_dict.items() if col_name in i )  \n",
    "            \n",
    "            #now remove all keys that are part of col_name\n",
    "            keys_to_remove = [i for i in feature_dict.keys() if col_name in i ]\n",
    "            for i in keys_to_remove:\n",
    "                feature_dict.pop(i)\n",
    "            #lastly, read the summarized field\n",
    "            feature_dict[col_name] = sum_value\n",
    "        \n",
    "    results = pd.Series(feature_dict)\n",
    "    results.sort_values(inplace=True)\n",
    "    results.plot(kind=\"barh\", figsize=(width,len(results)/4), xlim=(0,x_scale))\n",
    "    \n",
    "graph_feature_importances(model, X.columns, summarized_columns=categorical_variables)"
   ]
  },
  {
   "cell_type": "code",
   "execution_count": 1,
   "metadata": {
    "collapsed": true
   },
   "outputs": [],
   "source": [
    "#------------------How to handle missing data-----------------------------------------------------\n",
    "# see which columns have missing data\n",
    "#do this after balacing the data sample \n",
    "# We can use plots and summary statistics to help identify missing or corrupt data.\n",
    "# We can load the dataset as a Pandas DataFrame and print summary statistics on each attribute.\n",
    "\n",
    "from pandas import read_csv\n",
    "dataset = read_csv('pima-indians-diabetes.csv', header=None)\n",
    "print(dataset.describe())\n",
    "\n",
    "#then count the number of zeros in each column\n",
    "#In Python, specifically Pandas, NumPy and Scikit-Learn, we mark missing values as NaN.\n",
    "# Values with a NaN value are ignored from operations like sum, count, etc.\n",
    "# mark zero values as missing or NaN\n",
    "\n",
    "dataset[[1,2,3,4,5]] = dataset[[1,2,3,4,5]].replace(0, numpy.NaN)\n",
    "# count the number of NaN values in each column\n",
    "print(dataset.isnull().sum())\n",
    "\n",
    "#Pandas provides the dropna() function that can be used to drop either columns or rows with missing data.\n",
    "# We can use dropna() to remove all rows with missing data\n",
    "#if we drop values with missing data then what will it do if it finds a data point in the test set with missing values?\n"
   ]
  },
  {
   "cell_type": "code",
   "execution_count": null,
   "metadata": {
    "collapsed": true
   },
   "outputs": [],
   "source": [
    "#change the zero clicks to -1 and 1 click to +1\n",
    "\n",
    "#--------------------Experimental perspectives on learning from Imbalanced data----------------\n",
    "#data sampling\n",
    "#check the percentage of +1 data to -1 data/total data \n",
    "#seven sampling techniques:\n",
    "#   1.Random Under sampling-majority class is discarded-performs well with Random Forests \n",
    "#   2. random oversampling- minority class is duplicated-performs well with Logistic Regression\n",
    "#   3. one sided selection- removes majority class samples that are redundant or noisy\n",
    "#      (may be I can remove the ones with missing data)\n",
    "#   4. cluster based sampling\n",
    "#   5. wilson editing-think of having a high precision probability for majority class \n",
    "#   6. SMOTE\n",
    "#   7. borderline SMOTE \n",
    "\n",
    "#take the dataset, seperate into -1 50% and +1 50% and export the data to a csv and then do the same\n",
    "#for the three training sets and then combine those into one, may be you will be able to keep it under 25mb\n"
   ]
  },
  {
   "cell_type": "code",
   "execution_count": null,
   "metadata": {
    "collapsed": true
   },
   "outputs": [],
   "source": [
    "import pandas as pd\n",
    "import numpy as np\n",
    "import matplotlib.pyplot as plt\n",
    "import seaborn as sns\n",
    "\n",
    "# skip row 1 so pandas can parse the data properly.\n",
    "loans_2007 = pd.read_csv('data/lending_club_loans.csv', skiprows=1, low_memory=False) \n",
    "half_count = len(loans_2007) / 2\n",
    "# Drop any column with more than 50% missing values\n",
    "loans_2007 = loans_2007.dropna(thresh=half_count,axis=1)\n",
    "\n",
    "#to explore different values in a column\n",
    "loans_2007[\"loan_status\"].value_counts()\n",
    "\n",
    "# First, use the Pandas DataFrame method isnull() to return a DataFrame containing Boolean values:\n",
    "# True if the original value is null\n",
    "# False if the original value isn’t null\n",
    "#Then, use the Pandas DataFrame method sum() to calculate the number of null values in each column.\n",
    "\n",
    "null_counts = filtered_loans.isnull().sum()\n",
    "print(\"Number of null values in each column:\\n{}\".format(null_counts))\n",
    "\n",
    "for name in ['purpose','title']:\n",
    "    print(\"Unique Values in column: {}\\n\".format(name))\n",
    "    print(filtered_loans[name].value_counts(),'\\n')\n",
    "\n",
    "#The approach to converting nominal features into numerical features is to encode them as dummy variables\n",
    "#remember to store each of these filteres files seperately"
   ]
  },
  {
   "cell_type": "code",
   "execution_count": null,
   "metadata": {
    "collapsed": true
   },
   "outputs": [],
   "source": [
    "# Time Series Forecast Study with Python\n",
    "\n",
    "#make plots to see if you can identify any pattern over time\n",
    "#making a seasonal plot\n",
    "n_groups = len(groups)\n",
    "for name, group in groups:\n",
    "    pyplot.subplot((n_groups*100) + 10 + i)\n",
    "    i += 1\n",
    "    pyplot.plot(group)\n",
    "pyplot.show()\n",
    "\n",
    "#converting specific columns to int types\n",
    "df.iloc[:,2:7] = df.iloc[:,2:7].astype(int)\n",
    "\n",
    "#converting to date time\n",
    "pd.to_datetime('January 2012')\n",
    "\n"
   ]
  },
  {
   "cell_type": "code",
   "execution_count": null,
   "metadata": {
    "collapsed": true
   },
   "outputs": [],
   "source": []
  }
 ],
 "metadata": {
  "kernelspec": {
   "display_name": "Python 2",
   "language": "python",
   "name": "python2"
  },
  "language_info": {
   "codemirror_mode": {
    "name": "ipython",
    "version": 2
   },
   "file_extension": ".py",
   "mimetype": "text/x-python",
   "name": "python",
   "nbconvert_exporter": "python",
   "pygments_lexer": "ipython2",
   "version": "2.7.13"
  }
 },
 "nbformat": 4,
 "nbformat_minor": 1
}
