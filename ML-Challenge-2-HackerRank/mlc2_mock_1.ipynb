{
 "cells": [
  {
   "cell_type": "code",
   "execution_count": 1,
   "metadata": {
    "collapsed": true
   },
   "outputs": [],
   "source": [
    "#will a project get funded\n",
    "import graphlab\n",
    "\n",
    "graphlab.canvas.set_target('ipynb')"
   ]
  },
  {
   "cell_type": "code",
   "execution_count": 4,
   "metadata": {},
   "outputs": [
    {
     "data": {
      "text/html": [
       "<pre>Unable to parse line \"kkst239785503,WHATEVER: a web series about the real world of teens,\"Whatever is about teens and their lives â€“ the private one, the public one,\"</pre>"
      ],
      "text/plain": [
       "Unable to parse line \"kkst239785503,WHATEVER: a web series about the real world of teens,\"Whatever is about teens and their lives â€“ the private one, the public one,\""
      ]
     },
     "metadata": {},
     "output_type": "display_data"
    },
    {
     "data": {
      "text/html": [
       "<pre>Unable to parse line \"kkst889536552,CNC router,\"Produce RC airplane , toys and other useful things for a low price ,\"</pre>"
      ],
      "text/plain": [
       "Unable to parse line \"kkst889536552,CNC router,\"Produce RC airplane , toys and other useful things for a low price ,\""
      ]
     },
     "metadata": {},
     "output_type": "display_data"
    },
    {
     "data": {
      "text/html": [
       "<pre>Unable to parse line \"kkst597742710,Help me write my second novel.,\"Do your part to help out starving artists and help me write my second novel!\"</pre>"
      ],
      "text/plain": [
       "Unable to parse line \"kkst597742710,Help me write my second novel.,\"Do your part to help out starving artists and help me write my second novel!\""
      ]
     },
     "metadata": {},
     "output_type": "display_data"
    },
    {
     "data": {
      "text/html": [
       "<pre>Unable to parse line \"kkst1313694376,Marble carving in Italy and Switzerland,\"Help me travel to Europe to study with master sculptor Christian Bolt.\"</pre>"
      ],
      "text/plain": [
       "Unable to parse line \"kkst1313694376,Marble carving in Italy and Switzerland,\"Help me travel to Europe to study with master sculptor Christian Bolt.\""
      ]
     },
     "metadata": {},
     "output_type": "display_data"
    },
    {
     "data": {
      "text/html": [
       "<pre>Unable to parse line \"kkst1806283326,HALO Fuel Cell: A Charger For Your Outdoor Needs,\"Get lost in the woods, but donâ€™t lose your charge!\"</pre>"
      ],
      "text/plain": [
       "Unable to parse line \"kkst1806283326,HALO Fuel Cell: A Charger For Your Outdoor Needs,\"Get lost in the woods, but donâ€™t lose your charge!\""
      ]
     },
     "metadata": {},
     "output_type": "display_data"
    },
    {
     "data": {
      "text/html": [
       "<pre>Unable to parse line \"the secret one and the one inside that nobody knows about.\",12000,whatever-a-web-series-about-the-real-world-of-teen,false,US,USD,1321897438,1321897441,1319134431,1319301838,10,0\"</pre>"
      ],
      "text/plain": [
       "Unable to parse line \"the secret one and the one inside that nobody knows about.\",12000,whatever-a-web-series-about-the-real-world-of-teen,false,US,USD,1321897438,1321897441,1319134431,1319301838,10,0\""
      ]
     },
     "metadata": {},
     "output_type": "display_data"
    },
    {
     "data": {
      "text/html": [
       "<pre>Unable to parse line \"even special ordered\",1e+05,cnc-router-0,false,NO,NOK,1423416375,1423416375,1420798258,1420824375,2,0\"</pre>"
      ],
      "text/plain": [
       "Unable to parse line \"even special ordered\",1e+05,cnc-router-0,false,NO,NOK,1423416375,1423416375,1420798258,1420824375,2,0\""
      ]
     },
     "metadata": {},
     "output_type": "display_data"
    },
    {
     "data": {
      "text/html": [
       "<pre>Unable to parse line \"I have just finished writing my first novel, and...\",500,help-me-write-my-second-novel,false,US,USD,1243555740,1243556121,1240963795,1240966730,18,1\"</pre>"
      ],
      "text/plain": [
       "Unable to parse line \"I have just finished writing my first novel, and...\",500,help-me-write-my-second-novel,false,US,USD,1243555740,1243556121,1240963795,1240966730,18,1\""
      ]
     },
     "metadata": {},
     "output_type": "display_data"
    },
    {
     "data": {
      "text/html": [
       "<pre>Unable to parse line \"Support this project and receive my model works.\",4000,marble-carving-in-italy-and-switzerland,false,US,USD,1398485561,1398485561,1361139987,1395893561,10,0\"</pre>"
      ],
      "text/plain": [
       "Unable to parse line \"Support this project and receive my model works.\",4000,marble-carving-in-italy-and-switzerland,false,US,USD,1398485561,1398485561,1361139987,1395893561,10,0\""
      ]
     },
     "metadata": {},
     "output_type": "display_data"
    },
    {
     "data": {
      "text/html": [
       "<pre>Unable to parse line \"The HALO powers devices for the outdoor \"</pre>"
      ],
      "text/plain": [
       "Unable to parse line \"The HALO powers devices for the outdoor \""
      ]
     },
     "metadata": {},
     "output_type": "display_data"
    },
    {
     "data": {
      "text/html": [
       "<pre>Unable to parse line \"kkst1670696262,Experience the uniquely anointed sounds of David Ary.,\"GOD LOVES US ALL. What God has done for me God can do for you.\"</pre>"
      ],
      "text/plain": [
       "Unable to parse line \"kkst1670696262,Experience the uniquely anointed sounds of David Ary.,\"GOD LOVES US ALL. What God has done for me God can do for you.\""
      ]
     },
     "metadata": {},
     "output_type": "display_data"
    },
    {
     "data": {
      "text/html": [
       "<pre>6445 lines failed to parse correctly</pre>"
      ],
      "text/plain": [
       "6445 lines failed to parse correctly"
      ]
     },
     "metadata": {},
     "output_type": "display_data"
    },
    {
     "data": {
      "text/html": [
       "<pre>Finished parsing file C:\\Users\\Mukesh\\MLC2\\train.csv</pre>"
      ],
      "text/plain": [
       "Finished parsing file C:\\Users\\Mukesh\\MLC2\\train.csv"
      ]
     },
     "metadata": {},
     "output_type": "display_data"
    },
    {
     "data": {
      "text/html": [
       "<pre>Parsing completed. Parsed 105332 lines in 0.379013 secs.</pre>"
      ],
      "text/plain": [
       "Parsing completed. Parsed 105332 lines in 0.379013 secs."
      ]
     },
     "metadata": {},
     "output_type": "display_data"
    }
   ],
   "source": [
    "#feature engineering training data\n",
    "import re\n",
    "import datetime\n",
    "import numpy as np\n",
    "\n",
    "remove = ['\\r', '\\x0b', '\\x0c', '\\t', ' ', '.', \"'\", '&', '-', '$', '!', ':']\n",
    "\n",
    "kickstarter = graphlab.SFrame.read_csv('train.csv',\n",
    "                                       delimiter=remove,\n",
    "                                       column_type_hints=[str,str,str,float,str,str,str,str,int,int,int,int,int,int]\n",
    "                                      )\n",
    "\n",
    "unix_cols = ['deadline','state_changed_at','launched_at','created_at']\n",
    "\n",
    "for x in unix_cols:\n",
    "    kickstarter[x] = kickstarter[x].apply(lambda k: datetime.datetime.fromtimestamp(int(k)).strftime('%Y-%m-%d %H:%M:%S'))"
   ]
  },
  {
   "cell_type": "code",
   "execution_count": 5,
   "metadata": {},
   "outputs": [
    {
     "data": {
      "text/html": [
       "<div style=\"max-height:1000px;max-width:1500px;overflow:auto;\"><table frame=\"box\" rules=\"cols\">\n",
       "    <tr>\n",
       "        <th style=\"padding-left: 1em; padding-right: 1em; text-align: center\">project_id</th>\n",
       "        <th style=\"padding-left: 1em; padding-right: 1em; text-align: center\">name</th>\n",
       "        <th style=\"padding-left: 1em; padding-right: 1em; text-align: center\">desc</th>\n",
       "        <th style=\"padding-left: 1em; padding-right: 1em; text-align: center\">goal</th>\n",
       "        <th style=\"padding-left: 1em; padding-right: 1em; text-align: center\">keywords</th>\n",
       "        <th style=\"padding-left: 1em; padding-right: 1em; text-align: center\">disable_communication</th>\n",
       "    </tr>\n",
       "    <tr>\n",
       "        <td style=\"padding-left: 1em; padding-right: 1em; text-align: center; vertical-align: top\">kkst1451568084</td>\n",
       "        <td style=\"padding-left: 1em; padding-right: 1em; text-align: center; vertical-align: top\">drawing for dollars</td>\n",
       "        <td style=\"padding-left: 1em; padding-right: 1em; text-align: center; vertical-align: top\">I like drawing pictures.<br>and then i color them ...</td>\n",
       "        <td style=\"padding-left: 1em; padding-right: 1em; text-align: center; vertical-align: top\">20.0</td>\n",
       "        <td style=\"padding-left: 1em; padding-right: 1em; text-align: center; vertical-align: top\">drawing-for-dollars</td>\n",
       "        <td style=\"padding-left: 1em; padding-right: 1em; text-align: center; vertical-align: top\">false</td>\n",
       "    </tr>\n",
       "    <tr>\n",
       "        <td style=\"padding-left: 1em; padding-right: 1em; text-align: center; vertical-align: top\">kkst1474482071</td>\n",
       "        <td style=\"padding-left: 1em; padding-right: 1em; text-align: center; vertical-align: top\">Sponsor Dereck Blackburn<br>(Lostwars) Artist in ...</td>\n",
       "        <td style=\"padding-left: 1em; padding-right: 1em; text-align: center; vertical-align: top\">I, Dereck Blackburn will<br>be taking upon an ...</td>\n",
       "        <td style=\"padding-left: 1em; padding-right: 1em; text-align: center; vertical-align: top\">300.0</td>\n",
       "        <td style=\"padding-left: 1em; padding-right: 1em; text-align: center; vertical-align: top\">sponsor-dereck-blackburn-<br>lostwars-artist-in- ...</td>\n",
       "        <td style=\"padding-left: 1em; padding-right: 1em; text-align: center; vertical-align: top\">false</td>\n",
       "    </tr>\n",
       "    <tr>\n",
       "        <td style=\"padding-left: 1em; padding-right: 1em; text-align: center; vertical-align: top\">kkst183622197</td>\n",
       "        <td style=\"padding-left: 1em; padding-right: 1em; text-align: center; vertical-align: top\">Mr. Squiggles</td>\n",
       "        <td style=\"padding-left: 1em; padding-right: 1em; text-align: center; vertical-align: top\">So I saw darkpony's<br>successfully funded ...</td>\n",
       "        <td style=\"padding-left: 1em; padding-right: 1em; text-align: center; vertical-align: top\">30.0</td>\n",
       "        <td style=\"padding-left: 1em; padding-right: 1em; text-align: center; vertical-align: top\">mr-squiggles</td>\n",
       "        <td style=\"padding-left: 1em; padding-right: 1em; text-align: center; vertical-align: top\">false</td>\n",
       "    </tr>\n",
       "    <tr>\n",
       "        <td style=\"padding-left: 1em; padding-right: 1em; text-align: center; vertical-align: top\">kkst1913131122</td>\n",
       "        <td style=\"padding-left: 1em; padding-right: 1em; text-align: center; vertical-align: top\">Support casting my<br>sculpture in bronze ...</td>\n",
       "        <td style=\"padding-left: 1em; padding-right: 1em; text-align: center; vertical-align: top\">I'm nearing completion on<br>a sculpture, currently ...</td>\n",
       "        <td style=\"padding-left: 1em; padding-right: 1em; text-align: center; vertical-align: top\">2000.0</td>\n",
       "        <td style=\"padding-left: 1em; padding-right: 1em; text-align: center; vertical-align: top\">support-casting-my-<br>sculpture-in-bronze ...</td>\n",
       "        <td style=\"padding-left: 1em; padding-right: 1em; text-align: center; vertical-align: top\">false</td>\n",
       "    </tr>\n",
       "    <tr>\n",
       "        <td style=\"padding-left: 1em; padding-right: 1em; text-align: center; vertical-align: top\">kkst1085176748</td>\n",
       "        <td style=\"padding-left: 1em; padding-right: 1em; text-align: center; vertical-align: top\">daily digest</td>\n",
       "        <td style=\"padding-left: 1em; padding-right: 1em; text-align: center; vertical-align: top\">I'm a fledgling<br>videoblogger living in ...</td>\n",
       "        <td style=\"padding-left: 1em; padding-right: 1em; text-align: center; vertical-align: top\">700.0</td>\n",
       "        <td style=\"padding-left: 1em; padding-right: 1em; text-align: center; vertical-align: top\">daily-digest</td>\n",
       "        <td style=\"padding-left: 1em; padding-right: 1em; text-align: center; vertical-align: top\">false</td>\n",
       "    </tr>\n",
       "</table>\n",
       "<table frame=\"box\" rules=\"cols\">\n",
       "    <tr>\n",
       "        <th style=\"padding-left: 1em; padding-right: 1em; text-align: center\">country</th>\n",
       "        <th style=\"padding-left: 1em; padding-right: 1em; text-align: center\">currency</th>\n",
       "        <th style=\"padding-left: 1em; padding-right: 1em; text-align: center\">deadline</th>\n",
       "        <th style=\"padding-left: 1em; padding-right: 1em; text-align: center\">state_changed_at</th>\n",
       "        <th style=\"padding-left: 1em; padding-right: 1em; text-align: center\">created_at</th>\n",
       "        <th style=\"padding-left: 1em; padding-right: 1em; text-align: center\">launched_at</th>\n",
       "        <th style=\"padding-left: 1em; padding-right: 1em; text-align: center\">backers_count</th>\n",
       "    </tr>\n",
       "    <tr>\n",
       "        <td style=\"padding-left: 1em; padding-right: 1em; text-align: center; vertical-align: top\">US</td>\n",
       "        <td style=\"padding-left: 1em; padding-right: 1em; text-align: center; vertical-align: top\">USD</td>\n",
       "        <td style=\"padding-left: 1em; padding-right: 1em; text-align: center; vertical-align: top\">2009-05-03 01:59:59</td>\n",
       "        <td style=\"padding-left: 1em; padding-right: 1em; text-align: center; vertical-align: top\">2009-05-03 02:00:17</td>\n",
       "        <td style=\"padding-left: 1em; padding-right: 1em; text-align: center; vertical-align: top\">2009-04-24 14:15:07</td>\n",
       "        <td style=\"padding-left: 1em; padding-right: 1em; text-align: center; vertical-align: top\">2009-04-24 14:52:03</td>\n",
       "        <td style=\"padding-left: 1em; padding-right: 1em; text-align: center; vertical-align: top\">3</td>\n",
       "    </tr>\n",
       "    <tr>\n",
       "        <td style=\"padding-left: 1em; padding-right: 1em; text-align: center; vertical-align: top\">US</td>\n",
       "        <td style=\"padding-left: 1em; padding-right: 1em; text-align: center; vertical-align: top\">USD</td>\n",
       "        <td style=\"padding-left: 1em; padding-right: 1em; text-align: center; vertical-align: top\">2009-05-15 18:10:00</td>\n",
       "        <td style=\"padding-left: 1em; padding-right: 1em; text-align: center; vertical-align: top\">2009-05-15 19:00:18</td>\n",
       "        <td style=\"padding-left: 1em; padding-right: 1em; text-align: center; vertical-align: top\">2009-04-28 18:10:24</td>\n",
       "        <td style=\"padding-left: 1em; padding-right: 1em; text-align: center; vertical-align: top\">2009-04-28 22:26:32</td>\n",
       "        <td style=\"padding-left: 1em; padding-right: 1em; text-align: center; vertical-align: top\">2</td>\n",
       "    </tr>\n",
       "    <tr>\n",
       "        <td style=\"padding-left: 1em; padding-right: 1em; text-align: center; vertical-align: top\">US</td>\n",
       "        <td style=\"padding-left: 1em; padding-right: 1em; text-align: center; vertical-align: top\">USD</td>\n",
       "        <td style=\"padding-left: 1em; padding-right: 1em; text-align: center; vertical-align: top\">2009-05-22 16:26:00</td>\n",
       "        <td style=\"padding-left: 1em; padding-right: 1em; text-align: center; vertical-align: top\">2009-05-22 16:30:18</td>\n",
       "        <td style=\"padding-left: 1em; padding-right: 1em; text-align: center; vertical-align: top\">2009-05-12 16:26:53</td>\n",
       "        <td style=\"padding-left: 1em; padding-right: 1em; text-align: center; vertical-align: top\">2009-05-12 16:39:58</td>\n",
       "        <td style=\"padding-left: 1em; padding-right: 1em; text-align: center; vertical-align: top\">0</td>\n",
       "    </tr>\n",
       "    <tr>\n",
       "        <td style=\"padding-left: 1em; padding-right: 1em; text-align: center; vertical-align: top\">US</td>\n",
       "        <td style=\"padding-left: 1em; padding-right: 1em; text-align: center; vertical-align: top\">USD</td>\n",
       "        <td style=\"padding-left: 1em; padding-right: 1em; text-align: center; vertical-align: top\">2009-05-31 06:38:00</td>\n",
       "        <td style=\"padding-left: 1em; padding-right: 1em; text-align: center; vertical-align: top\">2009-05-31 06:45:17</td>\n",
       "        <td style=\"padding-left: 1em; padding-right: 1em; text-align: center; vertical-align: top\">2009-05-01 06:38:34</td>\n",
       "        <td style=\"padding-left: 1em; padding-right: 1em; text-align: center; vertical-align: top\">2009-05-01 07:22:21</td>\n",
       "        <td style=\"padding-left: 1em; padding-right: 1em; text-align: center; vertical-align: top\">1</td>\n",
       "    </tr>\n",
       "    <tr>\n",
       "        <td style=\"padding-left: 1em; padding-right: 1em; text-align: center; vertical-align: top\">US</td>\n",
       "        <td style=\"padding-left: 1em; padding-right: 1em; text-align: center; vertical-align: top\">USD</td>\n",
       "        <td style=\"padding-left: 1em; padding-right: 1em; text-align: center; vertical-align: top\">2009-05-31 19:20:00</td>\n",
       "        <td style=\"padding-left: 1em; padding-right: 1em; text-align: center; vertical-align: top\">2009-05-31 19:30:19</td>\n",
       "        <td style=\"padding-left: 1em; padding-right: 1em; text-align: center; vertical-align: top\">2009-04-29 19:19:59</td>\n",
       "        <td style=\"padding-left: 1em; padding-right: 1em; text-align: center; vertical-align: top\">2009-05-04 14:14:28</td>\n",
       "        <td style=\"padding-left: 1em; padding-right: 1em; text-align: center; vertical-align: top\">14</td>\n",
       "    </tr>\n",
       "</table>\n",
       "<table frame=\"box\" rules=\"cols\">\n",
       "    <tr>\n",
       "        <th style=\"padding-left: 1em; padding-right: 1em; text-align: center\">final_status</th>\n",
       "    </tr>\n",
       "    <tr>\n",
       "        <td style=\"padding-left: 1em; padding-right: 1em; text-align: center; vertical-align: top\">1</td>\n",
       "    </tr>\n",
       "    <tr>\n",
       "        <td style=\"padding-left: 1em; padding-right: 1em; text-align: center; vertical-align: top\">0</td>\n",
       "    </tr>\n",
       "    <tr>\n",
       "        <td style=\"padding-left: 1em; padding-right: 1em; text-align: center; vertical-align: top\">0</td>\n",
       "    </tr>\n",
       "    <tr>\n",
       "        <td style=\"padding-left: 1em; padding-right: 1em; text-align: center; vertical-align: top\">0</td>\n",
       "    </tr>\n",
       "    <tr>\n",
       "        <td style=\"padding-left: 1em; padding-right: 1em; text-align: center; vertical-align: top\">0</td>\n",
       "    </tr>\n",
       "</table>\n",
       "[5 rows x 14 columns]<br/>\n",
       "</div>"
      ],
      "text/plain": [
       "Columns:\n",
       "\tproject_id\tstr\n",
       "\tname\tstr\n",
       "\tdesc\tstr\n",
       "\tgoal\tfloat\n",
       "\tkeywords\tstr\n",
       "\tdisable_communication\tstr\n",
       "\tcountry\tstr\n",
       "\tcurrency\tstr\n",
       "\tdeadline\tstr\n",
       "\tstate_changed_at\tstr\n",
       "\tcreated_at\tstr\n",
       "\tlaunched_at\tstr\n",
       "\tbackers_count\tint\n",
       "\tfinal_status\tint\n",
       "\n",
       "Rows: 5\n",
       "\n",
       "Data:\n",
       "+----------------+-------------------------------+\n",
       "|   project_id   |              name             |\n",
       "+----------------+-------------------------------+\n",
       "| kkst1451568084 |      drawing for dollars      |\n",
       "| kkst1474482071 | Sponsor Dereck Blackburn (... |\n",
       "| kkst183622197  |         Mr. Squiggles         |\n",
       "| kkst1913131122 | Support casting my sculptu... |\n",
       "| kkst1085176748 |          daily digest         |\n",
       "+----------------+-------------------------------+\n",
       "+-------------------------------+--------+-------------------------------+-----------------------+\n",
       "|              desc             |  goal  |            keywords           | disable_communication |\n",
       "+-------------------------------+--------+-------------------------------+-----------------------+\n",
       "| I like drawing pictures. a... |  20.0  |      drawing-for-dollars      |         false         |\n",
       "| I, Dereck Blackburn will b... | 300.0  | sponsor-dereck-blackburn-l... |         false         |\n",
       "| So I saw darkpony's succes... |  30.0  |          mr-squiggles         |         false         |\n",
       "| I'm nearing completion on ... | 2000.0 | support-casting-my-sculptu... |         false         |\n",
       "| I'm a fledgling videoblogg... | 700.0  |          daily-digest         |         false         |\n",
       "+-------------------------------+--------+-------------------------------+-----------------------+\n",
       "+---------+----------+---------------------+---------------------+\n",
       "| country | currency |       deadline      |   state_changed_at  |\n",
       "+---------+----------+---------------------+---------------------+\n",
       "|    US   |   USD    | 2009-05-03 01:59:59 | 2009-05-03 02:00:17 |\n",
       "|    US   |   USD    | 2009-05-15 18:10:00 | 2009-05-15 19:00:18 |\n",
       "|    US   |   USD    | 2009-05-22 16:26:00 | 2009-05-22 16:30:18 |\n",
       "|    US   |   USD    | 2009-05-31 06:38:00 | 2009-05-31 06:45:17 |\n",
       "|    US   |   USD    | 2009-05-31 19:20:00 | 2009-05-31 19:30:19 |\n",
       "+---------+----------+---------------------+---------------------+\n",
       "+---------------------+---------------------+---------------+--------------+\n",
       "|      created_at     |     launched_at     | backers_count | final_status |\n",
       "+---------------------+---------------------+---------------+--------------+\n",
       "| 2009-04-24 14:15:07 | 2009-04-24 14:52:03 |       3       |      1       |\n",
       "| 2009-04-28 18:10:24 | 2009-04-28 22:26:32 |       2       |      0       |\n",
       "| 2009-05-12 16:26:53 | 2009-05-12 16:39:58 |       0       |      0       |\n",
       "| 2009-05-01 06:38:34 | 2009-05-01 07:22:21 |       1       |      0       |\n",
       "| 2009-04-29 19:19:59 | 2009-05-04 14:14:28 |       14      |      0       |\n",
       "+---------------------+---------------------+---------------+--------------+\n",
       "[5 rows x 14 columns]"
      ]
     },
     "execution_count": 5,
     "metadata": {},
     "output_type": "execute_result"
    }
   ],
   "source": [
    "kickstarter.head(5)"
   ]
  },
  {
   "cell_type": "code",
   "execution_count": 6,
   "metadata": {
    "collapsed": true
   },
   "outputs": [],
   "source": [
    "#to understand which type of product is being funded\n",
    "\n",
    "remove = ['\\r', '\\x0b', '\\n', '\\x0c', '\\t', ' ', '.', \"'\", '&', '-', '$', '!']\n",
    "#create a cluster of words using desc\n",
    "kickstarter['word_count_trim'] = graphlab.text_analytics.trim_rare_words(kickstarter['desc'], to_lower=True, delimiters=remove)\n",
    "kickstarter['word_count'] = graphlab.text_analytics.count_words(kickstarter['word_count_trim'])\n",
    "kickstarter['stop_words_trim'] = kickstarter['word_count'].dict_trim_by_keys(graphlab.text_analytics.stopwords(), True) \n",
    "\n",
    "#tfidf still doesn't get rid of simple words like and, the in and stuff, doesn't still give a better/true rare words\n",
    "tfidf = graphlab.text_analytics.tf_idf(kickstarter['stop_words_trim'])\n",
    "\n",
    "if graphlab.version <= '1.6.1':\n",
    "    tfidf = tfidf['docs']\n",
    "    \n",
    "kickstarter['tfidf'] = tfidf"
   ]
  },
  {
   "cell_type": "code",
   "execution_count": 7,
   "metadata": {},
   "outputs": [
    {
     "data": {
      "text/html": [
       "<pre>Learning a topic model</pre>"
      ],
      "text/plain": [
       "Learning a topic model"
      ]
     },
     "metadata": {},
     "output_type": "display_data"
    },
    {
     "data": {
      "text/html": [
       "<pre>       Number of documents    105332</pre>"
      ],
      "text/plain": [
       "       Number of documents    105332"
      ]
     },
     "metadata": {},
     "output_type": "display_data"
    },
    {
     "data": {
      "text/html": [
       "<pre>           Vocabulary size     40577</pre>"
      ],
      "text/plain": [
       "           Vocabulary size     40577"
      ]
     },
     "metadata": {},
     "output_type": "display_data"
    },
    {
     "data": {
      "text/html": [
       "<pre>   Running collapsed Gibbs sampling</pre>"
      ],
      "text/plain": [
       "   Running collapsed Gibbs sampling"
      ]
     },
     "metadata": {},
     "output_type": "display_data"
    },
    {
     "data": {
      "text/html": [
       "<pre>+-----------+---------------+----------------+-----------------+</pre>"
      ],
      "text/plain": [
       "+-----------+---------------+----------------+-----------------+"
      ]
     },
     "metadata": {},
     "output_type": "display_data"
    },
    {
     "data": {
      "text/html": [
       "<pre>| Iteration | Elapsed Time  | Tokens/Second  | Est. Perplexity |</pre>"
      ],
      "text/plain": [
       "| Iteration | Elapsed Time  | Tokens/Second  | Est. Perplexity |"
      ]
     },
     "metadata": {},
     "output_type": "display_data"
    },
    {
     "data": {
      "text/html": [
       "<pre>+-----------+---------------+----------------+-----------------+</pre>"
      ],
      "text/plain": [
       "+-----------+---------------+----------------+-----------------+"
      ]
     },
     "metadata": {},
     "output_type": "display_data"
    },
    {
     "data": {
      "text/html": [
       "<pre>| 10        | 886ms         | 1.33818e+007   | 0               |</pre>"
      ],
      "text/plain": [
       "| 10        | 886ms         | 1.33818e+007   | 0               |"
      ]
     },
     "metadata": {},
     "output_type": "display_data"
    },
    {
     "data": {
      "text/html": [
       "<pre>+-----------+---------------+----------------+-----------------+</pre>"
      ],
      "text/plain": [
       "+-----------+---------------+----------------+-----------------+"
      ]
     },
     "metadata": {},
     "output_type": "display_data"
    }
   ],
   "source": [
    "#create a topic model\n",
    "topic_model = graphlab.topic_model.create(kickstarter['stop_words_trim'])\n",
    "\n",
    "# if graphlab.version <= '1.6.1':\n",
    "#     topic_model = topic_model['docs']\n",
    "    \n",
    "#kickstarter['topics'] = topic_model"
   ]
  },
  {
   "cell_type": "code",
   "execution_count": null,
   "metadata": {
    "collapsed": true
   },
   "outputs": [],
   "source": [
    "#how to move topic model into a column in kickstarter"
   ]
  },
  {
   "cell_type": "code",
   "execution_count": 8,
   "metadata": {
    "collapsed": true
   },
   "outputs": [],
   "source": [
    "#can i query the topic model with the bm25 score?\n",
    "query = ['art', 'comics', 'crafts', 'dance', 'design','fashion','film', 'video','food','games', 'journalism', 'music',\n",
    "         'photography', 'publishing', 'technology', 'theater']\n",
    "\n",
    "bm25_scores = graphlab.text_analytics.bm25(kickstarter['tfidf'], query)"
   ]
  },
  {
   "cell_type": "code",
   "execution_count": 11,
   "metadata": {
    "collapsed": true
   },
   "outputs": [],
   "source": [
    "#using a classification model to predict- final_status vs tfidf, goal\n",
    "\n",
    "train_data, test_data = kickstarter.random_split(.8)\n",
    "\n",
    "kickstarter['funded'] = kickstarter['final_status'] == 1\n",
    "\n",
    "selected_features = ['tfidf', 'goal', 'country', 'launched_at']"
   ]
  },
  {
   "cell_type": "code",
   "execution_count": 12,
   "metadata": {},
   "outputs": [
    {
     "name": "stdout",
     "output_type": "stream",
     "text": [
      "PROGRESS: Creating a validation set from 5 percent of training data. This may take a while.\n",
      "          You can set ``validation_set=None`` to disable validation tracking.\n",
      "\n"
     ]
    },
    {
     "data": {
      "text/html": [
       "<pre>WARNING: The number of feature dimensions in this problem is very large in comparison with the number of examples. Unless an appropriate regularization value is set, this model may not provide accurate predictions for a validation/test set.</pre>"
      ],
      "text/plain": [
       "WARNING: The number of feature dimensions in this problem is very large in comparison with the number of examples. Unless an appropriate regularization value is set, this model may not provide accurate predictions for a validation/test set."
      ]
     },
     "metadata": {},
     "output_type": "display_data"
    },
    {
     "data": {
      "text/html": [
       "<pre>SVM:</pre>"
      ],
      "text/plain": [
       "SVM:"
      ]
     },
     "metadata": {},
     "output_type": "display_data"
    },
    {
     "data": {
      "text/html": [
       "<pre>--------------------------------------------------------</pre>"
      ],
      "text/plain": [
       "--------------------------------------------------------"
      ]
     },
     "metadata": {},
     "output_type": "display_data"
    },
    {
     "data": {
      "text/html": [
       "<pre>Number of examples          : 80082</pre>"
      ],
      "text/plain": [
       "Number of examples          : 80082"
      ]
     },
     "metadata": {},
     "output_type": "display_data"
    },
    {
     "data": {
      "text/html": [
       "<pre>Number of classes           : 2</pre>"
      ],
      "text/plain": [
       "Number of classes           : 2"
      ]
     },
     "metadata": {},
     "output_type": "display_data"
    },
    {
     "data": {
      "text/html": [
       "<pre>Number of feature columns   : 4</pre>"
      ],
      "text/plain": [
       "Number of feature columns   : 4"
      ]
     },
     "metadata": {},
     "output_type": "display_data"
    },
    {
     "data": {
      "text/html": [
       "<pre>Number of unpacked features : 39617</pre>"
      ],
      "text/plain": [
       "Number of unpacked features : 39617"
      ]
     },
     "metadata": {},
     "output_type": "display_data"
    },
    {
     "data": {
      "text/html": [
       "<pre>Number of coefficients    : 119656</pre>"
      ],
      "text/plain": [
       "Number of coefficients    : 119656"
      ]
     },
     "metadata": {},
     "output_type": "display_data"
    },
    {
     "data": {
      "text/html": [
       "<pre>Starting L-BFGS</pre>"
      ],
      "text/plain": [
       "Starting L-BFGS"
      ]
     },
     "metadata": {},
     "output_type": "display_data"
    },
    {
     "data": {
      "text/html": [
       "<pre>--------------------------------------------------------</pre>"
      ],
      "text/plain": [
       "--------------------------------------------------------"
      ]
     },
     "metadata": {},
     "output_type": "display_data"
    },
    {
     "data": {
      "text/html": [
       "<pre>+-----------+----------+-----------+--------------+-------------------+---------------------+</pre>"
      ],
      "text/plain": [
       "+-----------+----------+-----------+--------------+-------------------+---------------------+"
      ]
     },
     "metadata": {},
     "output_type": "display_data"
    },
    {
     "data": {
      "text/html": [
       "<pre>| Iteration | Passes   | Step size | Elapsed Time | Training-accuracy | Validation-accuracy |</pre>"
      ],
      "text/plain": [
       "| Iteration | Passes   | Step size | Elapsed Time | Training-accuracy | Validation-accuracy |"
      ]
     },
     "metadata": {},
     "output_type": "display_data"
    },
    {
     "data": {
      "text/html": [
       "<pre>+-----------+----------+-----------+--------------+-------------------+---------------------+</pre>"
      ],
      "text/plain": [
       "+-----------+----------+-----------+--------------+-------------------+---------------------+"
      ]
     },
     "metadata": {},
     "output_type": "display_data"
    },
    {
     "data": {
      "text/html": [
       "<pre>| 1         | 3        | 0.000012  | 0.138438     | 0.707800          | 0.679876            |</pre>"
      ],
      "text/plain": [
       "| 1         | 3        | 0.000012  | 0.138438     | 0.707800          | 0.679876            |"
      ]
     },
     "metadata": {},
     "output_type": "display_data"
    },
    {
     "data": {
      "text/html": [
       "<pre>| 2         | 5        | 1.000000  | 0.238741     | 0.882258          | 0.683695            |</pre>"
      ],
      "text/plain": [
       "| 2         | 5        | 1.000000  | 0.238741     | 0.882258          | 0.683695            |"
      ]
     },
     "metadata": {},
     "output_type": "display_data"
    },
    {
     "data": {
      "text/html": [
       "<pre>+-----------+----------+-----------+--------------+-------------------+---------------------+</pre>"
      ],
      "text/plain": [
       "+-----------+----------+-----------+--------------+-------------------+---------------------+"
      ]
     },
     "metadata": {},
     "output_type": "display_data"
    },
    {
     "data": {
      "text/html": [
       "<pre>TERMINATED: Iteration limit reached.</pre>"
      ],
      "text/plain": [
       "TERMINATED: Iteration limit reached."
      ]
     },
     "metadata": {},
     "output_type": "display_data"
    },
    {
     "data": {
      "text/html": [
       "<pre>This model may not be optimal. To improve it, consider increasing `max_iterations`.</pre>"
      ],
      "text/plain": [
       "This model may not be optimal. To improve it, consider increasing `max_iterations`."
      ]
     },
     "metadata": {},
     "output_type": "display_data"
    },
    {
     "name": "stdout",
     "output_type": "stream",
     "text": [
      "Accuracy         : 0.685105170695\n",
      "Confusion Matrix : \n",
      "+--------------+-----------------+-------+\n",
      "| target_label | predicted_label | count |\n",
      "+--------------+-----------------+-------+\n",
      "|      0       |        1        |  528  |\n",
      "|      1       |        1        |  685  |\n",
      "|      0       |        0        | 13744 |\n",
      "|      1       |        0        |  6104 |\n",
      "+--------------+-----------------+-------+\n",
      "[4 rows x 3 columns]\n",
      "\n"
     ]
    }
   ],
   "source": [
    "#svm classification model\n",
    "\n",
    "svm_classification_model = graphlab.svm_classifier.create(train_data,\n",
    "                                                                      target = 'funded',\n",
    "                                                                 penalty = 0.001,\n",
    "                                                                      features = selected_features,\n",
    "                                                                      max_iterations = 2 )\n",
    "prediction = svm_classification_model.classify(test_data)\n",
    "results = svm_classification_model.evaluate(test_data)\n",
    "\n",
    "print \"Accuracy         : %s\" % results['accuracy']\n",
    "print \"Confusion Matrix : \\n%s\" % results['confusion_matrix']"
   ]
  },
  {
   "cell_type": "code",
   "execution_count": 15,
   "metadata": {},
   "outputs": [
    {
     "name": "stderr",
     "output_type": "stream",
     "text": [
      "[INFO] graphlab.deploy.job: Validating job.\n",
      "[INFO] graphlab.deploy.map_job: Validation complete. Job: 'Model-Parameter-Search-Aug-26-2017-10-18-4600000' ready for execution\n",
      "[INFO] graphlab.deploy.map_job: Job: 'Model-Parameter-Search-Aug-26-2017-10-18-4600000' scheduled.\n",
      "[INFO] graphlab.deploy.job: Validating job.\n",
      "[INFO] graphlab.deploy.map_job: A job with name 'Model-Parameter-Search-Aug-26-2017-10-18-4600000' already exists. Renaming the job to 'Model-Parameter-Search-Aug-26-2017-10-18-4600000-b51c9'.\n",
      "[INFO] graphlab.deploy.map_job: Validation complete. Job: 'Model-Parameter-Search-Aug-26-2017-10-18-4600000-b51c9' ready for execution\n",
      "[INFO] graphlab.deploy.map_job: Job: 'Model-Parameter-Search-Aug-26-2017-10-18-4600000-b51c9' scheduled.\n"
     ]
    }
   ],
   "source": [
    "#parameter search with logistic classifier\n",
    "from graphlab import model_parameter_search\n",
    "\n",
    "params = {'target': 'final_status'}\n",
    "\n",
    "logistic_parameter_search = model_parameter_search.create((train_data, test_data),graphlab.logistic_classifier.create, params)"
   ]
  },
  {
   "cell_type": "code",
   "execution_count": 16,
   "metadata": {},
   "outputs": [
    {
     "data": {
      "text/html": [
       "<div style=\"max-height:1000px;max-width:1500px;overflow:auto;\"><table frame=\"box\" rules=\"cols\">\n",
       "    <tr>\n",
       "        <th style=\"padding-left: 1em; padding-right: 1em; text-align: center\">model_id</th>\n",
       "        <th style=\"padding-left: 1em; padding-right: 1em; text-align: center\">l1_penalty</th>\n",
       "        <th style=\"padding-left: 1em; padding-right: 1em; text-align: center\">l2_penalty</th>\n",
       "        <th style=\"padding-left: 1em; padding-right: 1em; text-align: center\">target</th>\n",
       "        <th style=\"padding-left: 1em; padding-right: 1em; text-align: center\">training_accuracy</th>\n",
       "        <th style=\"padding-left: 1em; padding-right: 1em; text-align: center\">validation_accuracy</th>\n",
       "    </tr>\n",
       "    <tr>\n",
       "        <td style=\"padding-left: 1em; padding-right: 1em; text-align: center; vertical-align: top\">1</td>\n",
       "        <td style=\"padding-left: 1em; padding-right: 1em; text-align: center; vertical-align: top\">10.0</td>\n",
       "        <td style=\"padding-left: 1em; padding-right: 1em; text-align: center; vertical-align: top\">10.0</td>\n",
       "        <td style=\"padding-left: 1em; padding-right: 1em; text-align: center; vertical-align: top\">final_status</td>\n",
       "        <td style=\"padding-left: 1em; padding-right: 1em; text-align: center; vertical-align: top\">0.999988133522</td>\n",
       "        <td style=\"padding-left: 1em; padding-right: 1em; text-align: center; vertical-align: top\">0.724799392242</td>\n",
       "    </tr>\n",
       "    <tr>\n",
       "        <td style=\"padding-left: 1em; padding-right: 1em; text-align: center; vertical-align: top\">4</td>\n",
       "        <td style=\"padding-left: 1em; padding-right: 1em; text-align: center; vertical-align: top\">10.0</td>\n",
       "        <td style=\"padding-left: 1em; padding-right: 1em; text-align: center; vertical-align: top\">10.0</td>\n",
       "        <td style=\"padding-left: 1em; padding-right: 1em; text-align: center; vertical-align: top\">final_status</td>\n",
       "        <td style=\"padding-left: 1em; padding-right: 1em; text-align: center; vertical-align: top\">0.999988133522</td>\n",
       "        <td style=\"padding-left: 1em; padding-right: 1em; text-align: center; vertical-align: top\">0.724799392242</td>\n",
       "    </tr>\n",
       "    <tr>\n",
       "        <td style=\"padding-left: 1em; padding-right: 1em; text-align: center; vertical-align: top\">9</td>\n",
       "        <td style=\"padding-left: 1em; padding-right: 1em; text-align: center; vertical-align: top\">0.0001</td>\n",
       "        <td style=\"padding-left: 1em; padding-right: 1em; text-align: center; vertical-align: top\">0.1</td>\n",
       "        <td style=\"padding-left: 1em; padding-right: 1em; text-align: center; vertical-align: top\">final_status</td>\n",
       "        <td style=\"padding-left: 1em; padding-right: 1em; text-align: center; vertical-align: top\">0.999988133522</td>\n",
       "        <td style=\"padding-left: 1em; padding-right: 1em; text-align: center; vertical-align: top\">0.7203836475</td>\n",
       "    </tr>\n",
       "    <tr>\n",
       "        <td style=\"padding-left: 1em; padding-right: 1em; text-align: center; vertical-align: top\">8</td>\n",
       "        <td style=\"padding-left: 1em; padding-right: 1em; text-align: center; vertical-align: top\">0.001</td>\n",
       "        <td style=\"padding-left: 1em; padding-right: 1em; text-align: center; vertical-align: top\">0.0</td>\n",
       "        <td style=\"padding-left: 1em; padding-right: 1em; text-align: center; vertical-align: top\">final_status</td>\n",
       "        <td style=\"padding-left: 1em; padding-right: 1em; text-align: center; vertical-align: top\">0.999988133522</td>\n",
       "        <td style=\"padding-left: 1em; padding-right: 1em; text-align: center; vertical-align: top\">0.7203836475</td>\n",
       "    </tr>\n",
       "    <tr>\n",
       "        <td style=\"padding-left: 1em; padding-right: 1em; text-align: center; vertical-align: top\">2</td>\n",
       "        <td style=\"padding-left: 1em; padding-right: 1em; text-align: center; vertical-align: top\">0.001</td>\n",
       "        <td style=\"padding-left: 1em; padding-right: 1em; text-align: center; vertical-align: top\">0.001</td>\n",
       "        <td style=\"padding-left: 1em; padding-right: 1em; text-align: center; vertical-align: top\">final_status</td>\n",
       "        <td style=\"padding-left: 1em; padding-right: 1em; text-align: center; vertical-align: top\">0.999988133522</td>\n",
       "        <td style=\"padding-left: 1em; padding-right: 1em; text-align: center; vertical-align: top\">0.7203836475</td>\n",
       "    </tr>\n",
       "    <tr>\n",
       "        <td style=\"padding-left: 1em; padding-right: 1em; text-align: center; vertical-align: top\">5</td>\n",
       "        <td style=\"padding-left: 1em; padding-right: 1em; text-align: center; vertical-align: top\">0.001</td>\n",
       "        <td style=\"padding-left: 1em; padding-right: 1em; text-align: center; vertical-align: top\">0.0</td>\n",
       "        <td style=\"padding-left: 1em; padding-right: 1em; text-align: center; vertical-align: top\">final_status</td>\n",
       "        <td style=\"padding-left: 1em; padding-right: 1em; text-align: center; vertical-align: top\">0.999988133522</td>\n",
       "        <td style=\"padding-left: 1em; padding-right: 1em; text-align: center; vertical-align: top\">0.7203836475</td>\n",
       "    </tr>\n",
       "    <tr>\n",
       "        <td style=\"padding-left: 1em; padding-right: 1em; text-align: center; vertical-align: top\">0</td>\n",
       "        <td style=\"padding-left: 1em; padding-right: 1em; text-align: center; vertical-align: top\">0.1</td>\n",
       "        <td style=\"padding-left: 1em; padding-right: 1em; text-align: center; vertical-align: top\">0.0001</td>\n",
       "        <td style=\"padding-left: 1em; padding-right: 1em; text-align: center; vertical-align: top\">final_status</td>\n",
       "        <td style=\"padding-left: 1em; padding-right: 1em; text-align: center; vertical-align: top\">0.999988133522</td>\n",
       "        <td style=\"padding-left: 1em; padding-right: 1em; text-align: center; vertical-align: top\">0.720336166374</td>\n",
       "    </tr>\n",
       "    <tr>\n",
       "        <td style=\"padding-left: 1em; padding-right: 1em; text-align: center; vertical-align: top\">3</td>\n",
       "        <td style=\"padding-left: 1em; padding-right: 1em; text-align: center; vertical-align: top\">0.1</td>\n",
       "        <td style=\"padding-left: 1em; padding-right: 1em; text-align: center; vertical-align: top\">0.1</td>\n",
       "        <td style=\"padding-left: 1em; padding-right: 1em; text-align: center; vertical-align: top\">final_status</td>\n",
       "        <td style=\"padding-left: 1em; padding-right: 1em; text-align: center; vertical-align: top\">0.999988133522</td>\n",
       "        <td style=\"padding-left: 1em; padding-right: 1em; text-align: center; vertical-align: top\">0.720336166374</td>\n",
       "    </tr>\n",
       "    <tr>\n",
       "        <td style=\"padding-left: 1em; padding-right: 1em; text-align: center; vertical-align: top\">6</td>\n",
       "        <td style=\"padding-left: 1em; padding-right: 1em; text-align: center; vertical-align: top\">0.1</td>\n",
       "        <td style=\"padding-left: 1em; padding-right: 1em; text-align: center; vertical-align: top\">0.0</td>\n",
       "        <td style=\"padding-left: 1em; padding-right: 1em; text-align: center; vertical-align: top\">final_status</td>\n",
       "        <td style=\"padding-left: 1em; padding-right: 1em; text-align: center; vertical-align: top\">0.999988133522</td>\n",
       "        <td style=\"padding-left: 1em; padding-right: 1em; text-align: center; vertical-align: top\">0.720336166374</td>\n",
       "    </tr>\n",
       "    <tr>\n",
       "        <td style=\"padding-left: 1em; padding-right: 1em; text-align: center; vertical-align: top\">7</td>\n",
       "        <td style=\"padding-left: 1em; padding-right: 1em; text-align: center; vertical-align: top\">0.0</td>\n",
       "        <td style=\"padding-left: 1em; padding-right: 1em; text-align: center; vertical-align: top\">1.0</td>\n",
       "        <td style=\"padding-left: 1em; padding-right: 1em; text-align: center; vertical-align: top\">final_status</td>\n",
       "        <td style=\"padding-left: 1em; padding-right: 1em; text-align: center; vertical-align: top\">1.0</td>\n",
       "        <td style=\"padding-left: 1em; padding-right: 1em; text-align: center; vertical-align: top\">0.719861355111</td>\n",
       "    </tr>\n",
       "</table>\n",
       "[10 rows x 6 columns]<br/>\n",
       "</div>"
      ],
      "text/plain": [
       "Columns:\n",
       "\tmodel_id\tint\n",
       "\tl1_penalty\tfloat\n",
       "\tl2_penalty\tfloat\n",
       "\ttarget\tstr\n",
       "\ttraining_accuracy\tfloat\n",
       "\tvalidation_accuracy\tfloat\n",
       "\n",
       "Rows: 10\n",
       "\n",
       "Data:\n",
       "+----------+------------+------------+--------------+-------------------+\n",
       "| model_id | l1_penalty | l2_penalty |    target    | training_accuracy |\n",
       "+----------+------------+------------+--------------+-------------------+\n",
       "|    1     |    10.0    |    10.0    | final_status |   0.999988133522  |\n",
       "|    4     |    10.0    |    10.0    | final_status |   0.999988133522  |\n",
       "|    9     |   0.0001   |    0.1     | final_status |   0.999988133522  |\n",
       "|    8     |   0.001    |    0.0     | final_status |   0.999988133522  |\n",
       "|    2     |   0.001    |   0.001    | final_status |   0.999988133522  |\n",
       "|    5     |   0.001    |    0.0     | final_status |   0.999988133522  |\n",
       "|    0     |    0.1     |   0.0001   | final_status |   0.999988133522  |\n",
       "|    3     |    0.1     |    0.1     | final_status |   0.999988133522  |\n",
       "|    6     |    0.1     |    0.0     | final_status |   0.999988133522  |\n",
       "|    7     |    0.0     |    1.0     | final_status |        1.0        |\n",
       "+----------+------------+------------+--------------+-------------------+\n",
       "+---------------------+\n",
       "| validation_accuracy |\n",
       "+---------------------+\n",
       "|    0.724799392242   |\n",
       "|    0.724799392242   |\n",
       "|     0.7203836475    |\n",
       "|     0.7203836475    |\n",
       "|     0.7203836475    |\n",
       "|     0.7203836475    |\n",
       "|    0.720336166374   |\n",
       "|    0.720336166374   |\n",
       "|    0.720336166374   |\n",
       "|    0.719861355111   |\n",
       "+---------------------+\n",
       "[10 rows x 6 columns]"
      ]
     },
     "execution_count": 16,
     "metadata": {},
     "output_type": "execute_result"
    }
   ],
   "source": [
    "logistic_parameter_search.get_results().sort('validation_accuracy', ascending= False)"
   ]
  },
  {
   "cell_type": "code",
   "execution_count": 17,
   "metadata": {},
   "outputs": [
    {
     "name": "stdout",
     "output_type": "stream",
     "text": [
      "Class                          : LogisticClassifier\n",
      "\n",
      "Schema\n",
      "------\n",
      "Number of coefficients         : 868556\n",
      "Number of examples             : 84271\n",
      "Number of classes              : 2\n",
      "Number of feature columns      : 18\n",
      "Number of unpacked features    : 120131\n",
      "\n",
      "Hyperparameters\n",
      "---------------\n",
      "L1 penalty                     : 10.0\n",
      "L2 penalty                     : 10.0\n",
      "\n",
      "Training Summary\n",
      "----------------\n",
      "Solver                         : fista\n",
      "Solver iterations              : 10\n",
      "Solver status                  : TERMINATED: Iteration limit reached.\n",
      "Training time (sec)            : 8.6086\n",
      "\n",
      "Settings\n",
      "--------\n",
      "Log-likelihood                 : 2918.5395\n",
      "\n",
      "Highest Positive Coefficients\n",
      "-----------------------------\n",
      "project_id[kkst229390481]      : 0.6821\n",
      "name[Lowcountry Street Grocery : Mobile Farmers' Market] : 0.6821\n",
      "desc[Charleston's first mission-driven mobile farmers' market committed to improving healthy food access & bolstering our local food economy] : 0.6821\n",
      "keywords[lowcountry-street-grocery-mobile-farmers-market] : 0.6821\n",
      "launched_at[2015-04-03 09:48:11] : 0.6821\n",
      "\n",
      "Lowest Negative Coefficients\n",
      "----------------------------\n",
      "project_id[kkst932226353]      : -0.5316\n",
      "desc[Andy and the Pandy's are heading to Groovebox Studios on Saturday, April 14th to record and film a live GBS Detroit EP.] : -0.5316\n",
      "keywords[gbs-detroit-presents-andy-and-the-pandys] : -0.5316\n",
      "launched_at[2012-03-28 18:11:44] : -0.5316\n",
      "word_count_trim[andy and the s are heading to groovebox studios on saturday, april 14th to record and film a live gbs detroit ep] : -0.5316\n",
      "\n"
     ]
    }
   ],
   "source": [
    "print logistic_parameter_search.get_models()[1]"
   ]
  },
  {
   "cell_type": "code",
   "execution_count": 18,
   "metadata": {},
   "outputs": [
    {
     "name": "stdout",
     "output_type": "stream",
     "text": [
      "PROGRESS: Creating a validation set from 5 percent of training data. This may take a while.\n",
      "          You can set ``validation_set=None`` to disable validation tracking.\n",
      "\n"
     ]
    },
    {
     "data": {
      "text/html": [
       "<pre>WARNING: The number of feature dimensions in this problem is very large in comparison with the number of examples. Unless an appropriate regularization value is set, this model may not provide accurate predictions for a validation/test set.</pre>"
      ],
      "text/plain": [
       "WARNING: The number of feature dimensions in this problem is very large in comparison with the number of examples. Unless an appropriate regularization value is set, this model may not provide accurate predictions for a validation/test set."
      ]
     },
     "metadata": {},
     "output_type": "display_data"
    },
    {
     "data": {
      "text/html": [
       "<pre>Logistic regression:</pre>"
      ],
      "text/plain": [
       "Logistic regression:"
      ]
     },
     "metadata": {},
     "output_type": "display_data"
    },
    {
     "data": {
      "text/html": [
       "<pre>--------------------------------------------------------</pre>"
      ],
      "text/plain": [
       "--------------------------------------------------------"
      ]
     },
     "metadata": {},
     "output_type": "display_data"
    },
    {
     "data": {
      "text/html": [
       "<pre>Number of examples          : 80104</pre>"
      ],
      "text/plain": [
       "Number of examples          : 80104"
      ]
     },
     "metadata": {},
     "output_type": "display_data"
    },
    {
     "data": {
      "text/html": [
       "<pre>Number of classes           : 2</pre>"
      ],
      "text/plain": [
       "Number of classes           : 2"
      ]
     },
     "metadata": {},
     "output_type": "display_data"
    },
    {
     "data": {
      "text/html": [
       "<pre>Number of feature columns   : 18</pre>"
      ],
      "text/plain": [
       "Number of feature columns   : 18"
      ]
     },
     "metadata": {},
     "output_type": "display_data"
    },
    {
     "data": {
      "text/html": [
       "<pre>Number of unpacked features : 119288</pre>"
      ],
      "text/plain": [
       "Number of unpacked features : 119288"
      ]
     },
     "metadata": {},
     "output_type": "display_data"
    },
    {
     "data": {
      "text/html": [
       "<pre>Number of coefficients    : 831061</pre>"
      ],
      "text/plain": [
       "Number of coefficients    : 831061"
      ]
     },
     "metadata": {},
     "output_type": "display_data"
    },
    {
     "data": {
      "text/html": [
       "<pre>Starting Accelerated Gradient (FISTA)</pre>"
      ],
      "text/plain": [
       "Starting Accelerated Gradient (FISTA)"
      ]
     },
     "metadata": {},
     "output_type": "display_data"
    },
    {
     "data": {
      "text/html": [
       "<pre>--------------------------------------------------------</pre>"
      ],
      "text/plain": [
       "--------------------------------------------------------"
      ]
     },
     "metadata": {},
     "output_type": "display_data"
    },
    {
     "data": {
      "text/html": [
       "<pre>+-----------+----------+-----------+--------------+-------------------+---------------------+</pre>"
      ],
      "text/plain": [
       "+-----------+----------+-----------+--------------+-------------------+---------------------+"
      ]
     },
     "metadata": {},
     "output_type": "display_data"
    },
    {
     "data": {
      "text/html": [
       "<pre>| Iteration | Passes   | Step size | Elapsed Time | Training-accuracy | Validation-accuracy |</pre>"
      ],
      "text/plain": [
       "| Iteration | Passes   | Step size | Elapsed Time | Training-accuracy | Validation-accuracy |"
      ]
     },
     "metadata": {},
     "output_type": "display_data"
    },
    {
     "data": {
      "text/html": [
       "<pre>+-----------+----------+-----------+--------------+-------------------+---------------------+</pre>"
      ],
      "text/plain": [
       "+-----------+----------+-----------+--------------+-------------------+---------------------+"
      ]
     },
     "metadata": {},
     "output_type": "display_data"
    },
    {
     "data": {
      "text/html": [
       "<pre>Tuning step size. First iteration could take longer than subsequent iterations.</pre>"
      ],
      "text/plain": [
       "Tuning step size. First iteration could take longer than subsequent iterations."
      ]
     },
     "metadata": {},
     "output_type": "display_data"
    },
    {
     "data": {
      "text/html": [
       "<pre>| 1         | 2        | 0.000002  | 5.108642     | 0.810584          | 0.678426            |</pre>"
      ],
      "text/plain": [
       "| 1         | 2        | 0.000002  | 5.108642     | 0.810584          | 0.678426            |"
      ]
     },
     "metadata": {},
     "output_type": "display_data"
    },
    {
     "data": {
      "text/html": [
       "<pre>| 2         | 3        | 0.000002  | 5.451100     | 0.999825          | 0.706024            |</pre>"
      ],
      "text/plain": [
       "| 2         | 3        | 0.000002  | 5.451100     | 0.999825          | 0.706024            |"
      ]
     },
     "metadata": {},
     "output_type": "display_data"
    },
    {
     "data": {
      "text/html": [
       "<pre>| 3         | 4        | 0.000002  | 5.794358     | 0.999988          | 0.709623            |</pre>"
      ],
      "text/plain": [
       "| 3         | 4        | 0.000002  | 5.794358     | 0.999988          | 0.709623            |"
      ]
     },
     "metadata": {},
     "output_type": "display_data"
    },
    {
     "data": {
      "text/html": [
       "<pre>| 4         | 5        | 0.000002  | 6.165879     | 0.999988          | 0.711303            |</pre>"
      ],
      "text/plain": [
       "| 4         | 5        | 0.000002  | 6.165879     | 0.999988          | 0.711303            |"
      ]
     },
     "metadata": {},
     "output_type": "display_data"
    },
    {
     "data": {
      "text/html": [
       "<pre>| 5         | 6        | 0.000002  | 6.529870     | 0.999988          | 0.713943            |</pre>"
      ],
      "text/plain": [
       "| 5         | 6        | 0.000002  | 6.529870     | 0.999988          | 0.713943            |"
      ]
     },
     "metadata": {},
     "output_type": "display_data"
    },
    {
     "data": {
      "text/html": [
       "<pre>| 6         | 7        | 0.000002  | 6.908395     | 0.999988          | 0.717063            |</pre>"
      ],
      "text/plain": [
       "| 6         | 7        | 0.000002  | 6.908395     | 0.999988          | 0.717063            |"
      ]
     },
     "metadata": {},
     "output_type": "display_data"
    },
    {
     "data": {
      "text/html": [
       "<pre>| 10        | 11       | 0.000002  | 8.409199     | 0.999988          | 0.724022            |</pre>"
      ],
      "text/plain": [
       "| 10        | 11       | 0.000002  | 8.409199     | 0.999988          | 0.724022            |"
      ]
     },
     "metadata": {},
     "output_type": "display_data"
    },
    {
     "data": {
      "text/html": [
       "<pre>+-----------+----------+-----------+--------------+-------------------+---------------------+</pre>"
      ],
      "text/plain": [
       "+-----------+----------+-----------+--------------+-------------------+---------------------+"
      ]
     },
     "metadata": {},
     "output_type": "display_data"
    },
    {
     "data": {
      "text/html": [
       "<pre>TERMINATED: Iteration limit reached.</pre>"
      ],
      "text/plain": [
       "TERMINATED: Iteration limit reached."
      ]
     },
     "metadata": {},
     "output_type": "display_data"
    },
    {
     "data": {
      "text/html": [
       "<pre>This model may not be optimal. To improve it, consider increasing `max_iterations`.</pre>"
      ],
      "text/plain": [
       "This model may not be optimal. To improve it, consider increasing `max_iterations`."
      ]
     },
     "metadata": {},
     "output_type": "display_data"
    },
    {
     "name": "stdout",
     "output_type": "stream",
     "text": [
      "Accuracy         : 0.724229618727\n",
      "Confusion Matrix : \n",
      "+--------------+-----------------+-------+\n",
      "| target_label | predicted_label | count |\n",
      "+--------------+-----------------+-------+\n",
      "|      0       |        1        |  490  |\n",
      "|      0       |        0        | 13782 |\n",
      "|      1       |        1        |  1471 |\n",
      "|      1       |        0        |  5318 |\n",
      "+--------------+-----------------+-------+\n",
      "[4 rows x 3 columns]\n",
      "\n"
     ]
    }
   ],
   "source": [
    "#tuned logistic classification model\n",
    "\n",
    "tuned_lc_model = graphlab.logistic_classifier.create(train_data,\n",
    "                                                     target = 'funded',\n",
    "                                                     features=None,\n",
    "                                                     l2_penalty=10,\n",
    "                                                     l1_penalty=10.0,\n",
    "                                                     solver='fista',\n",
    "                                                     feature_rescaling=True,\n",
    "                                                     max_iterations=10,\n",
    "                                                     validation_set='auto',\n",
    "                                                     verbose=True\n",
    "                                                    )\n",
    "\n",
    "prediction = tuned_lc_model.classify(test_data)\n",
    "results = tuned_lc_model.evaluate(test_data)\n",
    "\n",
    "print \"Accuracy         : %s\" % results['accuracy']\n",
    "print \"Confusion Matrix : \\n%s\" % results['confusion_matrix']"
   ]
  },
  {
   "cell_type": "code",
   "execution_count": 9,
   "metadata": {},
   "outputs": [
    {
     "name": "stdout",
     "output_type": "stream",
     "text": [
      "PROGRESS: Creating a validation set from 5 percent of training data. This may take a while.\n",
      "          You can set ``validation_set=None`` to disable validation tracking.\n",
      "\n"
     ]
    },
    {
     "data": {
      "text/html": [
       "<pre>Logistic regression:</pre>"
      ],
      "text/plain": [
       "Logistic regression:"
      ]
     },
     "metadata": {},
     "output_type": "display_data"
    },
    {
     "data": {
      "text/html": [
       "<pre>--------------------------------------------------------</pre>"
      ],
      "text/plain": [
       "--------------------------------------------------------"
      ]
     },
     "metadata": {},
     "output_type": "display_data"
    },
    {
     "data": {
      "text/html": [
       "<pre>Number of examples          : 58051</pre>"
      ],
      "text/plain": [
       "Number of examples          : 58051"
      ]
     },
     "metadata": {},
     "output_type": "display_data"
    },
    {
     "data": {
      "text/html": [
       "<pre>Number of classes           : 2</pre>"
      ],
      "text/plain": [
       "Number of classes           : 2"
      ]
     },
     "metadata": {},
     "output_type": "display_data"
    },
    {
     "data": {
      "text/html": [
       "<pre>Number of feature columns   : 4</pre>"
      ],
      "text/plain": [
       "Number of feature columns   : 4"
      ]
     },
     "metadata": {},
     "output_type": "display_data"
    },
    {
     "data": {
      "text/html": [
       "<pre>Number of unpacked features : 34524</pre>"
      ],
      "text/plain": [
       "Number of unpacked features : 34524"
      ]
     },
     "metadata": {},
     "output_type": "display_data"
    },
    {
     "data": {
      "text/html": [
       "<pre>Number of coefficients    : 34534</pre>"
      ],
      "text/plain": [
       "Number of coefficients    : 34534"
      ]
     },
     "metadata": {},
     "output_type": "display_data"
    },
    {
     "data": {
      "text/html": [
       "<pre>Starting L-BFGS</pre>"
      ],
      "text/plain": [
       "Starting L-BFGS"
      ]
     },
     "metadata": {},
     "output_type": "display_data"
    },
    {
     "data": {
      "text/html": [
       "<pre>--------------------------------------------------------</pre>"
      ],
      "text/plain": [
       "--------------------------------------------------------"
      ]
     },
     "metadata": {},
     "output_type": "display_data"
    },
    {
     "data": {
      "text/html": [
       "<pre>+-----------+----------+-----------+--------------+-------------------+---------------------+</pre>"
      ],
      "text/plain": [
       "+-----------+----------+-----------+--------------+-------------------+---------------------+"
      ]
     },
     "metadata": {},
     "output_type": "display_data"
    },
    {
     "data": {
      "text/html": [
       "<pre>| Iteration | Passes   | Step size | Elapsed Time | Training-accuracy | Validation-accuracy |</pre>"
      ],
      "text/plain": [
       "| Iteration | Passes   | Step size | Elapsed Time | Training-accuracy | Validation-accuracy |"
      ]
     },
     "metadata": {},
     "output_type": "display_data"
    },
    {
     "data": {
      "text/html": [
       "<pre>+-----------+----------+-----------+--------------+-------------------+---------------------+</pre>"
      ],
      "text/plain": [
       "+-----------+----------+-----------+--------------+-------------------+---------------------+"
      ]
     },
     "metadata": {},
     "output_type": "display_data"
    },
    {
     "data": {
      "text/html": [
       "<pre>| 1         | 3        | 0.000017  | 0.353928     | 0.704949          | 0.702632            |</pre>"
      ],
      "text/plain": [
       "| 1         | 3        | 0.000017  | 0.353928     | 0.704949          | 0.702632            |"
      ]
     },
     "metadata": {},
     "output_type": "display_data"
    },
    {
     "data": {
      "text/html": [
       "<pre>| 2         | 5        | 1.000000  | 0.747739     | 0.757282          | 0.705882            |</pre>"
      ],
      "text/plain": [
       "| 2         | 5        | 1.000000  | 0.747739     | 0.757282          | 0.705882            |"
      ]
     },
     "metadata": {},
     "output_type": "display_data"
    },
    {
     "data": {
      "text/html": [
       "<pre>| 3         | 6        | 1.000000  | 1.042419     | 0.858228          | 0.660058            |</pre>"
      ],
      "text/plain": [
       "| 3         | 6        | 1.000000  | 1.042419     | 0.858228          | 0.660058            |"
      ]
     },
     "metadata": {},
     "output_type": "display_data"
    },
    {
     "data": {
      "text/html": [
       "<pre>+-----------+----------+-----------+--------------+-------------------+---------------------+</pre>"
      ],
      "text/plain": [
       "+-----------+----------+-----------+--------------+-------------------+---------------------+"
      ]
     },
     "metadata": {},
     "output_type": "display_data"
    },
    {
     "data": {
      "text/html": [
       "<pre>TERMINATED: Iteration limit reached.</pre>"
      ],
      "text/plain": [
       "TERMINATED: Iteration limit reached."
      ]
     },
     "metadata": {},
     "output_type": "display_data"
    },
    {
     "data": {
      "text/html": [
       "<pre>This model may not be optimal. To improve it, consider increasing `max_iterations`.</pre>"
      ],
      "text/plain": [
       "This model may not be optimal. To improve it, consider increasing `max_iterations`."
      ]
     },
     "metadata": {},
     "output_type": "display_data"
    },
    {
     "name": "stdout",
     "output_type": "stream",
     "text": [
      "Accuracy         : 0.691906866302\n",
      "Confusion Matrix : \n",
      "+--------------+-----------------+-------+\n",
      "| target_label | predicted_label | count |\n",
      "+--------------+-----------------+-------+\n",
      "|      0       |        1        |  1904 |\n",
      "|      0       |        0        |  8721 |\n",
      "|      1       |        0        |  2767 |\n",
      "|      1       |        1        |  1769 |\n",
      "+--------------+-----------------+-------+\n",
      "[4 rows x 3 columns]\n",
      "\n"
     ]
    }
   ],
   "source": [
    "#logistic classification model\n",
    "\n",
    "logistic_classification_model = graphlab.logistic_classifier.create(train_data,\n",
    "                                                                      target = 'funded',\n",
    "                                                                      features = selected_features,\n",
    "                                                                      l2_penalty = 0,\n",
    "                                                                      max_iterations = 3 )\n",
    "prediction = logistic_classification_model.classify(test_data)\n",
    "results = logistic_classification_model.evaluate(test_data)\n",
    "\n",
    "print \"Accuracy         : %s\" % results['accuracy']\n",
    "print \"Confusion Matrix : \\n%s\" % results['confusion_matrix']"
   ]
  },
  {
   "cell_type": "code",
   "execution_count": 101,
   "metadata": {
    "collapsed": true
   },
   "outputs": [],
   "source": [
    "#neural network classification model\n",
    "\n",
    "\n",
    "# nn_classification_model = graphlab.neuralnet_classifier.create(kickstarter,\n",
    "#                                                               target = 'funded',\n",
    "#                                                               max_iterations = 3)\n",
    "\n",
    "# kickstarter['features'] = nn_classification_model.extract_features(kickstarter)\n",
    "\n",
    "# nn_classification_model = graphlab.classifier.create(train_data,\n",
    "#                                                      target = 'funded',\n",
    "#                                                      features = ['features']\n",
    "#                                                     )\n",
    "\n",
    "# prediction = nn_classification_model.classify(test_data)\n",
    "# results = nn_classification_model.evaluate(test_data)\n",
    "\n",
    "# print \"Accuracy         : %s\" % results['accuracy']\n",
    "# print \"Confusion Matrix : \\n%s\" % results['confusion_matrix']"
   ]
  },
  {
   "cell_type": "code",
   "execution_count": 145,
   "metadata": {},
   "outputs": [
    {
     "data": {
      "text/html": [
       "<pre>Finished parsing file /home/jovyan/work/MLC2 Challenge/test1.csv</pre>"
      ],
      "text/plain": [
       "Finished parsing file /home/jovyan/work/MLC2 Challenge/test1.csv"
      ]
     },
     "metadata": {},
     "output_type": "display_data"
    },
    {
     "data": {
      "text/html": [
       "<pre>Parsing completed. Parsed 100 lines in 1.04064 secs.</pre>"
      ],
      "text/plain": [
       "Parsing completed. Parsed 100 lines in 1.04064 secs."
      ]
     },
     "metadata": {},
     "output_type": "display_data"
    },
    {
     "name": "stdout",
     "output_type": "stream",
     "text": [
      "------------------------------------------------------\n",
      "Inferred types from first 100 line(s) of file as \n",
      "column_type_hints=[str,str,str,float,str,str,str,str,str,str,str,str]\n",
      "If parsing fails due to incorrect types, you can correct\n",
      "the inferred type list above and pass it to read_csv in\n",
      "the column_type_hints argument\n",
      "------------------------------------------------------\n"
     ]
    },
    {
     "data": {
      "text/html": [
       "<pre>Finished parsing file /home/jovyan/work/MLC2 Challenge/test1.csv</pre>"
      ],
      "text/plain": [
       "Finished parsing file /home/jovyan/work/MLC2 Challenge/test1.csv"
      ]
     },
     "metadata": {},
     "output_type": "display_data"
    },
    {
     "data": {
      "text/html": [
       "<pre>Parsing completed. Parsed 63465 lines in 0.65652 secs.</pre>"
      ],
      "text/plain": [
       "Parsing completed. Parsed 63465 lines in 0.65652 secs."
      ]
     },
     "metadata": {},
     "output_type": "display_data"
    }
   ],
   "source": [
    "#feature engineering test data\n",
    "\n",
    "import re\n",
    "import datetime\n",
    "from graphlab import SFrame\n",
    "\n",
    "\n",
    "remove = ['\\r', '\\x0b', '\\x0c', '\\t', ' ', '.', \"'\", '&', '-', '$', '!', ':', '\"', '/']\n",
    "\n",
    "# data = graphlab.SFrame.read_csv('test1.csv',\n",
    "#                                 delimiter=remove,\n",
    "#                                 quote_char= '\\0',\n",
    "#                                 error_bad_lines=False\n",
    "#                                )\n",
    "\n",
    "data = graphlab.SFrame('test1.csv')\n",
    "\n",
    "# (sf, bad_lines) = graphlab.SFrame.read_csv_with_errors('test1.csv')\n",
    "# bad_lines"
   ]
  },
  {
   "cell_type": "code",
   "execution_count": 146,
   "metadata": {
    "collapsed": true
   },
   "outputs": [],
   "source": [
    "\n",
    "#create a cluster of words using desc\n",
    "\n",
    "data['word_count_trim'] = graphlab.text_analytics.trim_rare_words(data['desc'], to_lower=True, delimiters=remove)\n",
    "data['word_count'] = graphlab.text_analytics.count_words(data['word_count_trim'])\n",
    "data['stop_words_trim'] = data['word_count'].dict_trim_by_keys(graphlab.text_analytics.stopwords(), True) \n",
    "\n",
    "#tfidf still doesn't get rid of simple words like and, the in and stuff, doesn't still give a better/true rare words\n",
    "tfidf = graphlab.text_analytics.tf_idf(data['stop_words_trim'])\n",
    "\n",
    "if graphlab.version <= '1.6.1':\n",
    "    tfidf = tfidf['docs']\n",
    "    \n",
    "data['tfidf'] = tfidf"
   ]
  },
  {
   "cell_type": "code",
   "execution_count": 147,
   "metadata": {
    "collapsed": true
   },
   "outputs": [],
   "source": [
    "#using the test data to make predictions\n",
    "\n",
    "probability_predictions = tuned_lc_model.predict(data, output_type='probability')"
   ]
  },
  {
   "cell_type": "code",
   "execution_count": 149,
   "metadata": {
    "collapsed": true
   },
   "outputs": [],
   "source": [
    "#to export the file\n",
    "\n",
    "sub = pandas.DataFrame()\n",
    "sub['project_id'] = data['project_id']\n",
    "sub['final_status'] = probability_predictions\n",
    "sub['final_status'] = [1 if x > 0.5 else 0 for x in sub['final_status']]\n",
    "sub.to_csv(\"prediction_file.csv\",index=False)"
   ]
  },
  {
   "cell_type": "code",
   "execution_count": 96,
   "metadata": {},
   "outputs": [
    {
     "data": {
      "text/html": [
       "<pre>Finished parsing file /home/jovyan/work/Challenges/prediction_file.csv</pre>"
      ],
      "text/plain": [
       "Finished parsing file /home/jovyan/work/Challenges/prediction_file.csv"
      ]
     },
     "metadata": {},
     "output_type": "display_data"
    },
    {
     "data": {
      "text/html": [
       "<pre>Parsing completed. Parsed 100 lines in 0.203936 secs.</pre>"
      ],
      "text/plain": [
       "Parsing completed. Parsed 100 lines in 0.203936 secs."
      ]
     },
     "metadata": {},
     "output_type": "display_data"
    },
    {
     "name": "stdout",
     "output_type": "stream",
     "text": [
      "------------------------------------------------------\n",
      "Inferred types from first 100 line(s) of file as \n",
      "column_type_hints=[str,float]\n",
      "If parsing fails due to incorrect types, you can correct\n",
      "the inferred type list above and pass it to read_csv in\n",
      "the column_type_hints argument\n",
      "------------------------------------------------------\n"
     ]
    },
    {
     "data": {
      "text/html": [
       "<pre>Finished parsing file /home/jovyan/work/Challenges/prediction_file.csv</pre>"
      ],
      "text/plain": [
       "Finished parsing file /home/jovyan/work/Challenges/prediction_file.csv"
      ]
     },
     "metadata": {},
     "output_type": "display_data"
    },
    {
     "data": {
      "text/html": [
       "<pre>Parsing completed. Parsed 61054 lines in 0.180618 secs.</pre>"
      ],
      "text/plain": [
       "Parsing completed. Parsed 61054 lines in 0.180618 secs."
      ]
     },
     "metadata": {},
     "output_type": "display_data"
    },
    {
     "data": {
      "text/html": [
       "<div style=\"max-height:1000px;max-width:1500px;overflow:auto;\"><table frame=\"box\" rules=\"cols\">\n",
       "    <tr>\n",
       "        <th style=\"padding-left: 1em; padding-right: 1em; text-align: center\">project_id</th>\n",
       "        <th style=\"padding-left: 1em; padding-right: 1em; text-align: center\">final_status</th>\n",
       "    </tr>\n",
       "    <tr>\n",
       "        <td style=\"padding-left: 1em; padding-right: 1em; text-align: center; vertical-align: top\">kkst1482006802</td>\n",
       "        <td style=\"padding-left: 1em; padding-right: 1em; text-align: center; vertical-align: top\">0.0320340245643</td>\n",
       "    </tr>\n",
       "    <tr>\n",
       "        <td style=\"padding-left: 1em; padding-right: 1em; text-align: center; vertical-align: top\">kkst1838463372</td>\n",
       "        <td style=\"padding-left: 1em; padding-right: 1em; text-align: center; vertical-align: top\">0.0384586149138</td>\n",
       "    </tr>\n",
       "    <tr>\n",
       "        <td style=\"padding-left: 1em; padding-right: 1em; text-align: center; vertical-align: top\">kkst1901963057</td>\n",
       "        <td style=\"padding-left: 1em; padding-right: 1em; text-align: center; vertical-align: top\">0.046790186118</td>\n",
       "    </tr>\n",
       "    <tr>\n",
       "        <td style=\"padding-left: 1em; padding-right: 1em; text-align: center; vertical-align: top\">kkst795481289</td>\n",
       "        <td style=\"padding-left: 1em; padding-right: 1em; text-align: center; vertical-align: top\">0.0470349892302</td>\n",
       "    </tr>\n",
       "    <tr>\n",
       "        <td style=\"padding-left: 1em; padding-right: 1em; text-align: center; vertical-align: top\">kkst1521088282</td>\n",
       "        <td style=\"padding-left: 1em; padding-right: 1em; text-align: center; vertical-align: top\">0.0476284232623</td>\n",
       "    </tr>\n",
       "    <tr>\n",
       "        <td style=\"padding-left: 1em; padding-right: 1em; text-align: center; vertical-align: top\">kkst1997327184</td>\n",
       "        <td style=\"padding-left: 1em; padding-right: 1em; text-align: center; vertical-align: top\">0.0480018783814</td>\n",
       "    </tr>\n",
       "    <tr>\n",
       "        <td style=\"padding-left: 1em; padding-right: 1em; text-align: center; vertical-align: top\">kkst759934009</td>\n",
       "        <td style=\"padding-left: 1em; padding-right: 1em; text-align: center; vertical-align: top\">0.0484265720539</td>\n",
       "    </tr>\n",
       "    <tr>\n",
       "        <td style=\"padding-left: 1em; padding-right: 1em; text-align: center; vertical-align: top\">kkst599549428</td>\n",
       "        <td style=\"padding-left: 1em; padding-right: 1em; text-align: center; vertical-align: top\">0.0486086876088</td>\n",
       "    </tr>\n",
       "    <tr>\n",
       "        <td style=\"padding-left: 1em; padding-right: 1em; text-align: center; vertical-align: top\">kkst2045263573</td>\n",
       "        <td style=\"padding-left: 1em; padding-right: 1em; text-align: center; vertical-align: top\">0.267023145945</td>\n",
       "    </tr>\n",
       "    <tr>\n",
       "        <td style=\"padding-left: 1em; padding-right: 1em; text-align: center; vertical-align: top\">kkst649181190</td>\n",
       "        <td style=\"padding-left: 1em; padding-right: 1em; text-align: center; vertical-align: top\">0.267039627328</td>\n",
       "    </tr>\n",
       "</table>\n",
       "[61054 rows x 2 columns]<br/>Note: Only the head of the SFrame is printed.<br/>You can use print_rows(num_rows=m, num_columns=n) to print more rows and columns.\n",
       "</div>"
      ],
      "text/plain": [
       "Columns:\n",
       "\tproject_id\tstr\n",
       "\tfinal_status\tfloat\n",
       "\n",
       "Rows: 61054\n",
       "\n",
       "Data:\n",
       "+----------------+-----------------+\n",
       "|   project_id   |   final_status  |\n",
       "+----------------+-----------------+\n",
       "| kkst1482006802 | 0.0320340245643 |\n",
       "| kkst1838463372 | 0.0384586149138 |\n",
       "| kkst1901963057 |  0.046790186118 |\n",
       "| kkst795481289  | 0.0470349892302 |\n",
       "| kkst1521088282 | 0.0476284232623 |\n",
       "| kkst1997327184 | 0.0480018783814 |\n",
       "| kkst759934009  | 0.0484265720539 |\n",
       "| kkst599549428  | 0.0486086876088 |\n",
       "| kkst2045263573 |  0.267023145945 |\n",
       "| kkst649181190  |  0.267039627328 |\n",
       "+----------------+-----------------+\n",
       "[61054 rows x 2 columns]\n",
       "Note: Only the head of the SFrame is printed.\n",
       "You can use print_rows(num_rows=m, num_columns=n) to print more rows and columns."
      ]
     },
     "execution_count": 96,
     "metadata": {},
     "output_type": "execute_result"
    }
   ],
   "source": [
    "check = graphlab.SFrame('prediction_file.csv')\n",
    "check.sort('final_status', ascending=True\n",
    "          )"
   ]
  },
  {
   "cell_type": "code",
   "execution_count": 139,
   "metadata": {
    "collapsed": true
   },
   "outputs": [],
   "source": [
    "import numpy as np\n",
    "import pandas\n",
    "import re\n",
    "\n",
    "datum = pandas.read_csv('test.csv')\n",
    "\n",
    "unix_cols = ['deadline','state_changed_at','launched_at','created_at']\n",
    "\n",
    "for x in unix_cols:\n",
    "    datum[x] = datum[x].apply(lambda k: datetime.datetime.fromtimestamp(int(k)).strftime('%Y-%m-%d %H:%M:%S'))\n",
    "\n",
    "def desc_clean(word):\n",
    "    p1 = re.sub(pattern='(\\W+)|(\\d+)|(\\s+)',repl=' ',string=word)\n",
    "    p1 = p1.lower().strip('\"')\n",
    "    return p1\n",
    "\n",
    "kickdesc = kickdesc.map(desc_clean)\n",
    "datum['keywords'] = datum['keywords'].replace(['-'], [' '], regex=True)\n",
    "datum['name'] = datum['keywords']\n",
    "datum['desc'] = datum['desc'].str.replace(\":\",\" \").astype('str') \n",
    "datum['desc'] = datum['desc'].str.replace('\"',' ').astype('str')\n",
    "datum['desc'] = datum['desc'].str.replace('-',' ').astype('str')\n",
    "datum['desc'] = datum['desc'].replace(['Ã','¶', 'Ã', 'Â', '©', '¥', '¤', '\\s'], ['a','', 'a', 'a', '', 'y', '', ' '], regex=True)\n",
    "datum['name'] = datum['name'].replace(['-'], [' '], regex=True)\n",
    "datum['desc'] = datum['desc'].map(lambda x: x.strip())"
   ]
  },
  {
   "cell_type": "code",
   "execution_count": 141,
   "metadata": {
    "collapsed": true
   },
   "outputs": [],
   "source": []
  },
  {
   "cell_type": "code",
   "execution_count": 142,
   "metadata": {},
   "outputs": [
    {
     "data": {
      "text/plain": [
       "0        My first film, of many to come. Trying to purs...\n",
       "1        A young man that has earned his master's in sc...\n",
       "2        Film about a high school constructed for negro...\n",
       "3        The acclaimed series about a group of transgen...\n",
       "4        Blackdom's history offers  a new narrative tha...\n",
       "5        Sexual immorality is Satan's weapon to wage wa...\n",
       "6        Film focuses on connection between social alie...\n",
       "7        Paris is hired by a jazz singer to kill an old...\n",
       "8                   new web series created by jonney terry\n",
       "9        A martyr faces execution at the hands of the S...\n",
       "10       A Brighter Day                                ...\n",
       "11       A tender short film about a young man who need...\n",
       "12       The Heart of a Woman and The Heart of a Man is...\n",
       "13       This film is a fictional crime drama following...\n",
       "14       A family dramedy about a grandfather  and gran...\n",
       "15       A short drama based on a true events. Story of...\n",
       "16       An hour long pilot about a group of suburban L...\n",
       "17       Trial And Error is a feature film about 3 teen...\n",
       "18       An exciting crime thriller that we intend to t...\n",
       "19       The night of blood                            ...\n",
       "20       You can live a selfish life or answer the call...\n",
       "21       Christina has been suffering with flash backs ...\n",
       "22       A young man suffering from a severe case of OC...\n",
       "23                     Because hope can be a 4 letter word\n",
       "24       A young boy passionate about Astronomy and Che...\n",
       "25       Northern Irish Original Short Film based on th...\n",
       "26       A moving short film about a retired female box...\n",
       "27       Fund raising for a movie premiere in Houston T...\n",
       "28       The film follows Mafia boss Tony Marcello and ...\n",
       "29       A young man tries to convince an escort to lea...\n",
       "                               ...                        \n",
       "63435    It's like Star Wars meets The Da Vinci Code......\n",
       "63436    Bangarang Books is a state of the art propriet...\n",
       "63437    When a lonely boy moves to a new town he makes...\n",
       "63438    A magical story that changes based on your cha...\n",
       "63439    5 inspiring children's fiction books. For ever...\n",
       "63440    This childrens series will outline the difficu...\n",
       "63441    Please help re print 3 Ancient Samoan stories ...\n",
       "63442    A children's book series starring my precociou...\n",
       "63443    A 23 year old artist and a LucasFilm veteran c...\n",
       "63444    The first in the series of Bugaboo Adventures ...\n",
       "63445    The perfect book for the 5th grade transition ...\n",
       "63446    An original fairytale with beautifully nostalg...\n",
       "63447    Mmmmeaty goodness! Join two sneaky pups as the...\n",
       "63448      A children's ebook that adults might enjoy too.\n",
       "63449    This will be the second adventure of the child...\n",
       "63450    Want bragging rights?  A book or teddy bear re...\n",
       "63451    Ever felt EXCLUDED or JEALOUS (of a friend)? W...\n",
       "63452    Ben Carson's rise to greatness came well befor...\n",
       "63453    Two brothers meet George, the Alaskan eagle.Th...\n",
       "63454    We'd like to create a simple step by step ‘how...\n",
       "63455    Have you ever longed to visit Paris? Follow th...\n",
       "63456    An interactive children's book for the iPad + ...\n",
       "63457    Funny and easy reading picture book written as...\n",
       "63458    New children's book with proceeds going to sup...\n",
       "63459    How does a little girl honor her family's Poli...\n",
       "63460    Aesop's Fables meets Beatrix Potter in the 43 ...\n",
       "63461    A children's book based on an old legend of a ...\n",
       "63462    Providing a realistic picture book, that gentl...\n",
       "63463    A GERM'S JOURNEY Traveling Soon to a Bookshelf...\n",
       "63464    Join Daisy, on her adventures, in this theme b...\n",
       "Name: desc, dtype: object"
      ]
     },
     "execution_count": 142,
     "metadata": {},
     "output_type": "execute_result"
    }
   ],
   "source": [
    "datum['desc']"
   ]
  },
  {
   "cell_type": "code",
   "execution_count": 143,
   "metadata": {
    "collapsed": true
   },
   "outputs": [],
   "source": [
    "datum.to_csv('test1.csv',\n",
    "             float_format=None,\n",
    "             header=True,\n",
    "             index=False,\n",
    "             index_label=None,\n",
    "             mode='w',\n",
    "             encoding = 'utf-8',\n",
    "             line_terminator='\\n',\n",
    "             tupleize_cols=False,\n",
    "             date_format='%Y%m%d',\n",
    "             decimal = '.'\n",
    "            )"
   ]
  },
  {
   "cell_type": "code",
   "execution_count": 48,
   "metadata": {},
   "outputs": [
    {
     "data": {
      "text/plain": [
       "pandas.core.series.Series"
      ]
     },
     "execution_count": 48,
     "metadata": {},
     "output_type": "execute_result"
    }
   ],
   "source": [
    "from graphlab import SArray\n",
    "\n",
    "datum['word_count_trim'] = SArray(datum['desc'], dtype=str)\n",
    "type(datum['word_count_trim'])"
   ]
  },
  {
   "cell_type": "code",
   "execution_count": 40,
   "metadata": {},
   "outputs": [
    {
     "ename": "ToolkitError",
     "evalue": "Input sa is not an SArray.",
     "output_type": "error",
     "traceback": [
      "\u001b[0;31m\u001b[0m",
      "\u001b[0;31mToolkitError\u001b[0mTraceback (most recent call last)",
      "\u001b[0;32m<ipython-input-40-085a8008cbb6>\u001b[0m in \u001b[0;36m<module>\u001b[0;34m()\u001b[0m\n\u001b[1;32m      4\u001b[0m \u001b[0;34m\u001b[0m\u001b[0m\n\u001b[1;32m      5\u001b[0m \u001b[0;34m\u001b[0m\u001b[0m\n\u001b[0;32m----> 6\u001b[0;31m \u001b[0mdatum\u001b[0m\u001b[0;34m[\u001b[0m\u001b[0;34m'word_count_trim'\u001b[0m\u001b[0;34m]\u001b[0m \u001b[0;34m=\u001b[0m \u001b[0mgraphlab\u001b[0m\u001b[0;34m.\u001b[0m\u001b[0mtext_analytics\u001b[0m\u001b[0;34m.\u001b[0m\u001b[0mtrim_rare_words\u001b[0m\u001b[0;34m(\u001b[0m\u001b[0mdatum\u001b[0m\u001b[0;34m[\u001b[0m\u001b[0;34m'desc'\u001b[0m\u001b[0;34m]\u001b[0m\u001b[0;34m,\u001b[0m \u001b[0mto_lower\u001b[0m\u001b[0;34m=\u001b[0m\u001b[0mTrue\u001b[0m\u001b[0;34m,\u001b[0m \u001b[0mdelimiters\u001b[0m\u001b[0;34m=\u001b[0m\u001b[0mremove\u001b[0m\u001b[0;34m)\u001b[0m\u001b[0;34m\u001b[0m\u001b[0m\n\u001b[0m\u001b[1;32m      7\u001b[0m \u001b[0mdatum\u001b[0m\u001b[0;34m[\u001b[0m\u001b[0;34m'word_count'\u001b[0m\u001b[0;34m]\u001b[0m \u001b[0;34m=\u001b[0m \u001b[0mgraphlab\u001b[0m\u001b[0;34m.\u001b[0m\u001b[0mtext_analytics\u001b[0m\u001b[0;34m.\u001b[0m\u001b[0mcount_words\u001b[0m\u001b[0;34m(\u001b[0m\u001b[0mdatum\u001b[0m\u001b[0;34m[\u001b[0m\u001b[0;34m'word_count_trim'\u001b[0m\u001b[0;34m]\u001b[0m\u001b[0;34m)\u001b[0m\u001b[0;34m\u001b[0m\u001b[0m\n\u001b[1;32m      8\u001b[0m \u001b[0mdatum\u001b[0m\u001b[0;34m[\u001b[0m\u001b[0;34m'stop_words_trim'\u001b[0m\u001b[0;34m]\u001b[0m \u001b[0;34m=\u001b[0m \u001b[0mdatum\u001b[0m\u001b[0;34m[\u001b[0m\u001b[0;34m'word_count'\u001b[0m\u001b[0;34m]\u001b[0m\u001b[0;34m.\u001b[0m\u001b[0mdict_trim_by_keys\u001b[0m\u001b[0;34m(\u001b[0m\u001b[0mgraphlab\u001b[0m\u001b[0;34m.\u001b[0m\u001b[0mtext_analytics\u001b[0m\u001b[0;34m.\u001b[0m\u001b[0mstopwords\u001b[0m\u001b[0;34m(\u001b[0m\u001b[0;34m)\u001b[0m\u001b[0;34m,\u001b[0m \u001b[0mTrue\u001b[0m\u001b[0;34m)\u001b[0m\u001b[0;34m\u001b[0m\u001b[0m\n",
      "\u001b[0;32m/opt/conda/lib/python2.7/site-packages/graphlab/toolkits/text_analytics/_util.pyc\u001b[0m in \u001b[0;36mtrim_rare_words\u001b[0;34m(sa, threshold, to_lower, delimiters, stopwords)\u001b[0m\n\u001b[1;32m    564\u001b[0m     \u001b[0m_mt\u001b[0m\u001b[0;34m.\u001b[0m\u001b[0m_get_metric_tracker\u001b[0m\u001b[0;34m(\u001b[0m\u001b[0;34m)\u001b[0m\u001b[0;34m.\u001b[0m\u001b[0mtrack\u001b[0m\u001b[0;34m(\u001b[0m\u001b[0;34m'toolkit.text_analytics.trim_rare_words'\u001b[0m\u001b[0;34m)\u001b[0m\u001b[0;34m\u001b[0m\u001b[0m\n\u001b[1;32m    565\u001b[0m \u001b[0;34m\u001b[0m\u001b[0m\n\u001b[0;32m--> 566\u001b[0;31m     \u001b[0m_raise_error_if_not_sarray\u001b[0m\u001b[0;34m(\u001b[0m\u001b[0msa\u001b[0m\u001b[0;34m,\u001b[0m \u001b[0;34m\"sa\"\u001b[0m\u001b[0;34m)\u001b[0m\u001b[0;34m\u001b[0m\u001b[0m\n\u001b[0m\u001b[1;32m    567\u001b[0m \u001b[0;34m\u001b[0m\u001b[0m\n\u001b[1;32m    568\u001b[0m     \u001b[0;31m## Compute word counts\u001b[0m\u001b[0;34m\u001b[0m\u001b[0;34m\u001b[0m\u001b[0m\n",
      "\u001b[0;32m/opt/conda/lib/python2.7/site-packages/graphlab/toolkits/_internal_utils.pyc\u001b[0m in \u001b[0;36m_raise_error_if_not_sarray\u001b[0;34m(dataset, variable_name)\u001b[0m\n\u001b[1;32m    384\u001b[0m     \u001b[0merr_msg\u001b[0m \u001b[0;34m=\u001b[0m \u001b[0;34m\"Input %s is not an SArray.\"\u001b[0m\u001b[0;34m\u001b[0m\u001b[0m\n\u001b[1;32m    385\u001b[0m     \u001b[0;32mif\u001b[0m \u001b[0;32mnot\u001b[0m \u001b[0misinstance\u001b[0m\u001b[0;34m(\u001b[0m\u001b[0mdataset\u001b[0m\u001b[0;34m,\u001b[0m \u001b[0m_SArray\u001b[0m\u001b[0;34m)\u001b[0m\u001b[0;34m:\u001b[0m\u001b[0;34m\u001b[0m\u001b[0m\n\u001b[0;32m--> 386\u001b[0;31m       \u001b[0;32mraise\u001b[0m \u001b[0mToolkitError\u001b[0m\u001b[0;34m(\u001b[0m\u001b[0merr_msg\u001b[0m \u001b[0;34m%\u001b[0m \u001b[0mvariable_name\u001b[0m\u001b[0;34m)\u001b[0m\u001b[0;34m\u001b[0m\u001b[0m\n\u001b[0m\u001b[1;32m    387\u001b[0m \u001b[0;34m\u001b[0m\u001b[0m\n\u001b[1;32m    388\u001b[0m \u001b[0;32mdef\u001b[0m \u001b[0m_raise_error_if_not_sframe\u001b[0m\u001b[0;34m(\u001b[0m\u001b[0mdataset\u001b[0m\u001b[0;34m,\u001b[0m \u001b[0mvariable_name\u001b[0m\u001b[0;34m=\u001b[0m\u001b[0;34m\"SFrame\"\u001b[0m\u001b[0;34m)\u001b[0m\u001b[0;34m:\u001b[0m\u001b[0;34m\u001b[0m\u001b[0m\n",
      "\u001b[0;31mToolkitError\u001b[0m: Input sa is not an SArray."
     ]
    }
   ],
   "source": [
    "\n",
    "#create a cluster of words using desc\n",
    "remove = ['\\r', '\\x0b', '\\x0c', '\\t', ' ', '.', \"'\", '&', '-', '$', '!', ':', '\"', '/']\n",
    "\n",
    "\n",
    "datum['word_count_trim'] = graphlab.text_analytics.trim_rare_words(datum['desc'], to_lower=True, delimiters=remove)\n",
    "datum['word_count'] = graphlab.text_analytics.count_words(datum['word_count_trim'])\n",
    "datum['stop_words_trim'] = datum['word_count'].dict_trim_by_keys(graphlab.text_analytics.stopwords(), True) \n",
    "\n",
    "#tfidf still doesn't get rid of simple words like and, the in and stuff, doesn't still give a better/true rare words\n",
    "tfidf = graphlab.text_analytics.tf_idf(datum['stop_words_trim'])\n",
    "\n",
    "if graphlab.version <= '1.6.1':\n",
    "    tfidf = tfidf['docs']\n",
    "    \n",
    "datum['tfidf'] = tfidf"
   ]
  },
  {
   "cell_type": "code",
   "execution_count": null,
   "metadata": {
    "collapsed": true
   },
   "outputs": [],
   "source": [
    "#using the test data to make predictions\n",
    "\n",
    "probability_predictions = tuned_lc_model.predict(datum, output_type='probability')"
   ]
  },
  {
   "cell_type": "code",
   "execution_count": null,
   "metadata": {
    "collapsed": true
   },
   "outputs": [],
   "source": [
    "#to export the file\n",
    "\n",
    "sub = pd.DataFrame()\n",
    "sub['project_id'] = data['project_id']\n",
    "sub['final_status'] = probability_predictions\n",
    "sub['final_status'] = [1 if x > 0.5 else 0 for x in sub['final_status']]\n",
    "sub.to_csv(\"prediction_file.csv\",index=False)"
   ]
  }
 ],
 "metadata": {
  "kernelspec": {
   "display_name": "Python 2",
   "language": "python",
   "name": "python2"
  },
  "language_info": {
   "codemirror_mode": {
    "name": "ipython",
    "version": 2
   },
   "file_extension": ".py",
   "mimetype": "text/x-python",
   "name": "python",
   "nbconvert_exporter": "python",
   "pygments_lexer": "ipython2",
   "version": "2.7.13"
  }
 },
 "nbformat": 4,
 "nbformat_minor": 1
}
