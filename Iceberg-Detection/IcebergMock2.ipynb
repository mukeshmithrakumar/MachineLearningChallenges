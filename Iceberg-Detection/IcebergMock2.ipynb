{
 "cells": [
  {
   "cell_type": "code",
   "execution_count": 1,
   "metadata": {},
   "outputs": [
    {
     "name": "stderr",
     "output_type": "stream",
     "text": [
      "Using TensorFlow backend.\n"
     ]
    }
   ],
   "source": [
    "import numpy as np\n",
    "import pandas as pd\n",
    "import pylab\n",
    "import cv2\n",
    "import pdb\n",
    "import scipy\n",
    "import keras\n",
    "import math"
   ]
  },
  {
   "cell_type": "code",
   "execution_count": 2,
   "metadata": {
    "collapsed": true
   },
   "outputs": [],
   "source": [
    "from scipy import misc, ndimage\n",
    "from scipy.ndimage.interpolation import zoom, map_coordinates\n",
    "from scipy.ndimage import imread\n",
    "from scipy.ndimage import rotate as rot\n",
    "from scipy.ndimage.filters import gaussian_filter\n",
    "from scipy.signal import convolve2d\n",
    "from numpy.random import random_integers\n",
    "from sklearn.model_selection import train_test_split, StratifiedKFold\n",
    "from sklearn.metrics import log_loss\n",
    "from sklearn.model_selection import StratifiedShuffleSplit\n",
    "from os.path import join as opj\n",
    "from matplotlib import pyplot as plt\n",
    "from mpl_toolkits.mplot3d import Axes3D\n",
    "plt.rcParams['figure.figsize'] = 10,10\n",
    "%matplotlib inline"
   ]
  },
  {
   "cell_type": "code",
   "execution_count": 3,
   "metadata": {
    "collapsed": true
   },
   "outputs": [],
   "source": [
    "from matplotlib import pyplot\n",
    "from keras.utils.np_utils import to_categorical\n",
    "from keras.preprocessing.image import ImageDataGenerator\n",
    "from keras.layers import Conv2D, MaxPooling2D, Dense, Dropout, Activation\n",
    "from keras.layers import GlobalMaxPooling2D, Lambda, Input, Flatten,LSTM\n",
    "from keras.layers import ZeroPadding2D, GlobalAveragePooling2D, Merge\n",
    "from keras.layers.normalization import BatchNormalization\n",
    "from keras.layers.merge import Concatenate\n",
    "from keras.layers import *\n",
    "from keras.layers.advanced_activations import LeakyReLU, PReLU\n",
    "from keras.models import Model, model_from_json, Sequential\n",
    "from keras import initializers\n",
    "from keras.optimizers import Adam, RMSprop, SGD\n",
    "from keras.callbacks import ModelCheckpoint, Callback, EarlyStopping\n",
    "from keras.callbacks import ReduceLROnPlateau, History\n",
    "from keras.datasets import cifar10\n",
    "from keras import backend as K\n",
    "from keras.applications.inception_v3 import InceptionV3\n",
    "from keras.applications.vgg16 import VGG16\n",
    "from keras.applications.xception import Xception\n",
    "from keras.applications.mobilenet import MobileNet\n",
    "from keras.applications.vgg19 import VGG19\n",
    "from keras.preprocessing import image\n",
    "from keras.applications.vgg16 import preprocess_input"
   ]
  },
  {
   "cell_type": "code",
   "execution_count": 4,
   "metadata": {
    "collapsed": true
   },
   "outputs": [],
   "source": [
    "train_1 = pd.read_json(\"train.json\")"
   ]
  },
  {
   "cell_type": "code",
   "execution_count": 5,
   "metadata": {
    "collapsed": true
   },
   "outputs": [],
   "source": [
    "def get_scaled_imgs(df):\n",
    "    imgs = []\n",
    "    \n",
    "    for i, row in df.iterrows():\n",
    "        #make 75x75 image\n",
    "        band_1 = np.array(row['band_1']).reshape(75,75)\n",
    "        band_2 = np.array(row['band_2']).reshape(75,75)\n",
    "        band_3 = band_1 + band_2 \n",
    "        \n",
    "        #Rescale\n",
    "        a = (band_1 - band_1.mean())/(band_1.max() - band_1.min())\n",
    "        b = (band_2 - band_2.mean())/(band_2.max() - band_2.min())\n",
    "        c = (band_3 - band_3.mean())/(band_3.max() - band_3.min())\n",
    "        \n",
    "        imgs.append(np.dstack((a,b,c)))\n",
    "    return np.array(imgs)"
   ]
  },
  {
   "cell_type": "code",
   "execution_count": 6,
   "metadata": {
    "collapsed": true
   },
   "outputs": [],
   "source": [
    "Xtrain_1 = get_scaled_imgs(train_1)\n",
    "Ytrain_1 = np.array(train_1['is_iceberg'])"
   ]
  },
  {
   "cell_type": "code",
   "execution_count": 7,
   "metadata": {
    "collapsed": true
   },
   "outputs": [],
   "source": [
    "train_1.inc_angle = train_1.inc_angle.replace('na',0)\n",
    "idx_tr = np.where(train_1.inc_angle>0)"
   ]
  },
  {
   "cell_type": "code",
   "execution_count": 8,
   "metadata": {
    "collapsed": true
   },
   "outputs": [],
   "source": [
    "Ytrain_1 = Ytrain_1[idx_tr[0]]\n",
    "Xtrain_1 = Xtrain_1[idx_tr[0],...]"
   ]
  },
  {
   "cell_type": "code",
   "execution_count": 9,
   "metadata": {
    "collapsed": true
   },
   "outputs": [],
   "source": [
    "def get_more_images(imgs):\n",
    "    more_images = []\n",
    "    vert_flip_imgs = []\n",
    "    hori_flip_imgs = []\n",
    "    \n",
    "    for i in range(0,imgs.shape[0]):\n",
    "        a = imgs[i,:,:,0]\n",
    "        b = imgs[i,:,:,1]\n",
    "        c = imgs[i,:,:,2]\n",
    "        \n",
    "        av = cv2.flip(a,1)\n",
    "        ah = cv2.flip(a,0)\n",
    "        bv = cv2.flip(b,1)\n",
    "        bh = cv2.flip(b,0)\n",
    "        cv = cv2.flip(c,1)\n",
    "        ch = cv2.flip(c,0)\n",
    "        \n",
    "        vert_flip_imgs.append(np.dstack((av,bv,cv)))\n",
    "        hori_flip_imgs.append(np.dstack((ah,bh,ch)))\n",
    "        \n",
    "    v = np.array(vert_flip_imgs)\n",
    "    h = np.array(hori_flip_imgs)\n",
    "    more_images = np.concatenate((imgs,v,h))\n",
    "    \n",
    "    return more_images"
   ]
  },
  {
   "cell_type": "code",
   "execution_count": 10,
   "metadata": {
    "collapsed": true
   },
   "outputs": [],
   "source": [
    "Xtr_more_1 = get_more_images(Xtrain_1) \n",
    "Ytr_more_1 = np.concatenate((Ytrain_1,Ytrain_1,Ytrain_1))"
   ]
  },
  {
   "cell_type": "code",
   "execution_count": 11,
   "metadata": {
    "collapsed": true
   },
   "outputs": [],
   "source": [
    "def getModel_1():\n",
    "    model = Sequential()\n",
    "    \n",
    "    # CNN 1\n",
    "    model.add(Conv2D(64, kernel_size=(3, 3),activation='relu', input_shape=(75, 75, 3)))\n",
    "    model.add(MaxPooling2D(pool_size=(3, 3), strides=(2, 2)))\n",
    "    model.add(Dropout(0.2))\n",
    "\n",
    "    # CNN 2\n",
    "    model.add(Conv2D(128, kernel_size=(3, 3), activation='relu' ))\n",
    "    model.add(MaxPooling2D(pool_size=(2, 2), strides=(2, 2)))\n",
    "    model.add(Dropout(0.2))\n",
    "\n",
    "    # CNN 3\n",
    "    model.add(Conv2D(128, kernel_size=(3, 3), activation='relu'))\n",
    "    model.add(MaxPooling2D(pool_size=(2, 2), strides=(2, 2)))\n",
    "    model.add(Dropout(0.2))\n",
    "\n",
    "    #CNN 4\n",
    "    model.add(Conv2D(64, kernel_size=(3, 3), activation='relu'))\n",
    "    model.add(MaxPooling2D(pool_size=(2, 2), strides=(2, 2)))\n",
    "    model.add(Dropout(0.2))\n",
    "\n",
    "    # You must flatten the data for the dense layers\n",
    "    model.add(Flatten())\n",
    "\n",
    "    #Dense 1\n",
    "    model.add(Dense(512, activation='relu'))\n",
    "    model.add(Dropout(0.2))\n",
    "\n",
    "    #Dense 2\n",
    "    model.add(Dense(256, activation='relu'))\n",
    "    model.add(Dropout(0.2))\n",
    "\n",
    "    # Output \n",
    "    model.add(Dense(1, activation=\"sigmoid\"))\n",
    "\n",
    "    optimizer = Adam(lr=0.001, decay=0.0)\n",
    "    model.compile(loss='binary_crossentropy', optimizer=optimizer, metrics=['accuracy'])\n",
    "    \n",
    "    return model"
   ]
  },
  {
   "cell_type": "code",
   "execution_count": 12,
   "metadata": {
    "collapsed": true
   },
   "outputs": [],
   "source": [
    "model_1 = getModel_1()\n",
    "earlyStopping = EarlyStopping(monitor = 'loss',\n",
    "                              patience =10,\n",
    "                              verbose = 0,\n",
    "                              mode = 'min'\n",
    "                             )\n",
    "mcp_save = ModelCheckpoint('.mock_2_model_1_weights.hdf5',\n",
    "                           save_best_only=True,\n",
    "                           save_weights_only=True,\n",
    "                           monitor = 'loss',\n",
    "                           mode = 'min'\n",
    "                          )"
   ]
  },
  {
   "cell_type": "code",
   "execution_count": 13,
   "metadata": {
    "collapsed": true
   },
   "outputs": [],
   "source": [
    "datagen = ImageDataGenerator(\n",
    "        featurewise_center=False,  # set input mean to 0 over the dataset\n",
    "        samplewise_center=False,  # set each sample mean to 0\n",
    "        featurewise_std_normalization=False,  # divide inputs by std of the dataset\n",
    "        samplewise_std_normalization=False,  # divide each input by its std\n",
    "        zca_whitening=False,  # apply ZCA whitening\n",
    "        rotation_range=10,  # randomly rotate images in the range (degrees, 0 to 180)\n",
    "        zoom_range = 0.1, # Randomly zoom image \n",
    "        width_shift_range=0.1,  # randomly shift images horizontally (fraction of total width)\n",
    "        height_shift_range=0.1,  # randomly shift images vertically (fraction of total height)\n",
    "        horizontal_flip=True,  # randomly flip images\n",
    "        vertical_flip=True)  # randomly flip images\n",
    "\n",
    "datagen.fit(Xtr_more_1)"
   ]
  },
  {
   "cell_type": "code",
   "execution_count": 14,
   "metadata": {},
   "outputs": [
    {
     "name": "stdout",
     "output_type": "stream",
     "text": [
      "Epoch 1/50\n",
      "138/138 [==============================] - 73s 527ms/step - loss: 0.5818 - acc: 0.6792\n",
      "Epoch 2/50\n",
      "138/138 [==============================] - 73s 532ms/step - loss: 0.4470 - acc: 0.8042\n",
      "Epoch 3/50\n",
      "138/138 [==============================] - 72s 523ms/step - loss: 0.3553 - acc: 0.8396\n",
      "Epoch 4/50\n",
      "138/138 [==============================] - 74s 534ms/step - loss: 0.3219 - acc: 0.8570\n",
      "Epoch 5/50\n",
      "138/138 [==============================] - 73s 531ms/step - loss: 0.2970 - acc: 0.8651\n",
      "Epoch 6/50\n",
      "138/138 [==============================] - 75s 542ms/step - loss: 0.2938 - acc: 0.8704\n",
      "Epoch 7/50\n",
      "138/138 [==============================] - 122s 883ms/step - loss: 0.2825 - acc: 0.8770\n",
      "Epoch 8/50\n",
      "138/138 [==============================] - 136s 983ms/step - loss: 0.2734 - acc: 0.8880\n",
      "Epoch 9/50\n",
      "138/138 [==============================] - 126s 913ms/step - loss: 0.2557 - acc: 0.8983\n",
      "Epoch 10/50\n",
      "138/138 [==============================] - 132s 953ms/step - loss: 0.2582 - acc: 0.8912\n",
      "Epoch 11/50\n",
      "138/138 [==============================] - 135s 978ms/step - loss: 0.2353 - acc: 0.9030\n",
      "Epoch 12/50\n",
      "138/138 [==============================] - 136s 986ms/step - loss: 0.2664 - acc: 0.8842\n",
      "Epoch 13/50\n",
      "138/138 [==============================] - 136s 983ms/step - loss: 0.2333 - acc: 0.9043\n",
      "Epoch 14/50\n",
      "138/138 [==============================] - 136s 983ms/step - loss: 0.2294 - acc: 0.9044\n",
      "Epoch 15/50\n",
      "138/138 [==============================] - 139s 1s/step - loss: 0.2315 - acc: 0.9053\n",
      "Epoch 16/50\n",
      "138/138 [==============================] - 137s 992ms/step - loss: 0.2138 - acc: 0.9078\n",
      "Epoch 17/50\n",
      "138/138 [==============================] - 139s 1s/step - loss: 0.2286 - acc: 0.9078\n",
      "Epoch 18/50\n",
      "138/138 [==============================] - 137s 996ms/step - loss: 0.2215 - acc: 0.9112\n",
      "Epoch 19/50\n",
      "138/138 [==============================] - 138s 1s/step - loss: 0.2105 - acc: 0.9121\n",
      "Epoch 20/50\n",
      "138/138 [==============================] - 139s 1s/step - loss: 0.2248 - acc: 0.9053\n",
      "Epoch 21/50\n",
      "138/138 [==============================] - 138s 1s/step - loss: 0.2200 - acc: 0.9130\n",
      "Epoch 22/50\n",
      "138/138 [==============================] - 138s 1000ms/step - loss: 0.2123 - acc: 0.9091\n",
      "Epoch 23/50\n",
      "138/138 [==============================] - 139s 1s/step - loss: 0.2041 - acc: 0.9134\n",
      "Epoch 24/50\n",
      "138/138 [==============================] - 137s 995ms/step - loss: 0.2074 - acc: 0.9150\n",
      "Epoch 25/50\n",
      "138/138 [==============================] - 137s 995ms/step - loss: 0.1833 - acc: 0.9234\n",
      "Epoch 26/50\n",
      "138/138 [==============================] - 137s 994ms/step - loss: 0.1883 - acc: 0.9255\n",
      "Epoch 27/50\n",
      "138/138 [==============================] - 137s 996ms/step - loss: 0.1920 - acc: 0.9192\n",
      "Epoch 28/50\n",
      "138/138 [==============================] - 137s 996ms/step - loss: 0.2055 - acc: 0.9135\n",
      "Epoch 29/50\n",
      "138/138 [==============================] - 139s 1s/step - loss: 0.1808 - acc: 0.9270\n",
      "Epoch 30/50\n",
      "138/138 [==============================] - 135s 980ms/step - loss: 0.1786 - acc: 0.9241\n",
      "Epoch 31/50\n",
      "138/138 [==============================] - 106s 765ms/step - loss: 0.1914 - acc: 0.9179\n",
      "Epoch 32/50\n",
      "138/138 [==============================] - 131s 948ms/step - loss: 0.1893 - acc: 0.9185\n",
      "Epoch 33/50\n",
      "138/138 [==============================] - 129s 937ms/step - loss: 0.1881 - acc: 0.9250\n",
      "Epoch 34/50\n",
      "138/138 [==============================] - 80s 581ms/step - loss: 0.1636 - acc: 0.9302\n",
      "Epoch 35/50\n",
      "138/138 [==============================] - 75s 541ms/step - loss: 0.1904 - acc: 0.9278\n",
      "Epoch 36/50\n",
      "138/138 [==============================] - 70s 505ms/step - loss: 0.1813 - acc: 0.9270\n",
      "Epoch 37/50\n",
      "138/138 [==============================] - 68s 494ms/step - loss: 0.1768 - acc: 0.9259\n",
      "Epoch 38/50\n",
      "138/138 [==============================] - 68s 494ms/step - loss: 0.1816 - acc: 0.9248\n",
      "Epoch 39/50\n",
      "138/138 [==============================] - 68s 494ms/step - loss: 0.1772 - acc: 0.9223\n",
      "Epoch 40/50\n",
      "138/138 [==============================] - 68s 491ms/step - loss: 0.1731 - acc: 0.9298\n",
      "Epoch 41/50\n",
      "138/138 [==============================] - 68s 492ms/step - loss: 0.1618 - acc: 0.9336\n",
      "Epoch 42/50\n",
      "138/138 [==============================] - 67s 489ms/step - loss: 0.1587 - acc: 0.9316\n",
      "Epoch 43/50\n",
      "138/138 [==============================] - 68s 491ms/step - loss: 0.1638 - acc: 0.9312\n",
      "Epoch 44/50\n",
      "138/138 [==============================] - 67s 488ms/step - loss: 0.1616 - acc: 0.9316\n",
      "Epoch 45/50\n",
      "138/138 [==============================] - 68s 490ms/step - loss: 0.1707 - acc: 0.9293\n",
      "Epoch 46/50\n",
      "138/138 [==============================] - 68s 490ms/step - loss: 0.1682 - acc: 0.9293\n",
      "Epoch 47/50\n",
      "138/138 [==============================] - 68s 492ms/step - loss: 0.1642 - acc: 0.9329\n",
      "Epoch 48/50\n",
      "138/138 [==============================] - 68s 489ms/step - loss: 0.1539 - acc: 0.9384\n",
      "Epoch 49/50\n",
      "138/138 [==============================] - 68s 493ms/step - loss: 0.1651 - acc: 0.9272\n",
      "Epoch 50/50\n",
      "138/138 [==============================] - 67s 489ms/step - loss: 0.1508 - acc: 0.9434\n"
     ]
    },
    {
     "data": {
      "text/plain": [
       "<keras.callbacks.History at 0x2230b9d0b70>"
      ]
     },
     "execution_count": 14,
     "metadata": {},
     "output_type": "execute_result"
    }
   ],
   "source": [
    "model_1.fit_generator(datagen.flow(Xtr_more_1,\n",
    "          Ytr_more_1,\n",
    "          batch_size=32),\n",
    "          epochs=50,\n",
    "          verbose=1,\n",
    "         callbacks=[earlyStopping,mcp_save])"
   ]
  },
  {
   "cell_type": "code",
   "execution_count": 15,
   "metadata": {},
   "outputs": [
    {
     "name": "stdout",
     "output_type": "stream",
     "text": [
      "1471/1471 [==============================] - 8s 5ms/step\n",
      "Train score: 0.0986877835168\n",
      "Train accuracy: 0.968048946295\n"
     ]
    }
   ],
   "source": [
    "model_1.load_weights(filepath = '.mock_2_model_1_weights.hdf5')\n",
    "score_1 = model_1.evaluate(Xtrain_1, Ytrain_1, verbose=1)\n",
    "print('Train score:', score_1[0])\n",
    "print('Train accuracy:', score_1[1])"
   ]
  },
  {
   "cell_type": "code",
   "execution_count": null,
   "metadata": {
    "collapsed": true
   },
   "outputs": [],
   "source": [
    "test_1 = pd.read_json('test.json')\n",
    "test_1.inc_angle = test_1.inc_angle.replace('na',0)\n",
    "Xtest_1 = (get_scaled_imgs(test_1))"
   ]
  },
  {
   "cell_type": "code",
   "execution_count": null,
   "metadata": {
    "collapsed": true
   },
   "outputs": [],
   "source": [
    "pred_test_1 = model_1.predict(Xtest_1)\n",
    "\n",
    "submission_1 = pd.DataFrame({'id': test_1[\"id\"], 'is_iceberg': pred_test_1.reshape((pred_test_1.shape[0]))})\n",
    "submission_1.to_csv('model_1.csv', index=False)"
   ]
  },
  {
   "cell_type": "markdown",
   "metadata": {},
   "source": [
    "### MODEL 1b"
   ]
  },
  {
   "cell_type": "code",
   "execution_count": 20,
   "metadata": {
    "collapsed": true
   },
   "outputs": [],
   "source": [
    "model_1b = getModel_1()\n",
    "batch_size = 32\n",
    "earlyStopping_2 = EarlyStopping(monitor = 'val_loss',\n",
    "                              patience =10,\n",
    "                              verbose = 0,\n",
    "                              mode = 'min'\n",
    "                             )\n",
    "mcp_save_2 = ModelCheckpoint('.mock_2_model_1b_weights.hdf5',\n",
    "                           save_best_only=True,\n",
    "                           monitor = 'val_loss',\n",
    "                           mode = 'min'\n",
    "                          )\n",
    "reduce_lr_loss_2 = ReduceLROnPlateau(monitor='val_loss',\n",
    "                                  factor = 0.1,\n",
    "                                  patience=7,\n",
    "                                  verbose = 0,\n",
    "                                  epsilon=1e-4,\n",
    "                                  mode='min')"
   ]
  },
  {
   "cell_type": "code",
   "execution_count": 21,
   "metadata": {},
   "outputs": [
    {
     "name": "stdout",
     "output_type": "stream",
     "text": [
      "Train on 3309 samples, validate on 1104 samples\n",
      "Epoch 1/25\n",
      "3309/3309 [==============================] - 59s 18ms/step - loss: 0.6021 - acc: 0.6558 - val_loss: 0.5032 - val_acc: 0.7536\n",
      "Epoch 2/25\n",
      "3309/3309 [==============================] - 57s 17ms/step - loss: 0.4282 - acc: 0.8069 - val_loss: 0.4352 - val_acc: 0.7989\n",
      "Epoch 3/25\n",
      "3309/3309 [==============================] - 58s 17ms/step - loss: 0.3605 - acc: 0.8341 - val_loss: 0.3476 - val_acc: 0.8578\n",
      "Epoch 4/25\n",
      "3309/3309 [==============================] - 58s 18ms/step - loss: 0.2982 - acc: 0.8688 - val_loss: 0.3482 - val_acc: 0.8460\n",
      "Epoch 5/25\n",
      "3309/3309 [==============================] - 60s 18ms/step - loss: 0.2631 - acc: 0.8785 - val_loss: 0.3132 - val_acc: 0.8678\n",
      "Epoch 6/25\n",
      "3309/3309 [==============================] - 59s 18ms/step - loss: 0.2521 - acc: 0.8933 - val_loss: 0.2277 - val_acc: 0.9158\n",
      "Epoch 7/25\n",
      "3309/3309 [==============================] - 59s 18ms/step - loss: 0.2263 - acc: 0.9054 - val_loss: 0.2208 - val_acc: 0.9212\n",
      "Epoch 8/25\n",
      "3309/3309 [==============================] - 58s 18ms/step - loss: 0.2082 - acc: 0.9124 - val_loss: 0.2332 - val_acc: 0.9121\n",
      "Epoch 9/25\n",
      "3309/3309 [==============================] - 59s 18ms/step - loss: 0.1935 - acc: 0.9211 - val_loss: 0.2353 - val_acc: 0.9139\n",
      "Epoch 10/25\n",
      "3309/3309 [==============================] - 59s 18ms/step - loss: 0.1732 - acc: 0.9302 - val_loss: 0.2084 - val_acc: 0.9149\n",
      "Epoch 11/25\n",
      "3309/3309 [==============================] - 60s 18ms/step - loss: 0.1554 - acc: 0.9393 - val_loss: 0.2067 - val_acc: 0.9212\n",
      "Epoch 12/25\n",
      "3309/3309 [==============================] - 60s 18ms/step - loss: 0.1500 - acc: 0.9444 - val_loss: 0.2077 - val_acc: 0.9239\n",
      "Epoch 13/25\n",
      "3309/3309 [==============================] - 59s 18ms/step - loss: 0.1535 - acc: 0.9396 - val_loss: 0.2082 - val_acc: 0.9221\n",
      "Epoch 14/25\n",
      "3309/3309 [==============================] - 57s 17ms/step - loss: 0.1278 - acc: 0.9477 - val_loss: 0.2444 - val_acc: 0.8949\n",
      "Epoch 15/25\n",
      "3309/3309 [==============================] - 57s 17ms/step - loss: 0.1171 - acc: 0.9544 - val_loss: 0.2083 - val_acc: 0.9194\n",
      "Epoch 16/25\n",
      "3309/3309 [==============================] - 57s 17ms/step - loss: 0.1140 - acc: 0.9550 - val_loss: 0.2328 - val_acc: 0.9103\n",
      "Epoch 17/25\n",
      "3309/3309 [==============================] - 57s 17ms/step - loss: 0.1355 - acc: 0.9477 - val_loss: 0.2390 - val_acc: 0.9203\n",
      "Epoch 18/25\n",
      "3309/3309 [==============================] - 57s 17ms/step - loss: 0.1010 - acc: 0.9598 - val_loss: 0.2463 - val_acc: 0.9266\n",
      "Epoch 19/25\n",
      "3309/3309 [==============================] - 57s 17ms/step - loss: 0.0980 - acc: 0.9613 - val_loss: 0.2747 - val_acc: 0.9139\n",
      "Epoch 20/25\n",
      "3309/3309 [==============================] - 57s 17ms/step - loss: 0.0644 - acc: 0.9794 - val_loss: 0.2480 - val_acc: 0.9194\n",
      "Epoch 21/25\n",
      "3309/3309 [==============================] - 57s 17ms/step - loss: 0.0528 - acc: 0.9804 - val_loss: 0.2493 - val_acc: 0.9194\n"
     ]
    },
    {
     "data": {
      "text/plain": [
       "<keras.callbacks.History at 0x1963e334ac8>"
      ]
     },
     "execution_count": 21,
     "metadata": {},
     "output_type": "execute_result"
    }
   ],
   "source": [
    "model_1b.fit(Xtr_more_1,\n",
    "          Ytr_more_1,\n",
    "          batch_size=batch_size,\n",
    "          epochs=25,\n",
    "          verbose=1,\n",
    "         callbacks=[earlyStopping_2,mcp_save_2,reduce_lr_loss_2],\n",
    "                       validation_split=0.25)"
   ]
  },
  {
   "cell_type": "code",
   "execution_count": 22,
   "metadata": {},
   "outputs": [
    {
     "name": "stdout",
     "output_type": "stream",
     "text": [
      "1471/1471 [==============================] - 7s 5ms/step\n",
      "Train score: 0.0922697961082\n",
      "Train accuracy: 0.966689326988\n"
     ]
    }
   ],
   "source": [
    "model_1b.load_weights(filepath = '.mock_2_model_1b_weights.hdf5')\n",
    "\n",
    "score_1b = model_1b.evaluate(Xtrain_1, Ytrain_1, verbose=1)\n",
    "print('Train score:', score_1b[0])\n",
    "print('Train accuracy:', score_1b[1])"
   ]
  },
  {
   "cell_type": "code",
   "execution_count": null,
   "metadata": {
    "collapsed": true
   },
   "outputs": [],
   "source": [
    "pred_test_1b = model_1b.predict(Xtest_1)\n",
    "\n",
    "submission_1b = pd.DataFrame({'id': test_1[\"id\"], 'is_iceberg': pred_test_1b.reshape((pred_test_1b.shape[0]))})\n",
    "submission_1b.to_csv('model_1b.csv', index=False)"
   ]
  },
  {
   "cell_type": "markdown",
   "metadata": {
    "collapsed": true
   },
   "source": [
    "### MODEL 1c"
   ]
  },
  {
   "cell_type": "code",
   "execution_count": 23,
   "metadata": {},
   "outputs": [
    {
     "name": "stdout",
     "output_type": "stream",
     "text": [
      "1471/1471 [==============================] - 7s 5ms/step\n",
      "Train score: 0.0922697961082\n",
      "Train accuracy: 0.966689326988\n"
     ]
    }
   ],
   "source": [
    "model_1.load_weights(filepath = '.mock_2_model_1b_weights.hdf5')\n",
    "\n",
    "score_1c = model_1.evaluate(Xtrain_1, Ytrain_1, verbose=1)\n",
    "print('Train score:', score_1c[0])\n",
    "print('Train accuracy:', score_1c[1])"
   ]
  },
  {
   "cell_type": "markdown",
   "metadata": {
    "collapsed": true
   },
   "source": [
    "### MODEL 2"
   ]
  },
  {
   "cell_type": "code",
   "execution_count": null,
   "metadata": {},
   "outputs": [],
   "source": []
  },
  {
   "cell_type": "code",
   "execution_count": null,
   "metadata": {},
   "outputs": [],
   "source": []
  },
  {
   "cell_type": "code",
   "execution_count": null,
   "metadata": {
    "collapsed": true
   },
   "outputs": [],
   "source": []
  },
  {
   "cell_type": "code",
   "execution_count": null,
   "metadata": {
    "collapsed": true
   },
   "outputs": [],
   "source": []
  },
  {
   "cell_type": "code",
   "execution_count": null,
   "metadata": {
    "collapsed": true
   },
   "outputs": [],
   "source": []
  },
  {
   "cell_type": "code",
   "execution_count": null,
   "metadata": {
    "collapsed": true
   },
   "outputs": [],
   "source": []
  },
  {
   "cell_type": "code",
   "execution_count": null,
   "metadata": {
    "collapsed": true
   },
   "outputs": [],
   "source": []
  },
  {
   "cell_type": "code",
   "execution_count": null,
   "metadata": {
    "collapsed": true
   },
   "outputs": [],
   "source": []
  },
  {
   "cell_type": "code",
   "execution_count": null,
   "metadata": {
    "collapsed": true
   },
   "outputs": [],
   "source": []
  },
  {
   "cell_type": "code",
   "execution_count": null,
   "metadata": {
    "collapsed": true
   },
   "outputs": [],
   "source": []
  },
  {
   "cell_type": "code",
   "execution_count": null,
   "metadata": {
    "collapsed": true
   },
   "outputs": [],
   "source": []
  },
  {
   "cell_type": "code",
   "execution_count": null,
   "metadata": {
    "collapsed": true
   },
   "outputs": [],
   "source": []
  },
  {
   "cell_type": "code",
   "execution_count": null,
   "metadata": {
    "collapsed": true
   },
   "outputs": [],
   "source": []
  },
  {
   "cell_type": "code",
   "execution_count": null,
   "metadata": {
    "collapsed": true
   },
   "outputs": [],
   "source": []
  },
  {
   "cell_type": "code",
   "execution_count": null,
   "metadata": {
    "collapsed": true
   },
   "outputs": [],
   "source": []
  },
  {
   "cell_type": "code",
   "execution_count": null,
   "metadata": {
    "collapsed": true
   },
   "outputs": [],
   "source": []
  },
  {
   "cell_type": "code",
   "execution_count": null,
   "metadata": {
    "collapsed": true
   },
   "outputs": [],
   "source": []
  },
  {
   "cell_type": "code",
   "execution_count": null,
   "metadata": {
    "collapsed": true
   },
   "outputs": [],
   "source": []
  },
  {
   "cell_type": "code",
   "execution_count": null,
   "metadata": {
    "collapsed": true
   },
   "outputs": [],
   "source": []
  },
  {
   "cell_type": "code",
   "execution_count": null,
   "metadata": {
    "collapsed": true
   },
   "outputs": [],
   "source": []
  },
  {
   "cell_type": "code",
   "execution_count": null,
   "metadata": {
    "collapsed": true
   },
   "outputs": [],
   "source": []
  },
  {
   "cell_type": "code",
   "execution_count": null,
   "metadata": {
    "collapsed": true
   },
   "outputs": [],
   "source": []
  },
  {
   "cell_type": "code",
   "execution_count": null,
   "metadata": {
    "collapsed": true
   },
   "outputs": [],
   "source": []
  },
  {
   "cell_type": "code",
   "execution_count": null,
   "metadata": {
    "collapsed": true
   },
   "outputs": [],
   "source": []
  },
  {
   "cell_type": "code",
   "execution_count": null,
   "metadata": {
    "collapsed": true
   },
   "outputs": [],
   "source": []
  },
  {
   "cell_type": "code",
   "execution_count": null,
   "metadata": {
    "collapsed": true
   },
   "outputs": [],
   "source": []
  },
  {
   "cell_type": "code",
   "execution_count": null,
   "metadata": {
    "collapsed": true
   },
   "outputs": [],
   "source": []
  },
  {
   "cell_type": "code",
   "execution_count": null,
   "metadata": {
    "collapsed": true
   },
   "outputs": [],
   "source": []
  },
  {
   "cell_type": "code",
   "execution_count": null,
   "metadata": {
    "collapsed": true
   },
   "outputs": [],
   "source": []
  },
  {
   "cell_type": "code",
   "execution_count": null,
   "metadata": {
    "collapsed": true
   },
   "outputs": [],
   "source": []
  },
  {
   "cell_type": "code",
   "execution_count": null,
   "metadata": {
    "collapsed": true
   },
   "outputs": [],
   "source": []
  },
  {
   "cell_type": "code",
   "execution_count": null,
   "metadata": {
    "collapsed": true
   },
   "outputs": [],
   "source": []
  },
  {
   "cell_type": "code",
   "execution_count": null,
   "metadata": {
    "collapsed": true
   },
   "outputs": [],
   "source": []
  },
  {
   "cell_type": "code",
   "execution_count": null,
   "metadata": {
    "collapsed": true
   },
   "outputs": [],
   "source": []
  },
  {
   "cell_type": "code",
   "execution_count": null,
   "metadata": {
    "collapsed": true
   },
   "outputs": [],
   "source": []
  },
  {
   "cell_type": "code",
   "execution_count": null,
   "metadata": {
    "collapsed": true
   },
   "outputs": [],
   "source": []
  },
  {
   "cell_type": "code",
   "execution_count": null,
   "metadata": {
    "collapsed": true
   },
   "outputs": [],
   "source": []
  },
  {
   "cell_type": "code",
   "execution_count": null,
   "metadata": {
    "collapsed": true
   },
   "outputs": [],
   "source": []
  },
  {
   "cell_type": "code",
   "execution_count": null,
   "metadata": {
    "collapsed": true
   },
   "outputs": [],
   "source": []
  },
  {
   "cell_type": "code",
   "execution_count": null,
   "metadata": {
    "collapsed": true
   },
   "outputs": [],
   "source": []
  },
  {
   "cell_type": "code",
   "execution_count": null,
   "metadata": {
    "collapsed": true
   },
   "outputs": [],
   "source": []
  },
  {
   "cell_type": "code",
   "execution_count": null,
   "metadata": {
    "collapsed": true
   },
   "outputs": [],
   "source": []
  },
  {
   "cell_type": "code",
   "execution_count": null,
   "metadata": {
    "collapsed": true
   },
   "outputs": [],
   "source": []
  },
  {
   "cell_type": "code",
   "execution_count": null,
   "metadata": {
    "collapsed": true
   },
   "outputs": [],
   "source": []
  },
  {
   "cell_type": "code",
   "execution_count": null,
   "metadata": {
    "collapsed": true
   },
   "outputs": [],
   "source": []
  },
  {
   "cell_type": "code",
   "execution_count": null,
   "metadata": {
    "collapsed": true
   },
   "outputs": [],
   "source": []
  },
  {
   "cell_type": "code",
   "execution_count": null,
   "metadata": {
    "collapsed": true
   },
   "outputs": [],
   "source": []
  },
  {
   "cell_type": "code",
   "execution_count": null,
   "metadata": {
    "collapsed": true
   },
   "outputs": [],
   "source": []
  },
  {
   "cell_type": "code",
   "execution_count": null,
   "metadata": {
    "collapsed": true
   },
   "outputs": [],
   "source": []
  },
  {
   "cell_type": "code",
   "execution_count": null,
   "metadata": {
    "collapsed": true
   },
   "outputs": [],
   "source": []
  },
  {
   "cell_type": "code",
   "execution_count": null,
   "metadata": {
    "collapsed": true
   },
   "outputs": [],
   "source": []
  },
  {
   "cell_type": "code",
   "execution_count": null,
   "metadata": {
    "collapsed": true
   },
   "outputs": [],
   "source": []
  },
  {
   "cell_type": "code",
   "execution_count": null,
   "metadata": {
    "collapsed": true
   },
   "outputs": [],
   "source": []
  },
  {
   "cell_type": "code",
   "execution_count": null,
   "metadata": {
    "collapsed": true
   },
   "outputs": [],
   "source": []
  },
  {
   "cell_type": "code",
   "execution_count": null,
   "metadata": {
    "collapsed": true
   },
   "outputs": [],
   "source": []
  },
  {
   "cell_type": "code",
   "execution_count": null,
   "metadata": {
    "collapsed": true
   },
   "outputs": [],
   "source": []
  },
  {
   "cell_type": "code",
   "execution_count": null,
   "metadata": {
    "collapsed": true
   },
   "outputs": [],
   "source": []
  },
  {
   "cell_type": "code",
   "execution_count": null,
   "metadata": {
    "collapsed": true
   },
   "outputs": [],
   "source": []
  },
  {
   "cell_type": "code",
   "execution_count": null,
   "metadata": {
    "collapsed": true
   },
   "outputs": [],
   "source": []
  },
  {
   "cell_type": "code",
   "execution_count": null,
   "metadata": {
    "collapsed": true
   },
   "outputs": [],
   "source": []
  },
  {
   "cell_type": "code",
   "execution_count": null,
   "metadata": {
    "collapsed": true
   },
   "outputs": [],
   "source": []
  },
  {
   "cell_type": "code",
   "execution_count": null,
   "metadata": {
    "collapsed": true
   },
   "outputs": [],
   "source": []
  },
  {
   "cell_type": "code",
   "execution_count": null,
   "metadata": {
    "collapsed": true
   },
   "outputs": [],
   "source": []
  },
  {
   "cell_type": "code",
   "execution_count": null,
   "metadata": {
    "collapsed": true
   },
   "outputs": [],
   "source": []
  },
  {
   "cell_type": "code",
   "execution_count": null,
   "metadata": {
    "collapsed": true
   },
   "outputs": [],
   "source": []
  }
 ],
 "metadata": {
  "kernelspec": {
   "display_name": "Python 3",
   "language": "python",
   "name": "python3"
  },
  "language_info": {
   "codemirror_mode": {
    "name": "ipython",
    "version": 3
   },
   "file_extension": ".py",
   "mimetype": "text/x-python",
   "name": "python",
   "nbconvert_exporter": "python",
   "pygments_lexer": "ipython3",
   "version": "3.5.4"
  }
 },
 "nbformat": 4,
 "nbformat_minor": 2
}
